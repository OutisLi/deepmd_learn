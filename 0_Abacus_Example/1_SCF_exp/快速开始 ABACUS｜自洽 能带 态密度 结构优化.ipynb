{
 "cells": [
  {
   "cell_type": "markdown",
   "id": "b56c5def-b1ca-47c9-9152-a0f87fa95c73",
   "metadata": {},
   "source": [
    "# 快速开始 ABACUS｜自洽 能带 态密度 结构优化"
   ]
  },
  {
   "cell_type": "markdown",
   "id": "9c0973eb-ddcf-4124-9723-90549cefe9ca",
   "metadata": {},
   "source": [
    "<a href=\"https://bohrium.dp.tech/notebook/4e39364ea5c5455e94bdbdfd2fb9b037\" target=\"_blank\"><img src=\"https://cdn.dp.tech/bohrium/web/static/images/open-in-bohrium.svg\" alt=\"Open In Bohrium\"/></a>"
   ]
  },
  {
   "cell_type": "markdown",
   "id": "495d0b03-8ba8-490f-bb6b-d6d3ccb198c8",
   "metadata": {},
   "source": [
    "<p style=\"margin:1rem; padding-left: 1rem; line-height: 2.5;\">\n",
    "    ©️ <b><i>Copyright 2023 @ Authors</i></b><br/>\n",
    "    <i>作者：<a href=\"mailto:zhaotq@bjaisi.com\"><b>赵天琦 📨 </b></a></i><br/>\n",
    "    <i>日期：2023-04-01</i><br/>\n",
    "    <i>共享协议：</a>本作品采用<a rel=\"license\" href=\"http://creativecommons.org/licenses/by-nc-sa/4.0/\">知识共享署名-非商业性使用-相同方式共享 4.0 国际许可协议</a>进行许可。</i>\n",
    "</p>"
   ]
  },
  {
   "cell_type": "markdown",
   "id": "06825e8c-86d7-465c-acda-e34db03d0d5c",
   "metadata": {},
   "source": [
    "🎯 <b style='color:purple'>本教程旨在<u>快速掌握</u>使用 ABACUS 进行第一性原理材料模拟计算。</b>\n",
    "\n",
    "* 一键运行，你可以快速在实践中检验你的想法。\n",
    "\n",
    "* 丰富完善的注释，对于入门者友好。"
   ]
  },
  {
   "cell_type": "markdown",
   "id": "9693d5c4-d2a3-4b5c-b5ae-3b37440124d4",
   "metadata": {},
   "source": [
    "**在 [Bohrium Notebook](https://bohrium-doc.dp.tech/docs/userguide/Notebook) 界面，你可以点击界面上方蓝色按钮 `开始连接`，选择 `abacus:3.2.0-toolkit-notebook` 镜像及任何一款节点配置，稍等片刻即可运行。**\n",
    "\n",
    "<div style=\"width:auto; height:2px; background:linear-gradient(244deg,rgba(0,0,0,0) 0%,rgba(0,0,0,0.5) 50%,rgba(0,0,0,1) 100%)\"></div>"
   ]
  },
  {
   "cell_type": "markdown",
   "id": "ea298b12-113b-483e-9f85-ea8417a2b2f6",
   "metadata": {},
   "source": [
    "## 目标\n",
    "\n",
    "> **上手使用ABACUS做第一性原理材料模拟计算**\n",
    "\n",
    "在学习本教程后，你将能够：\n",
    "\n",
    "- 使用ABACUS做自洽计算\n",
    "- 计算得到电子能带结构图\n",
    "- 计算得到电子态密度图\n",
    "- 使用ABACUS做结构优化计算\n",
    "\n",
    "**阅读该教程【最多】约需 15 分钟，让我们开始吧！**"
   ]
  },
  {
   "cell_type": "markdown",
   "id": "c92ae988-5792-4bad-93d1-fa450c0066e7",
   "metadata": {},
   "source": [
    "## 目录\n",
    "\n",
    "* [背景](#background)\n",
    "* [自洽计算](#1)\n",
    "    * [准备输入文件](#1-1)\n",
    "    * [运行自洽场计算](#1-2)\n",
    "    * [得到总能量](#1-3)\n",
    "* [电子能带结构](#2)\n",
    "    * [自洽计算](#2-1)\n",
    "    * [非自洽计算](#2-2)\n",
    "    * [画能带图](#2-3)\n",
    "* [态密度计算](#3)\n",
    "    * [自洽计算](#3-1)\n",
    "    * [非自洽计算](#3-2)\n",
    "    * [画总态密度图](#3-3)\n",
    "    * [画投影态密度图](#3-4)\n",
    "* [结构优化](#4)\n",
    "* [进一步阅读](#furtherreading)"
   ]
  },
  {
   "cell_type": "markdown",
   "id": "f15d1f28-9909-44f4-ab3c-cacdb40200a8",
   "metadata": {},
   "source": [
    "## 背景 <a id ='background'></a>\n",
    "\n",
    "密度泛函理论算法是用于第一性原理材料性质模拟的重要基础工具。目前，密度泛函理论算法已被实现在许多软件中，例如VASP，Quantum Espresso，ABIINT，CP2K等。\n",
    "\n",
    "ABACUS是一款基于密度泛函理论发展起来的国内开源软件，支持平面波和数值原子轨道两种基矢量，主要采用模守恒赝势，功能较齐全，可适用于从小体系到上千原子大体系的电子结构优化、原子结构弛豫、分子动力学模拟等计算。\n",
    "\n",
    "本教程将以面心立方氧化镁为例，介绍ABACUS的基本用法。这里我们采用ABACUS（原子算筹）软件的3.2.0版本。"
   ]
  },
  {
   "cell_type": "markdown",
   "id": "4f966443-36b9-4bc0-bc4d-bb9811e1930d",
   "metadata": {},
   "source": [
    "## 1. 自洽场计算<a id ='1'></a>"
   ]
  },
  {
   "cell_type": "markdown",
   "id": "994b5f19-9d20-4950-9fff-23ee0900c10e",
   "metadata": {},
   "source": [
    "自洽，是自洽场计算(SCF, self-consistent field calculation)的简称，它是密度泛函理论（DFT）算法的基础，也是DFT被称为第一性原理方法的原因。\n",
    "\n",
    "从自洽场计算中我们可以得到一个体系的基态结构和基态能量。\n",
    "\n",
    "基态结构使得我们可以得到体系的结构参数，例如晶胞参数，化学键键长键角等，而基态能量使得我们可以进一步得到原子受力和晶体材料的应力-应变性质等。\n",
    "\n",
    "因此自洽场计算是开始做DFT计算的基础。"
   ]
  },
  {
   "cell_type": "markdown",
   "id": "c43f3ec6-ee52-440f-9d9d-54c5c4a0fa4f",
   "metadata": {},
   "source": [
    "### 1.1 准备输入文件<a id ='1-1'></a>"
   ]
  },
  {
   "cell_type": "markdown",
   "id": "8bc4db3c-3ab4-493e-b897-5340792b68f9",
   "metadata": {},
   "source": [
    "这里我们在gitee上为大家准备好了快速上手的案例，大家可以直接使用git命令来下载。"
   ]
  },
  {
   "cell_type": "code",
   "execution_count": 1,
   "id": "9f18a394-451b-4664-bcde-97451ee56ff6",
   "metadata": {
    "collapsed": true,
    "jupyter": {
     "outputs_hidden": true
    },
    "tags": []
   },
   "outputs": [
    {
     "name": "stdout",
     "output_type": "stream",
     "text": [
      "Cloning into 'colombo-ABACUS'...\n",
      "remote: Enumerating objects: 300, done.\u001b[K\n",
      "remote: Counting objects: 100% (118/118), done.\u001b[K\n",
      "remote: Compressing objects: 100% (81/81), done.\u001b[K\n",
      "remote: Total 300 (delta 29), reused 98 (delta 19), pack-reused 182\u001b[K\n",
      "Receiving objects: 100% (300/300), 3.79 MiB | 821.00 KiB/s, done.\n",
      "Resolving deltas: 100% (77/77), done.\n",
      "Updating files: 100% (160/160), done.\n"
     ]
    }
   ],
   "source": [
    "! git clone https://gitee.com/deepmodeling/colombo-ABACUS.git"
   ]
  },
  {
   "cell_type": "markdown",
   "id": "f9ffc66d",
   "metadata": {},
   "source": [
    "注意：该临时文件将在本案例末执行删除操作。"
   ]
  },
  {
   "cell_type": "markdown",
   "id": "38ccc231-6771-4fdf-8f68-16db97261c13",
   "metadata": {},
   "source": [
    "### 1.2 运行自洽场计算<a id ='1-2'></a>"
   ]
  },
  {
   "cell_type": "markdown",
   "id": "59346a5e-adce-486e-b10e-2d0ff059b8fb",
   "metadata": {},
   "source": [
    "运行自洽场计算需在**INPUT**中将calculation设置为**scf**(详细的参数说明请参考[文档说明](http://abacus.deepmodeling.com/en/latest/advanced/input_files/input-main.html))。\n",
    "\n",
    "这里的STRU结构为MgO的单胞(conventional cell)。\n",
    "\n",
    "STRU文件的详细说明请参考[链接](http://abacus.deepmodeling.com/en/latest/advanced/input_files/stru.html)。\n",
    "\n",
    "需注意：\n",
    "- 在此镜像中，由于abacus是基于intel oneapi的环境安装的，我们运行abacus之前需要使用命令`. /opt/intel/oneapi/setvars.sh`装载相应的环境。\n",
    "- 设置`OMP_NUM_THREADS=1`使用单线程进行计算。\n",
    "- `abacus`为ABACUS可执行程序的命令。"
   ]
  },
  {
   "cell_type": "code",
   "execution_count": 2,
   "id": "be691425-0e09-40b2-bdd8-76c261d08cbd",
   "metadata": {
    "tags": []
   },
   "outputs": [
    {
     "name": "stdout",
     "output_type": "stream",
     "text": [
      "/data/bohrium-notebook/Proem/colombo-ABACUS/ABACUS/MgO_LCAO/SCF\n"
     ]
    }
   ],
   "source": [
    "cd colombo-ABACUS/ABACUS/MgO_LCAO/SCF"
   ]
  },
  {
   "cell_type": "code",
   "execution_count": 3,
   "id": "9d19396d-7214-4817-8732-0ed58719b894",
   "metadata": {},
   "outputs": [
    {
     "name": "stdout",
     "output_type": "stream",
     "text": [
      "INPUT_PARAMETERS\n",
      "suffix \t\t\tMgO\n",
      "ntype \t\t\t2\n",
      "pseudo_dir \t\t../../PP_ORB\n",
      "orbital_dir \t\t../../PP_ORB\n",
      "ecutwfc \t\t100 \n",
      "scf_thr \t\t1e-6 \n",
      "basis_type \t\tlcao\n",
      "calculation \t\tscf \n"
     ]
    }
   ],
   "source": [
    "cat INPUT"
   ]
  },
  {
   "cell_type": "code",
   "execution_count": 4,
   "id": "fe4a617f-10e5-4c47-ac1a-6f76acf68045",
   "metadata": {},
   "outputs": [
    {
     "name": "stdout",
     "output_type": "stream",
     "text": [
      "K_POINTS\n",
      "0\n",
      "Gamma\n",
      "4 4 4 0 0 0\n"
     ]
    }
   ],
   "source": [
    "cat KPT"
   ]
  },
  {
   "cell_type": "code",
   "execution_count": 5,
   "id": "0e1fcc93-cd21-47b0-9069-7c58a689b8db",
   "metadata": {},
   "outputs": [
    {
     "name": "stdout",
     "output_type": "stream",
     "text": [
      "ATOMIC_SPECIES\n",
      "Mg 24.305 Mg_ONCV_PBE-1.0.upf\n",
      "O  15.999 O_ONCV_PBE-1.0.upf\n",
      "\n",
      "NUMERICAL_ORBITAL\n",
      "Mg_gga_8au_100Ry_4s2p1d.orb\n",
      "O_gga_8au_100Ry_2s2p1d.orb\n",
      "\n",
      "LATTICE_CONSTANT\n",
      "1.8897259886 \t# 1.8897259886 Bohr = 1.0 Angstrom\n",
      "\n",
      "LATTICE_VECTORS\n",
      "4.27957 0.00000 0.00000\n",
      "0.00000 4.27957 0.00000\n",
      "0.00000 0.00000 4.27957\n",
      "\n",
      "ATOMIC_POSITIONS\n",
      "Direct \n",
      "Mg \n",
      "0.0 \n",
      "4 \n",
      "0.0 0.0 0.0 0 0 0 \n",
      "0.0 0.5 0.5 0 0 0\n",
      "0.5 0.0 0.5 0 0 0\n",
      "0.5 0.5 0.0 0 0 0\n",
      "\n",
      "O\n",
      "0.0 \n",
      "4 \n",
      "0.5 0.0 0.0 0 0 0\n",
      "0.5 0.5 0.5 0 0 0 \n",
      "0.0 0.0 0.5 0 0 0 \n",
      "0.0 0.5 0.0 0 0 0\n"
     ]
    }
   ],
   "source": [
    "cat STRU"
   ]
  },
  {
   "cell_type": "code",
   "execution_count": 6,
   "id": "25e34bcc-7737-46ca-a74d-2178e8a13a8c",
   "metadata": {
    "scrolled": true,
    "tags": []
   },
   "outputs": [
    {
     "name": "stdout",
     "output_type": "stream",
     "text": [
      " \n",
      ":: initializing oneAPI environment ...\n",
      "   dash: SH_VERSION = unknown\n",
      "   args: Using \"$@\" for setvars.sh arguments: \n",
      ":: compiler -- latest\n",
      ":: debugger -- latest\n",
      ":: dev-utilities -- latest\n",
      ":: mkl -- latest\n",
      ":: mpi -- latest\n",
      ":: tbb -- latest\n",
      ":: vtune -- latest\n",
      ":: oneAPI environment initialized ::\n",
      " \n",
      "WARNING: Total thread number on this node mismatches with hardware availability. This may cause poor performance.\n",
      "Info: Local MPI proc number: 1,OpenMP thread number: 1,Total thread number: 1,Local thread limit: 52\n",
      "                                                                                     \n",
      "                              ABACUS v3.1                                            \n",
      "\n",
      "               Atomic-orbital Based Ab-initio Computation at UStc                    \n",
      "\n",
      "                     Website: http://abacus.ustc.edu.cn/                             \n",
      "               Documentation: https://abacus.deepmodeling.com/                       \n",
      "                  Repository: https://github.com/abacusmodeling/abacus-develop       \n",
      "                              https://github.com/deepmodeling/abacus-develop         \n",
      "\n",
      " Mon Apr  3 15:12:21 2023\n",
      " MAKE THE DIR         : OUT.MgO/\n",
      "\n",
      "%%%%%%%%%%%%%%%%%%%%%%%%%%%%%%%%%%%%%%%%%%%%%%%%%%%%%%%%%%\n",
      " Warning: number valence electrons > 2 for Mg: [Ne] 3s2\n",
      " Please make sure the pseudopotential file is what you need\n",
      "%%%%%%%%%%%%%%%%%%%%%%%%%%%%%%%%%%%%%%%%%%%%%%%%%%%%%%%%%%\n",
      "\n",
      " UNIFORM GRID DIM     : 54 * 54 * 54\n",
      " UNIFORM GRID DIM(BIG): 18 * 18 * 18\n",
      " DONE(0.083602   SEC) : SETUP UNITCELL\n",
      " DONE(0.0944471  SEC) : INIT K-POINTS\n",
      " ---------------------------------------------------------\n",
      " Self-consistent calculations for electrons\n",
      " ---------------------------------------------------------\n",
      " SPIN    KPOINTS         PROCESSORS  NBASE       \n",
      " 1       36              1           112         \n",
      " ---------------------------------------------------------\n",
      " Use Systematically Improvable Atomic bases\n",
      " ---------------------------------------------------------\n",
      " ELEMENT ORBITALS        NBASE       NATOM       XC          \n",
      " Mg      4s2p1d-8au      15          4           \n",
      " O       2s2p1d-8au      13          4           \n",
      " ---------------------------------------------------------\n",
      " Initial plane wave basis and FFT box\n",
      " ---------------------------------------------------------\n",
      " -------------------------------------------\n",
      " SELF-CONSISTENT : \n",
      " -------------------------------------------\n",
      " START CHARGE      : atomic\n",
      " DONE(2.59466    SEC) : INIT SCF\n",
      " ITER   ETOT(eV)       EDIFF(eV)      DRHO       TIME(s)    \n",
      " GE1    -7.653810e+03  0.000000e+00   1.172e-01  9.182e+00  \n",
      " GE2    -7.660698e+03  -6.887227e+00  9.635e-02  8.233e+00  \n",
      " GE3    -7.663893e+03  -3.195615e+00  1.673e-02  8.213e+00  \n",
      " GE4    -7.663908e+03  -1.521795e-02  2.058e-03  8.213e+00  \n",
      " GE5    -7.663910e+03  -1.464449e-03  2.765e-04  8.192e+00  \n",
      " GE6    -7.663910e+03  -1.052038e-05  2.365e-05  8.226e+00  \n",
      " GE7    -7.663910e+03  -6.776327e-08  4.643e-07  8.209e+00  \n",
      "\n",
      "  |CLASS_NAME---------|NAME---------------|TIME(Sec)-----|CALLS----|AVG------|PER%-------\n",
      "                       total               61.091         7         8.7       1e+02     %\n",
      "   Driver              driver_line         61.056         1         61        1e+02     %\n",
      "   ORB_control         set_orb_tables      2.2134         1         2.2       3.6       %\n",
      "   ORB_gen_tables      gen_tables          2.2134         1         2.2       3.6       %\n",
      "   ORB_table_phi       init_Table          1.528          1         1.5       2.5       %\n",
      "   ORB_table_phi       cal_ST_Phi12_R      1.5131         278       0.0054    2.5       %\n",
      "   ORB_table_beta      init_Table_Beta     0.48746        1         0.49      0.8       %\n",
      "   ORB_table_beta      VNL_PhiBeta_R       0.48358        120       0.004     0.79      %\n",
      "   ESolver_KS_LCAO     Run                 58.629         1         59        96        %\n",
      "   ESolver_KS_LCAO     beforescf           0.15308        1         0.15      0.25      %\n",
      "   Potential           update_from_charge  0.61232        8         0.077     1         %\n",
      "   Potential           cal_v_eff           0.60904        8         0.076     1         %\n",
      "   PW_Basis            real2recip          0.1081         62        0.0017    0.18      %\n",
      "   PotXC               cal_v_eff           0.55798        8         0.07      0.91      %\n",
      "   XC_Functional       v_xc                0.55683        8         0.07      0.91      %\n",
      "   HSolverLCAO         solve               57.812         7         8.3       95        %\n",
      "   HamiltLCAO          updateHk            30.389         252       0.12      50        %\n",
      "   OperatorLCAO        init                27.198         504       0.054     45        %\n",
      "   Veff                contributeHk        27.193         252       0.11      45        %\n",
      "   Gint_interface      cal_gint            49.622         14        3.5       81        %\n",
      "   Gint_interface      cal_gint_vlocal     26.86          7         3.8       44        %\n",
      "   Gint_Tools          cal_psir_ylm        6.6024         81648     8.1e-05   11        %\n",
      "   Gint_k              folding_vl_k        0.33298        252       0.0013    0.55      %\n",
      "   Gint_k              Distri              0.10942        252       0.00043   0.18      %\n",
      "   Overlap             contributeHR        0.10519        1         0.11      0.17      %\n",
      "   LCAO_gen_fixedH     calculate_S_no      0.10518        1         0.11      0.17      %\n",
      "   Ekin<LCAO>          contributeHR        0.10553        1         0.11      0.17      %\n",
      "   Nonlocal<LCAO>      contributeHR        0.65638        1         0.66      1.1       %\n",
      "   LCAO_gen_fixedH     b_NL_mu_new         0.65617        1         0.66      1.1       %\n",
      "   OperatorLCAO        folding_fixed       2.3242         252       0.0092    3.8       %\n",
      "   LCAO_nnr            folding_fixedH      2.3144         252       0.0092    3.8       %\n",
      "   HSolverLCAO         hamiltSolvePsiK     1.512          252       0.006     2.5       %\n",
      "   DiagoElpa           elpa_solve          1.4488         252       0.0057    2.4       %\n",
      "   ElecStateLCAO       psiToRho            25.909         7         3.7       42        %\n",
      "   LCAO_Charge         cal_dk_k            3.0993         7         0.44      5.1       %\n",
      "   Gint_interface      cal_gint_rho        22.761         7         3.3       37        %\n",
      " ----------------------------------------------------------------------------------------\n",
      "\n",
      " START  Time  : Mon Apr  3 15:12:21 2023\n",
      " FINISH Time  : Mon Apr  3 15:13:22 2023\n",
      " TOTAL  Time  : 61\n",
      " SEE INFORMATION IN : OUT.MgO/\n"
     ]
    }
   ],
   "source": [
    "!. /opt/intel/oneapi/setvars.sh && OMP_NUM_THREADS=1 abacus"
   ]
  },
  {
   "cell_type": "markdown",
   "id": "594c9841-514e-473e-853b-c52aa2b73929",
   "metadata": {},
   "source": [
    "### 1.3 得到总能量<a id ='1-3'></a>"
   ]
  },
  {
   "cell_type": "code",
   "execution_count": 7,
   "id": "61b9fa30-db04-462d-9eec-9601dcf5eb0f",
   "metadata": {
    "tags": []
   },
   "outputs": [
    {
     "name": "stdout",
     "output_type": "stream",
     "text": [
      " !FINAL_ETOT_IS -7663.909829526411 eV\n"
     ]
    }
   ],
   "source": [
    "! grep ETOT OUT.MgO/running_scf.log"
   ]
  },
  {
   "cell_type": "markdown",
   "id": "7e477203-b7f5-49f7-86c5-7c57feec9597",
   "metadata": {},
   "source": [
    "## 2. 电子能带结构<a id ='2'></a>\n",
    "\n",
    "电子的能带结构(Electronic band structure)是材料的一个重要性质，能带结构可以通过密度泛函理论算法来计算。\n",
    "\n",
    "电子能带结构本质是电子的本征能量。得到电子的本征能量后，还可以计算得到电子有效质量，材料的光学，电学和磁性性质，因此电子能带结构也是分析材料性质的重要工具。\n",
    "\n",
    "做电子能带结构计算首先需要通过**自洽计算**得到体系的电子密度，然后基于自洽计算的电子密度做一步**非自洽计算**，以得到布里渊区里高对称k点路径上电子的本征值，即能带结构。"
   ]
  },
  {
   "cell_type": "markdown",
   "id": "0c8d0408-e649-47fe-803d-a8ffacfbc44d",
   "metadata": {},
   "source": [
    "### 2.1 自洽计算<a id ='2-1'></a>"
   ]
  },
  {
   "cell_type": "markdown",
   "id": "9160f150-d27d-477d-842e-c82bfd3fa643",
   "metadata": {},
   "source": [
    "这里的STRU结构为MgO的原胞(primitive cell)。"
   ]
  },
  {
   "cell_type": "code",
   "execution_count": 8,
   "id": "9506029f-788d-4c63-90a9-25e8f6d381cd",
   "metadata": {
    "tags": []
   },
   "outputs": [
    {
     "name": "stdout",
     "output_type": "stream",
     "text": [
      "/data/bohrium-notebook/Proem/colombo-ABACUS/ABACUS/MgO_LCAO/band_structure\n"
     ]
    }
   ],
   "source": [
    "cd ../../MgO_LCAO/band_structure"
   ]
  },
  {
   "cell_type": "code",
   "execution_count": 9,
   "id": "7d658d58-bd55-414e-b1f8-46d825089ea2",
   "metadata": {},
   "outputs": [
    {
     "name": "stdout",
     "output_type": "stream",
     "text": [
      "ATOMIC_SPECIES\n",
      "Mg 24.305 Mg_ONCV_PBE-1.0.upf upf201\n",
      "O 15.999 O_ONCV_PBE-1.0.upf upf201\n",
      "\n",
      "NUMERICAL_ORBITAL\n",
      "Mg_gga_8au_100Ry_4s2p1d.orb\n",
      "O_gga_8au_100Ry_2s2p1d.orb\n",
      "\n",
      "LATTICE_CONSTANT\n",
      "8.087214649032902\n",
      "\n",
      "ATOMIC_POSITIONS\n",
      "Direct\n",
      "\n",
      "Mg #label\n",
      "0 #magnetism\n",
      "1 #number of atoms\n",
      "0  0  0  m  0  0  0\n",
      "\n",
      "O #label\n",
      "0 #magnetism\n",
      "1 #number of atoms\n",
      "0.5  0.5  0.5  m  0  0  0\n"
     ]
    }
   ],
   "source": [
    "cat STRU"
   ]
  },
  {
   "cell_type": "code",
   "execution_count": 10,
   "id": "11b7a5e9-3b65-4519-9819-5a671a86ee9b",
   "metadata": {},
   "outputs": [],
   "source": [
    "cp INPUT_scf INPUT && cp KPT_scf KPT"
   ]
  },
  {
   "cell_type": "code",
   "execution_count": 11,
   "id": "cc6efbd8-c2c5-41d7-b4c2-db765e258aac",
   "metadata": {},
   "outputs": [
    {
     "name": "stdout",
     "output_type": "stream",
     "text": [
      "INPUT_PARAMETERS\n",
      "suffix \t\t\tMgO\n",
      "ntype \t\t\t2\n",
      "pseudo_dir \t\t../../PP_ORB\n",
      "orbital_dir \t\t../../PP_ORB\n",
      "ecutwfc \t\t100 \n",
      "scf_thr \t\t1e-6 \n",
      "basis_type \t\tlcao\n",
      "calculation \t\tscf \n",
      "out_chg\t\t\t1\n",
      "symmetry\t\t1\n",
      "latname\t\t\tfcc\n"
     ]
    }
   ],
   "source": [
    "cat INPUT"
   ]
  },
  {
   "cell_type": "code",
   "execution_count": 12,
   "id": "a40bd222-2a2b-41db-a5f2-e692f0edcddf",
   "metadata": {
    "scrolled": true,
    "tags": []
   },
   "outputs": [
    {
     "name": "stdout",
     "output_type": "stream",
     "text": [
      " \n",
      ":: initializing oneAPI environment ...\n",
      "   dash: SH_VERSION = unknown\n",
      "   args: Using \"$@\" for setvars.sh arguments: \n",
      ":: compiler -- latest\n",
      ":: debugger -- latest\n",
      ":: dev-utilities -- latest\n",
      ":: mkl -- latest\n",
      ":: mpi -- latest\n",
      ":: tbb -- latest\n",
      ":: vtune -- latest\n",
      ":: oneAPI environment initialized ::\n",
      " \n",
      "WARNING: Total thread number on this node mismatches with hardware availability. This may cause poor performance.\n",
      "Info: Local MPI proc number: 1,OpenMP thread number: 1,Total thread number: 1,Local thread limit: 52\n",
      "                                                                                     \n",
      "                              ABACUS v3.1                                            \n",
      "\n",
      "               Atomic-orbital Based Ab-initio Computation at UStc                    \n",
      "\n",
      "                     Website: http://abacus.ustc.edu.cn/                             \n",
      "               Documentation: https://abacus.deepmodeling.com/                       \n",
      "                  Repository: https://github.com/abacusmodeling/abacus-develop       \n",
      "                              https://github.com/deepmodeling/abacus-develop         \n",
      "\n",
      " Mon Apr  3 15:13:25 2023\n",
      " MAKE THE DIR         : OUT.MgO/\n",
      "\n",
      "%%%%%%%%%%%%%%%%%%%%%%%%%%%%%%%%%%%%%%%%%%%%%%%%%%%%%%%%%%\n",
      " Warning: number valence electrons > 2 for Mg: [Ne] 3s2\n",
      " Please make sure the pseudopotential file is what you need\n",
      "%%%%%%%%%%%%%%%%%%%%%%%%%%%%%%%%%%%%%%%%%%%%%%%%%%%%%%%%%%\n",
      "\n",
      " UNIFORM GRID DIM     : 40 * 40 * 40\n",
      " UNIFORM GRID DIM(BIG): 10 * 10 * 10\n",
      " DONE(0.0639761  SEC) : SETUP UNITCELL\n",
      " DONE(0.0997776  SEC) : SYMMETRY\n",
      " DONE(0.173368   SEC) : INIT K-POINTS\n",
      " ---------------------------------------------------------\n",
      " Self-consistent calculations for electrons\n",
      " ---------------------------------------------------------\n",
      " SPIN    KPOINTS         PROCESSORS  NBASE       \n",
      " 1       29              1           28          \n",
      " ---------------------------------------------------------\n",
      " Use Systematically Improvable Atomic bases\n",
      " ---------------------------------------------------------\n",
      " ELEMENT ORBITALS        NBASE       NATOM       XC          \n",
      " Mg      4s2p1d-8au      15          1           \n",
      " O       2s2p1d-8au      13          1           \n",
      " ---------------------------------------------------------\n",
      " Initial plane wave basis and FFT box\n",
      " ---------------------------------------------------------\n",
      " -------------------------------------------\n",
      " SELF-CONSISTENT : \n",
      " -------------------------------------------\n",
      " START CHARGE      : atomic\n",
      " DONE(2.52608    SEC) : INIT SCF\n",
      " ITER   ETOT(eV)       EDIFF(eV)      DRHO       TIME(s)    \n",
      " GE1    -1.913453e+03  0.000000e+00   1.172e-01  3.067e+00  \n",
      " GE2    -1.915174e+03  -1.721656e+00  9.638e-02  2.854e+00  \n",
      " GE3    -1.915974e+03  -7.993561e-01  1.673e-02  2.857e+00  \n",
      " GE4    -1.915977e+03  -3.794312e-03  2.061e-03  2.856e+00  \n",
      " GE5    -1.915978e+03  -3.672082e-04  2.767e-04  2.848e+00  \n",
      " GE6    -1.915978e+03  -2.633162e-06  2.365e-05  2.853e+00  \n",
      " GE7    -1.915978e+03  -1.705373e-08  4.561e-07  2.848e+00  \n",
      "\n",
      "  |CLASS_NAME---------|NAME---------------|TIME(Sec)-----|CALLS----|AVG------|PER%-------\n",
      "                       total               22.823         9         2.5       1e+02     %\n",
      "   Driver              driver_line         22.788         1         23        1e+02     %\n",
      "   ORB_control         set_orb_tables      2.1871         1         2.2       9.6       %\n",
      "   ORB_gen_tables      gen_tables          2.1871         1         2.2       9.6       %\n",
      "   ORB_table_phi       init_Table          1.5112         1         1.5       6.6       %\n",
      "   ORB_table_phi       cal_ST_Phi12_R      1.4965         278       0.0054    6.6       %\n",
      "   ORB_table_beta      init_Table_Beta     0.48066        1         0.48      2.1       %\n",
      "   ORB_table_beta      VNL_PhiBeta_R       0.47688        120       0.004     2.1       %\n",
      "   ESolver_KS_LCAO     Run                 20.345         1         20        89        %\n",
      "   Potential           update_from_charge  0.22907        8         0.029     1         %\n",
      "   Potential           cal_v_eff           0.22801        8         0.029     1         %\n",
      "   PotXC               cal_v_eff           0.21081        8         0.026     0.92      %\n",
      "   XC_Functional       v_xc                0.21048        8         0.026     0.92      %\n",
      "   HSolverLCAO         solve               19.402         7         2.8       85        %\n",
      "   HamiltLCAO          updateHk            11.516         203       0.057     50        %\n",
      "   OperatorLCAO        init                10.811         406       0.027     47        %\n",
      "   Veff                contributeHk        10.81          203       0.053     47        %\n",
      "   Gint_interface      cal_gint            18.225         14        1.3       80        %\n",
      "   Gint_interface      cal_gint_vlocal     10.745         7         1.5       47        %\n",
      "   Gint_Tools          cal_psir_ylm        2.4918         14000     0.00018   11        %\n",
      "   Nonlocal<LCAO>      contributeHR        0.16289        1         0.16      0.71      %\n",
      "   LCAO_gen_fixedH     b_NL_mu_new         0.16283        1         0.16      0.71      %\n",
      "   OperatorLCAO        folding_fixed       0.48838        203       0.0024    2.1       %\n",
      "   LCAO_nnr            folding_fixedH      0.48693        203       0.0024    2.1       %\n",
      "   HSolverLCAO         hamiltSolvePsiK     0.17813        203       0.00088   0.78      %\n",
      "   DiagoElpa           elpa_solve          0.12734        203       0.00063   0.56      %\n",
      "   ElecStateLCAO       psiToRho            7.7075         7         1.1       34        %\n",
      "   LCAO_Charge         cal_dk_k            0.22205        7         0.032     0.97      %\n",
      "   Gint_interface      cal_gint_rho        7.4794         7         1.1       33        %\n",
      " ----------------------------------------------------------------------------------------\n",
      "\n",
      " START  Time  : Mon Apr  3 15:13:25 2023\n",
      " FINISH Time  : Mon Apr  3 15:13:48 2023\n",
      " TOTAL  Time  : 23\n",
      " SEE INFORMATION IN : OUT.MgO/\n"
     ]
    }
   ],
   "source": [
    "!. /opt/intel/oneapi/setvars.sh && OMP_NUM_THREADS=1 abacus"
   ]
  },
  {
   "cell_type": "markdown",
   "id": "05df1fc8-597f-40ea-a1b8-f68e89350184",
   "metadata": {},
   "source": [
    "### 2.2 非自洽计算<a id ='2-2'></a>"
   ]
  },
  {
   "cell_type": "markdown",
   "id": "e04849c5-5fad-4d7a-89f5-7d255ce79660",
   "metadata": {},
   "source": [
    "运行非自洽计算需在**INPUT**中将calculation设置为**nscf**，为了输出能带结构文件，还需设置**out_band**为**true**或者**1**。高对称k点路径在**KPT**文件中设置，选用**Line**模式。"
   ]
  },
  {
   "cell_type": "code",
   "execution_count": 13,
   "id": "fdc2fb8e-7b0e-4f65-8ecb-20fef0def0e4",
   "metadata": {},
   "outputs": [],
   "source": [
    "cp INPUT_nscf INPUT && cp KPT_nscf KPT"
   ]
  },
  {
   "cell_type": "code",
   "execution_count": 14,
   "id": "b9f8edca-b398-4054-8185-590045445b01",
   "metadata": {},
   "outputs": [
    {
     "name": "stdout",
     "output_type": "stream",
     "text": [
      "INPUT_PARAMETERS\n",
      "suffix \t\t\tMgO\n",
      "ntype \t\t\t2\n",
      "pseudo_dir \t\t../../PP_ORB\n",
      "orbital_dir \t\t../../PP_ORB\n",
      "ecutwfc \t\t100 \n",
      "scf_thr \t\t1e-6 \n",
      "basis_type \t\tlcao\n",
      "calculation \t\tnscf \n",
      "init_chg\t\tfile\n",
      "out_band\t\t1\n",
      "out_dos\t\t\t1\n",
      "latname\t\t\tfcc\n",
      "symmetry\t\t0\n"
     ]
    }
   ],
   "source": [
    "cat INPUT"
   ]
  },
  {
   "cell_type": "code",
   "execution_count": 15,
   "id": "c6a822ea-ae66-4a36-967a-554ea43503bf",
   "metadata": {},
   "outputs": [
    {
     "name": "stdout",
     "output_type": "stream",
     "text": [
      "K_POINTS\t\t\t\n",
      "7\n",
      "Line\t\t\n",
      "0.375  0.375  0.750  20\t\t# K\n",
      "0.000  0.000  0.000  20\t\t# G\n",
      "0.500  0.000  0.500  20\t\t# X\n",
      "0.625  0.250  0.625  20         # U\n",
      "0.500  0.500  0.500  20\t\t# L\n",
      "0.000  0.000  0.000  20\t\t# G\n",
      "0.500  0.250  0.750  1\t\t# W\n"
     ]
    }
   ],
   "source": [
    "cat KPT"
   ]
  },
  {
   "cell_type": "code",
   "execution_count": 16,
   "id": "3504784f-4d74-4195-9b6d-54215afb4cef",
   "metadata": {
    "tags": []
   },
   "outputs": [
    {
     "name": "stdout",
     "output_type": "stream",
     "text": [
      " \n",
      ":: initializing oneAPI environment ...\n",
      "   dash: SH_VERSION = unknown\n",
      "   args: Using \"$@\" for setvars.sh arguments: \n",
      ":: compiler -- latest\n",
      ":: debugger -- latest\n",
      ":: dev-utilities -- latest\n",
      ":: mkl -- latest\n",
      ":: mpi -- latest\n",
      ":: tbb -- latest\n",
      ":: vtune -- latest\n",
      ":: oneAPI environment initialized ::\n",
      " \n",
      "WARNING: Total thread number on this node mismatches with hardware availability. This may cause poor performance.\n",
      "Info: Local MPI proc number: 1,OpenMP thread number: 1,Total thread number: 1,Local thread limit: 52\n",
      "                                                                                     \n",
      "                              ABACUS v3.1                                            \n",
      "\n",
      "               Atomic-orbital Based Ab-initio Computation at UStc                    \n",
      "\n",
      "                     Website: http://abacus.ustc.edu.cn/                             \n",
      "               Documentation: https://abacus.deepmodeling.com/                       \n",
      "                  Repository: https://github.com/abacusmodeling/abacus-develop       \n",
      "                              https://github.com/deepmodeling/abacus-develop         \n",
      "\n",
      " Mon Apr  3 15:13:51 2023\n",
      " MAKE THE DIR         : OUT.MgO/\n",
      "\n",
      "%%%%%%%%%%%%%%%%%%%%%%%%%%%%%%%%%%%%%%%%%%%%%%%%%%%%%%%%%%\n",
      " Warning: number valence electrons > 2 for Mg: [Ne] 3s2\n",
      " Please make sure the pseudopotential file is what you need\n",
      "%%%%%%%%%%%%%%%%%%%%%%%%%%%%%%%%%%%%%%%%%%%%%%%%%%%%%%%%%%\n",
      "\n",
      " UNIFORM GRID DIM     : 40 * 40 * 40\n",
      " UNIFORM GRID DIM(BIG): 10 * 10 * 10\n",
      " DONE(0.0518589  SEC) : SETUP UNITCELL\n",
      " DONE(0.0620326  SEC) : INIT K-POINTS\n",
      " ---------------------------------------------------------\n",
      " ---------------------------------------------------------\n",
      " SPIN    KPOINTS         PROCESSORS  NBASE       \n",
      " 1       121             1           28          \n",
      " ---------------------------------------------------------\n",
      " Use Systematically Improvable Atomic bases\n",
      " ---------------------------------------------------------\n",
      " ELEMENT ORBITALS        NBASE       NATOM       XC          \n",
      " Mg      4s2p1d-8au      15          1           \n",
      " O       2s2p1d-8au      13          1           \n",
      " ---------------------------------------------------------\n",
      " Initial plane wave basis and FFT box\n",
      " ---------------------------------------------------------\n",
      " -------------------------------------------\n",
      " NONSELF-CONSISTENT : \n",
      " -------------------------------------------\n",
      " START CHARGE      : file\n",
      " NON-SELF CONSISTENT CALCULATIONS\n",
      "\n",
      "  |CLASS_NAME---------|NAME---------------|TIME(Sec)-----|CALLS----|AVG------|PER%-------\n",
      "                       total               8.4843         5         1.7       1e+02     %\n",
      "   Driver              driver_line         8.4595         1         8.5       1e+02     %\n",
      "   ORB_control         set_orb_tables      2.178          1         2.2       26        %\n",
      "   ORB_gen_tables      gen_tables          2.178          1         2.2       26        %\n",
      "   ORB_table_phi       init_Table          1.5037         1         1.5       18        %\n",
      "   ORB_table_phi       cal_ST_Phi12_R      1.4886         278       0.0054    18        %\n",
      "   ORB_table_beta      init_Table_Beta     0.47611        1         0.48      5.6       %\n",
      "   ORB_table_beta      VNL_PhiBeta_R       0.47223        120       0.0039    5.6       %\n",
      "   ESolver_KS_LCAO     othercalculation    2.2761         1         2.3       27        %\n",
      "   HSolverLCAO         solve               2.1905         1         2.2       26        %\n",
      "   HamiltLCAO          updateHk            2.0828         121       0.017     25        %\n",
      "   OperatorLCAO        init                1.5669         242       0.0065    18        %\n",
      "   Veff                contributeHk        1.5661         121       0.013     18        %\n",
      "   Gint_interface      cal_gint            1.5275         1         1.5       18        %\n",
      "   Gint_interface      cal_gint_vlocal     1.5275         1         1.5       18        %\n",
      "   Gint_Tools          cal_psir_ylm        0.1782         1000      0.00018   2.1       %\n",
      "   Nonlocal<LCAO>      contributeHR        0.16534        1         0.17      1.9       %\n",
      "   LCAO_gen_fixedH     b_NL_mu_new         0.16529        1         0.17      1.9       %\n",
      "   OperatorLCAO        folding_fixed       0.29656        121       0.0025    3.5       %\n",
      "   LCAO_nnr            folding_fixedH      0.59353        242       0.0025    7         %\n",
      "   HSolverLCAO         hamiltSolvePsiK     0.10727        121       0.00089   1.3       %\n",
      "   ModuleIO            nscf_band           0.51157        1         0.51      6         %\n",
      " ----------------------------------------------------------------------------------------\n",
      "\n",
      " START  Time  : Mon Apr  3 15:13:51 2023\n",
      " FINISH Time  : Mon Apr  3 15:14:00 2023\n",
      " TOTAL  Time  : 9\n",
      " SEE INFORMATION IN : OUT.MgO/\n"
     ]
    }
   ],
   "source": [
    "!. /opt/intel/oneapi/setvars.sh && OMP_NUM_THREADS=1 abacus"
   ]
  },
  {
   "cell_type": "markdown",
   "id": "080fb5f2-da09-43bd-a137-2ddaed709bdf",
   "metadata": {},
   "source": [
    "### 2.3 画能带图<a id ='2-3'></a>"
   ]
  },
  {
   "cell_type": "code",
   "execution_count": 17,
   "id": "f3a0663f-f715-4ec7-b1c6-ffd86137b5d5",
   "metadata": {
    "tags": []
   },
   "outputs": [
    {
     "name": "stdout",
     "output_type": "stream",
     "text": [
      "/data/bohrium-notebook/Proem/colombo-ABACUS/ABACUS/MgO_LCAO/band_structure/OUT.MgO\n"
     ]
    }
   ],
   "source": [
    "cd OUT.MgO"
   ]
  },
  {
   "cell_type": "code",
   "execution_count": 18,
   "id": "937aca56-1708-4041-9960-7e16db48fb4b",
   "metadata": {},
   "outputs": [],
   "source": [
    "cp ../KPT ../config.json ."
   ]
  },
  {
   "cell_type": "markdown",
   "id": "f5ec26ab-7814-4e77-8279-4df4a0dbcdf7",
   "metadata": {},
   "source": [
    "在running_scf.log里面搜索E_Fermi，找到费米能级的值"
   ]
  },
  {
   "cell_type": "code",
   "execution_count": 19,
   "id": "5b968c11-4532-4f5e-be69-7cfe4477e2b9",
   "metadata": {},
   "outputs": [
    {
     "name": "stdout",
     "output_type": "stream",
     "text": [
      "{\n",
      "\t\"bandfile\" : \"BANDS_1.dat\",\n",
      "\t\"efermi\" : 8.27,\n",
      "\t\"energy_range\"\t: [-4, 9],\n",
      "\t\"kptfile\" : \"KPT\"\n",
      "}\n",
      "\n",
      "\n",
      "\n"
     ]
    }
   ],
   "source": [
    "cat config.json"
   ]
  },
  {
   "cell_type": "code",
   "execution_count": 20,
   "id": "d5a1e554-1c54-4a3e-9e13-f2ad71cc33da",
   "metadata": {},
   "outputs": [],
   "source": [
    "!/opt/miniconda3/bin/abacus-plot -b"
   ]
  },
  {
   "cell_type": "code",
   "execution_count": 21,
   "id": "fcf5da47-71f6-4e02-82e9-407fbbe5cacf",
   "metadata": {},
   "outputs": [
    {
     "data": {
      "remote/url": "https://bohrium.oss-cn-zhangjiakou.aliyuncs.com/article/14076/3a539db9253141d18936acd6657e6995/ee5bae3b4bd34fc08ee2db873805fbc3.png"
     },
     "metadata": {},
     "output_type": "display_data"
    }
   ],
   "source": [
    "import matplotlib.pyplot as plt\n",
    "from PIL import Image\n",
    "plt.axis('off')\n",
    "plt.imshow(Image.open('band.png'))\n",
    "plt.show()"
   ]
  },
  {
   "cell_type": "markdown",
   "id": "5a594e10-e553-409c-981a-8340d9150f3a",
   "metadata": {},
   "source": [
    "## 3. 态密度计算<a id ='3'></a>"
   ]
  },
  {
   "cell_type": "markdown",
   "id": "80fdcf54-30b6-4904-99f9-f0dd16ac195f",
   "metadata": {},
   "source": [
    "态密度(Density of states)是另外一个用于分析材料性质的重要性质。\n",
    "\n",
    "它本质上描述的是在不同能量上电子态的密度，利用态密度可以得到材料的光学性质等。\n",
    "\n",
    "通过将波函数投影到每个原子的不同轨道，我们还可以分析不同原子轨道对电子态密度的贡献，用于从原子和电子角度分析和设计材料性质。"
   ]
  },
  {
   "cell_type": "markdown",
   "id": "424c7cf0-b381-4cab-bf34-d72782319f83",
   "metadata": {
    "tags": []
   },
   "source": [
    "### 3.1 自洽计算<a id ='3-1'></a>"
   ]
  },
  {
   "cell_type": "markdown",
   "id": "8171448b-25ab-434a-ac4a-985256cbb2c3",
   "metadata": {},
   "source": [
    "与能带计算的自洽计算相同。"
   ]
  },
  {
   "cell_type": "code",
   "execution_count": 22,
   "id": "379df6aa-918c-49f9-bd6c-ee2d6bdf9ac6",
   "metadata": {
    "tags": []
   },
   "outputs": [
    {
     "name": "stdout",
     "output_type": "stream",
     "text": [
      "/data/bohrium-notebook/Proem/colombo-ABACUS/ABACUS/MgO_LCAO/dos\n"
     ]
    }
   ],
   "source": [
    "cd ../../../MgO_LCAO/dos"
   ]
  },
  {
   "cell_type": "code",
   "execution_count": 23,
   "id": "eb5400b0-abb2-4c96-b69b-976dd4a7f03d",
   "metadata": {},
   "outputs": [],
   "source": [
    "cp INPUT_scf INPUT && cp KPT_scf KPT"
   ]
  },
  {
   "cell_type": "code",
   "execution_count": 24,
   "id": "3970d267-ee12-4032-b493-9191640b4c2d",
   "metadata": {},
   "outputs": [
    {
     "name": "stdout",
     "output_type": "stream",
     "text": [
      "K_POINTS\n",
      "0\n",
      "Gamma\n",
      "8 8 8 0 0 0\n"
     ]
    }
   ],
   "source": [
    "cat KPT"
   ]
  },
  {
   "cell_type": "code",
   "execution_count": 25,
   "id": "602833ef-1e5f-4a70-b8ee-cedaa0598939",
   "metadata": {
    "scrolled": true,
    "tags": []
   },
   "outputs": [
    {
     "name": "stdout",
     "output_type": "stream",
     "text": [
      " \n",
      ":: initializing oneAPI environment ...\n",
      "   dash: SH_VERSION = unknown\n",
      "   args: Using \"$@\" for setvars.sh arguments: \n",
      ":: compiler -- latest\n",
      ":: debugger -- latest\n",
      ":: dev-utilities -- latest\n",
      ":: mkl -- latest\n",
      ":: mpi -- latest\n",
      ":: tbb -- latest\n",
      ":: vtune -- latest\n",
      ":: oneAPI environment initialized ::\n",
      " \n",
      "WARNING: Total thread number on this node mismatches with hardware availability. This may cause poor performance.\n",
      "Info: Local MPI proc number: 1,OpenMP thread number: 1,Total thread number: 1,Local thread limit: 52\n",
      "                                                                                     \n",
      "                              ABACUS v3.1                                            \n",
      "\n",
      "               Atomic-orbital Based Ab-initio Computation at UStc                    \n",
      "\n",
      "                     Website: http://abacus.ustc.edu.cn/                             \n",
      "               Documentation: https://abacus.deepmodeling.com/                       \n",
      "                  Repository: https://github.com/abacusmodeling/abacus-develop       \n",
      "                              https://github.com/deepmodeling/abacus-develop         \n",
      "\n",
      " Mon Apr  3 15:14:08 2023\n",
      " MAKE THE DIR         : OUT.MgO/\n",
      "\n",
      "%%%%%%%%%%%%%%%%%%%%%%%%%%%%%%%%%%%%%%%%%%%%%%%%%%%%%%%%%%\n",
      " Warning: number valence electrons > 2 for Mg: [Ne] 3s2\n",
      " Please make sure the pseudopotential file is what you need\n",
      "%%%%%%%%%%%%%%%%%%%%%%%%%%%%%%%%%%%%%%%%%%%%%%%%%%%%%%%%%%\n",
      "\n",
      " UNIFORM GRID DIM     : 40 * 40 * 40\n",
      " UNIFORM GRID DIM(BIG): 10 * 10 * 10\n",
      " DONE(0.0685985  SEC) : SETUP UNITCELL\n",
      " DONE(0.104701   SEC) : SYMMETRY\n",
      " DONE(0.178032   SEC) : INIT K-POINTS\n",
      " ---------------------------------------------------------\n",
      " Self-consistent calculations for electrons\n",
      " ---------------------------------------------------------\n",
      " SPIN    KPOINTS         PROCESSORS  NBASE       \n",
      " 1       29              1           28          \n",
      " ---------------------------------------------------------\n",
      " Use Systematically Improvable Atomic bases\n",
      " ---------------------------------------------------------\n",
      " ELEMENT ORBITALS        NBASE       NATOM       XC          \n",
      " Mg      4s2p1d-8au      15          1           \n",
      " O       2s2p1d-8au      13          1           \n",
      " ---------------------------------------------------------\n",
      " Initial plane wave basis and FFT box\n",
      " ---------------------------------------------------------\n",
      " -------------------------------------------\n",
      " SELF-CONSISTENT : \n",
      " -------------------------------------------\n",
      " START CHARGE      : atomic\n",
      " DONE(2.51577    SEC) : INIT SCF\n",
      " ITER   ETOT(eV)       EDIFF(eV)      DRHO       TIME(s)    \n",
      " GE1    -1.913453e+03  0.000000e+00   1.172e-01  3.064e+00  \n",
      " GE2    -1.915174e+03  -1.721656e+00  9.638e-02  2.841e+00  \n",
      " GE3    -1.915974e+03  -7.993561e-01  1.673e-02  2.842e+00  \n",
      " GE4    -1.915977e+03  -3.794312e-03  2.061e-03  2.842e+00  \n",
      " GE5    -1.915978e+03  -3.672082e-04  2.767e-04  2.829e+00  \n",
      " GE6    -1.915978e+03  -2.633162e-06  2.365e-05  2.848e+00  \n",
      " GE7    -1.915978e+03  -1.705373e-08  4.561e-07  2.845e+00  \n",
      "\n",
      "  |CLASS_NAME---------|NAME---------------|TIME(Sec)-----|CALLS----|AVG------|PER%-------\n",
      "                       total               22.745         9         2.5       1e+02     %\n",
      "   Driver              driver_line         22.709         1         23        1e+02     %\n",
      "   ORB_control         set_orb_tables      2.1734         1         2.2       9.6       %\n",
      "   ORB_gen_tables      gen_tables          2.1734         1         2.2       9.6       %\n",
      "   ORB_table_phi       init_Table          1.506          1         1.5       6.6       %\n",
      "   ORB_table_phi       cal_ST_Phi12_R      1.4913         278       0.0054    6.6       %\n",
      "   ORB_table_beta      init_Table_Beta     0.47219        1         0.47      2.1       %\n",
      "   ORB_table_beta      VNL_PhiBeta_R       0.46835        120       0.0039    2.1       %\n",
      "   ESolver_KS_LCAO     Run                 20.271         1         20        89        %\n",
      "   Potential           update_from_charge  0.22668        8         0.028     1         %\n",
      "   Potential           cal_v_eff           0.22561        8         0.028     0.99      %\n",
      "   PotXC               cal_v_eff           0.20855        8         0.026     0.92      %\n",
      "   XC_Functional       v_xc                0.20823        8         0.026     0.92      %\n",
      "   HSolverLCAO         solve               19.347         7         2.8       85        %\n",
      "   HamiltLCAO          updateHk            11.549         203       0.057     51        %\n",
      "   OperatorLCAO        init                10.84          406       0.027     48        %\n",
      "   Veff                contributeHk        10.838         203       0.053     48        %\n",
      "   Gint_interface      cal_gint            18.179         14        1.3       80        %\n",
      "   Gint_interface      cal_gint_vlocal     10.774         7         1.5       47        %\n",
      "   Gint_Tools          cal_psir_ylm        2.5668         14000     0.00018   11        %\n",
      "   Nonlocal<LCAO>      contributeHR        0.16355        1         0.16      0.72      %\n",
      "   LCAO_gen_fixedH     b_NL_mu_new         0.16349        1         0.16      0.72      %\n",
      "   OperatorLCAO        folding_fixed       0.49287        203       0.0024    2.2       %\n",
      "   LCAO_nnr            folding_fixedH      0.4914         203       0.0024    2.2       %\n",
      "   HSolverLCAO         hamiltSolvePsiK     0.16938        203       0.00083   0.74      %\n",
      "   DiagoElpa           elpa_solve          0.12265        203       0.0006    0.54      %\n",
      "   ElecStateLCAO       psiToRho            7.6272         7         1.1       34        %\n",
      "   LCAO_Charge         cal_dk_k            0.2167         7         0.031     0.95      %\n",
      "   Gint_interface      cal_gint_rho        7.4048         7         1.1       33        %\n",
      " ----------------------------------------------------------------------------------------\n",
      "\n",
      " START  Time  : Mon Apr  3 15:14:08 2023\n",
      " FINISH Time  : Mon Apr  3 15:14:31 2023\n",
      " TOTAL  Time  : 23\n",
      " SEE INFORMATION IN : OUT.MgO/\n"
     ]
    }
   ],
   "source": [
    "!. /opt/intel/oneapi/setvars.sh && OMP_NUM_THREADS=1 abacus"
   ]
  },
  {
   "cell_type": "markdown",
   "id": "a053f32b-a914-4bd9-834f-63d37f3a8e9e",
   "metadata": {
    "tags": []
   },
   "source": [
    "### 3.2 非自洽计算<a id ='3-2'></a>"
   ]
  },
  {
   "cell_type": "markdown",
   "id": "67847695-465f-4d1b-b224-30660e9ef2be",
   "metadata": {},
   "source": [
    "做态密度计算中的非自洽计算需设置更加密的k点网格。为了输出能带结构文件，还需设置**out_dos**为**true**或者**1**。"
   ]
  },
  {
   "cell_type": "code",
   "execution_count": 26,
   "id": "06f2857c-3e9b-432e-ad5f-1b83d05c3428",
   "metadata": {},
   "outputs": [],
   "source": [
    "cp INPUT_nscf INPUT && cp KPT_nscf KPT"
   ]
  },
  {
   "cell_type": "code",
   "execution_count": 27,
   "id": "f651c35c-13d6-40df-9b6c-7fbc7fe8c273",
   "metadata": {},
   "outputs": [
    {
     "name": "stdout",
     "output_type": "stream",
     "text": [
      "K_POINTS\n",
      "0\n",
      "Gamma\n",
      "10 10 10 0 0 0\n"
     ]
    }
   ],
   "source": [
    "cat KPT"
   ]
  },
  {
   "cell_type": "code",
   "execution_count": 28,
   "id": "da405f66-1aa4-4950-9f6f-c7ec4d49b2ab",
   "metadata": {
    "scrolled": true,
    "tags": []
   },
   "outputs": [
    {
     "name": "stdout",
     "output_type": "stream",
     "text": [
      " \n",
      ":: initializing oneAPI environment ...\n",
      "   dash: SH_VERSION = unknown\n",
      "   args: Using \"$@\" for setvars.sh arguments: \n",
      ":: compiler -- latest\n",
      ":: debugger -- latest\n",
      ":: dev-utilities -- latest\n",
      ":: mkl -- latest\n",
      ":: mpi -- latest\n",
      ":: tbb -- latest\n",
      ":: vtune -- latest\n",
      ":: oneAPI environment initialized ::\n",
      " \n",
      "WARNING: Total thread number on this node mismatches with hardware availability. This may cause poor performance.\n",
      "Info: Local MPI proc number: 1,OpenMP thread number: 1,Total thread number: 1,Local thread limit: 52\n",
      "                                                                                     \n",
      "                              ABACUS v3.1                                            \n",
      "\n",
      "               Atomic-orbital Based Ab-initio Computation at UStc                    \n",
      "\n",
      "                     Website: http://abacus.ustc.edu.cn/                             \n",
      "               Documentation: https://abacus.deepmodeling.com/                       \n",
      "                  Repository: https://github.com/abacusmodeling/abacus-develop       \n",
      "                              https://github.com/deepmodeling/abacus-develop         \n",
      "\n",
      " Mon Apr  3 15:14:34 2023\n",
      " MAKE THE DIR         : OUT.MgO/\n",
      "\n",
      "%%%%%%%%%%%%%%%%%%%%%%%%%%%%%%%%%%%%%%%%%%%%%%%%%%%%%%%%%%\n",
      " Warning: number valence electrons > 2 for Mg: [Ne] 3s2\n",
      " Please make sure the pseudopotential file is what you need\n",
      "%%%%%%%%%%%%%%%%%%%%%%%%%%%%%%%%%%%%%%%%%%%%%%%%%%%%%%%%%%\n",
      "\n",
      " UNIFORM GRID DIM     : 40 * 40 * 40\n",
      " UNIFORM GRID DIM(BIG): 10 * 10 * 10\n",
      " DONE(0.0614797  SEC) : SETUP UNITCELL\n",
      " DONE(0.0851821  SEC) : INIT K-POINTS\n",
      " ---------------------------------------------------------\n",
      " ---------------------------------------------------------\n",
      " SPIN    KPOINTS         PROCESSORS  NBASE       \n",
      " 1       504             1           28          \n",
      " ---------------------------------------------------------\n",
      " Use Systematically Improvable Atomic bases\n",
      " ---------------------------------------------------------\n",
      " ELEMENT ORBITALS        NBASE       NATOM       XC          \n",
      " Mg      4s2p1d-8au      15          1           \n",
      " O       2s2p1d-8au      13          1           \n",
      " ---------------------------------------------------------\n",
      " Initial plane wave basis and FFT box\n",
      " ---------------------------------------------------------\n",
      " -------------------------------------------\n",
      " NONSELF-CONSISTENT : \n",
      " -------------------------------------------\n",
      " START CHARGE      : file\n",
      " NON-SELF CONSISTENT CALCULATIONS\n",
      "\n",
      "  |CLASS_NAME---------|NAME---------------|TIME(Sec)-----|CALLS----|AVG------|PER%-------\n",
      "                       total               12.769         5         2.6       1e+02     %\n",
      "   Driver              driver_line         12.741         1         13        1e+02     %\n",
      "   ORB_control         set_orb_tables      2.253          1         2.3       18        %\n",
      "   ORB_gen_tables      gen_tables          2.253          1         2.3       18        %\n",
      "   ORB_table_phi       init_Table          1.5323         1         1.5       12        %\n",
      "   ORB_table_phi       cal_ST_Phi12_R      1.5173         278       0.0055    12        %\n",
      "   ORB_table_beta      init_Table_Beta     0.50964        1         0.51      4         %\n",
      "   ORB_table_beta      VNL_PhiBeta_R       0.50553        120       0.0042    4         %\n",
      "   ESolver_KS_LCAO     othercalculation    3.6888         1         3.7       29        %\n",
      "   HSolverLCAO         solve               3.582          1         3.6       28        %\n",
      "   HamiltLCAO          updateHk            3.1582         504       0.0063    25        %\n",
      "   OperatorLCAO        init                1.7253         1008      0.0017    14        %\n",
      "   Veff                contributeHk        1.722          504       0.0034    13        %\n",
      "   Gint_interface      cal_gint            1.5624         1         1.6       12        %\n",
      "   Gint_interface      cal_gint_vlocal     1.5624         1         1.6       12        %\n",
      "   Gint_Tools          cal_psir_ylm        0.17806        1000      0.00018   1.4       %\n",
      "   Gint_k              folding_vl_k        0.1592         504       0.00032   1.2       %\n",
      "   Nonlocal<LCAO>      contributeHR        0.16364        1         0.16      1.3       %\n",
      "   LCAO_gen_fixedH     b_NL_mu_new         0.16358        1         0.16      1.3       %\n",
      "   OperatorLCAO        folding_fixed       1.2155         504       0.0024    9.5       %\n",
      "   LCAO_nnr            folding_fixedH      2.4493         1008      0.0024    19        %\n",
      "   HSolverLCAO         hamiltSolvePsiK     0.42219        504       0.00084   3.3       %\n",
      "   DiagoElpa           elpa_solve          0.31119        504       0.00062   2.4       %\n",
      " ----------------------------------------------------------------------------------------\n",
      "\n",
      " START  Time  : Mon Apr  3 15:14:34 2023\n",
      " FINISH Time  : Mon Apr  3 15:14:46 2023\n",
      " TOTAL  Time  : 12\n",
      " SEE INFORMATION IN : OUT.MgO/\n"
     ]
    }
   ],
   "source": [
    "!. /opt/intel/oneapi/setvars.sh && OMP_NUM_THREADS=1 abacus"
   ]
  },
  {
   "cell_type": "markdown",
   "id": "9b46118a-daba-49fb-bcbf-d80d69cf2463",
   "metadata": {},
   "source": [
    "### 3.3 画总态密度图<a id ='3-3'></a>"
   ]
  },
  {
   "cell_type": "markdown",
   "id": "fc862bb2-4c18-439e-8d73-0947f260e78c",
   "metadata": {},
   "source": [
    "总态密度(Total density of states)是指在一个能量范围内电子在每个能量点上总的态密度值。\n",
    "\n",
    "这里的“总”是相对下面的投影态密度(projected density of states)讲的，而投影态密度指的是在一个能量范围内将电子波函数投影到每个原子的每个轨道得到的态密度值。"
   ]
  },
  {
   "cell_type": "code",
   "execution_count": 29,
   "id": "7643ca45-a3a5-434c-9809-204a59f35edf",
   "metadata": {
    "tags": []
   },
   "outputs": [
    {
     "name": "stdout",
     "output_type": "stream",
     "text": [
      "/data/bohrium-notebook/Proem/colombo-ABACUS/ABACUS/MgO_LCAO/dos/OUT.MgO\n"
     ]
    }
   ],
   "source": [
    "cd OUT.MgO"
   ]
  },
  {
   "cell_type": "code",
   "execution_count": 30,
   "id": "055b5aa3-5fa1-49d5-9303-ae3e568d35d2",
   "metadata": {},
   "outputs": [],
   "source": [
    "cp ../config_tdos.json ./config.json"
   ]
  },
  {
   "cell_type": "code",
   "execution_count": 31,
   "id": "8c847913-b618-4f32-9cc7-ae2e9a2d150e",
   "metadata": {},
   "outputs": [
    {
     "name": "stdout",
     "output_type": "stream",
     "text": [
      "{\n",
      "    \"tdosfile\": \"TDOS\",\n",
      "    \"efermi\": 8.27771540465,\n",
      "    \"energy_range\": [-5,7],\n",
      "    \"dos_range\": [0,5],\n",
      "    \"figsize\":[14,10],\n",
      "    \"tdosfig\": \"tdos.png\"\n",
      "}\n"
     ]
    }
   ],
   "source": [
    "cat config.json"
   ]
  },
  {
   "cell_type": "code",
   "execution_count": 32,
   "id": "0e8f2bef-2149-47af-9ac3-2e1093bd4664",
   "metadata": {},
   "outputs": [],
   "source": [
    "!/opt/miniconda3/bin/abacus-plot -d"
   ]
  },
  {
   "cell_type": "code",
   "execution_count": 33,
   "id": "585412c6-71af-48aa-a886-1241a91028f0",
   "metadata": {},
   "outputs": [
    {
     "data": {
      "remote/url": "https://bohrium.oss-cn-zhangjiakou.aliyuncs.com/article/14076/f805669f176945e5bede23d2d9b5efa8/c30f5a06e9d84c22a4cef5caf806d86e.png"
     },
     "metadata": {},
     "output_type": "display_data"
    }
   ],
   "source": [
    "import matplotlib.pyplot as plt\n",
    "from PIL import Image\n",
    "plt.axis('off')\n",
    "plt.imshow(Image.open('tdos.png'))\n",
    "plt.show()"
   ]
  },
  {
   "cell_type": "markdown",
   "id": "8dcbe46e-c267-4be5-8a3f-1c2af5e92b8e",
   "metadata": {},
   "source": [
    "### 3.4 画投影态密度图<a id ='3-4'></a>"
   ]
  },
  {
   "cell_type": "code",
   "execution_count": 34,
   "id": "210f0621-1ac7-429c-8df0-00b35d7ce7c7",
   "metadata": {},
   "outputs": [],
   "source": [
    "cp ../config_pdos.json ./config.json"
   ]
  },
  {
   "cell_type": "code",
   "execution_count": 35,
   "id": "38266d63-0f58-4eef-bdcf-d5af617701a5",
   "metadata": {},
   "outputs": [
    {
     "name": "stdout",
     "output_type": "stream",
     "text": [
      "{\n",
      "    \"pdosfile\": \"PDOS\",\n",
      "    \"efermi\": 8.27771540465,\n",
      "    \"energy_range\": [-5,7],\n",
      "    \"dos_range\": [0,5],\n",
      "    \"figsize\":[14,10],\n",
      "    \"species\":{\"Mg\":[0,1,2],\"O\":[0,1,2]},\n",
      "    \"pdosfig\": \"pdos.png\"\n",
      "}\n"
     ]
    }
   ],
   "source": [
    "cat config.json"
   ]
  },
  {
   "cell_type": "code",
   "execution_count": 36,
   "id": "3870e1b3-a234-4ae4-9c3a-ecb2dde949eb",
   "metadata": {},
   "outputs": [],
   "source": [
    "!/opt/miniconda3/bin/abacus-plot -d -p -o"
   ]
  },
  {
   "cell_type": "code",
   "execution_count": 37,
   "id": "6fad9afe-3548-44f5-9e3d-25f84053b9e9",
   "metadata": {},
   "outputs": [
    {
     "data": {
      "remote/url": "https://bohrium.oss-cn-zhangjiakou.aliyuncs.com/article/14076/345b773466894d43902a9c1f2f3328ac/131f4e3bb7e74a2c9cd54d90b237a48a.png"
     },
     "metadata": {},
     "output_type": "display_data"
    }
   ],
   "source": [
    "import matplotlib.pyplot as plt\n",
    "from PIL import Image\n",
    "plt.axis('off')\n",
    "plt.imshow(Image.open('pdos.png'))\n",
    "plt.show()"
   ]
  },
  {
   "cell_type": "markdown",
   "id": "6097613d-e5a5-466b-8457-e05014027244",
   "metadata": {},
   "source": [
    "## 4. 结构优化<a id ='4'></a>"
   ]
  },
  {
   "cell_type": "markdown",
   "id": "13ff9d9b-9cec-4097-854e-32b369514d7e",
   "metadata": {},
   "source": [
    "结构优化是从一个一般的结构出发，利用优化算法得到基态结构的过程。对于周期性体系，优化计算可以根据需要针对体系的不同自由度来进行优化。\n",
    "\n",
    "在ABACUS中，如果只优化原子位置，而晶胞固定不变，则需在INPUT中将calculation设置为**relax**;\n",
    "\n",
    "如果需要同时做原子位置优化和晶胞优化，则需要将calculation设置为**cell-relax**；\n",
    "\n",
    "此外，需要注意的参数还有原子受力的收敛标准**force_thr_ev**和应力收敛标准**stress_thr**的设置；\n",
    "\n",
    "更多的优化设置，请阅读[ABACUS Documentation](http://abacus.deepmodeling.com/en/latest/)。关于结构优化，可参考[文档](http://abacus.deepmodeling.com/en/latest/quick_start/hands_on.html#running-geometry-optimization)中对这部分的详细说明。"
   ]
  },
  {
   "cell_type": "code",
   "execution_count": 38,
   "id": "a9a2b132-8410-4547-a2c6-49e7a91204e7",
   "metadata": {
    "tags": []
   },
   "outputs": [
    {
     "name": "stdout",
     "output_type": "stream",
     "text": [
      "/data/bohrium-notebook/Proem/colombo-ABACUS/ABACUS/MgO_LCAO/optimization\n"
     ]
    }
   ],
   "source": [
    "cd ../../../MgO_LCAO/optimization"
   ]
  },
  {
   "cell_type": "code",
   "execution_count": 39,
   "id": "8f4080cd-77ee-4286-b5e4-92eca48b1a32",
   "metadata": {},
   "outputs": [
    {
     "name": "stdout",
     "output_type": "stream",
     "text": [
      "INPUT_PARAMETERS\n",
      "suffix \t\t\tMgO\n",
      "ntype \t\t\t2\n",
      "pseudo_dir \t\t../../PP_ORB\n",
      "orbital_dir \t\t../../PP_ORB\n",
      "ecutwfc \t\t100 \n",
      "scf_thr \t\t1e-6 \n",
      "basis_type \t\tlcao\n",
      "calculation \t\tcell-relax\n",
      "force_thr_ev\t\t0.01\n",
      "stress_thr\t\t5\n",
      "relax_nmax\t\t100\n",
      "out_stru\t\t1\n",
      "\n",
      "\n",
      "\n"
     ]
    }
   ],
   "source": [
    "cat INPUT"
   ]
  },
  {
   "cell_type": "code",
   "execution_count": 40,
   "id": "9a0e9574-812b-4114-a96c-96d50f54e4e4",
   "metadata": {
    "scrolled": true,
    "tags": []
   },
   "outputs": [
    {
     "name": "stdout",
     "output_type": "stream",
     "text": [
      " \n",
      ":: initializing oneAPI environment ...\n",
      "   dash: SH_VERSION = unknown\n",
      "   args: Using \"$@\" for setvars.sh arguments: \n",
      ":: compiler -- latest\n",
      ":: debugger -- latest\n",
      ":: dev-utilities -- latest\n",
      ":: mkl -- latest\n",
      ":: mpi -- latest\n",
      ":: tbb -- latest\n",
      ":: vtune -- latest\n",
      ":: oneAPI environment initialized ::\n",
      " \n",
      "WARNING: Total thread number on this node mismatches with hardware availability. This may cause poor performance.\n",
      "Info: Local MPI proc number: 1,OpenMP thread number: 1,Total thread number: 1,Local thread limit: 52\n",
      "                                                                                     \n",
      "                              ABACUS v3.1                                            \n",
      "\n",
      "               Atomic-orbital Based Ab-initio Computation at UStc                    \n",
      "\n",
      "                     Website: http://abacus.ustc.edu.cn/                             \n",
      "               Documentation: https://abacus.deepmodeling.com/                       \n",
      "                  Repository: https://github.com/abacusmodeling/abacus-develop       \n",
      "                              https://github.com/deepmodeling/abacus-develop         \n",
      "\n",
      " Mon Apr  3 15:15:01 2023\n",
      " MAKE THE DIR         : OUT.MgO/\n",
      "\n",
      "%%%%%%%%%%%%%%%%%%%%%%%%%%%%%%%%%%%%%%%%%%%%%%%%%%%%%%%%%%\n",
      " Warning: number valence electrons > 2 for Mg: [Ne] 3s2\n",
      " Please make sure the pseudopotential file is what you need\n",
      "%%%%%%%%%%%%%%%%%%%%%%%%%%%%%%%%%%%%%%%%%%%%%%%%%%%%%%%%%%\n",
      "\n",
      " UNIFORM GRID DIM     : 54 * 54 * 54\n",
      " UNIFORM GRID DIM(BIG): 18 * 18 * 18\n",
      " DONE(0.0830077  SEC) : SETUP UNITCELL\n",
      " DONE(0.0940724  SEC) : INIT K-POINTS\n",
      " ---------------------------------------------------------\n",
      " Cell relaxation calculations\n",
      " ---------------------------------------------------------\n",
      " SPIN    KPOINTS         PROCESSORS  NBASE       \n",
      " 1       36              1           112         \n",
      " ---------------------------------------------------------\n",
      " Use Systematically Improvable Atomic bases\n",
      " ---------------------------------------------------------\n",
      " ELEMENT ORBITALS        NBASE       NATOM       XC          \n",
      " Mg      4s2p1d-8au      15          4           \n",
      " O       2s2p1d-8au      13          4           \n",
      " ---------------------------------------------------------\n",
      " Initial plane wave basis and FFT box\n",
      " ---------------------------------------------------------\n",
      " -------------------------------------------\n",
      " STEP OF RELAXATION : 1\n",
      " -------------------------------------------\n",
      " START CHARGE      : atomic\n",
      " DONE(2.56792    SEC) : INIT SCF\n",
      " ITER   ETOT(eV)       EDIFF(eV)      DRHO       TIME(s)    \n",
      " GE1    -7.653810e+03  0.000000e+00   1.172e-01  9.129e+00  \n",
      " GE2    -7.660698e+03  -6.887227e+00  9.635e-02  8.247e+00  \n",
      " GE3    -7.663893e+03  -3.195615e+00  1.673e-02  8.224e+00  \n",
      " GE4    -7.663908e+03  -1.521795e-02  2.058e-03  8.142e+00  \n",
      " GE5    -7.663910e+03  -1.464449e-03  2.765e-04  8.164e+00  \n",
      " GE6    -7.663910e+03  -1.052038e-05  2.365e-05  8.149e+00  \n",
      " GE7    -7.663910e+03  -6.776327e-08  4.643e-07  8.150e+00  \n",
      " ><><><><><><><><><><><><><><><><><><><><><><\n",
      " TOTAL-STRESS (KBAR):\n",
      " ><><><><><><><><><><><><><><><><><><><><><><\n",
      " 1.202e+00      4.377e-12      1.201e-12      \n",
      " 4.377e-12      1.202e+00      1.541e-12      \n",
      " 1.201e-12      1.541e-12      1.202e+00      \n",
      " TOTAL-PRESSURE: 1.202e+00 KBAR\n",
      " LARGEST GRAD (eV/A)  : 2.106e-11\n",
      "\n",
      "  |CLASS_NAME---------|NAME---------------|TIME(Sec)-----|CALLS----|AVG------|PER%-------\n",
      "                       total               79.81          7         11        1e+02     %\n",
      "   Driver              driver_line         79.772         1         80        1e+02     %\n",
      "   ORB_control         set_orb_tables      2.1614         1         2.2       2.7       %\n",
      "   ORB_gen_tables      gen_tables          2.1614         1         2.2       2.7       %\n",
      "   ORB_table_phi       init_Table          1.4899         1         1.5       1.9       %\n",
      "   ORB_table_phi       cal_ST_Phi12_R      1.4749         278       0.0053    1.8       %\n",
      "   ORB_table_beta      init_Table_Beta     0.476          1         0.48      0.6       %\n",
      "   ORB_table_beta      VNL_PhiBeta_R       0.47219        120       0.0039    0.59      %\n",
      "   ESolver_KS_LCAO     Run                 58.369         1         58        73        %\n",
      "   ESolver_KS_LCAO     beforescf           0.15329        1         0.15      0.19      %\n",
      "   Potential           update_from_charge  0.61303        8         0.077     0.77      %\n",
      "   Potential           cal_v_eff           0.6098         8         0.076     0.76      %\n",
      "   PW_Basis            real2recip          0.11709        68        0.0017    0.15      %\n",
      "   PotXC               cal_v_eff           0.55894        8         0.07      0.7       %\n",
      "   XC_Functional       v_xc                0.55778        8         0.07      0.7       %\n",
      "   HSolverLCAO         solve               57.551         7         8.2       72        %\n",
      "   HamiltLCAO          updateHk            30.066         252       0.12      38        %\n",
      "   OperatorLCAO        init                26.874         504       0.053     34        %\n",
      "   Veff                contributeHk        26.87          252       0.11      34        %\n",
      "   Gint_interface      cal_gint            61.396         15        4.1       77        %\n",
      "   Gint_interface      cal_gint_vlocal     26.539         7         3.8       33        %\n",
      "   Gint_Tools          cal_psir_ylm        6.5462         81648     8e-05     8.2       %\n",
      "   Gint_k              folding_vl_k        0.33013        252       0.0013    0.41      %\n",
      "   Gint_k              Distri              0.10859        252       0.00043   0.14      %\n",
      "   Overlap             contributeHR        0.10385        1         0.1       0.13      %\n",
      "   LCAO_gen_fixedH     calculate_S_no      0.10385        1         0.1       0.13      %\n",
      "   Ekin<LCAO>          contributeHR        0.105          1         0.11      0.13      %\n",
      "   Nonlocal<LCAO>      contributeHR        0.66882        1         0.67      0.84      %\n",
      "   LCAO_gen_fixedH     b_NL_mu_new         2.1443         2         1.1       2.7       %\n",
      "   OperatorLCAO        folding_fixed       2.3136         252       0.0092    2.9       %\n",
      "   LCAO_nnr            folding_fixedH      2.3033         252       0.0091    2.9       %\n",
      "   HSolverLCAO         hamiltSolvePsiK     1.521          252       0.006     1.9       %\n",
      "   DiagoElpa           elpa_solve          1.4572         252       0.0058    1.8       %\n",
      "   ElecStateLCAO       psiToRho            25.963         7         3.7       33        %\n",
      "   LCAO_Charge         cal_dk_k            3.1115         7         0.44      3.9       %\n",
      "   Gint_interface      cal_gint_rho        22.803         7         3.3       29        %\n",
      "   Force_Stress_LCAO   getForceStress      19.022         1         19        24        %\n",
      "   Force_LCAO_k        ftable_k            18.865         1         19        24        %\n",
      "   Force_LCAO_k        allocate_k          2.3928         1         2.4       3         %\n",
      "   Force_LCAO_k        cal_foverlap_k      0.11431        1         0.11      0.14      %\n",
      "   Force_LCAO_k        cal_edm_2d          0.10043        1         0.1       0.13      %\n",
      "   Local_Orbital_Chargecal_dm_R            0.18659        2         0.093     0.23      %\n",
      "   Force_LCAO_k        cal_fvl_dphi_k      12.054         1         12        15        %\n",
      "   Gint_interface      cal_gint_force      12.054         1         12        15        %\n",
      "   Gint_Tools          cal_dpsir_ylm       4.9742         5832      0.00085   6.2       %\n",
      "   Gint_Tools          cal_dpsirr_ylm      0.69358        5832      0.00012   0.87      %\n",
      "   Force_LCAO_k        cal_fvnl_dbeta_k_new4.1995         1         4.2       5.3       %\n",
      " ----------------------------------------------------------------------------------------\n",
      "\n",
      " START  Time  : Mon Apr  3 15:15:01 2023\n",
      " FINISH Time  : Mon Apr  3 15:16:21 2023\n",
      " TOTAL  Time  : 80\n",
      " SEE INFORMATION IN : OUT.MgO/\n"
     ]
    }
   ],
   "source": [
    "!. /opt/intel/oneapi/setvars.sh && OMP_NUM_THREADS=1 abacus"
   ]
  },
  {
   "cell_type": "code",
   "execution_count": 41,
   "id": "29ab9c2c-8a3d-4bf4-ac82-de035400c25d",
   "metadata": {},
   "outputs": [
    {
     "name": "stdout",
     "output_type": "stream",
     "text": [
      "删除成功\n"
     ]
    }
   ],
   "source": [
    "# 在案例完成后，删除该案例中下载的 colombo-ABACUS 文件夹\n",
    "import os\n",
    "\n",
    "# 获取当前工作目录的绝对路径\n",
    "current_dir = os.getcwd()\n",
    "\n",
    "if current_dir.endswith(\"colombo-ABACUS/ABACUS/MgO_LCAO/optimization\"):\n",
    "    # 获取 colombo-ABACUS 上级目录的绝对路径\n",
    "    parent_dir = os.path.abspath(os.path.join(current_dir, '../../../..'))\n",
    "    os.chdir(parent_dir)\n",
    "\n",
    "! if [ -d \"colombo-ABACUS\" ]; then rm -r colombo-ABACUS; echo \"删除成功\"; fi"
   ]
  },
  {
   "cell_type": "markdown",
   "id": "0dc28270-0703-431d-918c-74ff83d1bb6c",
   "metadata": {},
   "source": [
    "## 进一步阅读 <a id='furtherreading'></a>\n",
    "\n",
    "如果您希望更深入学习ABACUS，本节提供有关该主题的更多资源。\n",
    "\n",
    "**ABACUS项目**\n",
    "\n",
    "- [ABACUS Homepage](http://abacus.ustc.edu.cn/main.htm)\n",
    "- [ABACUS Documentation](http://abacus.deepmodeling.com/en/latest/)\n",
    "- [ABACUS on Github](https://github.com/deepmodeling/abacus-develop)\n",
    "- [ABACUS on Gitee](https://gitee.com/deepmodeling/abacus-develop)\n",
    "\n"
   ]
  },
  {
   "cell_type": "markdown",
   "id": "e4369bf2",
   "metadata": {},
   "source": [
    "<a href=\"https://bohrium.dp.tech/notebook/4e39364ea5c5455e94bdbdfd2fb9b037\" target=\"_blank\"><img src=\"https://cdn.dp.tech/bohrium/web/static/images/open-in-bohrium.svg\" alt=\"Open In Bohrium\"/></a>"
   ]
  }
 ],
 "metadata": {
  "kernelspec": {
   "display_name": "Python 3 (ipykernel)",
   "language": "python",
   "name": "python3"
  },
  "language_info": {
   "codemirror_mode": {
    "name": "ipython",
    "version": 3
   },
   "file_extension": ".py",
   "mimetype": "text/x-python",
   "name": "python",
   "nbconvert_exporter": "python",
   "pygments_lexer": "ipython3",
   "version": "3.8.16"
  }
 },
 "nbformat": 4,
 "nbformat_minor": 5
}
