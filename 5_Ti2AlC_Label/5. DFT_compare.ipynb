{
 "cells": [
  {
   "cell_type": "markdown",
   "metadata": {},
   "source": [
    "# $Ti_2AlC$ DFT计算验证"
   ]
  },
  {
   "cell_type": "markdown",
   "metadata": {},
   "source": [
    "## 1. Convergence Test"
   ]
  },
  {
   "cell_type": "markdown",
   "metadata": {},
   "source": [
    "### 1.1 ecutwfc convergence test (only valid for pw basis)"
   ]
  },
  {
   "cell_type": "code",
   "execution_count": null,
   "metadata": {},
   "outputs": [],
   "source": [
    "from convergence_test import ABACUSConvergenceTest\n",
    "\n",
    "conv_test = ABACUSConvergenceTest()\n",
    "conv_test.ecut_run(ecut_min=50, ecut_max=130, ecut_interval=10)\n",
    "conv_test.ecut_postprocessing()\n",
    "conv_test.ecut_generate_plot()"
   ]
  },
  {
   "cell_type": "markdown",
   "metadata": {},
   "source": [
    "### 1.2 kspacing convergence test"
   ]
  },
  {
   "cell_type": "code",
   "execution_count": null,
   "metadata": {},
   "outputs": [],
   "source": [
    "from convergence_test import ABACUSConvergenceTest\n",
    "\n",
    "conv_test = ABACUSConvergenceTest()\n",
    "conv_test.kpoint_run(kspacing_min=0.05, kspacing_max=0.15, kspacing_interval=0.01)\n",
    "conv_test.kpoint_postprocessing()\n",
    "conv_test.kpoint_generate_plot()"
   ]
  },
  {
   "cell_type": "markdown",
   "metadata": {},
   "source": [
    "### 1.3 kspacing convergence test (x, y, z)"
   ]
  },
  {
   "cell_type": "code",
   "execution_count": null,
   "metadata": {},
   "outputs": [],
   "source": [
    "from convergence_test import ABACUSConvergenceTest\n",
    "\n",
    "conv_test = ABACUSConvergenceTest()\n",
    "conv_test.kpoint_xyz_run(kspacing_min_xyz=[0.05, 0.05, 0.05], kspacing_max_xyz=[0.15, 0.15, 0.15], kspacing_interval_xyz=0.02)\n",
    "conv_test.kpoint_xyz_postprocessing()\n",
    "conv_test.kpoint_xyz_generate_plot()"
   ]
  },
  {
   "cell_type": "markdown",
   "metadata": {},
   "source": [
    "## 2. Cell-relax"
   ]
  },
  {
   "cell_type": "code",
   "execution_count": 2,
   "metadata": {},
   "outputs": [
    {
     "name": "stdout",
     "output_type": "stream",
     "text": [
      "Looking in indexes: https://mirrors.aliyun.com/pypi/simple\n",
      "Collecting git+https://gitlab.com/1041176461/ase-abacus.git\n",
      "  Cloning https://gitlab.com/1041176461/ase-abacus.git to /tmp/pip-req-build-v1e04iqr\n",
      "  Running command git clone --filter=blob:none --quiet https://gitlab.com/1041176461/ase-abacus.git /tmp/pip-req-build-v1e04iqr\n",
      "  Resolved https://gitlab.com/1041176461/ase-abacus.git to commit 65bdad3493fea002180cdc73664d688a2087a99b\n",
      "  Installing build dependencies ... \u001b[?25ldone\n",
      "\u001b[?25h  Getting requirements to build wheel ... \u001b[?25ldone\n",
      "\u001b[?25h  Preparing metadata (pyproject.toml) ... \u001b[?25ldone\n",
      "\u001b[?25hRequirement already satisfied: numpy>=1.19.5 in /home/outisli/miniconda3/envs/dpmd_conda/lib/python3.12/site-packages (from ase==3.26.0b1) (2.1.2)\n",
      "Requirement already satisfied: scipy>=1.6.0 in /home/outisli/miniconda3/envs/dpmd_conda/lib/python3.12/site-packages (from ase==3.26.0b1) (1.15.3)\n",
      "Requirement already satisfied: matplotlib>=3.3.4 in /home/outisli/miniconda3/envs/dpmd_conda/lib/python3.12/site-packages (from ase==3.26.0b1) (3.10.3)\n",
      "Requirement already satisfied: contourpy>=1.0.1 in /home/outisli/miniconda3/envs/dpmd_conda/lib/python3.12/site-packages (from matplotlib>=3.3.4->ase==3.26.0b1) (1.3.2)\n",
      "Requirement already satisfied: cycler>=0.10 in /home/outisli/miniconda3/envs/dpmd_conda/lib/python3.12/site-packages (from matplotlib>=3.3.4->ase==3.26.0b1) (0.12.1)\n",
      "Requirement already satisfied: fonttools>=4.22.0 in /home/outisli/miniconda3/envs/dpmd_conda/lib/python3.12/site-packages (from matplotlib>=3.3.4->ase==3.26.0b1) (4.58.4)\n",
      "Requirement already satisfied: kiwisolver>=1.3.1 in /home/outisli/miniconda3/envs/dpmd_conda/lib/python3.12/site-packages (from matplotlib>=3.3.4->ase==3.26.0b1) (1.4.8)\n",
      "Requirement already satisfied: packaging>=20.0 in /home/outisli/miniconda3/envs/dpmd_conda/lib/python3.12/site-packages (from matplotlib>=3.3.4->ase==3.26.0b1) (25.0)\n",
      "Requirement already satisfied: pillow>=8 in /home/outisli/miniconda3/envs/dpmd_conda/lib/python3.12/site-packages (from matplotlib>=3.3.4->ase==3.26.0b1) (11.0.0)\n",
      "Requirement already satisfied: pyparsing>=2.3.1 in /home/outisli/miniconda3/envs/dpmd_conda/lib/python3.12/site-packages (from matplotlib>=3.3.4->ase==3.26.0b1) (3.2.3)\n",
      "Requirement already satisfied: python-dateutil>=2.7 in /home/outisli/miniconda3/envs/dpmd_conda/lib/python3.12/site-packages (from matplotlib>=3.3.4->ase==3.26.0b1) (2.9.0.post0)\n",
      "Requirement already satisfied: six>=1.5 in /home/outisli/miniconda3/envs/dpmd_conda/lib/python3.12/site-packages (from python-dateutil>=2.7->matplotlib>=3.3.4->ase==3.26.0b1) (1.17.0)\n",
      "Looking in indexes: https://mirrors.aliyun.com/pypi/simple\n",
      "Collecting dpdata\n",
      "  Downloading https://mirrors.aliyun.com/pypi/packages/0a/bb/87f325c9f2ee3c2ed7ea422ec9efcd0840624e3deb56f1eb4fcf041482f4/dpdata-0.2.24-py3-none-any.whl (155 kB)\n",
      "Collecting pymatgen\n",
      "  Downloading https://mirrors.aliyun.com/pypi/packages/ee/9a/38d4d4eda74ae4ee447a921d10fe6e103e7664765013e4d95a305070062d/pymatgen-2025.6.14-cp312-cp312-manylinux_2_17_x86_64.manylinux2014_x86_64.whl (5.1 MB)\n",
      "\u001b[2K     \u001b[90m━━━━━━━━━━━━━━━━━━━━━━━━━━━━━━━━━━━━━━━━\u001b[0m \u001b[32m5.1/5.1 MB\u001b[0m \u001b[31m8.9 MB/s\u001b[0m eta \u001b[36m0:00:00\u001b[0ma \u001b[36m0:00:01\u001b[0m\n",
      "\u001b[?25hCollecting nglview\n",
      "  Downloading https://mirrors.aliyun.com/pypi/packages/55/fe/bd1c2aaa7e38055116e22467ccbc3600936d977afddf91ec049ee900c909/nglview-3.1.4.tar.gz (21.9 MB)\n",
      "\u001b[2K     \u001b[90m━━━━━━━━━━━━━━━━━━━━━━━━━━━━━━━━━━━━━━━━\u001b[0m \u001b[32m21.9/21.9 MB\u001b[0m \u001b[31m12.8 MB/s\u001b[0m eta \u001b[36m0:00:00\u001b[0ma \u001b[36m0:00:01\u001b[0m\n",
      "\u001b[?25h  Installing build dependencies ... \u001b[?25ldone\n",
      "\u001b[?25h  Getting requirements to build wheel ... \u001b[?25ldone\n",
      "\u001b[?25h  Installing backend dependencies ... \u001b[?25ldone\n",
      "\u001b[?25h  Preparing metadata (pyproject.toml) ... \u001b[?25ldone\n",
      "\u001b[?25hRequirement already satisfied: numpy>=1.14.3 in /home/outisli/miniconda3/envs/dpmd_conda/lib/python3.12/site-packages (from dpdata) (2.1.2)\n",
      "Collecting monty (from dpdata)\n",
      "  Downloading https://mirrors.aliyun.com/pypi/packages/eb/df/b3a36544734be3ac0eacf11bcfb8609464dd07d8bad0dff6e46109c68002/monty-2025.3.3-py3-none-any.whl (51 kB)\n",
      "Requirement already satisfied: scipy in /home/outisli/miniconda3/envs/dpmd_conda/lib/python3.12/site-packages (from dpdata) (1.15.3)\n",
      "Requirement already satisfied: h5py in /home/outisli/miniconda3/envs/dpmd_conda/lib/python3.12/site-packages (from dpdata) (3.13.0)\n",
      "Requirement already satisfied: wcmatch in /home/outisli/miniconda3/envs/dpmd_conda/lib/python3.12/site-packages (from dpdata) (10.0)\n",
      "Collecting bibtexparser>=1.4.0 (from pymatgen)\n",
      "  Using cached https://mirrors.aliyun.com/pypi/packages/92/8d/e296c7af03757debd8fc80df2898cbed4fb69fc61ed2c9b4a1d42e923a9e/bibtexparser-1.4.3.tar.gz (55 kB)\n",
      "  Preparing metadata (setup.py) ... \u001b[?25ldone\n",
      "\u001b[?25hCollecting joblib>=1 (from pymatgen)\n",
      "  Downloading https://mirrors.aliyun.com/pypi/packages/7d/4f/1195bbac8e0c2acc5f740661631d8d750dc38d4a32b23ee5df3cde6f4e0d/joblib-1.5.1-py3-none-any.whl (307 kB)\n",
      "Requirement already satisfied: matplotlib>=3.8 in /home/outisli/miniconda3/envs/dpmd_conda/lib/python3.12/site-packages (from pymatgen) (3.10.3)\n",
      "Requirement already satisfied: networkx>=2.7 in /home/outisli/miniconda3/envs/dpmd_conda/lib/python3.12/site-packages (from pymatgen) (3.3)\n",
      "Collecting orjson<4,>=3.10 (from pymatgen)\n",
      "  Downloading https://mirrors.aliyun.com/pypi/packages/27/6f/875e8e282105350b9a5341c0222a13419758545ae32ad6e0fcf5f64d76aa/orjson-3.10.18-cp312-cp312-manylinux_2_17_x86_64.manylinux2014_x86_64.whl (133 kB)\n",
      "Collecting palettable>=3.3.3 (from pymatgen)\n",
      "  Downloading https://mirrors.aliyun.com/pypi/packages/cf/f7/3367feadd4ab56783b0971c9b7edfbdd68e0c70ce877949a5dd2117ed4a0/palettable-3.3.3-py2.py3-none-any.whl (332 kB)\n",
      "Requirement already satisfied: pandas>=2 in /home/outisli/miniconda3/envs/dpmd_conda/lib/python3.12/site-packages (from pymatgen) (2.2.3)\n",
      "Collecting plotly>=5.0.0 (from pymatgen)\n",
      "  Downloading https://mirrors.aliyun.com/pypi/packages/bf/6f/759d5da0517547a5d38aabf05d04d9f8adf83391d2c7fc33f904417d3ba2/plotly-6.1.2-py3-none-any.whl (16.3 MB)\n",
      "\u001b[2K     \u001b[90m━━━━━━━━━━━━━━━━━━━━━━━━━━━━━━━━━━━━━━━━\u001b[0m \u001b[32m16.3/16.3 MB\u001b[0m \u001b[31m12.3 MB/s\u001b[0m eta \u001b[36m0:00:00\u001b[0ma \u001b[36m0:00:01\u001b[0m\n",
      "\u001b[?25hCollecting requests>=2.32 (from pymatgen)\n",
      "  Downloading https://mirrors.aliyun.com/pypi/packages/7c/e4/56027c4a6b4ae70ca9de302488c5ca95ad4a39e190093d6c1a8ace08341b/requests-2.32.4-py3-none-any.whl (64 kB)\n",
      "Collecting ruamel.yaml>=0.17.0 (from pymatgen)\n",
      "  Downloading https://mirrors.aliyun.com/pypi/packages/af/6d/6fe4805235e193aad4aaf979160dd1f3c487c57d48b810c816e6e842171b/ruamel.yaml-0.18.14-py3-none-any.whl (118 kB)\n",
      "Collecting spglib>=2.5 (from pymatgen)\n",
      "  Downloading https://mirrors.aliyun.com/pypi/packages/33/75/98a7eb100dc5cfd20b019046452f08d5e67dfbacc71d8f28763d32426fd3/spglib-2.6.0-cp312-cp312-manylinux_2_17_x86_64.manylinux2014_x86_64.whl (809 kB)\n",
      "\u001b[2K     \u001b[90m━━━━━━━━━━━━━━━━━━━━━━━━━━━━━━━━━━━━━━━\u001b[0m \u001b[32m809.1/809.1 kB\u001b[0m \u001b[31m5.4 MB/s\u001b[0m eta \u001b[36m0:00:00\u001b[0ma \u001b[36m0:00:01\u001b[0m\n",
      "\u001b[?25hRequirement already satisfied: sympy>=1.3 in /home/outisli/miniconda3/envs/dpmd_conda/lib/python3.12/site-packages (from pymatgen) (1.13.3)\n",
      "Collecting tabulate>=0.9 (from pymatgen)\n",
      "  Downloading https://mirrors.aliyun.com/pypi/packages/40/44/4a5f08c96eb108af5cb50b41f76142f0afa346dfa99d5296fe7202a11854/tabulate-0.9.0-py3-none-any.whl (35 kB)\n",
      "Collecting tqdm>=4.60 (from pymatgen)\n",
      "  Downloading https://mirrors.aliyun.com/pypi/packages/d0/30/dc54f88dd4a2b5dc8a0279bdd7270e735851848b762aeb1c1184ed1f6b14/tqdm-4.67.1-py3-none-any.whl (78 kB)\n",
      "Collecting uncertainties>=3.1.4 (from pymatgen)\n",
      "  Downloading https://mirrors.aliyun.com/pypi/packages/8f/5e/f1e1dd319e35e962a4e00b33150a8868b6329cc1d19fd533436ba5488f09/uncertainties-3.2.3-py3-none-any.whl (60 kB)\n",
      "Collecting ipywidgets>=8 (from nglview)\n",
      "  Downloading https://mirrors.aliyun.com/pypi/packages/58/6a/9166369a2f092bd286d24e6307de555d63616e8ddb373ebad2b5635ca4cd/ipywidgets-8.1.7-py3-none-any.whl (139 kB)\n",
      "Collecting notebook>=7 (from nglview)\n",
      "  Downloading https://mirrors.aliyun.com/pypi/packages/76/1b/16c809d799e3ddd7a97c8b43734f79624b74ddef9707e7d92275a13777bc/notebook-7.4.3-py3-none-any.whl (14.3 MB)\n",
      "\u001b[2K     \u001b[90m━━━━━━━━━━━━━━━━━━━━━━━━━━━━━━━━━━━━━━━━\u001b[0m \u001b[32m14.3/14.3 MB\u001b[0m \u001b[31m13.1 MB/s\u001b[0m eta \u001b[36m0:00:00\u001b[0ma \u001b[36m0:00:01\u001b[0m\n",
      "\u001b[?25hCollecting jupyterlab>=3 (from nglview)\n",
      "  Downloading https://mirrors.aliyun.com/pypi/packages/c6/4d/7dd5c2ffbb960930452a031dc8410746183c924580f2ab4e68ceb5b3043f/jupyterlab-4.4.3-py3-none-any.whl (12.3 MB)\n",
      "\u001b[2K     \u001b[90m━━━━━━━━━━━━━━━━━━━━━━━━━━━━━━━━━━━━━━━━\u001b[0m \u001b[32m12.3/12.3 MB\u001b[0m \u001b[31m13.1 MB/s\u001b[0m eta \u001b[36m0:00:00\u001b[0m00:01\u001b[0m0:01\u001b[0m\n",
      "\u001b[?25hCollecting jupyterlab_widgets (from nglview)\n",
      "  Downloading https://mirrors.aliyun.com/pypi/packages/43/6a/ca128561b22b60bd5a0c4ea26649e68c8556b82bc70a0c396eebc977fe86/jupyterlab_widgets-3.0.15-py3-none-any.whl (216 kB)\n",
      "Requirement already satisfied: pyparsing>=2.0.3 in /home/outisli/miniconda3/envs/dpmd_conda/lib/python3.12/site-packages (from bibtexparser>=1.4.0->pymatgen) (3.2.3)\n",
      "Requirement already satisfied: comm>=0.1.3 in /home/outisli/miniconda3/envs/dpmd_conda/lib/python3.12/site-packages (from ipywidgets>=8->nglview) (0.2.2)\n",
      "Requirement already satisfied: ipython>=6.1.0 in /home/outisli/miniconda3/envs/dpmd_conda/lib/python3.12/site-packages (from ipywidgets>=8->nglview) (9.3.0)\n",
      "Requirement already satisfied: traitlets>=4.3.1 in /home/outisli/miniconda3/envs/dpmd_conda/lib/python3.12/site-packages (from ipywidgets>=8->nglview) (5.14.3)\n",
      "Collecting widgetsnbextension~=4.0.14 (from ipywidgets>=8->nglview)\n",
      "  Downloading https://mirrors.aliyun.com/pypi/packages/ca/51/5447876806d1088a0f8f71e16542bf350918128d0a69437df26047c8e46f/widgetsnbextension-4.0.14-py3-none-any.whl (2.2 MB)\n",
      "\u001b[2K     \u001b[90m━━━━━━━━━━━━━━━━━━━━━━━━━━━━━━━━━━━━━━━━\u001b[0m \u001b[32m2.2/2.2 MB\u001b[0m \u001b[31m12.2 MB/s\u001b[0m eta \u001b[36m0:00:00\u001b[0m\n",
      "\u001b[?25hRequirement already satisfied: decorator in /home/outisli/miniconda3/envs/dpmd_conda/lib/python3.12/site-packages (from ipython>=6.1.0->ipywidgets>=8->nglview) (5.2.1)\n",
      "Requirement already satisfied: ipython-pygments-lexers in /home/outisli/miniconda3/envs/dpmd_conda/lib/python3.12/site-packages (from ipython>=6.1.0->ipywidgets>=8->nglview) (1.1.1)\n",
      "Requirement already satisfied: jedi>=0.16 in /home/outisli/miniconda3/envs/dpmd_conda/lib/python3.12/site-packages (from ipython>=6.1.0->ipywidgets>=8->nglview) (0.19.2)\n",
      "Requirement already satisfied: matplotlib-inline in /home/outisli/miniconda3/envs/dpmd_conda/lib/python3.12/site-packages (from ipython>=6.1.0->ipywidgets>=8->nglview) (0.1.7)\n",
      "Requirement already satisfied: pexpect>4.3 in /home/outisli/miniconda3/envs/dpmd_conda/lib/python3.12/site-packages (from ipython>=6.1.0->ipywidgets>=8->nglview) (4.9.0)\n",
      "Requirement already satisfied: prompt_toolkit<3.1.0,>=3.0.41 in /home/outisli/miniconda3/envs/dpmd_conda/lib/python3.12/site-packages (from ipython>=6.1.0->ipywidgets>=8->nglview) (3.0.51)\n",
      "Requirement already satisfied: pygments>=2.4.0 in /home/outisli/miniconda3/envs/dpmd_conda/lib/python3.12/site-packages (from ipython>=6.1.0->ipywidgets>=8->nglview) (2.19.1)\n",
      "Requirement already satisfied: stack_data in /home/outisli/miniconda3/envs/dpmd_conda/lib/python3.12/site-packages (from ipython>=6.1.0->ipywidgets>=8->nglview) (0.6.3)\n",
      "Requirement already satisfied: wcwidth in /home/outisli/miniconda3/envs/dpmd_conda/lib/python3.12/site-packages (from prompt_toolkit<3.1.0,>=3.0.41->ipython>=6.1.0->ipywidgets>=8->nglview) (0.2.13)\n",
      "Requirement already satisfied: parso<0.9.0,>=0.8.4 in /home/outisli/miniconda3/envs/dpmd_conda/lib/python3.12/site-packages (from jedi>=0.16->ipython>=6.1.0->ipywidgets>=8->nglview) (0.8.4)\n",
      "Collecting async-lru>=1.0.0 (from jupyterlab>=3->nglview)\n",
      "  Downloading https://mirrors.aliyun.com/pypi/packages/03/49/d10027df9fce941cb8184e78a02857af36360d33e1721df81c5ed2179a1a/async_lru-2.0.5-py3-none-any.whl (6.1 kB)\n",
      "Collecting httpx>=0.25.0 (from jupyterlab>=3->nglview)\n",
      "  Downloading https://mirrors.aliyun.com/pypi/packages/2a/39/e50c7c3a983047577ee07d2a9e53faf5a69493943ec3f6a384bdc792deb2/httpx-0.28.1-py3-none-any.whl (73 kB)\n",
      "Requirement already satisfied: ipykernel>=6.5.0 in /home/outisli/miniconda3/envs/dpmd_conda/lib/python3.12/site-packages (from jupyterlab>=3->nglview) (6.29.5)\n",
      "Requirement already satisfied: jinja2>=3.0.3 in /home/outisli/miniconda3/envs/dpmd_conda/lib/python3.12/site-packages (from jupyterlab>=3->nglview) (3.1.4)\n",
      "Requirement already satisfied: jupyter-core in /home/outisli/miniconda3/envs/dpmd_conda/lib/python3.12/site-packages (from jupyterlab>=3->nglview) (5.8.1)\n",
      "Collecting jupyter-lsp>=2.0.0 (from jupyterlab>=3->nglview)\n",
      "  Downloading https://mirrors.aliyun.com/pypi/packages/07/e0/7bd7cff65594fd9936e2f9385701e44574fc7d721331ff676ce440b14100/jupyter_lsp-2.2.5-py3-none-any.whl (69 kB)\n",
      "Collecting jupyter-server<3,>=2.4.0 (from jupyterlab>=3->nglview)\n",
      "  Downloading https://mirrors.aliyun.com/pypi/packages/46/1f/5ebbced977171d09a7b0c08a285ff9a20aafb9c51bde07e52349ff1ddd71/jupyter_server-2.16.0-py3-none-any.whl (386 kB)\n",
      "Collecting jupyterlab-server<3,>=2.27.1 (from jupyterlab>=3->nglview)\n",
      "  Downloading https://mirrors.aliyun.com/pypi/packages/54/09/2032e7d15c544a0e3cd831c51d77a8ca57f7555b2e1b2922142eddb02a84/jupyterlab_server-2.27.3-py3-none-any.whl (59 kB)\n",
      "Collecting notebook-shim>=0.2 (from jupyterlab>=3->nglview)\n",
      "  Downloading https://mirrors.aliyun.com/pypi/packages/f9/33/bd5b9137445ea4b680023eb0469b2bb969d61303dedb2aac6560ff3d14a1/notebook_shim-0.2.4-py3-none-any.whl (13 kB)\n",
      "Requirement already satisfied: packaging in /home/outisli/miniconda3/envs/dpmd_conda/lib/python3.12/site-packages (from jupyterlab>=3->nglview) (25.0)\n",
      "Requirement already satisfied: setuptools>=41.1.0 in /home/outisli/miniconda3/envs/dpmd_conda/lib/python3.12/site-packages (from jupyterlab>=3->nglview) (78.1.1)\n",
      "Requirement already satisfied: tornado>=6.2.0 in /home/outisli/miniconda3/envs/dpmd_conda/lib/python3.12/site-packages (from jupyterlab>=3->nglview) (6.5.1)\n",
      "Collecting anyio>=3.1.0 (from jupyter-server<3,>=2.4.0->jupyterlab>=3->nglview)\n",
      "  Downloading https://mirrors.aliyun.com/pypi/packages/a1/ee/48ca1a7c89ffec8b6a0c5d02b89c305671d5ffd8d3c94acf8b8c408575bb/anyio-4.9.0-py3-none-any.whl (100 kB)\n",
      "Collecting argon2-cffi>=21.1 (from jupyter-server<3,>=2.4.0->jupyterlab>=3->nglview)\n",
      "  Downloading https://mirrors.aliyun.com/pypi/packages/4f/d3/a8b22fa575b297cd6e3e3b0155c7e25db170edf1c74783d6a31a2490b8d9/argon2_cffi-25.1.0-py3-none-any.whl (14 kB)\n",
      "Requirement already satisfied: jupyter-client>=7.4.4 in /home/outisli/miniconda3/envs/dpmd_conda/lib/python3.12/site-packages (from jupyter-server<3,>=2.4.0->jupyterlab>=3->nglview) (8.6.3)\n",
      "Collecting jupyter-events>=0.11.0 (from jupyter-server<3,>=2.4.0->jupyterlab>=3->nglview)\n",
      "  Downloading https://mirrors.aliyun.com/pypi/packages/e2/48/577993f1f99c552f18a0428731a755e06171f9902fa118c379eb7c04ea22/jupyter_events-0.12.0-py3-none-any.whl (19 kB)\n",
      "Collecting jupyter-server-terminals>=0.4.4 (from jupyter-server<3,>=2.4.0->jupyterlab>=3->nglview)\n",
      "  Downloading https://mirrors.aliyun.com/pypi/packages/07/2d/2b32cdbe8d2a602f697a649798554e4f072115438e92249624e532e8aca6/jupyter_server_terminals-0.5.3-py3-none-any.whl (13 kB)\n",
      "Collecting nbconvert>=6.4.4 (from jupyter-server<3,>=2.4.0->jupyterlab>=3->nglview)\n",
      "  Downloading https://mirrors.aliyun.com/pypi/packages/cc/9a/cd673b2f773a12c992f41309ef81b99da1690426bd2f96957a7ade0d3ed7/nbconvert-7.16.6-py3-none-any.whl (258 kB)\n",
      "Collecting nbformat>=5.3.0 (from jupyter-server<3,>=2.4.0->jupyterlab>=3->nglview)\n",
      "  Downloading https://mirrors.aliyun.com/pypi/packages/a9/82/0340caa499416c78e5d8f5f05947ae4bc3cba53c9f038ab6e9ed964e22f1/nbformat-5.10.4-py3-none-any.whl (78 kB)\n",
      "Collecting overrides>=5.0 (from jupyter-server<3,>=2.4.0->jupyterlab>=3->nglview)\n",
      "  Downloading https://mirrors.aliyun.com/pypi/packages/2c/ab/fc8290c6a4c722e5514d80f62b2dc4c4df1a68a41d1364e625c35990fcf3/overrides-7.7.0-py3-none-any.whl (17 kB)\n",
      "Collecting prometheus-client>=0.9 (from jupyter-server<3,>=2.4.0->jupyterlab>=3->nglview)\n",
      "  Downloading https://mirrors.aliyun.com/pypi/packages/32/ae/ec06af4fe3ee72d16973474f122541746196aaa16cea6f66d18b963c6177/prometheus_client-0.22.1-py3-none-any.whl (58 kB)\n",
      "Requirement already satisfied: pyzmq>=24 in /home/outisli/miniconda3/envs/dpmd_conda/lib/python3.12/site-packages (from jupyter-server<3,>=2.4.0->jupyterlab>=3->nglview) (27.0.0)\n",
      "Collecting send2trash>=1.8.2 (from jupyter-server<3,>=2.4.0->jupyterlab>=3->nglview)\n",
      "  Downloading https://mirrors.aliyun.com/pypi/packages/40/b0/4562db6223154aa4e22f939003cb92514c79f3d4dccca3444253fd17f902/Send2Trash-1.8.3-py3-none-any.whl (18 kB)\n",
      "Collecting terminado>=0.8.3 (from jupyter-server<3,>=2.4.0->jupyterlab>=3->nglview)\n",
      "  Downloading https://mirrors.aliyun.com/pypi/packages/6a/9e/2064975477fdc887e47ad42157e214526dcad8f317a948dee17e1659a62f/terminado-0.18.1-py3-none-any.whl (14 kB)\n",
      "Collecting websocket-client>=1.7 (from jupyter-server<3,>=2.4.0->jupyterlab>=3->nglview)\n",
      "  Downloading https://mirrors.aliyun.com/pypi/packages/5a/84/44687a29792a70e111c5c477230a72c4b957d88d16141199bf9acb7537a3/websocket_client-1.8.0-py3-none-any.whl (58 kB)\n",
      "Collecting babel>=2.10 (from jupyterlab-server<3,>=2.27.1->jupyterlab>=3->nglview)\n",
      "  Downloading https://mirrors.aliyun.com/pypi/packages/b7/b8/3fe70c75fe32afc4bb507f75563d39bc5642255d1d94f1f23604725780bf/babel-2.17.0-py3-none-any.whl (10.2 MB)\n",
      "\u001b[2K     \u001b[90m━━━━━━━━━━━━━━━━━━━━━━━━━━━━━━━━━━━━━━━━\u001b[0m \u001b[32m10.2/10.2 MB\u001b[0m \u001b[31m14.3 MB/s\u001b[0m eta \u001b[36m0:00:00\u001b[0m \u001b[36m0:00:01\u001b[0m\n",
      "\u001b[?25hCollecting json5>=0.9.0 (from jupyterlab-server<3,>=2.27.1->jupyterlab>=3->nglview)\n",
      "  Downloading https://mirrors.aliyun.com/pypi/packages/41/9f/3500910d5a98549e3098807493851eeef2b89cdd3032227558a104dfe926/json5-0.12.0-py3-none-any.whl (36 kB)\n",
      "Collecting jsonschema>=4.18.0 (from jupyterlab-server<3,>=2.27.1->jupyterlab>=3->nglview)\n",
      "  Downloading https://mirrors.aliyun.com/pypi/packages/a2/3d/023389198f69c722d039351050738d6755376c8fd343e91dc493ea485905/jsonschema-4.24.0-py3-none-any.whl (88 kB)\n",
      "Collecting idna>=2.8 (from anyio>=3.1.0->jupyter-server<3,>=2.4.0->jupyterlab>=3->nglview)\n",
      "  Downloading https://mirrors.aliyun.com/pypi/packages/76/c6/c88e154df9c4e1a2a66ccf0005a88dfb2650c1dffb6f5ce603dfbd452ce3/idna-3.10-py3-none-any.whl (70 kB)\n",
      "Collecting sniffio>=1.1 (from anyio>=3.1.0->jupyter-server<3,>=2.4.0->jupyterlab>=3->nglview)\n",
      "  Downloading https://mirrors.aliyun.com/pypi/packages/e9/44/75a9c9421471a6c4805dbf2356f7c181a29c1879239abab1ea2cc8f38b40/sniffio-1.3.1-py3-none-any.whl (10 kB)\n",
      "Requirement already satisfied: typing_extensions>=4.5 in /home/outisli/miniconda3/envs/dpmd_conda/lib/python3.12/site-packages (from anyio>=3.1.0->jupyter-server<3,>=2.4.0->jupyterlab>=3->nglview) (4.12.2)\n",
      "Collecting argon2-cffi-bindings (from argon2-cffi>=21.1->jupyter-server<3,>=2.4.0->jupyterlab>=3->nglview)\n",
      "  Downloading https://mirrors.aliyun.com/pypi/packages/ec/f7/378254e6dd7ae6f31fe40c8649eea7d4832a42243acaf0f1fff9083b2bed/argon2_cffi_bindings-21.2.0-cp36-abi3-manylinux_2_17_x86_64.manylinux2014_x86_64.whl (86 kB)\n",
      "Collecting certifi (from httpx>=0.25.0->jupyterlab>=3->nglview)\n",
      "  Downloading https://mirrors.aliyun.com/pypi/packages/84/ae/320161bd181fc06471eed047ecce67b693fd7515b16d495d8932db763426/certifi-2025.6.15-py3-none-any.whl (157 kB)\n",
      "Collecting httpcore==1.* (from httpx>=0.25.0->jupyterlab>=3->nglview)\n",
      "  Downloading https://mirrors.aliyun.com/pypi/packages/7e/f5/f66802a942d491edb555dd61e3a9961140fd64c90bce1eafd741609d334d/httpcore-1.0.9-py3-none-any.whl (78 kB)\n",
      "Collecting h11>=0.16 (from httpcore==1.*->httpx>=0.25.0->jupyterlab>=3->nglview)\n",
      "  Downloading https://mirrors.aliyun.com/pypi/packages/04/4b/29cac41a4d98d144bf5f6d33995617b185d14b22401f75ca86f384e87ff1/h11-0.16.0-py3-none-any.whl (37 kB)\n",
      "Requirement already satisfied: debugpy>=1.6.5 in /home/outisli/miniconda3/envs/dpmd_conda/lib/python3.12/site-packages (from ipykernel>=6.5.0->jupyterlab>=3->nglview) (1.8.14)\n",
      "Requirement already satisfied: nest-asyncio in /home/outisli/miniconda3/envs/dpmd_conda/lib/python3.12/site-packages (from ipykernel>=6.5.0->jupyterlab>=3->nglview) (1.6.0)\n",
      "Requirement already satisfied: psutil in /home/outisli/miniconda3/envs/dpmd_conda/lib/python3.12/site-packages (from ipykernel>=6.5.0->jupyterlab>=3->nglview) (7.0.0)\n",
      "Requirement already satisfied: MarkupSafe>=2.0 in /home/outisli/miniconda3/envs/dpmd_conda/lib/python3.12/site-packages (from jinja2>=3.0.3->jupyterlab>=3->nglview) (2.1.5)\n",
      "Collecting attrs>=22.2.0 (from jsonschema>=4.18.0->jupyterlab-server<3,>=2.27.1->jupyterlab>=3->nglview)\n",
      "  Downloading https://mirrors.aliyun.com/pypi/packages/77/06/bb80f5f86020c4551da315d78b3ab75e8228f89f0162f2c3a819e407941a/attrs-25.3.0-py3-none-any.whl (63 kB)\n",
      "Collecting jsonschema-specifications>=2023.03.6 (from jsonschema>=4.18.0->jupyterlab-server<3,>=2.27.1->jupyterlab>=3->nglview)\n",
      "  Downloading https://mirrors.aliyun.com/pypi/packages/01/0e/b27cdbaccf30b890c40ed1da9fd4a3593a5cf94dae54fb34f8a4b74fcd3f/jsonschema_specifications-2025.4.1-py3-none-any.whl (18 kB)\n",
      "Collecting referencing>=0.28.4 (from jsonschema>=4.18.0->jupyterlab-server<3,>=2.27.1->jupyterlab>=3->nglview)\n",
      "  Downloading https://mirrors.aliyun.com/pypi/packages/c1/b1/3baf80dc6d2b7bc27a95a67752d0208e410351e3feb4eb78de5f77454d8d/referencing-0.36.2-py3-none-any.whl (26 kB)\n",
      "Collecting rpds-py>=0.7.1 (from jsonschema>=4.18.0->jupyterlab-server<3,>=2.27.1->jupyterlab>=3->nglview)\n",
      "  Downloading https://mirrors.aliyun.com/pypi/packages/7a/95/dd6b91cd4560da41df9d7030a038298a67d24f8ca38e150562644c829c48/rpds_py-0.25.1-cp312-cp312-manylinux_2_17_x86_64.manylinux2014_x86_64.whl (390 kB)\n",
      "Requirement already satisfied: python-dateutil>=2.8.2 in /home/outisli/miniconda3/envs/dpmd_conda/lib/python3.12/site-packages (from jupyter-client>=7.4.4->jupyter-server<3,>=2.4.0->jupyterlab>=3->nglview) (2.9.0.post0)\n",
      "Requirement already satisfied: platformdirs>=2.5 in /home/outisli/miniconda3/envs/dpmd_conda/lib/python3.12/site-packages (from jupyter-core->jupyterlab>=3->nglview) (4.3.8)\n",
      "Collecting python-json-logger>=2.0.4 (from jupyter-events>=0.11.0->jupyter-server<3,>=2.4.0->jupyterlab>=3->nglview)\n",
      "  Downloading https://mirrors.aliyun.com/pypi/packages/08/20/0f2523b9e50a8052bc6a8b732dfc8568abbdc42010aef03a2d750bdab3b2/python_json_logger-3.3.0-py3-none-any.whl (15 kB)\n",
      "Requirement already satisfied: pyyaml>=5.3 in /home/outisli/miniconda3/envs/dpmd_conda/lib/python3.12/site-packages (from jupyter-events>=0.11.0->jupyter-server<3,>=2.4.0->jupyterlab>=3->nglview) (6.0.2)\n",
      "Collecting rfc3339-validator (from jupyter-events>=0.11.0->jupyter-server<3,>=2.4.0->jupyterlab>=3->nglview)\n",
      "  Downloading https://mirrors.aliyun.com/pypi/packages/7b/44/4e421b96b67b2daff264473f7465db72fbdf36a07e05494f50300cc7b0c6/rfc3339_validator-0.1.4-py2.py3-none-any.whl (3.5 kB)\n",
      "Collecting rfc3986-validator>=0.1.1 (from jupyter-events>=0.11.0->jupyter-server<3,>=2.4.0->jupyterlab>=3->nglview)\n",
      "  Downloading https://mirrors.aliyun.com/pypi/packages/9e/51/17023c0f8f1869d8806b979a2bffa3f861f26a3f1a66b094288323fba52f/rfc3986_validator-0.1.1-py2.py3-none-any.whl (4.2 kB)\n",
      "Collecting fqdn (from jsonschema[format-nongpl]>=4.18.0->jupyter-events>=0.11.0->jupyter-server<3,>=2.4.0->jupyterlab>=3->nglview)\n",
      "  Downloading https://mirrors.aliyun.com/pypi/packages/cf/58/8acf1b3e91c58313ce5cb67df61001fc9dcd21be4fadb76c1a2d540e09ed/fqdn-1.5.1-py3-none-any.whl (9.1 kB)\n",
      "Collecting isoduration (from jsonschema[format-nongpl]>=4.18.0->jupyter-events>=0.11.0->jupyter-server<3,>=2.4.0->jupyterlab>=3->nglview)\n",
      "  Downloading https://mirrors.aliyun.com/pypi/packages/7b/55/e5326141505c5d5e34c5e0935d2908a74e4561eca44108fbfb9c13d2911a/isoduration-20.11.0-py3-none-any.whl (11 kB)\n",
      "Collecting jsonpointer>1.13 (from jsonschema[format-nongpl]>=4.18.0->jupyter-events>=0.11.0->jupyter-server<3,>=2.4.0->jupyterlab>=3->nglview)\n",
      "  Downloading https://mirrors.aliyun.com/pypi/packages/71/92/5e77f98553e9e75130c78900d000368476aed74276eb8ae8796f65f00918/jsonpointer-3.0.0-py2.py3-none-any.whl (7.6 kB)\n",
      "Collecting uri-template (from jsonschema[format-nongpl]>=4.18.0->jupyter-events>=0.11.0->jupyter-server<3,>=2.4.0->jupyterlab>=3->nglview)\n",
      "  Downloading https://mirrors.aliyun.com/pypi/packages/e7/00/3fca040d7cf8a32776d3d81a00c8ee7457e00f80c649f1e4a863c8321ae9/uri_template-1.3.0-py3-none-any.whl (11 kB)\n",
      "Collecting webcolors>=24.6.0 (from jsonschema[format-nongpl]>=4.18.0->jupyter-events>=0.11.0->jupyter-server<3,>=2.4.0->jupyterlab>=3->nglview)\n",
      "  Downloading https://mirrors.aliyun.com/pypi/packages/60/e8/c0e05e4684d13459f93d312077a9a2efbe04d59c393bc2b8802248c908d4/webcolors-24.11.1-py3-none-any.whl (14 kB)\n",
      "Requirement already satisfied: contourpy>=1.0.1 in /home/outisli/miniconda3/envs/dpmd_conda/lib/python3.12/site-packages (from matplotlib>=3.8->pymatgen) (1.3.2)\n",
      "Requirement already satisfied: cycler>=0.10 in /home/outisli/miniconda3/envs/dpmd_conda/lib/python3.12/site-packages (from matplotlib>=3.8->pymatgen) (0.12.1)\n",
      "Requirement already satisfied: fonttools>=4.22.0 in /home/outisli/miniconda3/envs/dpmd_conda/lib/python3.12/site-packages (from matplotlib>=3.8->pymatgen) (4.58.4)\n",
      "Requirement already satisfied: kiwisolver>=1.3.1 in /home/outisli/miniconda3/envs/dpmd_conda/lib/python3.12/site-packages (from matplotlib>=3.8->pymatgen) (1.4.8)\n",
      "Requirement already satisfied: pillow>=8 in /home/outisli/miniconda3/envs/dpmd_conda/lib/python3.12/site-packages (from matplotlib>=3.8->pymatgen) (11.0.0)\n",
      "Collecting beautifulsoup4 (from nbconvert>=6.4.4->jupyter-server<3,>=2.4.0->jupyterlab>=3->nglview)\n",
      "  Downloading https://mirrors.aliyun.com/pypi/packages/50/cd/30110dc0ffcf3b131156077b90e9f60ed75711223f306da4db08eff8403b/beautifulsoup4-4.13.4-py3-none-any.whl (187 kB)\n",
      "Collecting bleach!=5.0.0 (from bleach[css]!=5.0.0->nbconvert>=6.4.4->jupyter-server<3,>=2.4.0->jupyterlab>=3->nglview)\n",
      "  Downloading https://mirrors.aliyun.com/pypi/packages/fc/55/96142937f66150805c25c4d0f31ee4132fd33497753400734f9dfdcbdc66/bleach-6.2.0-py3-none-any.whl (163 kB)\n",
      "Collecting defusedxml (from nbconvert>=6.4.4->jupyter-server<3,>=2.4.0->jupyterlab>=3->nglview)\n",
      "  Downloading https://mirrors.aliyun.com/pypi/packages/07/6c/aa3f2f849e01cb6a001cd8554a88d4c77c5c1a31c95bdf1cf9301e6d9ef4/defusedxml-0.7.1-py2.py3-none-any.whl (25 kB)\n",
      "Collecting jupyterlab-pygments (from nbconvert>=6.4.4->jupyter-server<3,>=2.4.0->jupyterlab>=3->nglview)\n",
      "  Downloading https://mirrors.aliyun.com/pypi/packages/b1/dd/ead9d8ea85bf202d90cc513b533f9c363121c7792674f78e0d8a854b63b4/jupyterlab_pygments-0.3.0-py3-none-any.whl (15 kB)\n",
      "Collecting mistune<4,>=2.0.3 (from nbconvert>=6.4.4->jupyter-server<3,>=2.4.0->jupyterlab>=3->nglview)\n",
      "  Downloading https://mirrors.aliyun.com/pypi/packages/01/4d/23c4e4f09da849e127e9f123241946c23c1e30f45a88366879e064211815/mistune-3.1.3-py3-none-any.whl (53 kB)\n",
      "Collecting nbclient>=0.5.0 (from nbconvert>=6.4.4->jupyter-server<3,>=2.4.0->jupyterlab>=3->nglview)\n",
      "  Downloading https://mirrors.aliyun.com/pypi/packages/34/6d/e7fa07f03a4a7b221d94b4d586edb754a9b0dc3c9e2c93353e9fa4e0d117/nbclient-0.10.2-py3-none-any.whl (25 kB)\n",
      "Collecting pandocfilters>=1.4.1 (from nbconvert>=6.4.4->jupyter-server<3,>=2.4.0->jupyterlab>=3->nglview)\n",
      "  Downloading https://mirrors.aliyun.com/pypi/packages/ef/af/4fbc8cab944db5d21b7e2a5b8e9211a03a79852b1157e2c102fcc61ac440/pandocfilters-1.5.1-py2.py3-none-any.whl (8.7 kB)\n",
      "Collecting webencodings (from bleach!=5.0.0->bleach[css]!=5.0.0->nbconvert>=6.4.4->jupyter-server<3,>=2.4.0->jupyterlab>=3->nglview)\n",
      "  Downloading https://mirrors.aliyun.com/pypi/packages/f4/24/2a3e3df732393fed8b3ebf2ec078f05546de641fe1b667ee316ec1dcf3b7/webencodings-0.5.1-py2.py3-none-any.whl (11 kB)\n",
      "Collecting tinycss2<1.5,>=1.1.0 (from bleach[css]!=5.0.0->nbconvert>=6.4.4->jupyter-server<3,>=2.4.0->jupyterlab>=3->nglview)\n",
      "  Downloading https://mirrors.aliyun.com/pypi/packages/e6/34/ebdc18bae6aa14fbee1a08b63c015c72b64868ff7dae68808ab500c492e2/tinycss2-1.4.0-py3-none-any.whl (26 kB)\n",
      "Collecting fastjsonschema>=2.15 (from nbformat>=5.3.0->jupyter-server<3,>=2.4.0->jupyterlab>=3->nglview)\n",
      "  Downloading https://mirrors.aliyun.com/pypi/packages/90/2b/0817a2b257fe88725c25589d89aec060581aabf668707a8d03b2e9e0cb2a/fastjsonschema-2.21.1-py3-none-any.whl (23 kB)\n",
      "Requirement already satisfied: pytz>=2020.1 in /home/outisli/miniconda3/envs/dpmd_conda/lib/python3.12/site-packages (from pandas>=2->pymatgen) (2025.2)\n",
      "Requirement already satisfied: tzdata>=2022.7 in /home/outisli/miniconda3/envs/dpmd_conda/lib/python3.12/site-packages (from pandas>=2->pymatgen) (2025.2)\n",
      "Requirement already satisfied: ptyprocess>=0.5 in /home/outisli/miniconda3/envs/dpmd_conda/lib/python3.12/site-packages (from pexpect>4.3->ipython>=6.1.0->ipywidgets>=8->nglview) (0.7.0)\n",
      "Collecting narwhals>=1.15.1 (from plotly>=5.0.0->pymatgen)\n",
      "  Downloading https://mirrors.aliyun.com/pypi/packages/1e/8d/07b892f237491e03328de4c69c17ed8b99a5b6faf84575ca06b15cbf2674/narwhals-1.43.0-py3-none-any.whl (362 kB)\n",
      "Requirement already satisfied: six>=1.5 in /home/outisli/miniconda3/envs/dpmd_conda/lib/python3.12/site-packages (from python-dateutil>=2.8.2->jupyter-client>=7.4.4->jupyter-server<3,>=2.4.0->jupyterlab>=3->nglview) (1.17.0)\n",
      "Collecting charset_normalizer<4,>=2 (from requests>=2.32->pymatgen)\n",
      "  Downloading https://mirrors.aliyun.com/pypi/packages/8c/73/6ede2ec59bce19b3edf4209d70004253ec5f4e319f9a2e3f2f15601ed5f7/charset_normalizer-3.4.2-cp312-cp312-manylinux_2_17_x86_64.manylinux2014_x86_64.whl (148 kB)\n",
      "Collecting urllib3<3,>=1.21.1 (from requests>=2.32->pymatgen)\n",
      "  Downloading https://mirrors.aliyun.com/pypi/packages/6b/11/cc635220681e93a0183390e26485430ca2c7b5f9d33b15c74c2861cb8091/urllib3-2.4.0-py3-none-any.whl (128 kB)\n",
      "Collecting ruamel.yaml.clib>=0.2.7 (from ruamel.yaml>=0.17.0->pymatgen)\n",
      "  Downloading https://mirrors.aliyun.com/pypi/packages/44/d0/3f68a86e006448fb6c005aee66565b9eb89014a70c491d70c08de597f8e4/ruamel.yaml.clib-0.2.12-cp312-cp312-manylinux_2_17_x86_64.manylinux2014_x86_64.whl (754 kB)\n",
      "\u001b[2K     \u001b[90m━━━━━━━━━━━━━━━━━━━━━━━━━━━━━━━━━━━━━━\u001b[0m \u001b[32m754.1/754.1 kB\u001b[0m \u001b[31m13.2 MB/s\u001b[0m eta \u001b[36m0:00:00\u001b[0m\n",
      "\u001b[?25hRequirement already satisfied: mpmath<1.4,>=1.1.0 in /home/outisli/miniconda3/envs/dpmd_conda/lib/python3.12/site-packages (from sympy>=1.3->pymatgen) (1.3.0)\n",
      "Collecting cffi>=1.0.1 (from argon2-cffi-bindings->argon2-cffi>=21.1->jupyter-server<3,>=2.4.0->jupyterlab>=3->nglview)\n",
      "  Downloading https://mirrors.aliyun.com/pypi/packages/b2/d5/da47df7004cb17e4955df6a43d14b3b4ae77737dff8bf7f8f333196717bf/cffi-1.17.1-cp312-cp312-manylinux_2_17_x86_64.manylinux2014_x86_64.whl (479 kB)\n",
      "Collecting pycparser (from cffi>=1.0.1->argon2-cffi-bindings->argon2-cffi>=21.1->jupyter-server<3,>=2.4.0->jupyterlab>=3->nglview)\n",
      "  Downloading https://mirrors.aliyun.com/pypi/packages/13/a3/a812df4e2dd5696d1f351d58b8fe16a405b234ad2886a0dab9183fb78109/pycparser-2.22-py3-none-any.whl (117 kB)\n",
      "Collecting soupsieve>1.2 (from beautifulsoup4->nbconvert>=6.4.4->jupyter-server<3,>=2.4.0->jupyterlab>=3->nglview)\n",
      "  Downloading https://mirrors.aliyun.com/pypi/packages/e7/9c/0e6afc12c269578be5c0c1c9f4b49a8d32770a080260c333ac04cc1c832d/soupsieve-2.7-py3-none-any.whl (36 kB)\n",
      "Collecting arrow>=0.15.0 (from isoduration->jsonschema[format-nongpl]>=4.18.0->jupyter-events>=0.11.0->jupyter-server<3,>=2.4.0->jupyterlab>=3->nglview)\n",
      "  Downloading https://mirrors.aliyun.com/pypi/packages/f8/ed/e97229a566617f2ae958a6b13e7cc0f585470eac730a73e9e82c32a3cdd2/arrow-1.3.0-py3-none-any.whl (66 kB)\n",
      "Collecting types-python-dateutil>=2.8.10 (from arrow>=0.15.0->isoduration->jsonschema[format-nongpl]>=4.18.0->jupyter-events>=0.11.0->jupyter-server<3,>=2.4.0->jupyterlab>=3->nglview)\n",
      "  Downloading https://mirrors.aliyun.com/pypi/packages/c5/3f/b0e8db149896005adc938a1e7f371d6d7e9eca4053a29b108978ed15e0c2/types_python_dateutil-2.9.0.20250516-py3-none-any.whl (14 kB)\n",
      "Requirement already satisfied: executing>=1.2.0 in /home/outisli/miniconda3/envs/dpmd_conda/lib/python3.12/site-packages (from stack_data->ipython>=6.1.0->ipywidgets>=8->nglview) (2.2.0)\n",
      "Requirement already satisfied: asttokens>=2.1.0 in /home/outisli/miniconda3/envs/dpmd_conda/lib/python3.12/site-packages (from stack_data->ipython>=6.1.0->ipywidgets>=8->nglview) (3.0.0)\n",
      "Requirement already satisfied: pure-eval in /home/outisli/miniconda3/envs/dpmd_conda/lib/python3.12/site-packages (from stack_data->ipython>=6.1.0->ipywidgets>=8->nglview) (0.2.3)\n",
      "Requirement already satisfied: bracex>=2.1.1 in /home/outisli/miniconda3/envs/dpmd_conda/lib/python3.12/site-packages (from wcmatch->dpdata) (2.5.post1)\n",
      "Building wheels for collected packages: nglview, bibtexparser\n",
      "  Building wheel for nglview (pyproject.toml) ... \u001b[?25ldone\n",
      "\u001b[?25h  Created wheel for nglview: filename=nglview-3.1.4-py3-none-any.whl size=6370866 sha256=dd9d9b7ebb50f7543f36c0e8108599dc5d5da93fe57a0f7704382cc8cbad37c7\n",
      "  Stored in directory: /home/outisli/.cache/pip/wheels/34/00/9d/8bed486d7ba73911e450c2e2a4c0dbfc1063358c4a6977902d\n",
      "\u001b[33m  DEPRECATION: Building 'bibtexparser' using the legacy setup.py bdist_wheel mechanism, which will be removed in a future version. pip 25.3 will enforce this behaviour change. A possible replacement is to use the standardized build interface by setting the `--use-pep517` option, (possibly combined with `--no-build-isolation`), or adding a `pyproject.toml` file to the source tree of 'bibtexparser'. Discussion can be found at https://github.com/pypa/pip/issues/6334\u001b[0m\u001b[33m\n",
      "\u001b[0m  Building wheel for bibtexparser (setup.py) ... \u001b[?25ldone\n",
      "\u001b[?25h  Created wheel for bibtexparser: filename=bibtexparser-1.4.3-py3-none-any.whl size=43628 sha256=663c302c6737512f191151929d9741807cfbcd895053c8b939da4a7d80a39f6a\n",
      "  Stored in directory: /home/outisli/.cache/pip/wheels/33/8f/0a/f32195dc662739dd84287ef71dea5372f5d39b5baef65a6647\n",
      "Successfully built nglview bibtexparser\n",
      "Installing collected packages: webencodings, fastjsonschema, widgetsnbextension, websocket-client, webcolors, urllib3, uri-template, uncertainties, types-python-dateutil, tqdm, tinycss2, terminado, tabulate, spglib, soupsieve, sniffio, send2trash, ruamel.yaml.clib, rpds-py, rfc3986-validator, rfc3339-validator, python-json-logger, pycparser, prometheus-client, pandocfilters, palettable, overrides, orjson, narwhals, mistune, jupyterlab_widgets, jupyterlab-pygments, jsonpointer, json5, joblib, idna, h11, fqdn, defusedxml, charset_normalizer, certifi, bleach, bibtexparser, babel, attrs, async-lru, ruamel.yaml, requests, referencing, plotly, jupyter-server-terminals, httpcore, cffi, beautifulsoup4, arrow, anyio, monty, jsonschema-specifications, isoduration, ipywidgets, httpx, argon2-cffi-bindings, pymatgen, jsonschema, dpdata, argon2-cffi, nbformat, nbclient, jupyter-events, nbconvert, jupyter-server, notebook-shim, jupyterlab-server, jupyter-lsp, jupyterlab, notebook, nglview\n",
      "\u001b[2K   \u001b[90m━━━━━━━━━━━━━━━━━━━━━━━━━━━━━━━━━━━━━━━━\u001b[0m \u001b[32m77/77\u001b[0m [nglview]5/77\u001b[0m [notebook]b]im]]terminals]\n",
      "\u001b[1A\u001b[2KSuccessfully installed anyio-4.9.0 argon2-cffi-25.1.0 argon2-cffi-bindings-21.2.0 arrow-1.3.0 async-lru-2.0.5 attrs-25.3.0 babel-2.17.0 beautifulsoup4-4.13.4 bibtexparser-1.4.3 bleach-6.2.0 certifi-2025.6.15 cffi-1.17.1 charset_normalizer-3.4.2 defusedxml-0.7.1 dpdata-0.2.24 fastjsonschema-2.21.1 fqdn-1.5.1 h11-0.16.0 httpcore-1.0.9 httpx-0.28.1 idna-3.10 ipywidgets-8.1.7 isoduration-20.11.0 joblib-1.5.1 json5-0.12.0 jsonpointer-3.0.0 jsonschema-4.24.0 jsonschema-specifications-2025.4.1 jupyter-events-0.12.0 jupyter-lsp-2.2.5 jupyter-server-2.16.0 jupyter-server-terminals-0.5.3 jupyterlab-4.4.3 jupyterlab-pygments-0.3.0 jupyterlab-server-2.27.3 jupyterlab_widgets-3.0.15 mistune-3.1.3 monty-2025.3.3 narwhals-1.43.0 nbclient-0.10.2 nbconvert-7.16.6 nbformat-5.10.4 nglview-3.1.4 notebook-7.4.3 notebook-shim-0.2.4 orjson-3.10.18 overrides-7.7.0 palettable-3.3.3 pandocfilters-1.5.1 plotly-6.1.2 prometheus-client-0.22.1 pycparser-2.22 pymatgen-2025.6.14 python-json-logger-3.3.0 referencing-0.36.2 requests-2.32.4 rfc3339-validator-0.1.4 rfc3986-validator-0.1.1 rpds-py-0.25.1 ruamel.yaml-0.18.14 ruamel.yaml.clib-0.2.12 send2trash-1.8.3 sniffio-1.3.1 soupsieve-2.7 spglib-2.6.0 tabulate-0.9.0 terminado-0.18.1 tinycss2-1.4.0 tqdm-4.67.1 types-python-dateutil-2.9.0.20250516 uncertainties-3.2.3 uri-template-1.3.0 urllib3-2.4.0 webcolors-24.11.1 webencodings-0.5.1 websocket-client-1.8.0 widgetsnbextension-4.0.14\n"
     ]
    }
   ],
   "source": [
    "# install ase-abacus first\n",
    "! pip install git+https://gitlab.com/1041176461/ase-abacus.git\n",
    "! pip install dpdata pymatgen nglview"
   ]
  },
  {
   "cell_type": "markdown",
   "metadata": {},
   "source": [
    "- 使用 ASE 计算初始（原）晶格常数以及体积"
   ]
  },
  {
   "cell_type": "code",
   "execution_count": null,
   "metadata": {},
   "outputs": [],
   "source": [
    "from ase.io import read\n",
    "from pathlib import Path\n",
    "\n",
    "cs_dir = \"cell-relax\"\n",
    "\n",
    "cs_stru_original = Path(cs_dir, \"STRU\")\n",
    "cs_atoms_original = read(cs_stru_original, format=\"abacus\")\n",
    "\n",
    "lattice_params_original = cs_atoms_original.cell.cellpar()\n",
    "volume_original = cs_atoms_original.cell.volume\n",
    "\n",
    "# format: [len(a), len(b), len(c), angle(b,c), angle(a,c), angle(a,b)]\n",
    "print(\"Original lattice_params: \", lattice_params_original)\n",
    "print(\"Original volume: \", volume_original)"
   ]
  },
  {
   "cell_type": "code",
   "execution_count": null,
   "metadata": {},
   "outputs": [],
   "source": [
    "from ase.io import read\n",
    "from pathlib import Path\n",
    "from ase.visualize import view\n",
    "\n",
    "cs_dir = \"cell-relax\"\n",
    "\n",
    "cs_stru_original = Path(cs_dir, \"STRU\")\n",
    "cs_atoms_original = read(cs_stru_original, format=\"abacus\")\n",
    "view(cs_atoms_original, viewer='ngl')"
   ]
  },
  {
   "cell_type": "markdown",
   "metadata": {},
   "source": [
    "### 2.1 PW"
   ]
  },
  {
   "cell_type": "markdown",
   "metadata": {},
   "source": [
    "- 使用如下命令运行 Abacus 进行松弛"
   ]
  },
  {
   "cell_type": "code",
   "execution_count": null,
   "metadata": {},
   "outputs": [],
   "source": [
    "! cd cell-relax && cp INPUT_pw INPUT && abacus"
   ]
  },
  {
   "cell_type": "markdown",
   "metadata": {},
   "source": [
    "- 使用 ASE 计算晶格常数以及晶胞体积"
   ]
  },
  {
   "cell_type": "code",
   "execution_count": 1,
   "metadata": {},
   "outputs": [
    {
     "name": "stdout",
     "output_type": "stream",
     "text": [
      "Relaxed lattice_params:  [  3.06701676   3.06701676  13.73995012  90.          90.\n",
      " 120.        ]\n",
      "Relaxed volume:  111.93040755994544\n"
     ]
    }
   ],
   "source": [
    "from ase.io import read\n",
    "from pathlib import Path\n",
    "\n",
    "cs_dir = \"cell-relax\"\n",
    "\n",
    "cs_stru_relaxed = Path(cs_dir, \"OUT.ABACUS\", \"STRU_ION_D\")\n",
    "cs_atoms_relaxed = read(cs_stru_relaxed, format=\"abacus\")\n",
    "\n",
    "lattice_params_relaxed = cs_atoms_relaxed.cell.cellpar()\n",
    "volume_relaxed = cs_atoms_relaxed.cell.volume\n",
    "\n",
    "# format: [len(a), len(b), len(c), angle(b,c), angle(a,c), angle(a,b)]\n",
    "print(\"Relaxed lattice_params: \", lattice_params_relaxed)\n",
    "print(\"Relaxed volume: \", volume_relaxed)"
   ]
  },
  {
   "cell_type": "markdown",
   "metadata": {},
   "source": [
    "### 2.2 LCAO"
   ]
  },
  {
   "cell_type": "markdown",
   "metadata": {},
   "source": [
    "- 使用如下命令运行 Abacus 进行松弛"
   ]
  },
  {
   "cell_type": "code",
   "execution_count": null,
   "metadata": {},
   "outputs": [],
   "source": [
    "! cd cell-relax && cp INPUT_lcao INPUT && abacus"
   ]
  },
  {
   "cell_type": "markdown",
   "metadata": {},
   "source": [
    "- 使用 ASE 计算晶格常数以及晶胞体积"
   ]
  },
  {
   "cell_type": "code",
   "execution_count": null,
   "metadata": {},
   "outputs": [],
   "source": [
    "from ase.io import read\n",
    "from pathlib import Path\n",
    "\n",
    "cs_dir = \"cell-relax\"\n",
    "\n",
    "cs_stru_relaxed = Path(cs_dir, \"OUT.ABACUS\", \"STRU_ION_D\")\n",
    "cs_atoms_relaxed = read(cs_stru_relaxed, format=\"abacus\")\n",
    "\n",
    "lattice_params_relaxed = cs_atoms_relaxed.cell.cellpar()\n",
    "volume_relaxed = cs_atoms_relaxed.cell.volume\n",
    "\n",
    "# format: [len(a), len(b), len(c), angle(b,c), angle(a,c), angle(a,b)]\n",
    "print(\"Relaxed lattice_params: \", lattice_params_relaxed)\n",
    "print(\"Relaxed volume: \", volume_relaxed)"
   ]
  },
  {
   "cell_type": "markdown",
   "metadata": {},
   "source": [
    "- 理论计算与实验对比"
   ]
  },
  {
   "cell_type": "markdown",
   "metadata": {},
   "source": [
    "[1] B. Manoun, F. X. Zhang, S. K. Saxena, T. El-Raghy, and M. W. Barsoum, “X-ray high-pressure study of Ti2AlN and Ti2AlC,” Journal of Physics and Chemistry of Solids, vol. 67, no. 9–10, pp. 2091–2094, Sep. 2006, doi: 10.1016/j.jpcs.2006.05.051."
   ]
  },
  {
   "cell_type": "markdown",
   "metadata": {},
   "source": [
    "| 参数 | 文献实验值 | 计算结果 (LCAO) | 相对误差 (LCAO) | 计算结果 (PW) | 相对误差 (PW) |\n",
    "| :--- | :--- | :--- | :--- | :--- | :--- |\n",
    "| **晶格常数 a (Å)** | 3.065 ± 0.004 | 3.068 | +0.10% | 3.067 | +0.07% |\n",
    "| **晶格常数 c (Å)** | 13.71 ± 0.03 | 13.750 | +0.29% | 13.739 | +0.21% |\n",
    "| **晶胞体积 V₀ (Å³)** | 111.6 ± 0.6 | 112.07 | +0.42% | 111.92 | +0.29% |"
   ]
  },
  {
   "cell_type": "markdown",
   "metadata": {},
   "source": [
    "## 3. Elastic Constants"
   ]
  },
  {
   "cell_type": "markdown",
   "metadata": {},
   "source": [
    "### 3.1 Introduction"
   ]
  },
  {
   "cell_type": "markdown",
   "metadata": {},
   "source": [
    "#### 3.1.1. 核心概念：什么是弹性常数？\n",
    "\n",
    "**弹性 (Elasticity)** 是固体材料在外力作用下发生形变，当外力撤去后能恢复其原始形状和尺寸的物理性质。\n",
    "\n",
    "在线弹性范围内，材料的 **应力 (Stress, $\\sigma$)** 与 **应变 (Strain, $\\epsilon$)** 之间遵循胡克定律 (Hooke's Law)，即两者成正比线性关系。\n",
    "\n",
    "* **应力 $\\sigma$**：描述材料内部单位面积上所受的力，反映了内力的强度。单位通常是帕斯卡 (Pa) 或吉帕斯卡 (GPa)。\n",
    "* **应变 $\\epsilon$**：描述材料的相对形变程度，是一个无量纲的量（或表示为百分比）。\n",
    "\n",
    "**弹性常数 (Elastic Constant, $C$)** 正是这个线性关系中的比例系数，它**定量地衡量了材料抵抗弹性形变的能力**。其物理意义可以理解为材料的“刚度”或“硬度”。\n",
    "\n",
    "> **一句话总结：弹性常数越大，使材料发生单位形变所需要的力就越大，材料也就越“硬”。**"
   ]
  },
  {
   "cell_type": "markdown",
   "metadata": {},
   "source": [
    "#### 3.1.2. 弹性常数的表示\n",
    "\n",
    "##### 第一步：理解“阶” (Rank) - 从简单到复杂\n",
    "\n",
    "我们可以把“张量”看作是描述物理量的一种数学工具，它的“阶”决定了它的复杂程度。\n",
    "\n",
    "* **零阶张量 (Scalar)**：就是一个**单独的数**，没有方向。\n",
    "    * **例子**：温度、质量。比如房间温度是 25°C，一个数字就说清楚了。\n",
    "\n",
    "* **一阶张量 (Vector)**：就是一个**矢量**，既有大小又有方向。在三维空间中，我们需要用 **3 个数**来完整描述它。\n",
    "    * **例子**：力、速度。比如一个力 $\\vec{F}$，我们可以分解为它在 x, y, z 三个方向上的分量 $(F_x, F_y, F_z)$。它有一个下标，所以是“一阶”。\n",
    "\n",
    "* **二阶张量 (Matrix)**：你可以把它想象成一个**矩阵**。它描述的是一个方向上的输入和另一个方向上的输出之间的关系。在三维空间中，它是一个 **3x3 的矩阵**，所以有 $3 \\times 3 = 9$ 个分量。\n",
    "    * **例子**：应力 ($\\sigma$) 和应变 ($\\epsilon$)。\n",
    "\n",
    "##### 第二步：为什么应力($\\sigma$)和应变($\\epsilon$)是“二阶”的？\n",
    "\n",
    "让我们以“应力”为例，它比“力”要复杂。\n",
    "\n",
    "想象在材料内部有一个极小的正方体。\n",
    "\n",
    "1.  我们先关注一个面，比如**垂直于 x 轴的面**（我们称之为 x-面）。\n",
    "2.  作用在这个 x-面上的力，本身就是一个矢量，它可以有三个方向的分量：\n",
    "    * 一个**垂直**于该面的力 (正应力)，方向在 x 轴上，记为 $\\sigma_{xx}$。\n",
    "    * 两个**平行**于该面的力 (剪应力)，方向分别在 y 和 z 轴上，记为 $\\sigma_{xy}$ 和 $\\sigma_{xz}$。\n",
    "\n",
    "    你看，为了描述**一个面**上的受力情况，我们就需要 3 个数。\n",
    "\n",
    "3.  现在，这个小方块有 3 个主要的面（x-面, y-面, z-面）。每个面都需要 3 个数来描述其受力。\n",
    "4.  所以，总共就需要 $3 \\times 3 = 9$ 个数，才能完整描述这个点上各个方向的受力状态。\n",
    "\n",
    "这 9 个数可以排列成一个 3x3 的矩阵：\n",
    "$$\n",
    "\\boldsymbol{\\sigma} = \\begin{pmatrix} \\sigma_{xx} & \\sigma_{xy} & \\sigma_{xz} \\\\ \\sigma_{yx} & \\sigma_{yy} & \\sigma_{yz} \\\\ \\sigma_{zx} & \\sigma_{zy} & \\sigma_{zz} \\end{pmatrix}\n",
    "$$\n",
    "\n",
    "这个矩阵就是**二阶应力张量**。它有两个下标（$ij$ in $\\sigma_{ij}$），第一个下标 $i$ 代表“哪个面”，第二个下标 $j$ 代表“力的方向”。应变张量 $\\boldsymbol{\\epsilon}$ 也是完全一样的道理。\n",
    "\n",
    "> **小结**：应力和应变之所以是二阶张量（9个分量），是因为它们需要同时描述“作用面”和“作用力/形变”两个方向的信息。\n",
    "\n",
    "##### **第三步：为什么弹性常数($C_{ijkl}$)是“四阶”的？**\n",
    "\n",
    "现在到了最关键的一步。我们知道胡克定律是 `应力 = 弹性常数 × 应变`。\n",
    "\n",
    "我们已经清楚了：\n",
    "* **应力** $\\sigma_{ij}$ 是一个有 9 个分量的矩阵。\n",
    "* **应变** $\\epsilon_{kl}$ 也是一个有 9 个分量的矩阵。\n",
    "\n",
    "**弹性常数 $C$ 的作用，就是建立这两个矩阵之间每一个分量的联系**。它是一个“转换器”，输入一个应变矩阵，输出一个应力矩阵。\n",
    "\n",
    "让我们想一下这个“转换器”需要多少个零件：\n",
    "\n",
    "1.  我们想求出应力矩阵中的**一个分量**，比如 $\\sigma_{xx}$。\n",
    "2.  $\\sigma_{xx}$ 的大小，可能**同时受到所有 9 种应变分量** ($\\epsilon_{xx}, \\epsilon_{xy}, \\epsilon_{xz}, \\epsilon_{yx}, \\dots, \\epsilon_{zz}$) 的影响。\n",
    "3.  所以，为了计算 $\\sigma_{xx}$，我们需要 9 个系数，分别对应它和 9 个应变分量的关系：\n",
    "    $$\n",
    "    \\sigma_{xx} = C_{xxxx}\\epsilon_{xx} + C_{xxxy}\\epsilon_{xy} + C_{xxxz}\\epsilon_{xz} + \\dots (\\text{共9项})\n",
    "    $$\n",
    "\n",
    "4.  仅仅为了得到应力矩阵的**一个**分量 $\\sigma_{xx}$，我们就需要 9 个弹性常数分量 ($C_{xxkl}$)。\n",
    "\n",
    "5.  而应力矩阵本身有 9 个分量 ($\\sigma_{xx}, \\sigma_{xy}, \\dots, \\sigma_{zz}$)。\n",
    "\n",
    "6.  因此，要描述所有应力分量和所有应变分量之间的完整关系，总共需要的零件（弹性常数的分量）数量就是：\n",
    "    $$\n",
    "    (\\text{应力分量的数量}) \\times (\\text{应变分量的数量}) = 9 \\times 9 = 81 \\text{ 个}\n",
    "    $$\n",
    "\n",
    "这个需要 81 个分量来描述的“超级转换器”，就是一个**四阶张量**。它有四个下标 $C_{ijkl}$，因为每个下标都可以在 x, y, z 三个方向中取值，所以总数是 $3 \\times 3 \\times 3 \\times 3 = 3^4 = 81$。"
   ]
  },
  {
   "cell_type": "markdown",
   "metadata": {},
   "source": [
    "\n",
    "#### 3.1.3. 数学描述：从张量到 Voigt 矩阵\n",
    "\n",
    "在三维空间中，应力和应变都是二阶对称张量，有9个分量。因此，描述它们之间完整关系的弹性常数是一个复杂的四阶张量 $C_{ijkl}$，包含 $3 \\times 3 \\times 3 \\times 3 = 81$ 个分量。\n",
    "\n",
    "$$\\sigma_{ij} = \\sum_{k,l} C_{ijkl} \\epsilon_{kl} \\quad (i, j, k, l = x, y, z)$$\n",
    "\n",
    "幸运的是，由于应力张量 ($\\sigma_{ij} = \\sigma_{ji}$) 和应变张量 ($\\epsilon_{kl} = \\epsilon_{lk}$) 的对称性，以及能量守恒所要求的 $C_{ijkl} = C_{klij}$，独立的弹性常数分量远少于81个。\n",
    "\n",
    "为了简化表示，我们引入 **Voigt 表示法 (Voigt Notation)**，将二阶张量“压缩”成一个6分量的矢量。\n",
    "\n",
    "* **Voigt 映射规则**:\n",
    "    * 拉伸/压缩分量: $xx \\to 1$, $yy \\to 2$, $zz \\to 3$\n",
    "    * 剪切分量: $yz \\to 4$, $xz \\to 5$, $xy \\to 6$\n",
    "\n",
    "* **应力与应变矢量**:\n",
    "    * $\\sigma = [\\sigma_1, \\sigma_2, \\sigma_3, \\sigma_4, \\sigma_5, \\sigma_6]^T$\n",
    "    * $\\epsilon = [\\epsilon_1, \\epsilon_2, \\epsilon_3, \\epsilon_4, \\epsilon_5, \\epsilon_6]^T$\n",
    "\n",
    "经过 Voigt 变换后，四阶弹性张量 $C_{ijkl}$ 就简化为了一个 **6x6 的对称矩阵 $C_{ij}$**，胡克定律也相应写为更直观的矩阵形式：\n",
    "\n",
    "$$\n",
    "\\begin{bmatrix} \\sigma_1 \\\\ \\sigma_2 \\\\ \\sigma_3 \\\\ \\sigma_4 \\\\ \\sigma_5 \\\\ \\sigma_6 \\end{bmatrix}\n",
    "=\n",
    "\\begin{bmatrix}\n",
    " C_{11} & C_{12} & C_{13} & C_{14} & C_{15} & C_{16} \\\\\n",
    " C_{12} & C_{22} & C_{23} & C_{24} & C_{25} & C_{26} \\\\\n",
    " C_{13} & C_{23} & C_{33} & C_{34} & C_{35} & C_{36} \\\\\n",
    " C_{14} & C_{24} & C_{34} & C_{44} & C_{45} & C_{46} \\\\\n",
    " C_{15} & C_{25} & C_{35} & C_{45} & C_{55} & C_{56} \\\\\n",
    " C_{16} & C_{26} & C_{36} & C_{46} & C_{56} & C_{66}\n",
    "\\end{bmatrix}\n",
    "\\begin{bmatrix} \\epsilon_1 \\\\ \\epsilon_2 \\\\ \\epsilon_3 \\\\ 2\\epsilon_4 \\\\ 2\\epsilon_5 \\\\ 2\\epsilon_6 \\end{bmatrix}\n",
    "$$\n",
    "\n",
    "**注意**: 在工程定义中，剪切应变分量前有一个因子 2，这是为了保持能量表达式形式的一致性。\n",
    "\n",
    "晶体的对称性会进一步减少独立弹性常数的数量。例如，对于立方晶体，只有 $C_{11}$, $C_{12}$, $C_{44}$ 三个是独立的。\n"
   ]
  },
  {
   "cell_type": "markdown",
   "metadata": {},
   "source": [
    "#### 3.1.4. Abacus 计算流程：理论推导与实践步骤\n",
    "\n",
    "##### **核心理论：求解线性方程组**\n",
    "\n",
    "计算弹性常数的本质，是求解胡克定律的矩阵形式 $\\boldsymbol{\\sigma} = \\mathbf{C} \\boldsymbol{\\varepsilon}$。在这个方程中：\n",
    "* 应变矩阵 $\\boldsymbol{\\varepsilon}$ 是我们施加的**已知输入**。\n",
    "* 应力矩阵 $\\boldsymbol{\\sigma}$ 是我们通过 DFT 计算得到的**测量结果**。\n",
    "* 6x6 的弹性常数矩阵 $\\mathbf{C}$ 是我们要求解的**未知量**。\n",
    "\n",
    "我们的整个计算流程，就是一套设计精良的数值实验，旨在生成足够的线性方程组来精确地解出矩阵 $\\mathbf{C}$ 的所有独立分量。\n",
    "\n",
    "##### **步骤 1：获得理想的基态结构 (理论推导与结构弛豫)**\n",
    "\n",
    "* **理论推导**\n",
    "    胡克定律描述的是**应力变化量**与应变的关系，其更严谨的形式是 $\\Delta\\boldsymbol{\\sigma} = \\mathbf{C} \\boldsymbol{\\varepsilon}$，其中 $\\Delta\\boldsymbol{\\sigma} = \\boldsymbol{\\sigma}_{\\text{strained}} - \\boldsymbol{\\sigma}_0$。$\\boldsymbol{\\sigma}_0$ 是初始平衡态的参考应力。\n",
    "\n",
    "    为了能将方程简化为 $\\boldsymbol{\\sigma} \\approx \\mathbf{C} \\boldsymbol{\\varepsilon}$，我们必须确保参考应力 $\\boldsymbol{\\sigma}_0$ 无限趋近于零。任何显著的残余应力 $\\boldsymbol{\\sigma}_0$ 都会成为整个计算的系统误差来源。\n",
    "\n",
    "    在 DFT 中，一个体系的总能量 $E$ 是其原子坐标 $\\{R_i\\}$ 和晶格矢量 $\\mathbf{A}$ 的函数。应力张量的定义是总能量对微小应变的偏导数：\n",
    "    $$ \\sigma_{ij} = \\frac{1}{V} \\frac{\\partial E(\\boldsymbol{\\varepsilon}, \\{R_i\\})}{\\partial \\epsilon_{ij}} $$\n",
    "    因此，获得零应力状态，等价于寻找一个能量对所有应变分量的偏导数都为零的结构，即找到体系的能量最低点。\n",
    "\n",
    "* **实践步骤**\n",
    "    1.  运行一次完整的几何优化（`calculation = 'cell-relax'`）。\n",
    "    2.  此过程会同时调整晶胞参数和原子坐标，以寻找体系总能量的最小值，最终得到一个理论上应力为零的基态结构。\n",
    "    3.  该结构的几何信息被保存在 `STRU_ION_D` 文件中，作为后续所有计算的“零点”参考。同时，需要记录下此时微小的残余应力值，用于最终结果的修正。\n",
    "\n",
    "##### **步骤 2：施加受控应变 (理论推导与构型生成)**\n",
    "\n",
    "* **理论推导**\n",
    "    为了求解 $\\mathbf{C}$ 矩阵，我们需要通过施加特定的应变来解耦方程。策略是**一次只激活一个应变分量**，从而孤立出 $\\mathbf{C}$ 矩阵的一整列。\n",
    "\n",
    "    以施加第一种应变模式为例，我们让 $\\epsilon_1 \\neq 0$，而所有其他的 $\\epsilon_i (i=2 \\dots 6) = 0$。此时，矩阵方程 $\\boldsymbol{\\sigma} = \\mathbf{C} \\boldsymbol{\\varepsilon}$ 展开后变为：\n",
    "    $$\n",
    "    \\begin{bmatrix} \\sigma_1 \\\\ \\sigma_2 \\\\ \\sigma_3 \\\\ \\sigma_4 \\\\ \\sigma_5 \\\\ \\sigma_6 \\end{bmatrix}\n",
    "    =\n",
    "    \\begin{bmatrix}\n",
    "    C_{11} & C_{12} & \\dots & C_{16} \\\\\n",
    "    C_{21} & C_{22} & \\dots & C_{26} \\\\\n",
    "    \\vdots & \\vdots & \\ddots & \\vdots \\\\\n",
    "    C_{61} & C_{62} & \\dots & C_{66}\n",
    "    \\end{bmatrix}\n",
    "    \\begin{bmatrix} \\epsilon_1 \\\\ 0 \\\\ 0 \\\\ 0 \\\\ 0 \\\\ 0 \\end{bmatrix}\n",
    "    $$\n",
    "    进行矩阵乘法后，我们得到一组非常简单的线性关系：\n",
    "    $$\n",
    "    \\sigma_1 = C_{11}\\epsilon_1 \\quad \\Rightarrow \\quad C_{11} = \\sigma_1 / \\epsilon_1 \\\\\n",
    "    \\sigma_2 = C_{21}\\epsilon_1 \\quad \\Rightarrow \\quad C_{21} = \\sigma_2 / \\epsilon_1 \\\\\n",
    "    \\vdots \\\\\n",
    "    \\sigma_6 = C_{61}\\epsilon_1 \\quad \\Rightarrow \\quad C_{61} = \\sigma_6 / \\epsilon_1\n",
    "    $$\n",
    "    这清晰地表明：通过施加一个纯 $\\epsilon_1$ 应变并测量由此产生的整个应力张量 $\\boldsymbol{\\sigma}$，我们就可以直接确定弹性矩阵 $\\mathbf{C}$ 的**第一列**所有元素。\n",
    "\n",
    "    同理，通过依次施加 6 种独立的应变模式，我们便能确定 $\\mathbf{C}$ 矩阵的全部 6 列。而对每种模式施加多个不同的应变大小（例如 ±0.005, ±0.01），是为了通过多次测量进行线性拟合，以消除数值噪音，并验证计算是否在我们假设的线性弹性区内。\n",
    "\n",
    "* **实践步骤**\n",
    "    运行脚本将上述理论过程自动化，对基态结构 `STRU_ION_D` 施加 6 种模式 × 4 种大小的应变，生成 24 个包含变形后结构 (`STRU`) 的任务文件夹。\n",
    "\n",
    "##### **步骤 3：计算应力响应 (理论推导与应力计算)**\n",
    "\n",
    "* **理论推导**\n",
    "    当我们对晶胞施加一个应变（即固定了晶格矢量）时，内部的原子会受到力的作用，不再处于平衡位置。此时计算出的瞬时应力并不代表材料在该应变下的真实响应。\n",
    "\n",
    "    物理上，材料的应力响应应该是在**给定宏观应变下，内部结构达到新的平衡（即原子受力为零）时**的状态。这意味着，在保持晶胞形状和体积不变的前提下，我们需要让原子沿着受力方向移动，直到体系能量达到该约束下的局部最小值。这个过程被称为**离子弛豫 (Ionic Relaxation)**。\n",
    "\n",
    "    因此，正确的做法是，对于每一个变形后的构型，都进行一次**固定晶胞、只允许原子移动**的能量最小化计算。计算收敛后得到的应力，才是与该宏观应变相对应的、物理意义正确的应力。\n",
    "\n",
    "* **实践步骤**\n",
    "    1.  在 24 个 `task.XXX` 文件夹中分别运行 `abacus`。\n",
    "    2.  `INPUT` 文件中的 `calculation = 'relax'` 指示 ABACUS 进行能量最小化。由于 `STRU` 文件中的晶格矢量是固定的，程序默认不会改变晶胞，从而完美地实现了“固定晶胞、弛豫原子”这一理论要求。\n",
    "\n",
    "##### **步骤 4：线性拟合求解 (理论推导与数据分析)**\n",
    "\n",
    "* **理论推导**\n",
    "    经过步骤3，我们为每种应变模式都获得了一系列数据点。以模式1为例，我们有4组数据点 $(\\epsilon_{1}^{(k)}, \\sigma_{j}^{(k)})$，其中 $k=1,2,3,4$。\n",
    "\n",
    "    我们的目标是求解方程 $\\sigma_j = C_{j1}\\epsilon_1$ 中的斜率 $C_{j1}$。由于数值误差的存在，这些点不会完美地落在一条直线上。因此，我们需要使用**线性回归**（具体为**最小二乘法**）来找到最佳拟合直线。\n",
    "\n",
    "    最小二乘法旨在找到一个斜率 $C_{j1}$，使得所有测量点与拟合直线之间的误差平方和最小：\n",
    "    $$ \\text{Minimize} \\sum_{k=1}^{4} \\left( \\sigma_j^{(k)} - C_{j1}\\epsilon_1^{(k)} \\right)^2 $$\n",
    "    该优化问题的解析解为：\n",
    "    $$ C_{j1} = \\frac{\\sum_{k} \\sigma_j^{(k)}\\epsilon_1^{(k)}}{\\sum_{k} (\\epsilon_1^{(k)})^2} $$\n",
    "    通过这个公式，我们可以从带有噪音的数据中稳健地提取出最可信的斜率值，即弹性常数。\n",
    "\n",
    "* **实践步骤**\n",
    "    1.  运行脚本将上述最小二乘法拟合过程自动化。它会读取所有任务文件夹中的应变和应力数据，对 6 种模式进行拟合，计算出所有 $C_{ij}$ 分量，并将最终的 6x6 矩阵输出。\n",
    "    2.  最后，脚本还会利用得到的 $C_{ij}$ 矩阵，通过标准的 Voigt-Reuss-Hill 平均公式，计算出杨氏模量、剪切模量等工程参数。"
   ]
  },
  {
   "cell_type": "markdown",
   "metadata": {},
   "source": [
    "#### 3.1.5. 总结与要点\n",
    "\n",
    "1.  **物理基础**: 弹性常数是胡克定律在线弹性范围内的比例系数，表征材料的刚度。\n",
    "2.  **数学工具**: 利用 Voigt 表示法，将复杂的四阶张量 $C_{ijkl}$ 简化为易于处理的 6x6 对称矩阵 $C_{ij}$。\n",
    "3.  **计算核心**: 通过**应力-应变法**，对完美平衡结构施加一系列微小应变，计算其应力响应，然后通过线性拟合求解 $C_{ij}$。\n",
    "4.  **ABACUS 流程**:\n",
    "    * **Relax** 获得基态结构。\n",
    "    * **Apply Strains**: 自动产生 6 种模式 x 4 种大小 = 24 个变形构型。\n",
    "    * **Calculate Stresses**: 对 24 个构型进行固定晶胞的原子弛豫，得到应力。\n",
    "    * **Linear Fit**: 对数据进行线性回归，从斜率中提取出所有 $C_{ij}$。\n",
    "5.  **应用价值**: 计算出的弹性常数可用于检验材料的**力学稳定性** (Born-Huang 判据)，并可换算为杨氏模量、剪切模量、体积模量等工程参数，是材料计算设计中的重要环节。"
   ]
  },
  {
   "cell_type": "markdown",
   "metadata": {},
   "source": [
    "### 3.2 宏观弹性模量与各向异性参数解析\n",
    "\n",
    "#### 3.2.1 体积模量 (Bulk Modulus, B or K)\n",
    "\n",
    "**体积模量**衡量的是材料**抵抗均匀压缩、保持其体积不变**的能力。它反映了原子间结合力的强度。\n",
    "\n",
    "* **物理意义**：想象一下将一块材料浸入深海，水从四面八方均匀地施加压力。体积模量就描述了在这种均匀压力下，材料体积收缩的难易程度。\n",
    "* **参考范围**：\n",
    "    * **硬质材料 (如陶瓷、金刚石)**: 通常具有非常高的体积模量，典型值在 **200 GPa 以上**，金刚石可达 440 GPa。\n",
    "    * **金属 (如钢、铝)**: 体积模量较高，通常在 **70 - 200 GPa** 的范围内。\n",
    "    * **软材料 (如聚合物)**: 体积模量很低，通常**低于 10 GPa**。"
   ]
  },
  {
   "cell_type": "markdown",
   "metadata": {},
   "source": [
    "#### 3.2.2 剪切模量 (Shear Modulus, G)\n",
    "\n",
    "**剪切模量**也称为刚度模量 (Rigidity Modulus)，衡量的是材料**抵抗形状改变、保持其形状不变**的能力。\n",
    "\n",
    "* **物理意义**：想象一下将一本厚书或一副扑克牌平放在桌上，手掌按住封面水平推动。书会发生倾斜的形变，但其体积基本不变。剪切模量就是描述这种抵抗“剪切”或“扭转”形变能力的物理量。\n",
    "* **参考范围**：\n",
    "    * **硬质材料 (如陶瓷、硬质合金)**: 具有很高的剪切模量，通常在 **100 - 200 GPa** 范围。\n",
    "    * **普通金属**: 剪切模量较高，通常在 **25 - 80 GPa** 范围，例如钢约为 80 GPa。\n",
    "    * **软材料**: 剪切模量非常低，通常远**低于 5 GPa**。"
   ]
  },
  {
   "cell_type": "markdown",
   "metadata": {},
   "source": [
    "#### 3.2.3 Voigt, Reuss, Voigt-Reuss-Hill (VRH) 平均\n",
    "\n",
    "第一性原理计算出的 $C_{ij}$ 是针对**完美单晶**的，其性质具有方向性。然而，我们日常接触的材料大多是**多晶体**。Voigt、Reuss 和 Hill 提出了三种从单晶数据估算多晶体宏观性质的近似模型。\n",
    "\n",
    "* **Voigt (福伊特) 平均**: 假设所有晶粒的**应变 (Strain) 均一**。这通常会**高估**真实的弹性模量，给出一个**理论上限**。\n",
    "* **Reuss (罗伊斯) 平均**: 假设所有晶粒的**应力 (Stress) 均一**。这通常会**低估**真实的弹性模量，给出一个**理论下限**。\n",
    "* **Voigt-Reuss-Hill (VRH) 平均**: 这是最常用、最被广泛接受的近似，它直接取 Voigt 上限和 Reuss 下限的**算术平均值**，被认为是理论上最接近实际情况的值。\n",
    "    > $B_{VRH} = (B_{Voigt} + B_{Reuss}) / 2$\n",
    "    > $G_{VRH} = (G_{Voigt} + G_{Reuss}) / 2$"
   ]
  },
  {
   "cell_type": "markdown",
   "metadata": {},
   "source": [
    "#### 3.2.4 泊松比 (Poisson's Ratio, ν)\n",
    "\n",
    "**泊松比**描述了材料在单向拉伸或压缩时，其**横向形变与纵向形变之比**。它反映了材料在拉伸时横向收缩的趋势。\n",
    "\n",
    "* **物理意义**：当你拉伸一根橡皮筋时，它不仅会变长（纵向形变），同时也会变细（横向形变）。泊松比就是 “变细的程度” / “变长的程度” 的比值。\n",
    "* **参考范围**：\n",
    "    * **橡胶类材料**: 接近 **0.5**，表示形变时体积几乎不变。\n",
    "    * **大多数金属**: 在 **0.25 - 0.35** 之间，例如钢约为 0.3。\n",
    "    * **陶瓷等脆性材料**: 泊松比较低，通常在 **0.1 - 0.25** 之间。\n",
    "    * **特殊材料 (拉胀材料)**: 泊松比可以为负值。"
   ]
  },
  {
   "cell_type": "markdown",
   "metadata": {},
   "source": [
    "#### 3.2.5 普适各向异性指数 (Universal Anisotropy Index, $A^U$)\n",
    "\n",
    "这是一个综合性的指标，用**一个单独的数字**来量化晶体**弹性的各向异性程度**。\n",
    "\n",
    "* **物理意义**：它衡量了材料的弹性性质（如杨氏模量）是否随方向变化，以及变化的剧烈程度。\n",
    "* **解读**:\n",
    "    * **$A^U$ = 0**: 表示材料是**完全各向同性 (Isotropic)** 的，其弹性在所有方向上都完全相同。\n",
    "    * **$A^U$ > 0**: 表示材料是**各向异性 (Anisotropic)** 的。这个数值**越大**，说明其弹性性质的方向依赖性越强，材料在不同方向上的“硬度”差异越大。常见金属的 $A^U$ 值可以从接近0到几甚至十几。"
   ]
  },
  {
   "cell_type": "markdown",
   "metadata": {},
   "source": [
    "#### 3.2.6 杨氏模量 (Young's Modulus, E)\n",
    "\n",
    "**杨氏模量**可能是最广为人知的力学参数，它衡量的是材料在**单向拉伸或压缩**时抵抗弹性形变的能力，常被直接称为“弹性模量”或“刚度”。\n",
    "\n",
    "* **物理意义**：想象一下拉伸一根金属丝，杨氏模量描述了需要多大的力才能使其伸长一定的长度。它是应力-应变曲线初始线性阶段的斜率。\n",
    "* **与其他模量的关系**：它不是一个独立的量，可以由体积模量(B)和剪切模量(G)计算得出：$E = \\frac{9BG}{3B+G}$。\n",
    "* **参考范围**：\n",
    "    * **高刚度材料 (如陶瓷, 钨)**: 杨氏模量非常高，通常 > 200 GPa。\n",
    "    * **金属 (如钢, 钛)**: 杨氏模量较高，范围多在 100 - 200 GPa。\n",
    "    * **聚合物 (如塑料)**: 杨氏模量很低，通常 < 10 GPa。"
   ]
  },
  {
   "cell_type": "markdown",
   "metadata": {},
   "source": [
    "#### 3.2.7 普氏比 (Pugh's Ratio, B/G)\n",
    "\n",
    "**普氏比**即体积模量与剪切模量之比，它是一个被广泛应用的、判断材料**韧性 (Ductility) 与脆性 (Brittleness)** 的经验判据。\n",
    "\n",
    "* **物理意义**：它比较了材料抵抗体积改变和抵抗形状改变的能力。一个易于改变形状（低G）但难以被压缩（高B）的材料，倾向于通过塑性形变来耗散能量，表现为韧性。\n",
    "* **经验判据**：\n",
    "    * **B/G > 1.75**: 材料倾向于表现为**韧性**。原子倾向于通过滑移等方式重新排列（塑性形变），而不是直接断裂。大多数金属都属于这一类。\n",
    "    * **B/G < 1.75**: 材料倾向于表现为**脆性**。当受力时，材料更倾向于键的断裂而不是形状的改变。大多数陶瓷属于这一类。\n",
    "    * 这个 **1.75** 的临界值是由 S. F. Pugh 在1954年凭经验提出的。"
   ]
  },
  {
   "cell_type": "markdown",
   "metadata": {},
   "source": [
    "#### 3.2.8 拉梅第一参数 (Lamé's First Parameter, λ)\n",
    "\n",
    "**拉梅参数**是线性弹性理论中的两个基本常数，通常记为 $\\lambda$ 和 $\\mu$。我们已经熟悉的**剪切模量 G 就是拉梅第二参数 $\\mu$**。\n",
    "\n",
    "* **物理意义**：与杨氏模量或剪切模量相比，$\\lambda$ 没有一个特别直观的、可以单独拎出来的物理场景。它更多地是作为一个数学参数出现在弹性力学的本构方程中，用来关联应力与应变。\n",
    "* **与其他模量的关系**：它可以由体积模量和剪切模量导出：$\\lambda = B - \\frac{2}{3}G$。在描述弹性行为时，使用 $(\\lambda, G)$ 组合与使用 $(B, G)$ 或 $(E, \\nu)$ 组合是等价的。"
   ]
  },
  {
   "cell_type": "markdown",
   "metadata": {},
   "source": [
    "#### 3.2.9 维氏硬度 (Vickers Hardness, Hv) 的经验估算\n",
    "\n",
    "**硬度**衡量的是材料抵抗**局部塑性形变**（如刮擦或压痕）的能力。它不是一个纯粹的弹性参数，但可以通过弹性模量进行经验性的估算。\n",
    "\n",
    "* **物理意义**：它反映了材料表面的耐磨损和抗压痕能力。\n",
    "* **经验估算模型**：有多种基于 B 和 G 估算 $H_v$ 的模型，例如 Chen 等人提出的一个常用模型：\n",
    "    > $H_v (\\text{GPa}) \\approx 2(k^2G)^{0.585} - 3$, 其中 $k = G/B$。\n",
    "* **重要提示**：必须强调，这只是一个**经验公式**，其结果是一个理论预测值，用于趋势分析和高通量筛选，可能与实验测量的精确值存在差异。\n",
    "* **参考范围**：\n",
    "    * **软金属 (如铝)**: $H_v$ 通常在 1 GPa 以下。\n",
    "    * **硬质合金与钢**: $H_v$ 通常在 5 - 20 GPa。\n",
    "    * **超硬陶瓷 (如金刚石, c-BN)**: $H_v$ 可高达 40 - 100 GPa。"
   ]
  },
  {
   "cell_type": "markdown",
   "metadata": {},
   "source": [
    "### 3.3 Calculation"
   ]
  },
  {
   "cell_type": "markdown",
   "metadata": {},
   "source": [
    "#### 3.3.1 生成应变构型"
   ]
  },
  {
   "cell_type": "markdown",
   "metadata": {},
   "source": [
    "- 首先进行 Cell-relax"
   ]
  },
  {
   "cell_type": "code",
   "execution_count": 2,
   "metadata": {},
   "outputs": [
    {
     "name": "stdout",
     "output_type": "stream",
     "text": [
      "Info: Local MPI proc number: 1,OpenMP thread number: 1,Total thread number: 1,Local thread limit: 32\n",
      "                                                                                     \n",
      "                              ABACUS v3.10.0\n",
      "\n",
      "               Atomic-orbital Based Ab-initio Computation at UStc                    \n",
      "\n",
      "                     Website: http://abacus.ustc.edu.cn/                             \n",
      "               Documentation: https://abacus.deepmodeling.com/                       \n",
      "                  Repository: https://github.com/abacusmodeling/abacus-develop       \n",
      "                              https://github.com/deepmodeling/abacus-develop         \n",
      "                      Commit: 09195430e (Fri Jun 13 14:18:31 2025 +0800)\n",
      "\n",
      " Tue Jun 17 18:39:14 2025\n",
      " MAKE THE DIR         : OUT.ABACUS/\n",
      " RUNNING WITH DEVICE  : GPU / NVIDIA GeForce RTX 4080\n",
      "\n",
      "%%%%%%%%%%%%%%%%%%%%%%%%%%%%%%%%%%%%%%%%%%%%%%%%%%%%%%%%%%%%%%%%%%%%%%%%%%%%%%%%%%%%%%%%%%%%%%%%%%%%%%%%%\n",
      " Warning: the number of valence electrons in pseudopotential > 4 for Ti: [Ar] 3d2 4s2\n",
      " Pseudopotentials with additional electrons can yield (more) accurate outcomes, but may be less efficient.\n",
      " If you're confident that your chosen pseudopotential is appropriate, you can safely ignore this warning.\n",
      "%%%%%%%%%%%%%%%%%%%%%%%%%%%%%%%%%%%%%%%%%%%%%%%%%%%%%%%%%%%%%%%%%%%%%%%%%%%%%%%%%%%%%%%%%%%%%%%%%%%%%%%%%\n",
      "\n",
      " UNIFORM GRID DIM        : 40 * 40 * 180\n",
      " UNIFORM GRID DIM(BIG)   : 40 * 40 * 180\n",
      " DONE(0.636806   SEC) : SETUP UNITCELL\n",
      " DONE(0.647351   SEC) : SYMMETRY\n",
      " DONE(0.682381   SEC) : INIT K-POINTS\n",
      " ---------------------------------------------------------\n",
      " Cell relaxation calculations\n",
      " ---------------------------------------------------------\n",
      " SPIN    KPOINTS         PROCESSORS  THREADS     \n",
      " 1       74              1           1           \n",
      " ---------------------------------------------------------\n",
      " Use plane wave basis\n",
      " ---------------------------------------------------------\n",
      " ELEMENT NATOM       XC          \n",
      " Ti      4           \n",
      " Al      2           \n",
      " C       2           \n",
      " ---------------------------------------------------------\n",
      " Initial plane wave basis and FFT box\n",
      " ---------------------------------------------------------\n",
      " DONE(0.717936   SEC) : INIT PLANEWAVE\n",
      " DONE(0.825912   SEC) : LOCAL POTENTIAL\n",
      " DONE(0.880114   SEC) : NON-LOCAL POTENTIAL\n",
      " MEMORY FOR PSI (MB)  : 593.041\n",
      " DONE(1.1735     SEC) : INIT BASIS\n",
      " -------------------------------------------\n",
      " STEP OF RELAXATION : 1\n",
      " -------------------------------------------\n",
      " START CHARGE      : atomic\n",
      " DONE(4.08983    SEC) : INIT SCF\n",
      " ITER       ETOT/eV          EDIFF/eV         DRHO     TIME/s\n",
      " CG1     -6.71457012e+03   0.00000000e+00   2.6420e+00  25.30\n",
      " CG2     -6.71046863e+03   4.10149340e+00   1.0286e+01  15.32\n",
      " CG3     -6.73637690e+03  -2.59082757e+01   1.2683e+00  10.07\n",
      " CG4     -6.73888862e+03  -2.51171301e+00   6.1652e-02   7.69\n",
      " CG5     -6.73936646e+03  -4.77843655e-01   1.8001e-02  12.07\n",
      " CG6     -6.73937890e+03  -1.24371844e-02   1.3164e-02   8.37\n",
      " CG7     -6.73938658e+03  -7.68095175e-03   5.4074e-03   6.54\n",
      " CG8     -6.73938254e+03   4.03884722e-03   1.3976e-03   6.78\n",
      " CG9     -6.73939219e+03  -9.65202578e-03   8.5875e-04  11.12\n",
      " CG10    -6.73939311e+03  -9.15740230e-04   9.7265e-05   6.42\n",
      " CG11    -6.73939389e+03  -7.86165491e-04   9.6100e-06  10.91\n",
      " CG12    -6.73939394e+03  -4.17295655e-05   1.2491e-05  11.04\n",
      " CG13    -6.73939387e+03   6.57382749e-05   1.0371e-05   5.86\n",
      " CG14    -6.73939391e+03  -3.94758316e-05   1.3659e-06   8.49\n",
      " CG15    -6.73939391e+03   7.49304702e-07   8.4381e-07   8.09\n",
      " CG16    -6.73939391e+03  -1.51368441e-06   6.0010e-08   6.29\n",
      " CG17    -6.73939391e+03  -7.29208049e-07   3.3853e-08  12.97\n",
      " CG18    -6.73939391e+03   3.36712716e-08   1.3354e-08   6.15\n",
      " CG19    -6.73939391e+03  -5.52172659e-08   1.8810e-09   8.22\n",
      "----------------------------------------------------------------\n",
      " TOTAL-STRESS (KBAR)                                            \n",
      "----------------------------------------------------------------\n",
      "        -2.8552340023         0.0000000000         0.0000000000 \n",
      "         0.0000000000        -2.8552340023        -0.0000000000 \n",
      "        -0.0000000000        -0.0000000000        -1.3024275812 \n",
      "----------------------------------------------------------------\n",
      " TOTAL-PRESSURE: -2.337632 KBAR\n",
      "\n",
      " ETOT DIFF (eV)       : 0.000000\n",
      " LARGEST GRAD (eV/A)  : 0.040409\n",
      " DONE(194.628955 SEC) : SETUP UNITCELL\n",
      " -------------------------------------------\n",
      " STEP OF RELAXATION : 2\n",
      " -------------------------------------------\n",
      " DONE(194.727874 SEC) : LOCAL POTENTIAL\n",
      " DONE(194.738478 SEC) : SYMMETRY\n",
      " DONE(194.738658 SEC) : INIT K-POINTS\n",
      " DONE(194.782734 SEC) : NON-LOCAL POTENTIAL\n",
      " DONE(195.135400 SEC) : INIT SCF\n",
      " ITER       ETOT/eV          EDIFF/eV         DRHO     TIME/s\n",
      " CG1     -6.74065013e+03   0.00000000e+00   2.8061e-05  11.94\n",
      " CG2     -6.73938904e+03   1.26109716e+00   4.9844e-04  12.72\n",
      " CG3     -6.73938392e+03   5.11434161e-03   5.7320e-03  17.70\n",
      " CG4     -6.73939385e+03  -9.92299751e-03   3.5953e-07  16.44\n",
      " CG5     -6.73939386e+03  -1.73040390e-05   4.3679e-07  14.61\n",
      " CG6     -6.73939386e+03  -6.64111443e-07   7.0901e-08   7.23\n",
      " CG7     -6.73939386e+03  -2.56613805e-07   3.2606e-09   8.28\n",
      "----------------------------------------------------------------\n",
      " TOTAL-STRESS (KBAR)                                            \n",
      "----------------------------------------------------------------\n",
      "         3.2228422423        -0.0000000000         0.0000000000 \n",
      "         0.0000000000         3.2228422423         0.0000000000 \n",
      "         0.0000000000         0.0000000000         4.4796338051 \n",
      "----------------------------------------------------------------\n",
      " TOTAL-PRESSURE: 3.641773 KBAR\n",
      "\n",
      " ETOT DIFF (eV)       : 0.000047\n",
      " LARGEST GRAD (eV/A)  : 0.031595\n",
      " DONE(286.717676 SEC) : SETUP UNITCELL\n",
      " -------------------------------------------\n",
      " STEP OF RELAXATION : 3\n",
      " -------------------------------------------\n",
      " DONE(286.816507 SEC) : LOCAL POTENTIAL\n",
      " DONE(286.826954 SEC) : SYMMETRY\n",
      " DONE(286.827129 SEC) : INIT K-POINTS\n",
      " DONE(286.871601 SEC) : NON-LOCAL POTENTIAL\n",
      " DONE(287.230151 SEC) : INIT SCF\n",
      " ITER       ETOT/eV          EDIFF/eV         DRHO     TIME/s\n",
      " CG1     -6.73939321e+03   0.00000000e+00   1.0785e-04  13.46\n",
      " CG2     -6.73939228e+03   9.36581908e-04   8.9848e-04   9.63\n",
      " CG3     -6.73939404e+03  -1.76591268e-03   9.6174e-06   8.72\n",
      " CG4     -6.73939411e+03  -6.74829645e-05   3.7950e-06   8.72\n",
      " CG5     -6.73939412e+03  -5.49729274e-06   3.8651e-07   6.38\n",
      " CG6     -6.73939412e+03  -3.70776408e-06   1.4283e-07  10.64\n",
      " CG7     -6.73939412e+03   1.15493304e-07   5.5237e-08   6.34\n",
      " CG8     -6.73939412e+03  -2.59005914e-07   6.6276e-09   8.54\n",
      "----------------------------------------------------------------\n",
      " TOTAL-STRESS (KBAR)                                            \n",
      "----------------------------------------------------------------\n",
      "         0.1004800441         0.0000000000         0.0000000000 \n",
      "        -0.0000000000         0.1004800441         0.0000000000 \n",
      "         0.0000000000         0.0000000000         1.5011842808 \n",
      "----------------------------------------------------------------\n",
      " TOTAL-PRESSURE: 0.567381 KBAR\n",
      "\n",
      " ETOT DIFF (eV)       : -0.000258\n",
      " LARGEST GRAD (eV/A)  : 0.008455\n",
      " DONE(361.935192 SEC) : SETUP UNITCELL\n",
      " -------------------------------------------\n",
      " STEP OF RELAXATION : 4\n",
      " -------------------------------------------\n",
      " DONE(362.034831 SEC) : LOCAL POTENTIAL\n",
      " DONE(362.045487 SEC) : SYMMETRY\n",
      " DONE(362.045670 SEC) : INIT K-POINTS\n",
      " DONE(362.090149 SEC) : NON-LOCAL POTENTIAL\n",
      " DONE(362.446096 SEC) : INIT SCF\n",
      " ITER       ETOT/eV          EDIFF/eV         DRHO     TIME/s\n",
      " CG1     -6.73939400e+03   0.00000000e+00   2.0378e-05  14.72\n",
      " CG2     -6.73939385e+03   1.48296344e-04   1.4452e-04   9.54\n",
      " CG3     -6.73939415e+03  -2.92900166e-04   3.7509e-06   8.73\n",
      " CG4     -6.73939416e+03  -1.76291957e-05   4.5313e-07   7.68\n",
      " CG5     -6.73939416e+03  -1.44178812e-06   6.2125e-08   7.74\n",
      " CG6     -6.73939417e+03  -5.05483613e-07   1.0265e-08  10.04\n",
      " CG7     -6.73939417e+03   1.49791026e-08   3.7334e-09   7.96\n",
      "----------------------------------------------------------------\n",
      " TOTAL-STRESS (KBAR)                                            \n",
      "----------------------------------------------------------------\n",
      "         0.1900412655         0.0000000000        -0.0000000000 \n",
      "         0.0000000000         0.1900412655        -0.0000000000 \n",
      "         0.0000000000         0.0000000000         0.3876526830 \n",
      "----------------------------------------------------------------\n",
      " TOTAL-PRESSURE: 0.255912 KBAR\n",
      "\n",
      " ETOT DIFF (eV)       : -0.000044\n",
      " LARGEST GRAD (eV/A)  : 0.004879\n",
      "TIME STATISTICS\n",
      "-----------------------------------------------------------------------------\n",
      "    CLASS_NAME                NAME             TIME/s  CALLS   AVG/s  PER/%  \n",
      "-----------------------------------------------------------------------------\n",
      "                   total                       431.31 53       8.14   100.00 \n",
      " Driver            reading                     0.57   1        0.57   0.13   \n",
      " Input_Conv        Convert                     0.27   1        0.27   0.06   \n",
      " Driver            driver_line                 430.74 1        430.74 99.87  \n",
      " UnitCell          check_tau                   0.00   1        0.00   0.00   \n",
      " PW_Basis_Sup      setuptransform              0.00   1        0.00   0.00   \n",
      " PW_Basis_Sup      distributeg                 0.00   1        0.00   0.00   \n",
      " mymath            heapsort                    0.03   1838     0.00   0.01   \n",
      " Charge_Mixing     init_mixing                 0.00   5        0.00   0.00   \n",
      " Symmetry          analy_sys                   0.04   4        0.01   0.01   \n",
      " PW_Basis_K        setuptransform              0.02   1        0.02   0.00   \n",
      " PW_Basis_K        distributeg                 0.00   1        0.00   0.00   \n",
      " PW_Basis          setup_struc_factor          0.04   4        0.01   0.01   \n",
      " ppcell_vl         init_vloc                   0.36   4        0.09   0.08   \n",
      " ppcell_vnl        init                        0.01   1        0.01   0.00   \n",
      " ppcell_vnl        init_vnl                    0.18   4        0.04   0.04   \n",
      " WF_atomic         init_at_1                   0.31   4        0.08   0.07   \n",
      " wavefunc          wfcinit                     0.00   1        0.00   0.00   \n",
      " Ions              opt_ions                    430.12 1        430.12 99.72  \n",
      " ESolver_KS_PW     runner                      420.95 4        105.24 97.60  \n",
      " ESolver_KS_PW     before_scf                  4.45   4        1.11   1.03   \n",
      " H_Ewald_pw        compute_ewald               0.00   4        0.00   0.00   \n",
      " Charge            set_rho_core                0.32   4        0.08   0.07   \n",
      " PW_Basis_Sup      recip2real                  0.80   369      0.00   0.19   \n",
      " PW_Basis_Sup      gathers_scatterp            0.08   369      0.00   0.02   \n",
      " Charge            atomic_rho                  0.77   8        0.10   0.18   \n",
      " Potential         init_pot                    0.26   4        0.07   0.06   \n",
      " Potential         update_from_charge          2.73   45       0.06   0.63   \n",
      " Potential         cal_fixed_v                 0.01   4        0.00   0.00   \n",
      " PotLocal          cal_fixed_v                 0.01   4        0.00   0.00   \n",
      " Potential         cal_v_eff                   2.70   45       0.06   0.63   \n",
      " H_Hartree_pw      v_hartree                   0.22   45       0.00   0.05   \n",
      " PW_Basis_Sup      real2recip                  0.98   482      0.00   0.23   \n",
      " PW_Basis_Sup      gatherp_scatters            0.05   482      0.00   0.01   \n",
      " PotXC             cal_v_eff                   2.47   45       0.05   0.57   \n",
      " XC_Functional     v_xc                        2.90   53       0.05   0.67   \n",
      " Potential         interpolate_vrs             0.01   45       0.00   0.00   \n",
      " Symmetry          rhog_symmetry               0.22   48       0.00   0.05   \n",
      " Symmetry          group fft grids             0.07   48       0.00   0.02   \n",
      " PSIInit           initialize_psi              2.66   4        0.66   0.62   \n",
      " Nonlocal          getvnl                      10.85  3330     0.00   2.52   \n",
      " pp_cell_vnl       getvnl                      10.85  3330     0.00   2.51   \n",
      " Structure_Factor  get_sk                      0.44   4514     0.00   0.10   \n",
      " WF_atomic         atomic_wfc                  0.17   74       0.00   0.04   \n",
      " DiagoIterAssist   diagH_subspace_init         1.45   74       0.02   0.34   \n",
      " Operator          hPsi                        53.44  549646   0.00   12.39  \n",
      " Operator          EkineticPW                  1.82   549646   0.00   0.42   \n",
      " Operator          VeffPW                      32.55  549646   0.00   7.55   \n",
      " PW_Basis_K        recip_to_real gpu           28.29  804502   0.00   6.56   \n",
      " PW_Basis_K        real_to_recip gpu           12.84  671006   0.00   2.98   \n",
      " Operator          NonlocalPW                  18.65  549646   0.00   4.32   \n",
      " Nonlocal          add_nonlocal_pp             12.07  549646   0.00   2.80   \n",
      " DiagoIterAssist   diagH_LAPACK                36.66  3108     0.01   8.50   \n",
      " ESolver_KS_PW     hamilt2density_single       412.62 44       9.38   95.67  \n",
      " HSolverPW         solve                       412.18 44       9.37   95.56  \n",
      " DiagoCG           diag_once                   339.05 3256     0.10   78.61  \n",
      " DiagoCG_New       spsi_func                   5.19   1087156  0.00   1.20   \n",
      " DiagoCG_New       hpsi_func                   48.08  543578   0.00   11.15  \n",
      " ElecStatePW       psiToRho                    14.03  44       0.32   3.25   \n",
      " Charge_Mixing     get_drho                    0.18   44       0.00   0.04   \n",
      " Charge_Mixing     inner_product_recip_rho     0.01   44       0.00   0.00   \n",
      " Charge            mix_rho                     0.18   36       0.00   0.04   \n",
      " Charge            Broyden_mixing              0.05   36       0.00   0.01   \n",
      " DiagoIterAssist   diagH_subspace              42.79  3034     0.01   9.92   \n",
      " Charge_Mixing     inner_product_recip_hartree 0.04   308      0.00   0.01   \n",
      " ModuleIO          write_rhog                  0.02   4        0.01   0.00   \n",
      " ESolver_KS_PW     after_scf                   0.99   4        0.25   0.23   \n",
      " Forces            cal_force                   2.01   4        0.50   0.47   \n",
      " Forces            cal_force_loc               0.03   4        0.01   0.01   \n",
      " Forces            cal_force_ew                0.01   4        0.00   0.00   \n",
      " Forces            cal_force_nl                1.62   4        0.41   0.38   \n",
      " FS_Nonlocal_tools cal_becp                    2.70   296      0.01   0.63   \n",
      " Forces            cal_force_cc                0.29   4        0.07   0.07   \n",
      " Forces            cal_force_scc               0.07   4        0.02   0.02   \n",
      " Stress_PW         cal_stress                  7.15   4        1.79   1.66   \n",
      " Stress_Func       stress_kin                  2.78   4        0.69   0.64   \n",
      " Stress_Func       stress_har                  0.01   4        0.00   0.00   \n",
      " Stress_Func       stress_ewa                  0.04   4        0.01   0.01   \n",
      " Stress_Func       stress_gga                  0.14   4        0.04   0.03   \n",
      " Stress_Func       stress_loc                  0.07   4        0.02   0.02   \n",
      " Stress_Func       stress_cc                   0.29   4        0.07   0.07   \n",
      " Stress_Func       stress_nl                   3.82   4        0.95   0.89   \n",
      " Charge_Extra      extrapolate_charge          0.32   3        0.11   0.07   \n",
      " ModuleIO          write_istate_info           0.00   1        0.00   0.00   \n",
      "-----------------------------------------------------------------------------\n",
      "\n",
      "\n",
      " START  Time  : Tue Jun 17 18:39:14 2025\n",
      " FINISH Time  : Tue Jun 17 18:46:25 2025\n",
      " TOTAL  Time  : 431\n",
      " SEE INFORMATION IN : OUT.ABACUS/\n"
     ]
    }
   ],
   "source": [
    "! cd cell-relax && cp INPUT_pw INPUT && abacus"
   ]
  },
  {
   "cell_type": "markdown",
   "metadata": {},
   "source": [
    "- 使用脚本生成应变构型"
   ]
  },
  {
   "cell_type": "code",
   "execution_count": 1,
   "metadata": {},
   "outputs": [
    {
     "name": "stdout",
     "output_type": "stream",
     "text": [
      "gen with norm [-0.01, -0.005, 0.005, 0.01]\n",
      "gen with shear [-0.01, -0.005, 0.005, 0.01]\n"
     ]
    },
    {
     "name": "stderr",
     "output_type": "stream",
     "text": [
      "/home/outis/miniconda3/envs/dpmd_conda/lib/python3.12/site-packages/pymatgen/core/structure.py:3111: BadPoscarWarning: Ignoring selective dynamics tag, as no ionic degrees of freedom were fixed.\n",
      "  struct = Poscar.from_str(input_string, default_names=None, read_velocities=False, **kwargs).structure\n"
     ]
    }
   ],
   "source": [
    "from elastic_calc import ElasticCalculator\n",
    "\n",
    "# cp from cell-relax to elastic-calc\n",
    "elastic_calc = ElasticCalculator()\n",
    "elastic_calc.gen_dfm()"
   ]
  },
  {
   "cell_type": "code",
   "execution_count": 4,
   "metadata": {},
   "outputs": [
    {
     "name": "stdout",
     "output_type": "stream",
     "text": [
      "/home/outis/Research/deepmd_learn/5_Ti2AlC_Label/elastic-calc/task.000\n",
      "Info: Local MPI proc number: 1,OpenMP thread number: 1,Total thread number: 1,Local thread limit: 32\n",
      "/home/outis/Research/deepmd_learn/5_Ti2AlC_Label/elastic-calc/task.001\n",
      "Info: Local MPI proc number: 1,OpenMP thread number: 1,Total thread number: 1,Local thread limit: 32\n",
      "/home/outis/Research/deepmd_learn/5_Ti2AlC_Label/elastic-calc/task.002\n",
      "Info: Local MPI proc number: 1,OpenMP thread number: 1,Total thread number: 1,Local thread limit: 32\n",
      "/home/outis/Research/deepmd_learn/5_Ti2AlC_Label/elastic-calc/task.003\n",
      "Info: Local MPI proc number: 1,OpenMP thread number: 1,Total thread number: 1,Local thread limit: 32\n",
      "/home/outis/Research/deepmd_learn/5_Ti2AlC_Label/elastic-calc/task.004\n",
      "Info: Local MPI proc number: 1,OpenMP thread number: 1,Total thread number: 1,Local thread limit: 32\n"
     ]
    },
    {
     "name": "stderr",
     "output_type": "stream",
     "text": [
      "IOStream.flush timed out\n",
      "IOStream.flush timed out\n"
     ]
    },
    {
     "name": "stdout",
     "output_type": "stream",
     "text": [
      "/home/outis/Research/deepmd_learn/5_Ti2AlC_Label/elastic-calc/task.005\n",
      "Info: Local MPI proc number: 1,OpenMP thread number: 1,Total thread number: 1,Local thread limit: 32\n",
      "/home/outis/Research/deepmd_learn/5_Ti2AlC_Label/elastic-calc/task.006\n",
      "Info: Local MPI proc number: 1,OpenMP thread number: 1,Total thread number: 1,Local thread limit: 32\n",
      "/home/outis/Research/deepmd_learn/5_Ti2AlC_Label/elastic-calc/task.007\n",
      "Info: Local MPI proc number: 1,OpenMP thread number: 1,Total thread number: 1,Local thread limit: 32\n",
      "/home/outis/Research/deepmd_learn/5_Ti2AlC_Label/elastic-calc/task.008\n",
      "Info: Local MPI proc number: 1,OpenMP thread number: 1,Total thread number: 1,Local thread limit: 32\n",
      "/home/outis/Research/deepmd_learn/5_Ti2AlC_Label/elastic-calc/task.009\n",
      "Info: Local MPI proc number: 1,OpenMP thread number: 1,Total thread number: 1,Local thread limit: 32\n",
      "/home/outis/Research/deepmd_learn/5_Ti2AlC_Label/elastic-calc/task.010\n",
      "Info: Local MPI proc number: 1,OpenMP thread number: 1,Total thread number: 1,Local thread limit: 32\n"
     ]
    },
    {
     "name": "stderr",
     "output_type": "stream",
     "text": [
      "IOStream.flush timed out\n"
     ]
    },
    {
     "name": "stdout",
     "output_type": "stream",
     "text": [
      "/home/outis/Research/deepmd_learn/5_Ti2AlC_Label/elastic-calc/task.011\n",
      "Info: Local MPI proc number: 1,OpenMP thread number: 1,Total thread number: 1,Local thread limit: 32\n",
      "/home/outis/Research/deepmd_learn/5_Ti2AlC_Label/elastic-calc/task.012\n",
      "Info: Local MPI proc number: 1,OpenMP thread number: 1,Total thread number: 1,Local thread limit: 32\n"
     ]
    },
    {
     "name": "stderr",
     "output_type": "stream",
     "text": [
      "IOStream.flush timed out\n",
      "IOStream.flush timed out\n"
     ]
    },
    {
     "name": "stdout",
     "output_type": "stream",
     "text": [
      "/home/outis/Research/deepmd_learn/5_Ti2AlC_Label/elastic-calc/task.013\n",
      "Info: Local MPI proc number: 1,OpenMP thread number: 1,Total thread number: 1,Local thread limit: 32\n"
     ]
    },
    {
     "name": "stderr",
     "output_type": "stream",
     "text": [
      "IOStream.flush timed out\n",
      "IOStream.flush timed out\n"
     ]
    },
    {
     "name": "stdout",
     "output_type": "stream",
     "text": [
      "/home/outis/Research/deepmd_learn/5_Ti2AlC_Label/elastic-calc/task.014\n",
      "Info: Local MPI proc number: 1,OpenMP thread number: 1,Total thread number: 1,Local thread limit: 32\n",
      "/home/outis/Research/deepmd_learn/5_Ti2AlC_Label/elastic-calc/task.015\n",
      "Info: Local MPI proc number: 1,OpenMP thread number: 1,Total thread number: 1,Local thread limit: 32\n",
      "/home/outis/Research/deepmd_learn/5_Ti2AlC_Label/elastic-calc/task.016\n",
      "Info: Local MPI proc number: 1,OpenMP thread number: 1,Total thread number: 1,Local thread limit: 32\n",
      "/home/outis/Research/deepmd_learn/5_Ti2AlC_Label/elastic-calc/task.017\n",
      "Info: Local MPI proc number: 1,OpenMP thread number: 1,Total thread number: 1,Local thread limit: 32\n"
     ]
    },
    {
     "name": "stderr",
     "output_type": "stream",
     "text": [
      "IOStream.flush timed out\n"
     ]
    },
    {
     "name": "stdout",
     "output_type": "stream",
     "text": [
      "/home/outis/Research/deepmd_learn/5_Ti2AlC_Label/elastic-calc/task.018\n",
      "Info: Local MPI proc number: 1,OpenMP thread number: 1,Total thread number: 1,Local thread limit: 32\n",
      "/home/outis/Research/deepmd_learn/5_Ti2AlC_Label/elastic-calc/task.019\n",
      "Info: Local MPI proc number: 1,OpenMP thread number: 1,Total thread number: 1,Local thread limit: 32\n"
     ]
    },
    {
     "name": "stderr",
     "output_type": "stream",
     "text": [
      "IOStream.flush timed out\n",
      "IOStream.flush timed out\n"
     ]
    },
    {
     "name": "stdout",
     "output_type": "stream",
     "text": [
      "/home/outis/Research/deepmd_learn/5_Ti2AlC_Label/elastic-calc/task.020\n",
      "Info: Local MPI proc number: 1,OpenMP thread number: 1,Total thread number: 1,Local thread limit: 32\n"
     ]
    },
    {
     "name": "stderr",
     "output_type": "stream",
     "text": [
      "IOStream.flush timed out\n",
      "IOStream.flush timed out\n"
     ]
    },
    {
     "name": "stdout",
     "output_type": "stream",
     "text": [
      "/home/outis/Research/deepmd_learn/5_Ti2AlC_Label/elastic-calc/task.021\n",
      "Info: Local MPI proc number: 1,OpenMP thread number: 1,Total thread number: 1,Local thread limit: 32\n",
      "/home/outis/Research/deepmd_learn/5_Ti2AlC_Label/elastic-calc/task.022\n",
      "Info: Local MPI proc number: 1,OpenMP thread number: 1,Total thread number: 1,Local thread limit: 32\n",
      "/home/outis/Research/deepmd_learn/5_Ti2AlC_Label/elastic-calc/task.023\n",
      "Info: Local MPI proc number: 1,OpenMP thread number: 1,Total thread number: 1,Local thread limit: 32\n"
     ]
    },
    {
     "name": "stderr",
     "output_type": "stream",
     "text": [
      "IOStream.flush timed out\n"
     ]
    }
   ],
   "source": [
    "! cd elastic-calc && chmod 755 ./elastic_run_relax.sh && ./elastic_run_relax.sh"
   ]
  },
  {
   "cell_type": "markdown",
   "metadata": {},
   "source": [
    "#### 3.3.2 使用 pymatgen 拟合弹性常数"
   ]
  },
  {
   "cell_type": "code",
   "execution_count": 1,
   "metadata": {},
   "outputs": [
    {
     "name": "stdout",
     "output_type": "stream",
     "text": [
      "# Elastic Constants in GPa\n",
      " 306.69   59.39   59.83    0.00    0.00    0.00 \n",
      "  57.49  307.71   59.25    0.00    0.00    0.00 \n",
      "  58.47   58.47  267.65    0.00    0.00    0.00 \n",
      "  -0.41   -0.31   -0.66  111.29    0.00    0.00 \n",
      "  -0.17   -0.15   -0.30    0.00  111.68    0.00 \n",
      "  -0.74   -1.04   -2.04    0.00    0.00  122.46 \n",
      "# Bulk   Modulus BV = 137.21 GPa\n",
      "# Shear  Modulus GV = 115.99 GPa\n",
      "# Youngs Modulus EV = 271.48 GPa\n",
      "# Poission Ratio uV = 0.17 \n"
     ]
    }
   ],
   "source": [
    "from elastic_calc import ElasticCalculator\n",
    "\n",
    "elastic_calc = ElasticCalculator()\n",
    "elastic_calc.compute_elastic()"
   ]
  },
  {
   "cell_type": "markdown",
   "metadata": {},
   "source": [
    "#### 3.3.3 对比"
   ]
  },
  {
   "cell_type": "markdown",
   "metadata": {},
   "source": [
    "- 理论计算与实验数据对比"
   ]
  },
  {
   "cell_type": "markdown",
   "metadata": {},
   "source": [
    "[1] M. Radovic et al., “On the elastic properties and mechanical damping of Ti3SiC2, Ti3GeC2, Ti3Si0.5Al0.5C2 and Ti2AlC in the 300–1573K temperature range,” Acta Materialia, vol. 54, no. 10, pp. 2757–2767, Jun. 2006, doi: 10.1016/j.actamat.2006.02.019."
   ]
  },
  {
   "cell_type": "markdown",
   "metadata": {},
   "source": [
    "| 物理量 | 文献实验值 (RUS) | 计算结果 (LCAO) | 相对误差 (LCAO) | 计算结果 (PW) | 相对误差 (PW) |\n",
    "| :--- | :--- | :--- | :--- | :--- | :--- |\n",
    "| **体积模量 (Bulk Modulus, GPa)** | 139.6 ± 0.3 | 138.91 | -0.5% | 137.21 | -1.7% |\n",
    "| **剪切模量 (Shear Modulus, GPa)** | 118.8 ± 0.3 | 116.44 | -2.0% | 115.99 | -2.4% |\n",
    "| **杨氏模量 (Young's Modulus, GPa)** | 277.6 ± 0.7 | 273.03 | -1.6% | 271.48 | -2.2% |\n",
    "| **泊松比 (Poisson's Ratio)** | 0.169 ± 0.0004 | 0.17 | +0.6% | 0.17 | +0.6% |"
   ]
  },
  {
   "cell_type": "markdown",
   "metadata": {},
   "source": [
    "## 4. 超胞"
   ]
  },
  {
   "cell_type": "markdown",
   "metadata": {},
   "source": [
    "### 4.1 构造超胞并Relax"
   ]
  },
  {
   "cell_type": "markdown",
   "metadata": {},
   "source": [
    "#### 4.1.1 扩胞并添加D3修正"
   ]
  },
  {
   "cell_type": "markdown",
   "metadata": {},
   "source": [
    "- 使用如下命令进行扩胞"
   ]
  },
  {
   "cell_type": "markdown",
   "metadata": {},
   "source": [
    "    3x3x3"
   ]
  },
  {
   "cell_type": "code",
   "execution_count": null,
   "metadata": {},
   "outputs": [],
   "source": [
    "# NOTE: only run once\n",
    "# import os\n",
    "# from pathlib import Path\n",
    "# from ase.io import read, write\n",
    "# from ase.visualize import view\n",
    "\n",
    "# cs_dir = Path(\"cell-relax\")\n",
    "# cs_dir_3x3x3 = Path(\"cell-relax_3x3x3\")\n",
    "# os.system(f\"cp -r {cs_dir} {cs_dir_3x3x3}\")\n",
    "\n",
    "# cs_vasp = Path(cs_dir_3x3x3, \"Ti2AlC_mp-12990_conventional_standard.cif\")\n",
    "# cs_atoms_original = read(cs_vasp, format=\"cif\")\n",
    "# # view(cs_atoms_original, viewer=\"ngl\")\n",
    "\n",
    "# # expand the cell to 3*3*3\n",
    "# cs_atoms_3x3x3 = cs_atoms_original.repeat((3, 3, 3))\n",
    "# pp = {\"Ti\": \"Ti_ONCV_PBE-1.2.upf\", \"Al\": \"Al.upf\", \"C\": \"C.upf\"}\n",
    "# basis = {\"Ti\": \"Ti_gga_7au_100Ry_4s2p2d1f.orb\", \"Al\": \"Al_gga_8au_100Ry_2s2p1d.orb\", \"C\": \"C_gga_8au_100Ry_2s2p1d.orb\"}\n",
    "# write(Path(cs_dir_3x3x3, \"STRU\"), cs_atoms_3x3x3, format=\"abacus\", pp=pp, basis=basis)\n",
    "# view(cs_atoms_3x3x3, viewer=\"ngl\")\n",
    "# os.system(\"rm ase_sort.dat\")"
   ]
  },
  {
   "cell_type": "markdown",
   "metadata": {},
   "source": [
    "    2x2x2"
   ]
  },
  {
   "cell_type": "code",
   "execution_count": 8,
   "metadata": {},
   "outputs": [
    {
     "data": {
      "text/plain": [
       "0"
      ]
     },
     "execution_count": 8,
     "metadata": {},
     "output_type": "execute_result"
    }
   ],
   "source": [
    "# import os\n",
    "# from pathlib import Path\n",
    "# from ase.io import read, write\n",
    "# from ase.visualize import view\n",
    "\n",
    "# cs_dir = Path(\"cell-relax\")\n",
    "# cs_dir_2x2x2 = Path(\"cell-relax_2x2x2\")\n",
    "# os.system(f\"cp -r {cs_dir} {cs_dir_2x2x2}\")\n",
    "\n",
    "# cs_vasp = Path(cs_dir_2x2x2, \"Ti2AlC_mp-12990_conventional_standard.cif\")\n",
    "# cs_atoms_original = read(cs_vasp, format=\"cif\")\n",
    "# # view(cs_atoms_original, viewer=\"ngl\")\n",
    "\n",
    "# # expand the cell to 2*2*2\n",
    "# cs_atoms_2x2x2 = cs_atoms_original.repeat((2, 2, 2))\n",
    "# pp = {\"Ti\": \"Ti_ONCV_PBE-1.2.upf\", \"Al\": \"Al.upf\", \"C\": \"C.upf\"}\n",
    "# basis = {\"Ti\": \"Ti_gga_7au_100Ry_4s2p2d1f.orb\", \"Al\": \"Al_gga_8au_100Ry_2s2p1d.orb\", \"C\": \"C_gga_8au_100Ry_2s2p1d.orb\"}\n",
    "# write(Path(cs_dir_2x2x2, \"STRU\"), cs_atoms_2x2x2, format=\"abacus\", pp=pp, basis=basis)\n",
    "# view(cs_atoms_2x2x2, viewer=\"ngl\")\n",
    "# os.system(\"rm ase_sort.dat\")"
   ]
  },
  {
   "cell_type": "markdown",
   "metadata": {},
   "source": [
    "- INPUT 中添加D3修正"
   ]
  },
  {
   "cell_type": "markdown",
   "metadata": {},
   "source": [
    "- 进行 Cell-Relax"
   ]
  },
  {
   "cell_type": "markdown",
   "metadata": {},
   "source": [
    "#### 4.1.2 PW"
   ]
  },
  {
   "cell_type": "code",
   "execution_count": null,
   "metadata": {},
   "outputs": [],
   "source": [
    "! source $HOME/Software/abacus-develop/toolchain/abacus_env.sh && cd cell-relax_2x2x2 && cp INPUT_pw INPUT && abacus"
   ]
  },
  {
   "cell_type": "markdown",
   "metadata": {},
   "source": [
    "#### 4.1.3 LCAO"
   ]
  },
  {
   "cell_type": "code",
   "execution_count": null,
   "metadata": {},
   "outputs": [],
   "source": [
    "! source $HOME/Software/abacus-develop/toolchain/abacus_env.sh && cd cell-relax_2x2x2 && cp INPUT_lcao INPUT && mpirun --use-hwthread-cpus -np 16 abacus"
   ]
  },
  {
   "cell_type": "markdown",
   "metadata": {},
   "source": [
    "- 使用 ASE 计算晶格常数以及晶胞体积"
   ]
  },
  {
   "cell_type": "code",
   "execution_count": 11,
   "metadata": {},
   "outputs": [
    {
     "name": "stdout",
     "output_type": "stream",
     "text": [
      "Relaxed lattice_params:   (a) 3.019 Å, (c) 13.534 Å\n",
      "Relaxed volume: 106.857 Å^3\n"
     ]
    }
   ],
   "source": [
    "from ase.io import read\n",
    "from pathlib import Path\n",
    "\n",
    "cs_dir = \"cell-relax_2x2x2\"\n",
    "\n",
    "cs_stru_relaxed = Path(cs_dir, \"OUT.ABACUS\", \"STRU_ION_D\")\n",
    "cs_atoms_relaxed = read(cs_stru_relaxed, format=\"abacus\")\n",
    "\n",
    "lattice_params_relaxed = cs_atoms_relaxed.cell.cellpar()\n",
    "volume_relaxed = cs_atoms_relaxed.cell.volume\n",
    "\n",
    "# format: [len(a), len(b), len(c), angle(b,c), angle(a,c), angle(a,b)]\n",
    "print(f\"Relaxed lattice_params:   (a) {lattice_params_relaxed[0]/2:.3f} Å, (c) {lattice_params_relaxed[2]/2:.3f} Å\")\n",
    "print(f\"Relaxed volume: {volume_relaxed/8:.3f} Å^3\")"
   ]
  }
 ],
 "metadata": {
  "kernelspec": {
   "display_name": "dpmd_conda",
   "language": "python",
   "name": "python3"
  },
  "language_info": {
   "codemirror_mode": {
    "name": "ipython",
    "version": 3
   },
   "file_extension": ".py",
   "mimetype": "text/x-python",
   "name": "python",
   "nbconvert_exporter": "python",
   "pygments_lexer": "ipython3",
   "version": "3.12.9"
  }
 },
 "nbformat": 4,
 "nbformat_minor": 2
}
