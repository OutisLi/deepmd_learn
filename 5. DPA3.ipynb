{
 "cells": [
  {
   "cell_type": "markdown",
   "id": "cf4a3e14",
   "metadata": {},
   "source": [
    "# DPA3: A Graph Neural Network for the Era of Large Atomistic Models"
   ]
  },
  {
   "cell_type": "markdown",
   "id": "bfb69824-7576-4444-a78f-1981b3172f78",
   "metadata": {},
   "source": [
    "## Introduction"
   ]
  },
  {
   "cell_type": "markdown",
   "id": "53076f51-6e42-4b50-abe1-2b18854f0471",
   "metadata": {},
   "source": [
    "**DPA3** is a multi-layer graph neural network founded on line graph series (LiGS), designed explicitly for the era of [large atomistic models (LAMs)](https://www.aissquare.com/openlam). The generalization error of the DPA3 model adheres to the scaling law. The scalability in the number of model parameters is attained by stacking additional layers within DPA3. Additionally, the model employs a dataset encoding mechanism that decouples the scaling of training data size from the model size within its multi-task training framework.\n",
    "\n",
    "<img src=\"https://bohrium.oss-cn-zhangjiakou.aliyuncs.com/article/150/d1789633d10145e7aebd3f76ec3f71d4/8ca7545d-d0f6-4952-9d6a-fc615a950f9e.png\" alt=\"\" width=\"600\" style=\"display: block; margin: auto;\">\n",
    "\n",
    "<img src=\"https://bohrium.oss-cn-zhangjiakou.aliyuncs.com/article/150/d1789633d10145e7aebd3f76ec3f71d4/c5adcd1b-0721-400b-a7c9-c8e4f25a78ec.png\" alt=\"\" width=\"600\" style=\"display: block; margin: auto;\">\n",
    "\n",
    "When trained as problem-oriented potential energy models, the DPA3 model exhibits superior accuracy in the majority of benchmark cases, encompassing systems with diverse features, including molecules, bulk materials, surface and cluster catalysts, two-dimensional materials, and battery materials. When trained as a LAM on the OpenLAM-v1 dataset, the DPA-3.1-3M model exhibits state-of-the-art performance in the LAMBench benchmark suite for LAMs, demonstrating lowest overall zero-shot generalization error across 17 downstream tasks from a broad spectrum of research domains. This performance suggests superior accuracy as an out-of-the-box potential model, requiring minimal fine-tuning data for downstream scientific applications.\n",
    "\n",
    "<img src=\"https://bohrium.oss-cn-zhangjiakou.aliyuncs.com/article/150/d1789633d10145e7aebd3f76ec3f71d4/79ee197d-4283-4403-b3fe-5b0758e992a8.png\" alt=\"\" width=\"600\" style=\"display: block; margin: auto;\">\n",
    "\n",
    "\n",
    "\n",
    "<img src=\"https://bohrium.oss-cn-zhangjiakou.aliyuncs.com/article/150/d1789633d10145e7aebd3f76ec3f71d4/0ab27a7f-a35b-463c-8606-e740a8d0d328.png\" alt=\"\" width=\"600\" style=\"display: block; margin: auto;\">\n",
    "\n",
    "\n",
    "Reference: \n",
    "\n",
    "[1] Zhang, D., Peng, A., Cai, C., Li, W., Zhou, Y., Zeng, J., ... & Wang, H. (2025). Graph neural network model for the era of large atomistic models. [arXiv preprint arXiv:2506.01686](https://arxiv.org/abs/2506.01686).\n"
   ]
  },
  {
   "cell_type": "markdown",
   "id": "5a77d29f-7d1f-44a7-b488-4d423944f6f8",
   "metadata": {},
   "source": [
    "**This notebook will detail the steps to train DPA3 model from scratch, finetune a pretrained model, perfrom python inference and run MD using ASE calculator.** \n",
    "\n",
    "**Note that this notebook will mainly focus on DPA3 model training and finetuning. For data preparation and other basic usages of DeePMD-kit, please refer to [this notebook](https://bohrium.dp.tech/notebooks/71979198691) first.**"
   ]
  },
  {
   "cell_type": "markdown",
   "id": "b9c085bb-5d5a-4ce1-bf05-9cba3d300d45",
   "metadata": {},
   "source": [
    "## 1. Installation"
   ]
  },
  {
   "cell_type": "markdown",
   "id": "638729ab-7770-4bed-a04d-ffd627ace128",
   "metadata": {},
   "source": [
    "We install DeePMD-kit v3.1.0 to run DPA3."
   ]
  },
  {
   "cell_type": "code",
   "execution_count": null,
   "id": "7034b1de-31c3-44c1-b6af-f2a4ad7ccb33",
   "metadata": {
    "jupyter": {
     "output_hidden": true
    }
   },
   "outputs": [],
   "source": [
    "!git clone https://github.com/deepmodeling/deepmd-kit.git -b v3.1.0rc0"
   ]
  },
  {
   "cell_type": "code",
   "execution_count": null,
   "id": "930c11c5-93c6-485c-aa20-f6ccbff83af0",
   "metadata": {
    "jupyter": {
     "output_hidden": true
    }
   },
   "outputs": [],
   "source": [
    "!cd deepmd-kit && pip install -e ."
   ]
  },
  {
   "cell_type": "code",
   "execution_count": null,
   "id": "b4700e9a-f2ea-40bc-a969-0092f3b43757",
   "metadata": {},
   "outputs": [],
   "source": [
    "!dp --version"
   ]
  },
  {
   "cell_type": "markdown",
   "id": "6416503d-58f0-4b26-a085-67ebed10d9ba",
   "metadata": {},
   "source": [
    "## 2. Train the DPA3 model from scratch"
   ]
  },
  {
   "cell_type": "markdown",
   "id": "456d730a-d29e-433f-97e0-da3ed5cc6a6b",
   "metadata": {},
   "source": [
    "We will first train a 6-layer DPA3 model from scratch on the example water system."
   ]
  },
  {
   "cell_type": "code",
   "execution_count": null,
   "id": "3d33ea4c-1475-40d9-ade4-6dc3ff26ff65",
   "metadata": {},
   "outputs": [],
   "source": [
    "!cd /deepmd-kit/examples/water/dpa3 && cat input_torch.json"
   ]
  },
  {
   "cell_type": "markdown",
   "id": "63bca6ec-fcb1-4a8f-ab8a-9435faf7f547",
   "metadata": {},
   "source": [
    "The definitions of params in DPA3 desciptor can be found [here](https://docs.deepmodeling.com/projects/deepmd/en/v3.1.0rc0/train/train-input.html#argument:model[standard]/descriptor[dpa3]/repflow)."
   ]
  },
  {
   "cell_type": "markdown",
   "id": "13bca4d3-cb2e-4ca2-9b91-95bfe17ba4ec",
   "metadata": {},
   "source": [
    "For demonstration simplicity, **we will use only 200 training steps in this example**:"
   ]
  },
  {
   "cell_type": "code",
   "execution_count": null,
   "id": "47290756-b400-45a9-8093-5d1fad2a5b24",
   "metadata": {},
   "outputs": [],
   "source": [
    "!cd /deepmd-kit/examples/water/dpa3 && sed -i \"s/\\\"numb_steps\\\": 1000000/\\\"numb_steps\\\": 200/g\" input_torch.json"
   ]
  },
  {
   "cell_type": "markdown",
   "id": "3c07debe-c58d-4232-ae68-a09b2e64e8be",
   "metadata": {},
   "source": [
    "Note that optimal performance typically requires around **1 million steps or more** in real-world scenarios.\n",
    "\n",
    "We then run training:"
   ]
  },
  {
   "cell_type": "code",
   "execution_count": null,
   "id": "156463bd-049a-4ea0-9542-2737c4953675",
   "metadata": {},
   "outputs": [],
   "source": [
    "!cd /deepmd-kit/examples/water/dpa3 && dp --pt train input_torch.json --skip-neighbor-stat"
   ]
  },
  {
   "cell_type": "markdown",
   "id": "07e46773-2ba3-4b27-9a5a-ca19dd68ff50",
   "metadata": {},
   "source": [
    "Now we get a toy DPA3 model for just demonstration."
   ]
  },
  {
   "cell_type": "markdown",
   "id": "2081a3c4-6655-4d94-ba91-a409a7cc32c9",
   "metadata": {},
   "source": [
    "## 3. Finetune from the pretrained DPA3 model"
   ]
  },
  {
   "cell_type": "markdown",
   "id": "8091aa82-64d3-4d03-a775-2655f8f338aa",
   "metadata": {},
   "source": [
    "Next, we provide DPA3 models pretrained on [**OpenLAM-v1 datasets**](https://www.aissquare.com/datasets/detail?pageType=datasets&name=OpenLAM-TrainingSet-v1&id=308), including application-oriented datasets such as Alloy, Semiconductor, and Drug-like molecules, as well as open source DFT datasets like OMat, MPtraj, and OC20."
   ]
  },
  {
   "cell_type": "markdown",
   "id": "6cb1abb7-7809-415c-b30b-8572c62e3b4d",
   "metadata": {},
   "source": [
    "First we copy two pretrained DPA3 models (3 layers and 9 layers) from mounted Bohrium dataset:"
   ]
  },
  {
   "cell_type": "code",
   "execution_count": null,
   "id": "2194dd1e-7f66-4917-9e74-ac46338b5ecb",
   "metadata": {},
   "outputs": [],
   "source": [
    "!cp -r /bohr/dpa3-model-d4ju/v2 ./dpa3-model && tree ./dpa3-model -L 1"
   ]
  },
  {
   "cell_type": "markdown",
   "id": "ea7eb8e4-5bd1-4160-9a89-844923ac6a38",
   "metadata": {},
   "source": [
    "This directory contains the following main files:\n",
    "1. **DPA-3.1-3M.pt** : multi-task pretrained DPA3-L16 model on OpenLAM-v1 datasets, downloaded from [AIS-Square](https://www.aissquare.com/models/detail?pageType=models&name=DPA-3.1-3M&id=343).\n",
    "2. **input_pretrain_3.1_3M.json** : the corresponding pretrained input for **DPA-3.1-3M.pt**.\n",
    "\n",
    "3. Other files in preview edition: **0211_prod_9wide_300w.pt**, **0217_l3_300w.pt** are different DPA3 variants also pre-trained on OpenLAM-v1 datasets, with corresponding inputs **9wide_input.json** and **3wide_input.json**.\n",
    "\n",
    "We will demonstrate fine-tuning using **DPA-3.1-3M.pt** as an example. \n",
    "Readers can also apply identical procedures to other variants."
   ]
  },
  {
   "cell_type": "markdown",
   "id": "f0747dd3-876a-4d17-99ca-7de9b0eaaaa6",
   "metadata": {},
   "source": [
    "First we will prepare the input for finetuning:"
   ]
  },
  {
   "cell_type": "code",
   "execution_count": null,
   "id": "a485fab1-1963-416c-9ce2-5b9390cb0937",
   "metadata": {
    "jupyter": {
     "output_hidden": false
    }
   },
   "outputs": [],
   "source": [
    "!cd /deepmd-kit/examples/water && mkdir -p dpa3_finetune && cp /dpa3-model/DPA-3.1-3M.pt ./dpa3_finetune && cp /dpa3-model/input_pretrain_3.1_3M.json ./dpa3_finetune && cp dpa3/input_torch.json ./dpa3_finetune && tree /deepmd-kit/examples/water/dpa3_finetune -L 1"
   ]
  },
  {
   "cell_type": "markdown",
   "id": "a8955c92-c762-4bed-a442-f56d501c5aa8",
   "metadata": {},
   "source": [
    "When performing fine-tuning based on pretrained models, it is crucial to **maintain identical model configurations (`\"model\"` scope in json file) between the pretraining and fine-tuning phases**. \n",
    "\n",
    "The model configuration may differ from our previous from-scratch training examples, therefore we will perform the following replacement to ensure the same model section in the finetune input:"
   ]
  },
  {
   "cell_type": "code",
   "execution_count": null,
   "id": "8cc56f17-18ab-4ffd-bae7-2037f04bc932",
   "metadata": {},
   "outputs": [],
   "source": [
    "import json\n",
    "\n",
    "## Load pretrained model input\n",
    "pretrained_input = json.load(open('/deepmd-kit/examples/water/dpa3_finetune/input_pretrain_3.1_3M.json', 'r'))\n",
    "\n",
    "## Load example input\n",
    "example_input = json.load(open('/deepmd-kit/examples/water/dpa3_finetune/input_torch.json', 'r'))\n",
    "\n",
    "## Get pretrained model configuration\n",
    "dpa3_descriptor = pretrained_input['model']['shared_dict']['dpa3_descriptor']\n",
    "fitting = pretrained_input['model']['shared_dict']['shared_fitting']\n",
    "\n",
    "## Do model configuration replacement\n",
    "example_input['model']['descriptor'] = dpa3_descriptor\n",
    "example_input['model']['fitting_net'] = fitting\n",
    "\n",
    "# (Optional) set a smaller start learning rate\n",
    "example_input['learning_rate']['start_lr'] = 1e-4\n",
    "\n",
    "## Save finetune input\n",
    "json.dump(example_input, open('/deepmd-kit/examples/water/dpa3_finetune/input_finetune.json', 'w'), indent=4)"
   ]
  },
  {
   "cell_type": "code",
   "execution_count": null,
   "id": "86870b38-81b5-4db2-b5d1-ab30bea843dd",
   "metadata": {},
   "outputs": [],
   "source": [
    "!cd /deepmd-kit/examples/water/dpa3_finetune && cat input_finetune.json"
   ]
  },
  {
   "cell_type": "markdown",
   "id": "d3b381b5-48c7-446a-8d42-dc99743d2549",
   "metadata": {},
   "source": [
    "Then, note that the pretrained model is pretrained in a multi-task manner, featuring a unified backbone (referred to as the unified descriptor) and several fitting nets for different datasets. For detailed information, refer to the [DPA2 paper](https://www.nature.com/articles/s41524-024-01493-2).\n",
    "\n",
    "![alt](https://bohrium.oss-cn-zhangjiakou.aliyuncs.com/article/150/b46229d6746e4358be3181363a158efb/94935036-1adb-4562-ae45-b7839e8666ae.png)\n",
    "\n",
    "Before finetuning, we need to **select a specific fitting net** from the model to make predictions. To list the available fitting nets (model-branch) in this pretrained model, use the following command:"
   ]
  },
  {
   "cell_type": "code",
   "execution_count": null,
   "id": "0275aaa5-5aa7-44bb-a637-18cd04dd3ff4",
   "metadata": {},
   "outputs": [],
   "source": [
    "!cd /deepmd-kit/examples/water/dpa3_finetune && dp --pt show DPA-3.1-3M.pt model-branch"
   ]
  },
  {
   "cell_type": "markdown",
   "id": "7bc3082b-3091-49e4-ab95-f479c1390b7c",
   "metadata": {},
   "source": [
    "This lists all the available fitting nets. Then you need to select a fitting net that closely matches your system, here we take `MP_traj_v024_alldata_mixu`, which stands for branch of MPtraj dataset for example."
   ]
  },
  {
   "cell_type": "code",
   "execution_count": null,
   "id": "73c30e0e-4563-470a-8d51-f7a3e947b05d",
   "metadata": {},
   "outputs": [],
   "source": [
    "!cd /deepmd-kit/examples/water/dpa3_finetune && dp --pt train input_finetune.json --skip-neighbor-stat --finetune DPA-3.1-3M.pt --model-branch MP_traj_v024_alldata_mixu"
   ]
  },
  {
   "cell_type": "markdown",
   "id": "fcddf4cc-33d3-48a7-8dde-a70d6bc3ba1f",
   "metadata": {},
   "source": [
    "Then finally we have a finetuned DPA3 model."
   ]
  },
  {
   "cell_type": "markdown",
   "id": "a92c56ef-ff6c-4aac-8a11-d8e69225e883",
   "metadata": {},
   "source": [
    "## 4. Test models"
   ]
  },
  {
   "cell_type": "markdown",
   "id": "0bc6a281-c862-4d30-858d-7e732f068554",
   "metadata": {},
   "source": [
    "After completing training/finetuning, we typically evaluate model performance by examining accuracy across different material systems.\n",
    "\n",
    "First we can compare the loss curves (lcurve.out) during training/finetuning:"
   ]
  },
  {
   "cell_type": "code",
   "execution_count": null,
   "id": "dc06988b-f0fb-49be-ac9b-43a3fca912e3",
   "metadata": {},
   "outputs": [],
   "source": [
    "!head /deepmd-kit/examples/water/dpa3/lcurve.out"
   ]
  },
  {
   "cell_type": "code",
   "execution_count": null,
   "id": "f6c7a9f6-a177-4d8a-bbdf-2fa2c87966cc",
   "metadata": {},
   "outputs": [],
   "source": [
    "!head /deepmd-kit/examples/water/dpa3_finetune/lcurve.out"
   ]
  },
  {
   "cell_type": "markdown",
   "id": "f7f92c69-e0ce-4910-9069-62f1e55fae12",
   "metadata": {},
   "source": [
    "Then we will typically run inference directly on target systems using the `dp test` command to measure prediction errors, which provides more precise accuracy evaluation:"
   ]
  },
  {
   "cell_type": "code",
   "execution_count": null,
   "id": "3e3d5835-2510-4224-947b-e4fbc7ed783c",
   "metadata": {
    "jupyter": {
     "output_hidden": false
    }
   },
   "outputs": [],
   "source": [
    "!dp test --help"
   ]
  },
  {
   "cell_type": "code",
   "execution_count": null,
   "id": "4d42e75f-b24a-4b6a-b25a-360c5774234d",
   "metadata": {},
   "outputs": [],
   "source": [
    "!dp --pt test -m /deepmd-kit/examples/water/dpa3/model.ckpt.pt -s /deepmd-kit/examples/water/data/data_3"
   ]
  },
  {
   "cell_type": "code",
   "execution_count": null,
   "id": "a3c31cba-8fc3-445b-87cd-336571aeba06",
   "metadata": {},
   "outputs": [],
   "source": [
    "!dp --pt test -m /deepmd-kit/examples/water/dpa3_finetune/model.ckpt.pt -s /deepmd-kit/examples/water/data/data_3"
   ]
  },
  {
   "cell_type": "markdown",
   "id": "20694417-5b31-492c-b2ea-9c62f05f74b6",
   "metadata": {},
   "source": [
    "We can see that the fine-tuned model demonstrates significantly better accuracy (benefiting from the pre-trained model)."
   ]
  },
  {
   "cell_type": "markdown",
   "id": "79a9b92b-41c9-4bde-b1ff-3f0d98100b9f",
   "metadata": {},
   "source": [
    "## 5. Python interface for MD"
   ]
  },
  {
   "cell_type": "markdown",
   "id": "298293e8-63a0-400f-8566-cac45f4adffb",
   "metadata": {},
   "source": [
    "Finally, we demonstrate how to use trained models for **practical simulations in Python via the ASE interface**. "
   ]
  },
  {
   "cell_type": "code",
   "execution_count": null,
   "id": "d5bda3b3-ddcd-4576-8c39-a703a4c506a7",
   "metadata": {
    "jupyter": {
     "output_hidden": true
    }
   },
   "outputs": [],
   "source": [
    "!pip install ase"
   ]
  },
  {
   "cell_type": "markdown",
   "id": "ec3b7064-b737-4620-96d2-d74fa83f52bb",
   "metadata": {},
   "source": [
    "We need first freeze out checkout file into one `pth` frozen model:"
   ]
  },
  {
   "cell_type": "code",
   "execution_count": null,
   "id": "73106706-ad37-4aad-a316-5ed9e1179a84",
   "metadata": {},
   "outputs": [],
   "source": [
    "!cd /deepmd-kit/examples/water/dpa3_finetune && dp --pt freeze -o dpa3_water_finetune.pth"
   ]
  },
  {
   "cell_type": "markdown",
   "id": "5f9d0414-52ee-463b-a13b-e2be023d2404",
   "metadata": {},
   "source": [
    "We can also directly freeze the pretrained model without further finetuning to perform MD: \n",
    "\n",
    "```\n",
    "dp --pt freeze -c DPA-3.1-3M.pt -o dpa3_water_branch.pth --model-branch H2O_H2O_PD\n",
    "\n",
    "```\n",
    "\n"
   ]
  },
  {
   "cell_type": "markdown",
   "id": "3db5726a-233c-40c3-874c-facaec772bff",
   "metadata": {},
   "source": [
    "Then we can run the following Python code for prediction or optimization:"
   ]
  },
  {
   "cell_type": "code",
   "execution_count": null,
   "id": "b2009f82-518b-49e3-8c95-d2a7bbf2f619",
   "metadata": {},
   "outputs": [],
   "source": [
    "%%writefile ase_md.py\n",
    "from ase import Atoms\n",
    "from deepmd.calculator import DP\n",
    "\n",
    "## Compute potential energy\n",
    "dp = DP(\"/deepmd-kit/examples/water/dpa3_finetune/dpa3_water_finetune.pth\")\n",
    "water = Atoms('H2O', positions=[(0.7601, 1.9270, 1), (1.9575, 1, 1), (1., 1., 1.)], cell=[100, 100, 100])\n",
    "water.calc = dp\n",
    "print(water.get_potential_energy())\n",
    "print(water.get_forces())\n",
    "\n",
    "## Run BFGS structure optimization\n",
    "from ase.optimize import BFGS\n",
    "dyn = BFGS(water)\n",
    "dyn.run(fmax=1e-3)\n",
    "print(water.get_positions())"
   ]
  },
  {
   "cell_type": "code",
   "execution_count": null,
   "id": "0246f89c-0a3b-4f46-88c1-061ea4a5178a",
   "metadata": {},
   "outputs": [],
   "source": [
    "!python ase_md.py"
   ]
  },
  {
   "cell_type": "markdown",
   "id": "0c86e321-2833-4def-9711-7705d7200286",
   "metadata": {},
   "source": [
    "### Ref\n",
    "1. [DPA3 paper](https://arxiv.org/abs/2506.01686)\n",
    "2. [LAMBench paper](https://arxiv.org/abs/2504.19578)\n",
    "2. [DPA2 paper](https://www.nature.com/articles/s41524-024-01278-7)\n",
    "2. [DPA2 finetune tutorial](https://www.aissquare.com/models/detail?pageType=models&name=DPA-2.3.1-v3.0.0rc0&id=287)\n",
    "3. [AIS-Square](https://www.aissquare.com)\n",
    "4. [OpenLAM Initiative](https://www.aissquare.com/openlam)\n",
    "5. [LAMBench Website](https://www.aissquare.com/openlam?tab=Benchmark)"
   ]
  }
 ],
 "metadata": {
  "kernelspec": {
   "display_name": "dpmd_conda",
   "language": "python",
   "name": "python3"
  },
  "language_info": {
   "name": "python",
   "version": "3.12.9"
  }
 },
 "nbformat": 4,
 "nbformat_minor": 5
}
