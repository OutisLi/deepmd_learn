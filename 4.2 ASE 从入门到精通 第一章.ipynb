{
 "cells": [
  {
   "cell_type": "markdown",
   "id": "__bohr_old_version_cellId_0__",
   "metadata": {},
   "source": [
    "# ASE 从入门到精通 第一章"
   ]
  },
  {
   "cell_type": "markdown",
   "id": "__bohr_old_version_cellId_1__",
   "metadata": {},
   "source": [
    "<div style=\"color:black; background-color:#FFF3E9; border: 1px solid #FFE0C3; border-radius: 10px; margin-bottom:0rem\">\n",
    "    <p style=\"margin:1rem; padding-left: 1rem; line-height: 2.5;\">\n",
    "        ©️ <b><i>Copyright 2023 @ Authors</i></b><br/>\n",
    "        <i>作者：刘照清（波本）\n",
    "            <b>\n",
    "            <a href=\"mailto:quantummisaka@mail.pku.edu.cn\">*** 📨 </a>\n",
    "            </b>\n",
    "        </i>\n",
    "        <br/>\n",
    "        <i>日期：2023-08-08</i><br/>\n",
    "        <i>共享协议：</a>本作品采用<a rel=\"license\" href=\"http://creativecommons.org/licenses/by-nc-sa/4.0/\">知识共享署名-非商业性使用-相同方式共享 4.0 国际许可协议</a>进行许可。</i><br/>\n",
    "        <i>快速开始：点击上方的</i> <span style=\"background-color:rgb(85, 91, 228); color:white; padding: 3px; border-radius: 5px;box-shadow: 2px 2px 3px rgba(0, 0, 0, 0.3); font-size:0.75rem;\">开始连接</span> <i>按钮，选择 <b><u>bohrium-notebook:2023-05-31 </u>镜像</b> 和任意配置机型即可开始。</i><br/>\n",
    "        <i>第一章参考：</a><a rel=\"license\" href=\"https://nb.bohrium.dp.tech/detail/8841808328#case\"> 快速开始ASE | 氮气分子在Cu表面的吸附 </i>\n",
    "    </p>\n",
    "</div>"
   ]
  },
  {
   "cell_type": "markdown",
   "id": "__bohr_old_version_cellId_2__",
   "metadata": {},
   "source": [
    "🎯 <b style='color:purple'>本教程旨在<u> 全面掌握</u> 使用 ASE 模块建立分子，晶体和表面模型并进行计算。</b>\n",
    "\n",
    "* 从计算模拟的常用思路出发进行讲解，易于理解与上手\n",
    "\n",
    "* 一键运行，你可以快速在实践中检验你的想法。\n",
    "\n",
    "* 丰富完善的注释，对于入门者友好。"
   ]
  },
  {
   "cell_type": "markdown",
   "id": "__bohr_old_version_cellId_3__",
   "metadata": {},
   "source": [
    "## 目标大纲\n",
    "\n",
    "> **基于实例掌握 ASE 的建模，可视化与计算方法**\n",
    "\n",
    "<div align=\"left\" style=\"margin:1.5rem\"><img src=\"https://gitlab.com/uploads/-/system/project/avatar/470007/ase256.png?width=64\" alt=\"pandas\" style=\"zoom: 200%;\"></div>\n",
    "\n",
    "1. 第一章：ASE快速入门\n",
    "2. 第二章：ASE基础模块简析\n",
    "3. 第三章：ASE表面吸附计算与数据库\n",
    "4. 第四章：ASE全局优化方法\n",
    "5. 第五章：ASE计算扩散与解离性质\n",
    "6. 第六章：ASE分子动力学方法\n",
    "7. 第七章：ASE外接其他软件\n",
    "8. 第八章：ASE高级操作"
   ]
  },
  {
   "cell_type": "markdown",
   "id": "__bohr_old_version_cellId_4__",
   "metadata": {},
   "source": [
    "## 第一章: ASE简介与快速入门 <a id='practice'></a>\n",
    "\n",
    "本章将从$N_2$在Cu(111)表面的吸附为例来掌握ASE的建模，可视化与基本计算方法"
   ]
  },
  {
   "cell_type": "markdown",
   "id": "__bohr_old_version_cellId_5__",
   "metadata": {},
   "source": [
    "## 本章目标\n",
    "\n",
    "在学习本教程后，你将能够：\n",
    "\n",
    "- 使用 ASE 定义分子或晶体。\n",
    "- 计算体系能量并进行结构弛豫。\n",
    "- 使用 ASE 读取或写入原子文件\n",
    "- 可视化原子文件\n",
    "- 使用 ASE 进行分子动力学计算\n",
    "\n",
    "**阅读该教程【最多】约需 12 分钟，让我们开始吧！**"
   ]
  },
  {
   "cell_type": "markdown",
   "id": "__bohr_old_version_cellId_6__",
   "metadata": {},
   "source": [
    "### 0：安装ASE\n",
    "\n",
    "以Bohrium镜像为例检查ASE是否已经安装。\n",
    "如果没有安装，我们采用pip快速安装"
   ]
  },
  {
   "cell_type": "code",
   "execution_count": null,
   "id": "__bohr_old_version_cellId_7__",
   "metadata": {},
   "outputs": [],
   "source": [
    "# 以下命令判断该环境中是否存在所需模块，如果没有，则使用 pip 快速安装。\n",
    "! if ! /opt/mamba/bin/pip show ase > /dev/null; then /opt/mamba/bin/pip install --upgrade --user ase; fi;"
   ]
  },
  {
   "cell_type": "markdown",
   "id": "__bohr_old_version_cellId_8__",
   "metadata": {},
   "source": [
    "### 1 模型构建，可视化与SCF计算 <a id='case1'></a>"
   ]
  },
  {
   "cell_type": "markdown",
   "id": "__bohr_old_version_cellId_9__",
   "metadata": {},
   "source": [
    "#### 1.1 原子对象 <a id='1-1'></a>\n",
    "\n",
    "[Atoms](https://wiki.fysik.dtu.dk/ase/ase/atoms.html#ase.Atoms) 对象是原子的集合。以下是如何通过直接指定两个氮原子的位置来定义 $N_2$ 分子的方法"
   ]
  },
  {
   "cell_type": "code",
   "execution_count": 2,
   "id": "__bohr_old_version_cellId_10__",
   "metadata": {},
   "outputs": [],
   "source": [
    "from ase import Atoms\n",
    "\n",
    "d = 1.10\n",
    "molecule = Atoms('2N', positions=[(0., 0., 0.), (0., 0., d)])"
   ]
  },
  {
   "cell_type": "markdown",
   "id": "__bohr_old_version_cellId_11__",
   "metadata": {},
   "source": [
    "您也可以使用lattice模块构建晶体，该模块返回对应于常见晶体结构的 `Atoms` 对象。让我们制作一个Cu（111）表面："
   ]
  },
  {
   "cell_type": "code",
   "execution_count": 3,
   "id": "__bohr_old_version_cellId_12__",
   "metadata": {},
   "outputs": [],
   "source": [
    "from ase.build import fcc111\n",
    "\n",
    "slab = fcc111('Cu', size=(4,4,2), vacuum=10.0)"
   ]
  },
  {
   "cell_type": "markdown",
   "id": "__bohr_old_version_cellId_13__",
   "metadata": {},
   "source": [
    "直接通过代码构建模型的感觉怎么样？可能心里没有那种“所见即所得”的建模软件踏实。\n",
    "让我们看看我们的模型构建的怎么样，这可以通过`ase.visualize`的`view()`方法完成"
   ]
  },
  {
   "cell_type": "code",
   "execution_count": 4,
   "id": "__bohr_old_version_cellId_14__",
   "metadata": {},
   "outputs": [
    {
     "data": {
      "text/plain": [
       "<Popen: returncode: None args: ['/home/james/apps/anaconda3/envs/pyscf/bin/p...>"
      ]
     },
     "execution_count": 4,
     "metadata": {},
     "output_type": "execute_result"
    }
   ],
   "source": [
    "from ase.visualize import view\n",
    "\n",
    "view(molecule)\n",
    "view(slab) # can be done by vscode"
   ]
  },
  {
   "cell_type": "markdown",
   "id": "__bohr_old_version_cellId_15__",
   "metadata": {},
   "source": [
    "view() 将弹出一个 ase.gui 窗口，这个窗口是交互式的，可以更换可视化角度并选择原子等。\n",
    "\n",
    "但请注意，默认的 viewer 使用的是 ase.gui 窗口，无法在 notebook 中展示。\n",
    "\n",
    "可以通过指定可选的关键字 viewer=... 来使用备用查看器。\n",
    "\n",
    "（请注意，这些备用查看器不是ASE的一部分，用户需要单独安装。） \n",
    "\n",
    "在 bohrium notebook 中，最佳的 viewer 参数是 `ngl` 或 `x3d` \n",
    "\n",
    "`ngl` 需要 nglview 的支持。一般来说，你的镜像已经安装了nglview，如果没有安装，请执行以下命令"
   ]
  },
  {
   "cell_type": "markdown",
   "id": "__bohr_old_version_cellId_16__",
   "metadata": {},
   "source": [
    "#### 1.2 添加计算器 <a id='1-2'></a>\n",
    "\n",
    "在这个ASE教程中，大部分的计算采用有效介质理论（EMT）计算器，因为它非常快速。\n",
    "但需要注意的是，其他的计算器都可以通过`ase.calculator`附加在 ASE 模块上，\n",
    "比如`VASP`, `GPAW`, `pyscf`, 以及`ABACUS`\n",
    "\n",
    "我们可以将计算器附加到先前创建的 Atoms 对象上："
   ]
  },
  {
   "cell_type": "code",
   "execution_count": 5,
   "id": "__bohr_old_version_cellId_17__",
   "metadata": {},
   "outputs": [],
   "source": [
    "from ase.calculators.emt import EMT\n",
    "slab.calc = EMT()\n",
    "molecule.calc = EMT()"
   ]
  },
  {
   "cell_type": "markdown",
   "id": "__bohr_old_version_cellId_18__",
   "metadata": {},
   "source": [
    "并使用Atoms类的get_potential_energy()方法来使用它计算系统的总能量："
   ]
  },
  {
   "cell_type": "code",
   "execution_count": 6,
   "id": "__bohr_old_version_cellId_19__",
   "metadata": {},
   "outputs": [
    {
     "name": "stdout",
     "output_type": "stream",
     "text": [
      "N2 的能量是：0.44034357303561467\n",
      "Cu 的能量是：11.509056283570382\n"
     ]
    }
   ],
   "source": [
    "e_slab = slab.get_potential_energy()\n",
    "e_N2 = molecule.get_potential_energy()\n",
    "print(f'N2 的能量是：{e_N2}')\n",
    "print(f'Cu 的能量是：{e_slab}')"
   ]
  },
  {
   "cell_type": "markdown",
   "id": "__bohr_old_version_cellId_20__",
   "metadata": {},
   "source": [
    "### 2 结构优化：以吸附态为例 <a id='case1'></a>\n",
    "\n",
    "让我们使用拟牛顿优化（Quasi-Newton）方法优化 $N_2$ 分子在铜表面上吸附的结构。首先需要将吸附剂添加到铜片上，构建表面吸附模型"
   ]
  },
  {
   "cell_type": "code",
   "execution_count": 7,
   "id": "__bohr_old_version_cellId_21__",
   "metadata": {},
   "outputs": [],
   "source": [
    "from ase.build import add_adsorbate\n",
    "\n",
    "h = 1.85\n",
    "add_adsorbate(slab, molecule, h, 'ontop')"
   ]
  },
  {
   "cell_type": "markdown",
   "id": "__bohr_old_version_cellId_22__",
   "metadata": {},
   "source": [
    "为了更好地模拟“从体相延伸出去的表面”体系，也为了加快优化速度，一般来说计算表面吸附与反应体系时，会固定相对底面的1-2层原子。\n",
    "\n",
    "简单起见，此处让我们使用来自 `ase.constraints` 约束模块的 `FixAtoms` 将所有 Cu 原子固定，只允许 $N_2$ 分子松弛到平衡结构。由于EMT计算器计算速度很快，这块原子固定操作可以不进行。\n",
    "\n",
    "需要注意的是，被固定的原子仅仅是不参与驰豫，而不是不参与计算。因此，被固定的原子仍然会对体系的总能量产生影响。"
   ]
  },
  {
   "cell_type": "code",
   "execution_count": 8,
   "id": "__bohr_old_version_cellId_23__",
   "metadata": {},
   "outputs": [],
   "source": [
    "from ase.constraints import FixAtoms\n",
    "\n",
    "constraint = FixAtoms(mask=[a.symbol != 'N' for a in slab])\n",
    "slab.set_constraint(constraint)"
   ]
  },
  {
   "cell_type": "markdown",
   "id": "__bohr_old_version_cellId_24__",
   "metadata": {},
   "source": [
    "现在将拟牛顿最小化器连接到系统并保存轨迹文件。在给定的收敛准则运行优化计算，即所有原子的力应小于某个 fmax："
   ]
  },
  {
   "cell_type": "code",
   "execution_count": 9,
   "id": "__bohr_old_version_cellId_25__",
   "metadata": {},
   "outputs": [
    {
     "name": "stdout",
     "output_type": "stream",
     "text": [
      "                Step[ FC]     Time          Energy          fmax\n",
      "*Force-consistent energies used in optimization.\n",
      "BFGSLineSearch:    0[  0] 23:03:22       11.689927*       1.0797\n",
      "BFGSLineSearch:    1[  2] 23:03:23       11.670814*       0.4090\n",
      "BFGSLineSearch:    2[  4] 23:03:23       11.625880*       0.0409\n"
     ]
    },
    {
     "data": {
      "text/plain": [
       "True"
      ]
     },
     "execution_count": 9,
     "metadata": {},
     "output_type": "execute_result"
    }
   ],
   "source": [
    "from ase.optimize import QuasiNewton\n",
    "\n",
    "dyn = QuasiNewton(slab, trajectory='N2Cu.traj')\n",
    "dyn.run(fmax=0.05)"
   ]
  },
  {
   "cell_type": "markdown",
   "id": "__bohr_old_version_cellId_26__",
   "metadata": {},
   "source": [
    "自然，这里也可以采用其他的优化器，比如优化中常用的`BFGS`, `CG`等等。"
   ]
  },
  {
   "cell_type": "code",
   "execution_count": 12,
   "id": "__bohr_old_version_cellId_27__",
   "metadata": {},
   "outputs": [
    {
     "name": "stdout",
     "output_type": "stream",
     "text": [
      "      Step     Time          Energy         fmax\n",
      "BFGS:    0 23:04:17       11.625880        0.0409\n"
     ]
    },
    {
     "data": {
      "text/plain": [
       "True"
      ]
     },
     "execution_count": 12,
     "metadata": {},
     "output_type": "execute_result"
    }
   ],
   "source": [
    "from ase.optimize import BFGS\n",
    "import os\n",
    "os.system(\"rm -f N2Cu.traj\")\n",
    "\n",
    "dyn2 = BFGS(slab, trajectory='N2Cu.traj')\n",
    "dyn2.run(fmax=0.05)"
   ]
  },
  {
   "cell_type": "markdown",
   "id": "__bohr_old_version_cellId_28__",
   "metadata": {},
   "source": [
    "到这里我们就得到了弛豫后体系的总能量是 11.803869 eV。\n",
    "\n",
    "让我们计算一下吸附能。"
   ]
  },
  {
   "cell_type": "code",
   "execution_count": 13,
   "id": "__bohr_old_version_cellId_29__",
   "metadata": {},
   "outputs": [
    {
     "name": "stdout",
     "output_type": "stream",
     "text": [
      "吸附能: 0.3235194223180837\n"
     ]
    }
   ],
   "source": [
    "print('吸附能:', e_slab + e_N2 - slab.get_potential_energy())"
   ]
  },
  {
   "cell_type": "markdown",
   "id": "__bohr_old_version_cellId_30__",
   "metadata": {},
   "source": [
    "### 3 输入与输出 <a id='io'></a>\n",
    "\n",
    "ASE的输入与输出主要通过`ase.io`模块中的方法进行\n",
    "\n",
    "可以调用其中的 `write()` 函数将原子位置写入文件："
   ]
  },
  {
   "cell_type": "code",
   "execution_count": null,
   "id": "__bohr_old_version_cellId_31__",
   "metadata": {},
   "outputs": [],
   "source": [
    "from ase.io import write\n",
    "\n",
    "write('slab.xyz', slab) # 保存为 extxyz 格式"
   ]
  },
  {
   "cell_type": "markdown",
   "id": "__bohr_old_version_cellId_32__",
   "metadata": {},
   "source": [
    "这将以xyz格式编写文件。可能的格式有：\n",
    "\n",
    "| 格式   | 描述                       |\n",
    "| ------ | -------------------------- |\n",
    "| `xyz`  | 常规的xyz格式（其实是`extxyz`格式）|\n",
    "| `cube` | 高斯立方体文件             |\n",
    "| `pdb`  | 蛋白质数据储存文件         |\n",
    "| `traj` | ASE自己的轨迹格式          |\n",
    "| `py`   | Python脚本                 |\n",
    "\n",
    "此处的`extxyz`格式是`xyz`格式的加强版，既保留了`xyz`格式的基本信息，\n",
    "又在此基础上增加了对体系各种属性（能量，原子受力，维里）等的读写支持，这种格式的文件被广泛应用于各种软件中，如分子动力学可视化软件Ovito，以及图神经网络机器学习势Nequip"
   ]
  },
  {
   "cell_type": "markdown",
   "id": "__bohr_old_version_cellId_33__",
   "metadata": {},
   "source": [
    "从文件中读取化学信息则常用`ase.io`模块的`read()`函数，具体的方法如下："
   ]
  },
  {
   "cell_type": "code",
   "execution_count": null,
   "id": "__bohr_old_version_cellId_34__",
   "metadata": {},
   "outputs": [],
   "source": [
    "from ase.io import read\n",
    "\n",
    "slab_from_file = read('slab.xyz')"
   ]
  },
  {
   "cell_type": "markdown",
   "id": "__bohr_old_version_cellId_35__",
   "metadata": {},
   "source": [
    "### 4 案例总结：N2在Cu上的吸附 <a id='case1'></a>\n",
    "\n",
    "将以上代码合并，即为通过ASE简单考察N2在Cu111表面吸附的全过程连续代码"
   ]
  },
  {
   "cell_type": "code",
   "execution_count": 14,
   "id": "__bohr_old_version_cellId_36__",
   "metadata": {},
   "outputs": [
    {
     "name": "stdout",
     "output_type": "stream",
     "text": [
      "                Step[ FC]     Time          Energy          fmax\n",
      "*Force-consistent energies used in optimization.\n",
      "BFGSLineSearch:    0[  0] 23:19:19       11.689927*       1.0797\n",
      "BFGSLineSearch:    1[  2] 23:19:19       11.670814*       0.4090\n",
      "BFGSLineSearch:    2[  4] 23:19:19       11.625880*       0.0409\n",
      "吸附能: 0.3235194223180837\n"
     ]
    }
   ],
   "source": [
    "from ase import Atoms\n",
    "from ase.calculators.emt import EMT\n",
    "from ase.constraints import FixAtoms\n",
    "from ase.optimize import QuasiNewton\n",
    "from ase.build import fcc111, add_adsorbate\n",
    "\n",
    "h = 1.85\n",
    "d = 1.10\n",
    "\n",
    "slab = fcc111('Cu', size=(4, 4, 2), vacuum=10.0)\n",
    "\n",
    "slab.calc = EMT()\n",
    "e_slab = slab.get_potential_energy()\n",
    "\n",
    "molecule = Atoms('2N', positions=[(0., 0., 0.), (0., 0., d)])\n",
    "molecule.calc = EMT()\n",
    "e_N2 = molecule.get_potential_energy()\n",
    "\n",
    "add_adsorbate(slab, molecule, h, 'ontop')\n",
    "constraint = FixAtoms(mask=[a.symbol != 'N' for a in slab])\n",
    "slab.set_constraint(constraint)\n",
    "dyn = QuasiNewton(slab, trajectory='N2Cu.traj')\n",
    "dyn.run(fmax=0.05)\n",
    "\n",
    "print('吸附能:', e_slab + e_N2 - slab.get_potential_energy())"
   ]
  },
  {
   "cell_type": "markdown",
   "id": "__bohr_old_version_cellId_37__",
   "metadata": {},
   "source": [
    "同样可以使用`view()`函数对我们优化得到的表面吸附体系进行可视化"
   ]
  },
  {
   "cell_type": "code",
   "execution_count": null,
   "id": "__bohr_old_version_cellId_38__",
   "metadata": {},
   "outputs": [],
   "source": [
    "from ase.visualize import view\n",
    "\n",
    "view(slab) # can be done by vscode"
   ]
  },
  {
   "cell_type": "markdown",
   "id": "__bohr_old_version_cellId_39__",
   "metadata": {},
   "source": [
    "### 5 分子动力学（Molecular dynamics）计算示例 <a id='molecular-dynamics'></a>\n",
    "\n",
    "ase中的`ase.md`模块可以进行分子动力学计算，这里让我们以氮分子为例，用 VelocityVerlet 算法来简单运行分子动力学模拟。\n",
    "\n",
    "我们首先创建 VelocityVerlet 对象，将其赋予分子（即N2的Atoms对象）和用于牛顿定律积分的时间步长。\n",
    "\n",
    "然后，我们通过调用其 run() 方法并告诉它要执行多少步骤来执行动力学："
   ]
  },
  {
   "cell_type": "code",
   "execution_count": 17,
   "id": "__bohr_old_version_cellId_40__",
   "metadata": {},
   "outputs": [
    {
     "name": "stdout",
     "output_type": "stream",
     "text": [
      " 0: 0.43838 eV, 0.29518 eV, 0.14320 eV\n",
      " 1: 0.43909 eV, 0.31878 eV, 0.12031 eV\n",
      " 2: 0.44034 eV, 0.44008 eV, 0.00026 eV\n",
      " 3: 0.43926 eV, 0.33273 eV, 0.10653 eV\n",
      " 4: 0.43824 eV, 0.28343 eV, 0.15482 eV\n",
      " 5: 0.44073 eV, 0.43975 eV, 0.00098 eV\n",
      " 6: 0.43846 eV, 0.30187 eV, 0.13659 eV\n",
      " 7: 0.43900 eV, 0.31207 eV, 0.12693 eV\n",
      " 8: 0.44033 eV, 0.43928 eV, 0.00106 eV\n",
      " 9: 0.43934 eV, 0.33987 eV, 0.09947 eV\n"
     ]
    }
   ],
   "source": [
    "from ase.md.verlet import VelocityVerlet\n",
    "from ase import units # units模块用于定义单位\n",
    "\n",
    "dyn = VelocityVerlet(molecule, dt=1.0 * units.fs) \n",
    "\n",
    "for i in range(10):\n",
    "    pot = molecule.get_potential_energy()\n",
    "    kin = molecule.get_kinetic_energy()\n",
    "    print('%2d: %.5f eV, %.5f eV, %.5f eV' % (i, pot + kin, pot, kin))\n",
    "    dyn.run(steps=50)"
   ]
  },
  {
   "cell_type": "markdown",
   "id": "__bohr_old_version_cellId_41__",
   "metadata": {},
   "source": [
    "### 6 本章总结 <a id='summary'></a>"
   ]
  },
  {
   "cell_type": "code",
   "execution_count": null,
   "id": "__bohr_old_version_cellId_42__",
   "metadata": {},
   "outputs": [],
   "source": [
    "# 运行完毕后删除生成的临时文件\n",
    "import os\n",
    "\n",
    "tmp_files = ['N2Cu.traj', 'slab.xyz']\n",
    "for i in tmp_files:\n",
    "    os.remove(i)"
   ]
  },
  {
   "cell_type": "markdown",
   "id": "__bohr_old_version_cellId_43__",
   "metadata": {},
   "source": [
    "在本教程中，您学习了在 ASE 中的一些基础方法。 \n",
    "\n",
    "具体而言，您了解到： \n",
    "- 使用 ASE 定义分子或晶体。\n",
    "- 计算体系能量并进行结构弛豫。\n",
    "- 使用 ASE 读取或写入原子文件\n",
    "- 可视化原子文件\n",
    "- 使用 ASE 进行分子动力学计算\n",
    " \n",
    "你有什么问题吗？ 欢迎与我们联系 [bohrium@dp.tech](mailto:bohrium@dp.tech) 。"
   ]
  }
 ],
 "metadata": {
  "kernelspec": {
   "display_name": "dpmd_conda",
   "language": "python",
   "name": "python3"
  },
  "language_info": {
   "codemirror_mode": {
    "name": "ipython",
    "version": 3
   },
   "file_extension": ".py",
   "mimetype": "text/x-python",
   "name": "python",
   "nbconvert_exporter": "python",
   "pygments_lexer": "ipython3",
   "version": "3.12.9"
  },
  "orig_nbformat_minor": 2
 },
 "nbformat": 4,
 "nbformat_minor": 5
}
