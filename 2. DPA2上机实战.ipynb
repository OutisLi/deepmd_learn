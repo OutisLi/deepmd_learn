{
 "cells": [
  {
   "cell_type": "markdown",
   "id": "e4cde32c-5fc9-4354-846e-0d5a293e301a",
   "metadata": {},
   "source": [
    "# DPA2上机实战"
   ]
  },
  {
   "cell_type": "markdown",
   "id": "db2ba0df-1ec9-4d45-983e-919c96833740",
   "metadata": {},
   "source": [
    "<a href=\"https://bohrium.dp.tech/notebook/62349a165b874acd951aeea947b2e17a  #DPA-SSE.ipynb\" target=\"_blank\"><img src=\"https://cdn.dp.tech/bohrium/web/static/images/open-in-bohrium.svg\" alt=\"Open In Bohrium\"/></a>"
   ]
  },
  {
   "cell_type": "markdown",
   "id": "bebf09da-5304-4b91-b5c3-a92aa84b9e38",
   "metadata": {},
   "source": [
    "<div class=\"alert alert-info\">\n",
    "\n",
    "💭在阅读本notebook之前，建议读者先阅读DeePMD和DPA-1的相关教程，本文将不再详细介绍输入文件中的各项参数的含义：\n",
    "1. [哥伦布训练营|DPA-1——固态电解质实战之模型训练&性质计算篇](https://nb.bohrium.dp.tech/detail/7145731165)\n",
    "2. [快速开始 DeePMD-kit｜训练甲烷深度势能分子动力学模型](https://nb.bohrium.dp.tech/detail/1003)\n",
    "\n",
    "</div>"
   ]
  },
  {
   "cell_type": "markdown",
   "id": "bf69573d-55b2-45ee-ae34-c9fe35d8cf03",
   "metadata": {},
   "source": [
    "## **1. 学习目标**\n",
    "在本教程学习后，你将获得：\n",
    "1. DPA-2基本原理和应用；\n",
    "2. 以H2O-SCAN0数据集为例，进行DPA-2势函数模型训练实战：输入脚本解读；从头训 vs. 已有预训练模型微调；"
   ]
  },
  {
   "cell_type": "markdown",
   "id": "98b1feb6-12a2-4f4d-9925-3a73c155c322",
   "metadata": {},
   "source": [
    "## **2. DPA-2简介**\n",
    "👂<b style='color:#021E66'> **迫不及待动手实践？可直接跳转至第3节~**"
   ]
  },
  {
   "cell_type": "markdown",
   "id": "c0f98fba-6609-4167-b307-b11cfbf766d5",
   "metadata": {},
   "source": [
    "### **2.1 研究背景**\n",
    "一直以来，势函数训练都在追求精度和效率的平衡。使用经典力场势函数方便快捷，但模拟精度难以更上一层楼；使用近来火热的AIMD(从头算分子动力学)，势函数精度获得大幅提升，但计算资源花费难以在大体系、长时间的场景落地。随着AI for science的发展，**机器学习手段使得训练高精度、高效率的势函数成为可能**(下图：分子动力学模拟对比)。在MLMD的新范式下，量子化学计算(QM)不再直接应用于AIMD，而是作为生成机器学习势函数(MLP)的数据集准备; 当然，AIMD的计算结果也可以作为初始数据集。\n",
    "\n",
    "![image.png](https://bohrium.oss-cn-zhangjiakou.aliyuncs.com/article/13387/816de22eec6548c4aca8fe84cb81e4e8/image.png)\n",
    "\n",
    "ref. [Machine learning-accelerated quantum mechanics-based atomistic simulations for industrial applications](https://link.springer.com/article/10.1007/s10822-020-00346-6)\n",
    "\n",
    "然而，由于现有模型迁移能力不足、缺乏通用的大模型，面对一个新的复杂体系，要获得可用的、较为完备的势函数模型，科学家们基本上仍然需要获取大量计算数据并从头开始训练模型。随着电子结构数据的积累，类比计算机视觉（CV）或者自然语言处理（NLP）等其他人工智能领域的发展，**“预训练+少量数据微调”**是解决这个难题比较自然的想法。\n",
    "\n",
    "为了实现这一范式，我们亟需一种具有**强迁移能力、能容纳元素周期表大多数元素**的模型结构。"
   ]
  },
  {
   "cell_type": "markdown",
   "id": "35a14ff7-b7ae-49c3-a094-c460e6c77ab0",
   "metadata": {},
   "source": [
    "### **2.2 研究方法**"
   ]
  },
  {
   "cell_type": "markdown",
   "id": "400ff2f0-4262-4e32-98b9-9c6a48db7471",
   "metadata": {},
   "source": [
    "DPA-2模型是继DPA-1之后对DP系列模型的又一次全面升级：\n",
    "\n",
    "一方面是DPA-2使用了多任务训练策略（multi-task training），可以同时使用DFT设置不同的多个数据集进行预训练，在对下游任务进行微调（finetune）时，模型的主干（将构型空间和化学空间的表示进行编码的部分）将被保留，并在后边连接到一个或多个头部网络。因此，预训练的数据集和微调的数据集的标注方法不必完全相同。经过微调得到的模型参数量较多，直接应用于生产场景（如MD模拟）时可能会导致效率低下，为了解决这一问题，我们可以将模型蒸馏（distillation）为一个参数量较少的模型，既能保持下游任务的准确性，又能提高速度，从而可以进行大规模的模拟。（Figure1：预训练，微调，蒸馏的流程图）"
   ]
  },
  {
   "cell_type": "markdown",
   "id": "89c11a7b-1beb-451c-a90d-69dfba1ba95d",
   "metadata": {},
   "source": [
    "![alt image.png](https://bohrium.oss-cn-zhangjiakou.aliyuncs.com/article/11461/10e2b52367624ea7a3a12cff12408aad/6RYF9tJpDX0msByrKa-EsA.png)"
   ]
  },
  {
   "cell_type": "markdown",
   "id": "1c81ccdc-7726-4bbb-a0da-d311a16872e4",
   "metadata": {},
   "source": [
    "另一方面，DPA-2进一步改进了模型结构，对原子间的相互作用实现了更为充分的建模，通过在合金、半导体、电池材料和药物分子等数据集上的预训练，能够学习到更多隐藏的原子交互信息，极大提升了模型在包含不同构象、不同组分的数据集之间的迁移能力。我们将模型在18个不同的数据集上进行了预训练，并将此预训练模型在各种下游任务上进行了迁移学习，实验表明，与DPA-1模型相比，DPA-2预训练模型能进一步大幅降低下游任务训练所需数据量及训练成本、提高模型预测精度(Figure2:DPA-2模型结构示意图)。"
   ]
  },
  {
   "cell_type": "markdown",
   "id": "c7252b18-b21e-47b7-a559-f30d8d493ec4",
   "metadata": {},
   "source": [
    "![alt image.png](https://bohrium.oss-cn-zhangjiakou.aliyuncs.com/article/11461/10e2b52367624ea7a3a12cff12408aad/DhaNEFWOeNlTkk8MXgNSUg.png)"
   ]
  },
  {
   "cell_type": "markdown",
   "id": "d68013b3-a5d9-4f8a-9c68-187845463678",
   "metadata": {},
   "source": [
    "### **2.3 实验验证**"
   ]
  },
  {
   "cell_type": "markdown",
   "id": "a3308a24-67af-4b9e-a57d-c7b084424812",
   "metadata": {},
   "source": [
    "**数据集概览**"
   ]
  },
  {
   "cell_type": "markdown",
   "id": "2f4d8115-2da5-46a8-9c8f-a96bf13d5d8d",
   "metadata": {},
   "source": [
    "![alt image.png](https://bohrium.oss-cn-zhangjiakou.aliyuncs.com/article/11461/82b2a315aebe4108a1bf3d56bdc30e46/KAHsNGXyxCoQt5e59bccjA.png)"
   ]
  },
  {
   "cell_type": "markdown",
   "id": "ff7d4109-dca6-4d37-951d-e1ccdcc7fa53",
   "metadata": {},
   "source": [
    "我们将各个数据集在预训练模型中的表示（descriptor）可视化（使用t-SNE方法），结果如下图所示："
   ]
  },
  {
   "cell_type": "markdown",
   "id": "67c25772-ecf8-40d3-b6bc-23f54132f81d",
   "metadata": {},
   "source": [
    "![alt img_v3_025j_f2abcf80-d0cb-45b0-afd0-3b8b32ad2abg.jpg](https://bohrium.oss-cn-zhangjiakou.aliyuncs.com/article/11461/82b2a315aebe4108a1bf3d56bdc30e46/pXvCAh99X9Tw9-nL_CwRJg.jpeg)"
   ]
  },
  {
   "cell_type": "markdown",
   "id": "5a652022-4b23-44dc-948b-57d6fbe06ec1",
   "metadata": {},
   "source": [
    "**下游任务微调**\n",
    "\n",
    "研究者利用下游数据集对 DPA-1、DPA-2 和 multitask pretrained DPA-2模型进行了采样效率测试，观察随着下游任务数据量的增加，收敛之后的能量和力的RMSE的变化趋势（Figure 3: 下游数据集的结果）。\n",
    "\n",
    "从图中可以看出：\n",
    "\n",
    "1.从头训练的DPA-2模型比DPA-1模型有更好的收敛精度，尤其是在数据量足够大的情况下，这一结果凸显了DPA-2模型结构的优越性。\n",
    "\n",
    "2.当进行多任务预训练（multitask pretrain）时，经过微调的DPA-2模型可能会产生比从头训练的DPA-2模型低得多的曲线，尤其是在下游数据有限的情况下。在 H2O -SCAN0 等数据集上，即使是零点均方根误差（RMSE）也足够精确。"
   ]
  },
  {
   "cell_type": "markdown",
   "id": "c5e0d9fc-48b2-4410-bbf1-19af70b0792b",
   "metadata": {},
   "source": [
    "![alt image.png](https://bohrium.oss-cn-zhangjiakou.aliyuncs.com/article/11461/82b2a315aebe4108a1bf3d56bdc30e46/4Eufc2TfK0pqcakQ64AcjQ.png)"
   ]
  },
  {
   "cell_type": "markdown",
   "id": "e6693237-9323-4a40-a4da-b672e756133e",
   "metadata": {},
   "source": [
    "## **3. DPA2实战**\n",
    "学习了理论知识后，让我们直接动手实践吧!\n",
    "本节，我们将以数据集H20-SCAN0为例，开展DPA-2的从头训和微调训练。\n",
    "\n",
    "<b style='color:#021E66'>注：本教程所使用的数据集源自[科学智能广场（AIS-Square)](https://aissquare.com/)，有更多模型和数据需求的同学赶快去探索一下吧~"
   ]
  },
  {
   "cell_type": "markdown",
   "id": "f5ac7ba9-f1ad-4836-9e93-2f07c3d268d5",
   "metadata": {},
   "source": [
    "### 3.1 内容介绍"
   ]
  },
  {
   "cell_type": "code",
   "execution_count": 15,
   "id": "3ef6ef11-53b8-46d0-bcf2-d928342c4b54",
   "metadata": {
    "trusted": true
   },
   "outputs": [
    {
     "name": "stdout",
     "output_type": "stream",
     "text": [
      "/root/dpa2\n"
     ]
    }
   ],
   "source": [
    "cd /root/dpa2"
   ]
  },
  {
   "cell_type": "code",
   "execution_count": 17,
   "id": "5a44b046-5af1-4305-b4e9-52283ab7eb14",
   "metadata": {
    "trusted": true
   },
   "outputs": [
    {
     "name": "stdout",
     "output_type": "stream",
     "text": [
      "\u001b[01;34m.\u001b[00m\n",
      "├── \u001b[01;34mdata\u001b[00m\n",
      "│   └── \u001b[01;34mH2O-scan0\u001b[00m\n",
      "├── \u001b[01;34mfinetune\u001b[00m\n",
      "│   └── input.json\n",
      "├── \u001b[01;34mfrom_scratch\u001b[00m\n",
      "│   └── input.json\n",
      "└── \u001b[01;34mpretrain_model\u001b[00m\n",
      "    └── model.pt\n",
      "\n",
      "5 directories, 3 files\n"
     ]
    }
   ],
   "source": [
    "!tree -L 2"
   ]
  },
  {
   "cell_type": "markdown",
   "id": "a67ecf50-fb94-4486-b574-1007addd2c20",
   "metadata": {},
   "source": [
    "让我们一起看看教程文档包含的内容：\n",
    "\n",
    "data: H2O-SCAN0数据集\n",
    "\n",
    "finetune: 基于预训练模型的微调训练的目录，input.json为输入文件\n",
    "\n",
    "from_scratch: DPA-2从头训练的目录，input.json为输入文件\n",
    "\n",
    "pretrain_model: 预训练模型所在的目录，model.pt为预训练模型"
   ]
  },
  {
   "cell_type": "markdown",
   "id": "0727efdf-5671-4642-9192-08b10b3f8f9a",
   "metadata": {},
   "source": [
    "### 3.2 输入脚本准备"
   ]
  },
  {
   "cell_type": "markdown",
   "id": "1bf80ac1-d2ae-4086-84d4-7237e7b31963",
   "metadata": {},
   "source": [
    "从头训和模型微调训练的输入文件在此例子下是完全相同的："
   ]
  },
  {
   "cell_type": "code",
   "execution_count": 18,
   "id": "b5910eb5-af50-48a5-81bf-41cf79d66cd7",
   "metadata": {
    "trusted": true
   },
   "outputs": [
    {
     "name": "stdout",
     "output_type": "stream",
     "text": [
      "{\n",
      " \"_comment\": \"that's all\",\n",
      " \"model\": {\n",
      "  \"type_embedding\": {\n",
      "   \"neuron\": [\n",
      "    8\n",
      "   ],\n",
      "   \"tebd_input_mode\": \"concat\"\n",
      "  },\n",
      "  \"type_map\": [\n",
      "   \"H\",\n",
      "   \"He\",\n",
      "   \"Li\",\n",
      "   \"Be\",\n",
      "   \"B\",\n",
      "   \"C\",\n",
      "   \"N\",\n",
      "   \"O\",\n",
      "   \"F\",\n",
      "   \"Ne\",\n",
      "   \"Na\",\n",
      "   \"Mg\",\n",
      "   \"Al\",\n",
      "   \"Si\",\n",
      "   \"P\",\n",
      "   \"S\",\n",
      "   \"Cl\",\n",
      "   \"Ar\",\n",
      "   \"K\",\n",
      "   \"Ca\",\n",
      "   \"Sc\",\n",
      "   \"Ti\",\n",
      "   \"V\",\n",
      "   \"Cr\",\n",
      "   \"Mn\",\n",
      "   \"Fe\",\n",
      "   \"Co\",\n",
      "   \"Ni\",\n",
      "   \"Cu\",\n",
      "   \"Zn\",\n",
      "   \"Ga\",\n",
      "   \"Ge\",\n",
      "   \"As\",\n",
      "   \"Se\",\n",
      "   \"Br\",\n",
      "   \"Kr\",\n",
      "   \"Rb\",\n",
      "   \"Sr\",\n",
      "   \"Y\",\n",
      "   \"Zr\",\n",
      "   \"Nb\",\n",
      "   \"Mo\",\n",
      "   \"Tc\",\n",
      "   \"Ru\",\n",
      "   \"Rh\",\n",
      "   \"Pd\",\n",
      "   \"Ag\",\n",
      "   \"Cd\",\n",
      "   \"In\",\n",
      "   \"Sn\",\n",
      "   \"Sb\",\n",
      "   \"Te\",\n",
      "   \"I\",\n",
      "   \"Xe\",\n",
      "   \"Cs\",\n",
      "   \"Ba\",\n",
      "   \"La\",\n",
      "   \"Ce\",\n",
      "   \"Pr\",\n",
      "   \"Nd\",\n",
      "   \"Pm\",\n",
      "   \"Sm\",\n",
      "   \"Eu\",\n",
      "   \"Gd\",\n",
      "   \"Tb\",\n",
      "   \"Dy\",\n",
      "   \"Ho\",\n",
      "   \"Er\",\n",
      "   \"Tm\",\n",
      "   \"Yb\",\n",
      "   \"Lu\",\n",
      "   \"Hf\",\n",
      "   \"Ta\",\n",
      "   \"W\",\n",
      "   \"Re\",\n",
      "   \"Os\",\n",
      "   \"Ir\",\n",
      "   \"Pt\",\n",
      "   \"Au\",\n",
      "   \"Hg\",\n",
      "   \"Tl\",\n",
      "   \"Pb\",\n",
      "   \"Bi\",\n",
      "   \"Po\",\n",
      "   \"At\",\n",
      "   \"Rn\",\n",
      "   \"Fr\",\n",
      "   \"Ra\",\n",
      "   \"Ac\",\n",
      "   \"Th\",\n",
      "   \"Pa\",\n",
      "   \"U\",\n",
      "   \"Np\",\n",
      "   \"Pu\",\n",
      "   \"Am\",\n",
      "   \"Cm\",\n",
      "   \"Bk\",\n",
      "   \"Cf\",\n",
      "   \"Es\",\n",
      "   \"Fm\",\n",
      "   \"Md\",\n",
      "   \"No\",\n",
      "   \"Lr\",\n",
      "   \"Rf\",\n",
      "   \"Db\",\n",
      "   \"Sg\",\n",
      "   \"Bh\",\n",
      "   \"Hs\",\n",
      "   \"Mt\",\n",
      "   \"Ds\",\n",
      "   \"Rg\",\n",
      "   \"Cn\",\n",
      "   \"Nh\",\n",
      "   \"Fl\",\n",
      "   \"Mc\",\n",
      "   \"Lv\",\n",
      "   \"Ts\",\n",
      "   \"Og\"\n",
      "  ],\n",
      "  \"descriptor\": {\n",
      "   \"type\": \"hybrid\",\n",
      "   \"hybrid_mode\": \"sequential\",\n",
      "   \"list\": [\n",
      "    {\n",
      "     \"type\": \"se_atten\",\n",
      "     \"sel\": 120,\n",
      "     \"rcut_smth\": 8.0,\n",
      "     \"rcut\": 9.0,\n",
      "     \"neuron\": [\n",
      "      25,\n",
      "      50,\n",
      "      100\n",
      "     ],\n",
      "     \"resnet_dt\": false,\n",
      "     \"axis_neuron\": 12,\n",
      "     \"seed\": 1,\n",
      "     \"attn\": 128,\n",
      "     \"attn_layer\": 0,\n",
      "     \"attn_dotr\": true,\n",
      "     \"attn_mask\": false,\n",
      "     \"post_ln\": true,\n",
      "     \"ffn\": false,\n",
      "     \"ffn_embed_dim\": 1024,\n",
      "     \"activation\": \"tanh\",\n",
      "     \"scaling_factor\": 1.0,\n",
      "     \"head_num\": 1,\n",
      "     \"normalize\": true,\n",
      "     \"temperature\": 1.0,\n",
      "     \"add\": \"concat\",\n",
      "     \"pre_add\": true,\n",
      "     \"_comment\": \" that's all\"\n",
      "    },\n",
      "    {\n",
      "     \"type\": \"se_uni\",\n",
      "     \"sel\": 40,\n",
      "     \"rcut_smth\": 3.5,\n",
      "     \"rcut\": 4.0,\n",
      "     \"nlayers\": 12,\n",
      "     \"g1_dim\": 128,\n",
      "     \"g2_dim\": 32,\n",
      "     \"attn2_hidden\": 32,\n",
      "     \"attn2_nhead\": 4,\n",
      "     \"attn1_hidden\": 128,\n",
      "     \"attn1_nhead\": 4,\n",
      "     \"axis_dim\": 4,\n",
      "     \"update_h2\": false,\n",
      "     \"update_g1_has_conv\": true,\n",
      "     \"update_g1_has_grrg\": true,\n",
      "     \"update_g1_has_drrd\": true,\n",
      "     \"update_g1_has_attn\": true,\n",
      "     \"update_g2_has_g1g1\": true,\n",
      "     \"update_g2_has_attn\": true,\n",
      "     \"attn2_has_gate\": true,\n",
      "     \"add_type_ebd_to_seq\": false,\n",
      "     \"smooth\": true,\n",
      "     \"_comment\": \" that's all\"\n",
      "    }\n",
      "   ]\n",
      "  },\n",
      "  \"fitting_net\": {\n",
      "   \"neuron\": [\n",
      "    240,\n",
      "    240,\n",
      "    240\n",
      "   ],\n",
      "   \"resnet_dt\": true,\n",
      "   \"seed\": 1,\n",
      "   \"_comment\": \" that's all\"\n",
      "  },\n",
      "  \"_comment\": \" that's all\"\n",
      " },\n",
      " \"learning_rate\": {\n",
      "  \"type\": \"exp\",\n",
      "  \"decay_steps\": 1,\n",
      "  \"start_lr\": 0.0002,\n",
      "  \"stop_lr\": 3.51e-08,\n",
      "  \"_comment\": \"that's all\"\n",
      " },\n",
      " \"loss\": {\n",
      "  \"type\": \"ener\",\n",
      "  \"start_pref_e\": 0.02,\n",
      "  \"limit_pref_e\": 1,\n",
      "  \"start_pref_f\": 1000,\n",
      "  \"limit_pref_f\": 1,\n",
      "  \"start_pref_v\": 0,\n",
      "  \"limit_pref_v\": 0,\n",
      "  \"_comment\": \" that's all\"\n",
      " },\n",
      " \"training\": {\n",
      "  \"training_data\": {\n",
      "   \"systems\": [\n",
      "                \"/root/dpa2/data/H2O-scan0/data1/train\",\n",
      "                \"/root/dpa2/data/H2O-scan0/data10/train\",\n",
      "                \"/root/dpa2/data/H2O-scan0/data11/train\",\n",
      "                \"/root/dpa2/data/H2O-scan0/data12/train\",\n",
      "                \"/root/dpa2/data/H2O-scan0/data13/train\",\n",
      "                \"/root/dpa2/data/H2O-scan0/data14/train\",\n",
      "                \"/root/dpa2/data/H2O-scan0/data15/train\",\n",
      "                \"/root/dpa2/data/H2O-scan0/data16/train\",\n",
      "                \"/root/dpa2/data/H2O-scan0/data17/train\",\n",
      "                \"/root/dpa2/data/H2O-scan0/data18/train\",\n",
      "                \"/root/dpa2/data/H2O-scan0/data19/train\",\n",
      "                \"/root/dpa2/data/H2O-scan0/data2/train\",\n",
      "                \"/root/dpa2/data/H2O-scan0/data20/train\",\n",
      "                \"/root/dpa2/data/H2O-scan0/data21/train\",\n",
      "                \"/root/dpa2/data/H2O-scan0/data22/train\",\n",
      "                \"/root/dpa2/data/H2O-scan0/data23/train\",\n",
      "                \"/root/dpa2/data/H2O-scan0/data24/train\",\n",
      "                \"/root/dpa2/data/H2O-scan0/data25/train\",\n",
      "                \"/root/dpa2/data/H2O-scan0/data26/train\",\n",
      "                \"/root/dpa2/data/H2O-scan0/data27/train\",\n",
      "                \"/root/dpa2/data/H2O-scan0/data28/train\",\n",
      "                \"/root/dpa2/data/H2O-scan0/data29/train\",\n",
      "                \"/root/dpa2/data/H2O-scan0/data3/train\",\n",
      "                \"/root/dpa2/data/H2O-scan0/data30/train\",\n",
      "                \"/root/dpa2/data/H2O-scan0/data31/train\",\n",
      "                \"/root/dpa2/data/H2O-scan0/data32/train\",\n",
      "                \"/root/dpa2/data/H2O-scan0/data33/train\",\n",
      "                \"/root/dpa2/data/H2O-scan0/data34/train\",\n",
      "                \"/root/dpa2/data/H2O-scan0/data35/train\",\n",
      "                \"/root/dpa2/data/H2O-scan0/data36/train\",\n",
      "                \"/root/dpa2/data/H2O-scan0/data37/train\",\n",
      "                \"/root/dpa2/data/H2O-scan0/data38/train\",\n",
      "                \"/root/dpa2/data/H2O-scan0/data39/train\",\n",
      "                \"/root/dpa2/data/H2O-scan0/data4/train\",\n",
      "                \"/root/dpa2/data/H2O-scan0/data40/train\",\n",
      "                \"/root/dpa2/data/H2O-scan0/data41/train\",\n",
      "                \"/root/dpa2/data/H2O-scan0/data42/train\",\n",
      "                \"/root/dpa2/data/H2O-scan0/data43/train\",\n",
      "                \"/root/dpa2/data/H2O-scan0/data44/train\",\n",
      "                \"/root/dpa2/data/H2O-scan0/data45/train\",\n",
      "                \"/root/dpa2/data/H2O-scan0/data5/train\",\n",
      "                \"/root/dpa2/data/H2O-scan0/data6/train\",\n",
      "                \"/root/dpa2/data/H2O-scan0/data7/train\",\n",
      "                \"/root/dpa2/data/H2O-scan0/data8/train\",\n",
      "                \"/root/dpa2/data/H2O-scan0/data9/train\",\n",
      "                \"/root/dpa2/data/H2O-scan0/data_ex1/train\",\n",
      "                \"/root/dpa2/data/H2O-scan0/data_ex2/train\",\n",
      "                \"/root/dpa2/data/H2O-scan0/data_ex3/train\",\n",
      "                \"/root/dpa2/data/H2O-scan0/data_ex4/train\",\n",
      "                \"/root/dpa2/data/H2O-scan0/data_ex5/train\",\n",
      "                \"/root/dpa2/data/H2O-scan0/data_ex6/train\"\n",
      "   ],\n",
      "   \"batch_size\": \"auto\",\n",
      "   \"_comment\": \"that's all\"\n",
      "  },\n",
      "  \"validation_data\": {\n",
      "   \"systems\": [\n",
      "                \"/root/dpa2/data/H2O-scan0/data1/valid\",\n",
      "                \"/root/dpa2/data/H2O-scan0/data10/valid\",\n",
      "                \"/root/dpa2/data/H2O-scan0/data11/valid\",\n",
      "                \"/root/dpa2/data/H2O-scan0/data12/valid\",\n",
      "                \"/root/dpa2/data/H2O-scan0/data13/valid\",\n",
      "                \"/root/dpa2/data/H2O-scan0/data14/valid\",\n",
      "                \"/root/dpa2/data/H2O-scan0/data15/valid\",\n",
      "                \"/root/dpa2/data/H2O-scan0/data16/valid\",\n",
      "                \"/root/dpa2/data/H2O-scan0/data17/valid\",\n",
      "                \"/root/dpa2/data/H2O-scan0/data18/valid\",\n",
      "                \"/root/dpa2/data/H2O-scan0/data19/valid\",\n",
      "                \"/root/dpa2/data/H2O-scan0/data2/valid\",\n",
      "                \"/root/dpa2/data/H2O-scan0/data20/valid\",\n",
      "                \"/root/dpa2/data/H2O-scan0/data21/valid\",\n",
      "                \"/root/dpa2/data/H2O-scan0/data22/valid\",\n",
      "                \"/root/dpa2/data/H2O-scan0/data23/valid\",\n",
      "                \"/root/dpa2/data/H2O-scan0/data24/valid\",\n",
      "                \"/root/dpa2/data/H2O-scan0/data25/valid\",\n",
      "                \"/root/dpa2/data/H2O-scan0/data26/valid\",\n",
      "                \"/root/dpa2/data/H2O-scan0/data27/valid\",\n",
      "                \"/root/dpa2/data/H2O-scan0/data28/valid\",\n",
      "                \"/root/dpa2/data/H2O-scan0/data29/valid\",\n",
      "                \"/root/dpa2/data/H2O-scan0/data3/valid\",\n",
      "                \"/root/dpa2/data/H2O-scan0/data30/valid\",\n",
      "                \"/root/dpa2/data/H2O-scan0/data31/valid\",\n",
      "                \"/root/dpa2/data/H2O-scan0/data32/valid\",\n",
      "                \"/root/dpa2/data/H2O-scan0/data33/valid\",\n",
      "                \"/root/dpa2/data/H2O-scan0/data34/valid\",\n",
      "                \"/root/dpa2/data/H2O-scan0/data35/valid\",\n",
      "                \"/root/dpa2/data/H2O-scan0/data36/valid\",\n",
      "                \"/root/dpa2/data/H2O-scan0/data37/valid\",\n",
      "                \"/root/dpa2/data/H2O-scan0/data38/valid\",\n",
      "                \"/root/dpa2/data/H2O-scan0/data39/valid\",\n",
      "                \"/root/dpa2/data/H2O-scan0/data4/valid\",\n",
      "                \"/root/dpa2/data/H2O-scan0/data40/valid\",\n",
      "                \"/root/dpa2/data/H2O-scan0/data41/valid\",\n",
      "                \"/root/dpa2/data/H2O-scan0/data42/valid\",\n",
      "                \"/root/dpa2/data/H2O-scan0/data43/valid\",\n",
      "                \"/root/dpa2/data/H2O-scan0/data44/valid\",\n",
      "                \"/root/dpa2/data/H2O-scan0/data45/valid\",\n",
      "                \"/root/dpa2/data/H2O-scan0/data5/valid\",\n",
      "                \"/root/dpa2/data/H2O-scan0/data6/valid\",\n",
      "                \"/root/dpa2/data/H2O-scan0/data7/valid\",\n",
      "                \"/root/dpa2/data/H2O-scan0/data8/valid\",\n",
      "                \"/root/dpa2/data/H2O-scan0/data9/valid\",\n",
      "                \"/root/dpa2/data/H2O-scan0/data_ex1/valid\",\n",
      "                \"/root/dpa2/data/H2O-scan0/data_ex2/valid\",\n",
      "                \"/root/dpa2/data/H2O-scan0/data_ex3/valid\",\n",
      "                \"/root/dpa2/data/H2O-scan0/data_ex4/valid\",\n",
      "                \"/root/dpa2/data/H2O-scan0/data_ex5/valid\",\n",
      "                \"/root/dpa2/data/H2O-scan0/data_ex6/valid\"\n",
      "   ],\n",
      "   \"batch_size\": 1,\n",
      "   \"_comment\": \"that's all\"\n",
      "  },\n",
      "  \"numb_steps\": 200,\n",
      "  \"warmup_steps\": 0,\n",
      "  \"gradient_max_norm\": 5.0,\n",
      "  \"seed\": 10,\n",
      "  \"disp_file\": \"lcurve.out\",\n",
      "  \"disp_freq\": 25,\n",
      "  \"save_freq\": 200,\n",
      "  \"_comment\": \"that's all\",\n",
      "  \"wandb_config\": {\n",
      "   \"wandb_enabled\": false,\n",
      "   \"entity\": \"dp_model_engineering\",\n",
      "   \"project\": \"DPA\"\n",
      "  }\n",
      " }\n",
      "}\n"
     ]
    }
   ],
   "source": [
    "cat from_scratch/input.json"
   ]
  },
  {
   "cell_type": "markdown",
   "id": "2b129f6e-fb1e-4e41-9a4f-9f237c3d56bc",
   "metadata": {},
   "source": [
    "相比于DPA-1模型，DPA-2主要不同的参数集中在`descriptor`部分\n",
    "```json\n",
    "\"descriptor\": {\n",
    "   \"type\": \"hybrid\",\n",
    "   \"hybrid_mode\": \"sequential\",\n",
    "   \"list\": [\n",
    "    {\n",
    "     \"type\": \"se_atten\",\n",
    "     \"sel\": 120,\n",
    "     \"rcut_smth\": 8.0,\n",
    "     \"rcut\": 9.0,\n",
    "     \"neuron\": [\n",
    "      25,\n",
    "      50,\n",
    "      100\n",
    "     ],\n",
    "     \"resnet_dt\": false,\n",
    "     \"axis_neuron\": 12,\n",
    "     \"seed\": 1,\n",
    "     \"attn\": 128,\n",
    "     \"attn_layer\": 0,\n",
    "     \"attn_dotr\": true,\n",
    "     \"attn_mask\": false,\n",
    "     \"post_ln\": true,\n",
    "     \"ffn\": false,\n",
    "     \"ffn_embed_dim\": 1024,\n",
    "     \"activation\": \"tanh\",\n",
    "     \"scaling_factor\": 1.0,\n",
    "     \"head_num\": 1,\n",
    "     \"normalize\": true,\n",
    "     \"temperature\": 1.0,\n",
    "     \"add\": \"concat\",\n",
    "     \"pre_add\": true,\n",
    "     \"_comment\": \" that's all\"\n",
    "    },\n",
    "    {\n",
    "     \"type\": \"se_uni\",\n",
    "     \"sel\": 40,\n",
    "     \"rcut_smth\": 3.5,\n",
    "     \"rcut\": 4.0,\n",
    "     \"nlayers\": 12,\n",
    "     \"g1_dim\": 128,\n",
    "     \"g2_dim\": 32,\n",
    "     \"attn2_hidden\": 32,\n",
    "     \"attn2_nhead\": 4,\n",
    "     \"attn1_hidden\": 128,\n",
    "     \"attn1_nhead\": 4,\n",
    "     \"axis_dim\": 4,\n",
    "     \"update_h2\": false,\n",
    "     \"update_g1_has_conv\": true,\n",
    "     \"update_g1_has_grrg\": true,\n",
    "     \"update_g1_has_drrd\": true,\n",
    "     \"update_g1_has_attn\": true,\n",
    "     \"update_g2_has_g1g1\": true,\n",
    "     \"update_g2_has_attn\": true,\n",
    "     \"attn2_has_gate\": true,\n",
    "     \"add_type_ebd_to_seq\": false,\n",
    "     \"smooth\": true,\n",
    "     \"_comment\": \" that's all\"\n",
    "    }\n",
    "   ]\n",
    "  },\n",
    "```"
   ]
  },
  {
   "cell_type": "markdown",
   "id": "fcc56097-def6-427c-aec7-152dc62cdd1c",
   "metadata": {},
   "source": [
    "相比于之前大家常用的se_e2_a描述子和DPA-1模型的se_atten描述子来说，DPA-2采用了se_attn和se_uni的混合描述子，其中两个描述子为串联关系，即se_attn描述子的输出作为se_uni描述子的输入。具体的模型构造可参考Figure 2。 "
   ]
  },
  {
   "cell_type": "markdown",
   "id": "65070b96-e4b9-4e91-9857-59f8f4d71951",
   "metadata": {},
   "source": [
    "### 3.3 模型训练(从头训)"
   ]
  },
  {
   "cell_type": "code",
   "execution_count": 19,
   "id": "7599b0a3-c14c-4a46-b03a-6d5556392a3a",
   "metadata": {
    "trusted": true
   },
   "outputs": [
    {
     "name": "stdout",
     "output_type": "stream",
     "text": [
      "/root/dpa2/from_scratch\n"
     ]
    }
   ],
   "source": [
    "cd from_scratch"
   ]
  },
  {
   "cell_type": "code",
   "execution_count": 20,
   "id": "978daec7-8043-4d5e-9049-773cd178eef2",
   "metadata": {
    "trusted": true
   },
   "outputs": [
    {
     "name": "stdout",
     "output_type": "stream",
     "text": [
      "2023-12-01 11:12:25.880822: E external/local_xla/xla/stream_executor/cuda/cuda_dnn.cc:9261] Unable to register cuDNN factory: Attempting to register factory for plugin cuDNN when one has already been registered\n",
      "2023-12-01 11:12:25.880908: E external/local_xla/xla/stream_executor/cuda/cuda_fft.cc:607] Unable to register cuFFT factory: Attempting to register factory for plugin cuFFT when one has already been registered\n",
      "2023-12-01 11:12:25.984780: E external/local_xla/xla/stream_executor/cuda/cuda_blas.cc:1515] Unable to register cuBLAS factory: Attempting to register factory for plugin cuBLAS when one has already been registered\n",
      "2023-12-01 11:12:26.194761: I tensorflow/core/platform/cpu_feature_guard.cc:182] This TensorFlow binary is optimized to use available CPU instructions in performance-critical operations.\n",
      "To enable the following instructions: AVX2 AVX512F FMA, in other operations, rebuild TensorFlow with the appropriate compiler flags.\n",
      "2023-12-01 11:12:27.714354: W tensorflow/compiler/tf2tensorrt/utils/py_utils.cc:38] TF-TRT Warning: Could not find TensorRT\n",
      "WARNING:tensorflow:From /opt/mamba/lib/python3.10/site-packages/tensorflow/python/compat/v2_compat.py:108: disable_resource_variables (from tensorflow.python.ops.variable_scope) is deprecated and will be removed in a future version.\n",
      "Instructions for updating:\n",
      "non-resource variables are not supported in the long term\n",
      "WARNING:root:To get the best performance, it is recommended to adjust the number of threads by setting the environment variables OMP_NUM_THREADS, TF_INTRA_OP_PARALLELISM_THREADS, and TF_INTER_OP_PARALLELISM_THREADS. See https://deepmd.rtfd.io/parallelism/ for more information.\n",
      "2023-12-01 11:12:30,608  [main.py:170] INFO DeepMD version: 0.1.3.dev254+g24d5796\n",
      "2023-12-01 11:12:30,610  [main.py:133] INFO Configuration path: input.json\n",
      "2023-12-01 11:12:30,843  [stat.py:37] INFO Packing data for statistics from 51 systems\n",
      "100%|███████████████████████████████████████████| 51/51 [00:10<00:00,  4.83it/s]\n",
      "2023-12-01 11:12:41,411  [dataloader.py:279] INFO Generated weighted sampler with prob array: [0.05427021 0.01356755 0.01356755 0.01356755 0.0271351  0.0271351\n",
      " 0.01356755 0.04027421 0.03484719 0.01242502 0.01356755 0.0271351\n",
      " 0.02442159 0.02142245 0.02113682 0.01756641 0.013996   0.00671237\n",
      " 0.00585547 0.0087118  0.0061411  0.00542702 0.01856612 0.020994\n",
      " 0.01628106 0.01685233 0.01799486 0.01628106 0.01085404 0.01985147\n",
      " 0.0165667  0.0157098  0.01899457 0.01356755 0.01628106 0.01628106\n",
      " 0.0524136  0.03227649 0.04070266 0.02913453 0.01342474 0.01328192\n",
      " 0.01356755 0.01356755 0.01356755 0.05384176 0.01356755 0.01356755\n",
      " 0.01356755 0.01342474 0.01256784]\n",
      "2023-12-01 11:12:41,412  [dataloader.py:279] INFO Generated weighted sampler with prob array: [0.05763689 0.01440922 0.01440922 0.01440922 0.02881844 0.02881844\n",
      " 0.01440922 0.04034582 0.03458213 0.01152738 0.01440922 0.02881844\n",
      " 0.0259366  0.02017291 0.02017291 0.01729107 0.01440922 0.00576369\n",
      " 0.00576369 0.00864553 0.00576369 0.00288184 0.01729107 0.02017291\n",
      " 0.01729107 0.01729107 0.01729107 0.01440922 0.01152738 0.02017291\n",
      " 0.01729107 0.01440922 0.01729107 0.01440922 0.01440922 0.01729107\n",
      " 0.05475504 0.03170029 0.04034582 0.02881844 0.01152738 0.01152738\n",
      " 0.01440922 0.01440922 0.01440922 0.05475504 0.01152738 0.01440922\n",
      " 0.01440922 0.01152738 0.01152738]\n",
      "2023-12-01 11:12:47,991  [model.py:53] INFO Saving stat file to stat_files/stat_file_rcut9.00_smth8.00_sel120_se_atten.npz\n",
      "2023-12-01 11:12:47,994  [model.py:53] INFO Saving stat file to stat_files/stat_file_rcut4.00_smth3.50_sel40_se_uni.npz\n",
      "2023-12-01 11:12:48,019  [ener.py:45] INFO Set seed to 1 in fitting net.\n",
      "2023-12-01 11:12:48,055  [training.py:359] INFO Start to train 200 steps.\n",
      "2023-12-01 11:12:51,775  [training.py:510] INFO step=0, lr=2.00e-04             \n",
      "loss=4719.2101, rmse_train=68.6965, rmse_e_train=0.9473, rmse_f_train=2.1716, rmse_valid=59.3087, rmse_e_valid=0.7322, rmse_f_valid=1.8750, speed=3.72 s/1 batches\n",
      "2023-12-01 11:12:59,114  [training.py:510] INFO step=25, lr=6.79e-05            \n",
      "loss=1148.5740, rmse_train=33.8906, rmse_e_train=0.2380, rmse_f_train=1.8324, rmse_valid=49.8568, rmse_e_valid=0.2527, rmse_f_valid=2.6997, speed=7.34 s/25 batches\n",
      "2023-12-01 11:13:06,258  [training.py:510] INFO step=50, lr=2.30e-05            \n",
      "loss=149.6035, rmse_train=12.2312, rmse_e_train=0.0317, rmse_f_train=1.1351, rmse_valid=13.1363, rmse_e_valid=0.0566, rmse_f_valid=1.2178, speed=7.14 s/25 batches\n",
      "2023-12-01 11:13:13,421  [training.py:510] INFO step=75, lr=7.81e-06            \n",
      "loss=25.6861, rmse_train=5.0681, rmse_e_train=0.0285, rmse_f_train=0.7989, rmse_valid=5.4680, rmse_e_valid=0.0385, rmse_f_valid=0.8605, speed=7.16 s/25 batches\n",
      "2023-12-01 11:13:20,500  [training.py:510] INFO step=100, lr=2.65e-06           \n",
      "loss=10.3940, rmse_train=3.2240, rmse_e_train=0.0164, rmse_f_train=0.8524, rmse_valid=3.9693, rmse_e_valid=0.0351, rmse_f_valid=1.0442, speed=7.08 s/25 batches\n",
      "2023-12-01 11:13:28,028  [training.py:510] INFO step=125, lr=8.99e-07           \n",
      "loss=4.2112, rmse_train=2.0521, rmse_e_train=0.0061, rmse_f_train=0.8751, rmse_valid=2.0618, rmse_e_valid=0.0061, rmse_f_valid=0.8792, speed=7.53 s/25 batches\n",
      "2023-12-01 11:13:35,140  [training.py:510] INFO step=150, lr=3.05e-07           \n",
      "loss=1.7295, rmse_train=1.3151, rmse_e_train=0.0168, rmse_f_train=0.8149, rmse_valid=1.5815, rmse_e_valid=0.0261, rmse_f_valid=0.9694, speed=7.11 s/25 batches\n",
      "2023-12-01 11:13:42,314  [training.py:510] INFO step=175, lr=1.03e-07           \n",
      "loss=1.3723, rmse_train=1.1715, rmse_e_train=0.0281, rmse_f_train=0.8972, rmse_valid=1.2020, rmse_e_valid=0.0001, rmse_f_valid=0.9760, speed=7.17 s/25 batches\n",
      "2023-12-01 11:13:49,239  [training.py:529] INFO Saved model to model_200.pt     \n",
      "100%|█████████████████████████████████████████| 200/200 [01:01<00:00,  3.27it/s]\n",
      "2023-12-01 11:13:49,245  [training.py:562] INFO Trained model has been saved to: model.pt\n"
     ]
    }
   ],
   "source": [
    "!dp_pt train input.json"
   ]
  },
  {
   "cell_type": "markdown",
   "id": "92871d8f-3b14-4d05-9d75-872612a8e559",
   "metadata": {},
   "source": [
    "### 3.4 模型微调训练"
   ]
  },
  {
   "cell_type": "code",
   "execution_count": 21,
   "id": "af2070ea-332d-4cd2-92ee-d6d94d5041a4",
   "metadata": {
    "trusted": true
   },
   "outputs": [
    {
     "name": "stdout",
     "output_type": "stream",
     "text": [
      "/root/dpa2/finetune\n"
     ]
    }
   ],
   "source": [
    "cd ../finetune"
   ]
  },
  {
   "cell_type": "markdown",
   "id": "4e28bcc3-3110-4dbd-a534-3940db0eab77",
   "metadata": {},
   "source": [
    "微调训练的命令增加了`--finetune ../pretrain_model/model.pt`选项，表示在模型`../pretrain_model/model.pt`的基础上微调。\n",
    "\n",
    "除此之外，命令还增加了`-m H2O_H2O-PD`选项，原因是我们使用的数据集H2O-SCAN0与预训练数据集H2O_H2O-PD较为接近，所以我们使用预训练得到的H2O_H2O-PD的fitting net的参数来初始化我们微调的模型的fitting net的参数。"
   ]
  },
  {
   "cell_type": "code",
   "execution_count": 22,
   "id": "f25030a1-3021-483c-9026-a54026d1d659",
   "metadata": {
    "trusted": true
   },
   "outputs": [
    {
     "name": "stdout",
     "output_type": "stream",
     "text": [
      "2023-12-01 11:14:28.921978: E external/local_xla/xla/stream_executor/cuda/cuda_dnn.cc:9261] Unable to register cuDNN factory: Attempting to register factory for plugin cuDNN when one has already been registered\n",
      "2023-12-01 11:14:28.922049: E external/local_xla/xla/stream_executor/cuda/cuda_fft.cc:607] Unable to register cuFFT factory: Attempting to register factory for plugin cuFFT when one has already been registered\n",
      "2023-12-01 11:14:28.923370: E external/local_xla/xla/stream_executor/cuda/cuda_blas.cc:1515] Unable to register cuBLAS factory: Attempting to register factory for plugin cuBLAS when one has already been registered\n",
      "2023-12-01 11:14:28.931242: I tensorflow/core/platform/cpu_feature_guard.cc:182] This TensorFlow binary is optimized to use available CPU instructions in performance-critical operations.\n",
      "To enable the following instructions: AVX2 AVX512F FMA, in other operations, rebuild TensorFlow with the appropriate compiler flags.\n",
      "2023-12-01 11:14:29.940467: W tensorflow/compiler/tf2tensorrt/utils/py_utils.cc:38] TF-TRT Warning: Could not find TensorRT\n",
      "WARNING:tensorflow:From /opt/mamba/lib/python3.10/site-packages/tensorflow/python/compat/v2_compat.py:108: disable_resource_variables (from tensorflow.python.ops.variable_scope) is deprecated and will be removed in a future version.\n",
      "Instructions for updating:\n",
      "non-resource variables are not supported in the long term\n",
      "WARNING:root:To get the best performance, it is recommended to adjust the number of threads by setting the environment variables OMP_NUM_THREADS, TF_INTRA_OP_PARALLELISM_THREADS, and TF_INTER_OP_PARALLELISM_THREADS. See https://deepmd.rtfd.io/parallelism/ for more information.\n",
      "2023-12-01 11:14:31,822  [main.py:170] INFO DeepMD version: 0.1.3.dev254+g24d5796\n",
      "2023-12-01 11:14:31,824  [main.py:133] INFO Configuration path: input.json\n",
      "2023-12-01 11:14:36,380  [finetune.py:55] INFO Change the model configurations according to the model branch H2O_H2O-PD in the pretrained one...\n",
      "2023-12-01 11:14:36,580  [dataloader.py:279] INFO Generated weighted sampler with prob array: [0.05427021 0.01356755 0.01356755 0.01356755 0.0271351  0.0271351\n",
      " 0.01356755 0.04027421 0.03484719 0.01242502 0.01356755 0.0271351\n",
      " 0.02442159 0.02142245 0.02113682 0.01756641 0.013996   0.00671237\n",
      " 0.00585547 0.0087118  0.0061411  0.00542702 0.01856612 0.020994\n",
      " 0.01628106 0.01685233 0.01799486 0.01628106 0.01085404 0.01985147\n",
      " 0.0165667  0.0157098  0.01899457 0.01356755 0.01628106 0.01628106\n",
      " 0.0524136  0.03227649 0.04070266 0.02913453 0.01342474 0.01328192\n",
      " 0.01356755 0.01356755 0.01356755 0.05384176 0.01356755 0.01356755\n",
      " 0.01356755 0.01342474 0.01256784]\n",
      "2023-12-01 11:14:36,580  [dataloader.py:279] INFO Generated weighted sampler with prob array: [0.05763689 0.01440922 0.01440922 0.01440922 0.02881844 0.02881844\n",
      " 0.01440922 0.04034582 0.03458213 0.01152738 0.01440922 0.02881844\n",
      " 0.0259366  0.02017291 0.02017291 0.01729107 0.01440922 0.00576369\n",
      " 0.00576369 0.00864553 0.00576369 0.00288184 0.01729107 0.02017291\n",
      " 0.01729107 0.01729107 0.01729107 0.01440922 0.01152738 0.02017291\n",
      " 0.01729107 0.01440922 0.01729107 0.01440922 0.01440922 0.01729107\n",
      " 0.05475504 0.03170029 0.04034582 0.02881844 0.01152738 0.01152738\n",
      " 0.01440922 0.01440922 0.01440922 0.05475504 0.01152738 0.01440922\n",
      " 0.01440922 0.01152738 0.01152738]\n",
      "2023-12-01 11:14:37,717  [ener.py:45] INFO Set seed to 1 in fitting net.\n",
      "2023-12-01 11:14:37,740  [training.py:238] INFO Resuming from ../pretrain_model/model.pt.\n",
      "2023-12-01 11:14:38,291  [fitting.py:101] INFO Changing energy bias in pretrained model for types ['H', 'He', 'Li', 'Be', 'B', 'C', 'N', 'O', 'F', 'Ne', 'Na', 'Mg', 'Al', 'Si', 'P', 'S', 'Cl', 'Ar', 'K', 'Ca', 'Sc', 'Ti', 'V', 'Cr', 'Mn', 'Fe', 'Co', 'Ni', 'Cu', 'Zn', 'Ga', 'Ge', 'As', 'Se', 'Br', 'Kr', 'Rb', 'Sr', 'Y', 'Zr', 'Nb', 'Mo', 'Tc', 'Ru', 'Rh', 'Pd', 'Ag', 'Cd', 'In', 'Sn', 'Sb', 'Te', 'I', 'Xe', 'Cs', 'Ba', 'La', 'Ce', 'Pr', 'Nd', 'Pm', 'Sm', 'Eu', 'Gd', 'Tb', 'Dy', 'Ho', 'Er', 'Tm', 'Yb', 'Lu', 'Hf', 'Ta', 'W', 'Re', 'Os', 'Ir', 'Pt', 'Au', 'Hg', 'Tl', 'Pb', 'Bi', 'Po', 'At', 'Rn', 'Fr', 'Ra', 'Ac', 'Th', 'Pa', 'U', 'Np', 'Pu', 'Am', 'Cm', 'Bk', 'Cf', 'Es', 'Fm', 'Md', 'No', 'Lr', 'Rf', 'Db', 'Sg', 'Bh', 'Hs', 'Mt', 'Ds', 'Rg', 'Cn', 'Nh', 'Fl', 'Mc', 'Lv', 'Ts', 'Og']... (this step may take long time)\n",
      "2023-12-01 11:14:38,424  [stat.py:37] INFO Packing data for statistics from 51 systems\n",
      "100%|███████████████████████████████████████████| 51/51 [00:02<00:00, 17.08it/s]\n",
      "2023-12-01 11:14:48,994  [fitting.py:166] INFO RMSE of atomic energy after linear regression is: 5.49232e-04 eV/atom.\n",
      "2023-12-01 11:14:48,996  [fitting.py:178] INFO Change energy bias of ['H', 'He', 'Li', 'Be', 'B', 'C', 'N', 'O', 'F', 'Ne', 'Na', 'Mg', 'Al', 'Si', 'P', 'S', 'Cl', 'Ar', 'K', 'Ca', 'Sc', 'Ti', 'V', 'Cr', 'Mn', 'Fe', 'Co', 'Ni', 'Cu', 'Zn', 'Ga', 'Ge', 'As', 'Se', 'Br', 'Kr', 'Rb', 'Sr', 'Y', 'Zr', 'Nb', 'Mo', 'Tc', 'Ru', 'Rh', 'Pd', 'Ag', 'Cd', 'In', 'Sn', 'Sb', 'Te', 'I', 'Xe', 'Cs', 'Ba', 'La', 'Ce', 'Pr', 'Nd', 'Pm', 'Sm', 'Eu', 'Gd', 'Tb', 'Dy', 'Ho', 'Er', 'Tm', 'Yb', 'Lu', 'Hf', 'Ta', 'W', 'Re', 'Os', 'Ir', 'Pt', 'Au', 'Hg', 'Tl', 'Pb', 'Bi', 'Po', 'At', 'Rn', 'Fr', 'Ra', 'Ac', 'Th', 'Pa', 'U', 'Np', 'Pu', 'Am', 'Cm', 'Bk', 'Cf', 'Es', 'Fm', 'Md', 'No', 'Lr', 'Rf', 'Db', 'Sg', 'Bh', 'Hs', 'Mt', 'Ds', 'Rg', 'Cn', 'Nh', 'Fl', 'Mc', 'Lv', 'Ts', 'Og'] from [-6.338534  0.        0.        0.        0.        0.        0.\n",
      " -3.169267  0.        0.        0.        0.        0.        0.\n",
      "  0.        0.        0.        0.        0.        0.        0.\n",
      "  0.        0.        0.        0.        0.        0.        0.\n",
      "  0.        0.        0.        0.        0.        0.        0.\n",
      "  0.        0.        0.        0.        0.        0.        0.\n",
      "  0.        0.        0.        0.        0.        0.        0.\n",
      "  0.        0.        0.        0.        0.        0.        0.\n",
      "  0.        0.        0.        0.        0.        0.        0.\n",
      "  0.        0.        0.        0.        0.        0.        0.\n",
      "  0.        0.        0.        0.        0.        0.        0.\n",
      "  0.        0.        0.        0.        0.        0.        0.\n",
      "  0.        0.        0.        0.        0.        0.        0.\n",
      "  0.        0.        0.        0.        0.        0.        0.\n",
      "  0.        0.        0.        0.        0.        0.        0.\n",
      "  0.        0.        0.        0.        0.        0.        0.\n",
      "  0.        0.        0.        0.        0.        0.      ] to [-187.04663     0.          0.          0.          0.          0.\n",
      "    0.        -93.523315    0.          0.          0.          0.\n",
      "    0.          0.          0.          0.          0.          0.\n",
      "    0.          0.          0.          0.          0.          0.\n",
      "    0.          0.          0.          0.          0.          0.\n",
      "    0.          0.          0.          0.          0.          0.\n",
      "    0.          0.          0.          0.          0.          0.\n",
      "    0.          0.          0.          0.          0.          0.\n",
      "    0.          0.          0.          0.          0.          0.\n",
      "    0.          0.          0.          0.          0.          0.\n",
      "    0.          0.          0.          0.          0.          0.\n",
      "    0.          0.          0.          0.          0.          0.\n",
      "    0.          0.          0.          0.          0.          0.\n",
      "    0.          0.          0.          0.          0.          0.\n",
      "    0.          0.          0.          0.          0.          0.\n",
      "    0.          0.          0.          0.          0.          0.\n",
      "    0.          0.          0.          0.          0.          0.\n",
      "    0.          0.          0.          0.          0.          0.\n",
      "    0.          0.          0.          0.          0.          0.\n",
      "    0.          0.          0.          0.      ].\n",
      "2023-12-01 11:14:49,010  [training.py:359] INFO Start to train 200 steps.\n",
      "2023-12-01 11:14:49,735  [training.py:510] INFO step=0, lr=2.00e-04             \n",
      "loss=4.6365, rmse_train=2.1533, rmse_e_train=0.0002, rmse_f_train=0.0681, rmse_valid=34.4455, rmse_e_valid=0.2252, rmse_f_valid=1.0892, speed=0.73 s/1 batches\n",
      "2023-12-01 11:14:57,273  [training.py:510] INFO step=25, lr=6.79e-05            \n",
      "loss=12.2519, rmse_train=3.5003, rmse_e_train=0.0112, rmse_f_train=0.1897, rmse_valid=2.8736, rmse_e_valid=0.0033, rmse_f_valid=0.1558, speed=7.54 s/25 batches\n",
      "2023-12-01 11:15:04,581  [training.py:510] INFO step=50, lr=2.30e-05            \n",
      "loss=1.9723, rmse_train=1.4044, rmse_e_train=0.0195, rmse_f_train=0.1282, rmse_valid=1.1252, rmse_e_valid=0.0116, rmse_f_valid=0.1035, speed=7.31 s/25 batches\n",
      "2023-12-01 11:15:11,969  [training.py:510] INFO step=75, lr=7.81e-06            \n",
      "loss=0.3784, rmse_train=0.6151, rmse_e_train=0.0019, rmse_f_train=0.0972, rmse_valid=0.5964, rmse_e_valid=0.0039, rmse_f_valid=0.0939, speed=7.39 s/25 batches\n",
      "2023-12-01 11:15:19,280  [training.py:510] INFO step=100, lr=2.65e-06           \n",
      "loss=0.1231, rmse_train=0.3508, rmse_e_train=0.0062, rmse_f_train=0.0902, rmse_valid=0.3211, rmse_e_valid=0.0017, rmse_f_valid=0.0849, speed=7.31 s/25 batches\n",
      "2023-12-01 11:15:26,657  [training.py:510] INFO step=125, lr=8.99e-07           \n",
      "loss=0.0388, rmse_train=0.1970, rmse_e_train=0.0023, rmse_f_train=0.0830, rmse_valid=0.2276, rmse_e_valid=0.0014, rmse_f_valid=0.0968, speed=7.38 s/25 batches\n",
      "2023-12-01 11:15:33,982  [training.py:510] INFO step=150, lr=3.05e-07           \n",
      "loss=0.0208, rmse_train=0.1442, rmse_e_train=0.0002, rmse_f_train=0.0907, rmse_valid=0.1755, rmse_e_valid=0.0020, rmse_f_valid=0.1092, speed=7.32 s/25 batches\n",
      "2023-12-01 11:15:41,362  [training.py:510] INFO step=175, lr=1.03e-07           \n",
      "loss=0.0130, rmse_train=0.1139, rmse_e_train=0.0032, rmse_f_train=0.0853, rmse_valid=0.1112, rmse_e_valid=0.0014, rmse_f_valid=0.0889, speed=7.38 s/25 batches\n",
      "2023-12-01 11:15:48,539  [training.py:529] INFO Saved model to model_200.pt     \n",
      "100%|█████████████████████████████████████████| 200/200 [00:59<00:00,  3.36it/s]\n",
      "2023-12-01 11:15:48,545  [training.py:562] INFO Trained model has been saved to: model.pt\n"
     ]
    }
   ],
   "source": [
    "!dp_pt train input.json --finetune ../pretrain_model/model.pt -m H2O_H2O-PD"
   ]
  },
  {
   "cell_type": "markdown",
   "id": "b7d54a75-21e3-4387-b224-0f165237ee54",
   "metadata": {},
   "source": [
    "### 3.5 模型检验\n",
    "现在，我们已经完成了DPA-2势函数的从头训和微调训练。让我们通过lcurve(学习率变化曲线输出文件）看下模型的表现吧！\n",
    "\n",
    "📌注：由于节省时间，教程中的训练步仅为200步，没有到达一个收敛的结果；在真实训练场景中，记得调整至合适的训练时长~"
   ]
  },
  {
   "cell_type": "code",
   "execution_count": 23,
   "id": "040b7ebc-24fb-4bb0-aa3f-f8353062d379",
   "metadata": {
    "trusted": true
   },
   "outputs": [
    {
     "name": "stdout",
     "output_type": "stream",
     "text": [
      "/root/dpa2\n"
     ]
    }
   ],
   "source": [
    "cd /root/dpa2"
   ]
  },
  {
   "cell_type": "markdown",
   "id": "b0a480ad-a9f0-466f-af99-47a8999b7b76",
   "metadata": {},
   "source": [
    "想要直观对比从头训练和基于预训练模型的微调训练的lcurve差异？一键运行为大家准备好的可视化脚本试试~"
   ]
  },
  {
   "cell_type": "code",
   "execution_count": 24,
   "id": "6e8d3ef9-6390-40c3-82b8-e2022f59f86d",
   "metadata": {
    "trusted": true
   },
   "outputs": [
    {
     "data": {
      "remote/url": "https://bohrium.oss-cn-zhangjiakou.aliyuncs.com/article/11461/6b6be8f0e6954c0384c7580f1cabd128/Zd4BWHyMcb4EbCs5ZGGuWg.png",
      "text/plain": [
       "<Figure size 1600x400 with 3 Axes>"
      ]
     },
     "metadata": {},
     "output_type": "display_data"
    }
   ],
   "source": [
    "import numpy as np\n",
    "import matplotlib.pyplot as plt\n",
    "\n",
    "fig = plt.figure(figsize=(16,4))\n",
    "data_scratch = np.genfromtxt(\"from_scratch/lcurve.out\", names=True)\n",
    "data_finetune = np.genfromtxt(\"finetune/lcurve.out\", names=True)\n",
    "for idx,ii in enumerate([1,3,5]):\n",
    "    plt.subplot(1,3,idx+1)\n",
    "    for name in data_scratch.dtype.names[ii:ii+1]:\n",
    "        plt.plot(data_scratch[\"step\"], data_scratch[name], label=f\"scratch_{name}\")\n",
    "    for name in data_finetune.dtype.names[ii:ii+1]:\n",
    "        plt.plot(data_finetune[\"step\"], data_finetune[name], label=f\"finetune_{name}\")\n",
    "    plt.legend()\n",
    "    plt.xlabel(\"Step\")\n",
    "    plt.ylabel(\"Loss\")\n",
    "    #plt.xscale(\"symlog\")\n",
    "    plt.yscale(\"log\")\n",
    "    plt.grid()\n",
    "plt.show()\n"
   ]
  },
  {
   "cell_type": "markdown",
   "id": "28ff195b-8d70-4182-84e4-d4aa010b3508",
   "metadata": {},
   "source": [
    "根据lcurve的变化对比，我们可以看出基于预训练模型的微调训练具有更低的能量和力损失"
   ]
  },
  {
   "cell_type": "markdown",
   "id": "e2132a96-6635-4c10-ab6a-58ca35281765",
   "metadata": {},
   "source": [
    "## 4. 参考来源\n",
    "DPA-2相关：\n",
    "1. DPA-2 paper in preparation\n",
    "\n",
    "DPA-1相关：\n",
    "1. [DPA-1: Pretraining of Attention-based Deep Potential Model for Molecular Simulation](https://arxiv.org/abs/2208.08236)\n",
    "2. [DeePMD-kit’s documentation](https://docs.deepmodeling.com/projects/deepmd/en/master/index.html)\n",
    "3. [快速上手深度势能预训练模型 DPA-1](https://zhuanlan.zhihu.com/p/556201431)\n",
    "4. [DPA-1: 共建覆盖元素周期表的预训练大模型](https://zhuanlan.zhihu.com/p/555832644#:~:text=DPA-1%E6%A8%A1%E5%9E%8B%E6%98%AF%E5%9F%BA%E4%BA%8EDP%E7%B3%BB%E5%88%97%E6%A8%A1%E5%9E%8B%E7%9A%84%E4%B8%80%E6%AC%A1%E5%85%A8%E9%9D%A2%E5%8D%87%E7%BA%A7%EF%BC%8C%E5%88%A9%E7%94%A8%E5%85%B3%E9%94%AE%E7%9A%84%20%E9%97%A8%E6%8E%A7%E6%B3%A8%E6%84%8F%E5%8A%9B%E6%9C%BA%E5%88%B6%EF%BC%88Gated%20Attention%20Machanism%EF%BC%89%EF%BC%8C%E5%AF%B9%E5%8E%9F%E5%AD%90%E9%97%B4%E7%9A%84%E7%9B%B8%E4%BA%92%E4%BD%9C%E7%94%A8%E5%AE%9E%E7%8E%B0%E4%BA%86%E6%9B%B4%E4%B8%BA%E5%85%85%E5%88%86%E7%9A%84%E5%BB%BA%E6%A8%A1,%EF%BC%8C%E9%80%9A%E8%BF%87%E5%9C%A8%E7%8E%B0%E6%9C%89%E6%95%B0%E6%8D%AE%E4%B8%8A%E7%9A%84%E8%AE%AD%E7%BB%83%EF%BC%8C%E8%83%BD%E5%A4%9F%E5%AD%A6%E4%B9%A0%E5%88%B0%E6%9B%B4%E5%A4%9A%E9%9A%90%E8%97%8F%E7%9A%84%E5%8E%9F%E5%AD%90%E4%BA%A4%E4%BA%92%E4%BF%A1%E6%81%AF%EF%BC%8C%20%E6%9E%81%E5%A4%A7%E6%8F%90%E5%8D%87%E4%BA%86%E6%A8%A1%E5%9E%8B%E5%9C%A8%E5%8C%85%E5%90%AB%E4%B8%8D%E5%90%8C%E6%9E%84%E8%B1%A1%E3%80%81%E4%B8%8D%E5%90%8C%E7%BB%84%E5%88%86%E7%9A%84%E6%95%B0%E6%8D%AE%E9%9B%86%E4%B9%8B%E9%97%B4%E7%9A%84%E8%BF%81%E7%A7%BB%E8%83%BD%E5%8A%9B%20%EF%BC%8C%E4%BB%8E%E8%80%8C%E4%B9%9F%E6%8F%90%E5%8D%87%E4%BA%86%E5%9C%A8%E6%95%B0%E6%8D%AE%E7%94%9F%E6%88%90%E6%97%B6%E7%9A%84%E9%87%87%E6%A0%B7%E6%95%88%E7%8E%87%EF%BC%9B%E5%B9%B6%E4%B8%94%E6%A8%A1%E5%9E%8B%E9%80%9A%E8%BF%87%20%E5%AF%B9%E5%85%83%E7%B4%A0%E4%BF%A1%E6%81%AF%E7%9A%84%E7%BC%96%E7%A0%81%EF%BC%8C%E6%8B%93%E5%B1%95%E4%BA%86%E5%AF%B9%E5%85%83%E7%B4%A0%E7%9A%84%E5%AE%B9%E9%87%8F%20%E3%80%82)\n",
    "5. [张铎：DPA-1预训练模型介绍&上机实践](https://www.bilibili.com/video/BV1gD4y177DT/?spm_id_from=333.337.search-card.all.click&vd_source=ac172494d332ac871da890a8eb283526)\n",
    "\n",
    "推荐阅读DPMD系列Notebook：\n",
    "1. [哥伦布训练营|DPA-1——固态电解质实战之模型训练&性质计算篇](https://nb.bohrium.dp.tech/detail/7145731165)\n",
    "2. [快速开始 DeePMD-kit｜训练甲烷深度势能分子动力学模型](https://nb.bohrium.dp.tech/detail/1003)\n",
    "3. [从 DFT 到 MD｜超详细「深度势能」材料计算上手指南](https://nb.bohrium.dp.tech/detail/1007)\n",
    "4. [使用深度势能分子动力学进行固态电解质研究实战](https://bohrium.dp.tech/notebook/d3dcf4144f6540f180f86847b5a4dfaa)\n",
    "\n",
    "参考文献\n",
    "\n",
    "1. Han Wang, Linfeng Zhang, Jiequn Han, and Weinan E. DeePMD-kit: A deep learning package for many-body potential energy representation and molecular dynamics. Comput. Phys. Comm., 228:178–184, 2018. doi:10.1016/j.cpc.2018.03.016.\n",
    "2. Jinzhe Zeng, Duo Zhang, Denghui Lu, Pinghui Mo, Zeyu Li, Yixiao Chen, Marián Rynik, Li'ang Huang, Ziyao Li, Shaochen Shi, Yingze Wang, Haotian Ye, Ping Tuo, Jiabin Yang, Ye Ding, Yifan Li, Davide Tisi, Qiyu Zeng, Han Bao, Yu Xia, Jiameng Huang, Koki Muraoka, Yibo Wang, Junhan Chang, Fengbo Yuan, Sigbjørn Løland Bore, Chun Cai, Yinnian Lin, Bo Wang, Jiayan Xu, Jia-Xin Zhu, Chenxing Luo, Yuzhi Zhang, Rhys E. A. Goodall, Wenshuo Liang, Anurag Kumar Singh, Sikai Yao, Jingchao Zhang, Renata Wentzcovitch, Jiequn Han, Jie Liu, Weile Jia, Darrin M. York, Weinan E, Roberto Car, Linfeng Zhang, and Han Wang. DeePMD-kit v2: A software package for Deep Potential models. 2023. doi:10.48550/arXiv.2304.09409.\n",
    "3. Huang J, Zhang L, Wang H, Zhao J, Cheng J, E W. Deep potential generation scheme and simulation protocol for the Li10GeP2S12-type superionic conductors. J Chem Phys. 2021;154(9):094703. doi:10.1063/5.0041849\n",
    "4. https://docs.deepmodeling.com/projects/deepmd/en/master/index.html\n",
    "5. https://github.com/deepmodeling/deepmd-kit"
   ]
  }
 ],
 "metadata": {
  "kernelspec": {
   "display_name": "Python 3 (ipykernel)",
   "language": "python",
   "name": "python3"
  },
  "language_info": {
   "codemirror_mode": {
    "name": "ipython",
    "version": 3
   },
   "file_extension": ".py",
   "mimetype": "text/x-python",
   "name": "python",
   "nbconvert_exporter": "python",
   "pygments_lexer": "ipython3",
   "version": "3.10.6"
  }
 },
 "nbformat": 4,
 "nbformat_minor": 5
}
