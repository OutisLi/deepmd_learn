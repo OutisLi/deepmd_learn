{
 "cells": [
  {
   "cell_type": "markdown",
   "id": "__bohr_old_version_cellId_0__",
   "metadata": {},
   "source": [
    "# ASE-ABACUS | 第一章：使用方法简介\n"
   ]
  },
  {
   "cell_type": "markdown",
   "id": "__bohr_old_version_cellId_1__",
   "metadata": {},
   "source": [
    "<div style=\"color:black; background-color:#FFF3E9; border: 1px solid #FFE0C3; border-radius: 10px; margin-bottom:0rem\">\n",
    "    <p style=\"margin:1rem; padding-left: 1rem; line-height: 2.5;\">\n",
    "        ©️ <b><i>Copyright 2023 @ Authors</i></b><br/>\n",
    "        <i>作者：量子御坂\n",
    "            <b>\n",
    "            <a href=\"mailto:quantummisaka@mail.pku.edu.cn\">*** 📨 </a>\n",
    "            </b>\n",
    "        </i>\n",
    "        <br/>\n",
    "        <i>日期：2023-09-19</i><br/>\n",
    "        <i>最近更新：2024-09-20</i><br/>\n",
    "        <i>共享协议：</a>本作品采用<a rel=\"license\" href=\"http://creativecommons.org/licenses/by-nc-sa/4.0/\">知识共享署名-非商业性使用-相同方式共享 4.0 国际许可协议</a>进行许可。</i><br/>\n",
    "        <i>快速开始：点击上方的</i> <span style=\"background-color:rgb(85, 91, 228); color:white; padding: 3px; border-radius: 5px;box-shadow: 2px 2px 3px rgba(0, 0, 0, 0.3); font-size:0.75rem;\">开始连接</span> <i>按钮，选择 <b><u>bohrium-notebook:2023-05-31 </u>镜像</b> 和任意配置机型即可开始。</i><br/>\n",
    "    </p>\n",
    "</div>"
   ]
  },
  {
   "cell_type": "markdown",
   "id": "__bohr_old_version_cellId_2__",
   "metadata": {},
   "source": [
    "通过ASE-ABACUS接口，你可以做到\n",
    "1. 通过ASE可视化STRU文件\n",
    "2. 通过ASE生成与转换STRU文件，进行前处理\n",
    "3. 通过ASE调用ABACUS进行计算，包括SCF，结构优化，过渡态计算，电子结构分析等\n",
    "4. 通过ASE读取ABACUS计算结果，进行后处理\n",
    "\n",
    "让我们开始吧！\n",
    "\n",
    "哦对了，开始之前你可能需要自己准备一个STRU文件，或者，也可以让ASE帮你生成哦"
   ]
  },
  {
   "cell_type": "markdown",
   "id": "__bohr_old_version_cellId_3__",
   "metadata": {},
   "source": [
    "## 安装ASE-ABACUS接口\n",
    "\n",
    "如下操作将在目前的python环境中安装ASE和ASE-ABACUS接口。"
   ]
  },
  {
   "cell_type": "code",
   "execution_count": 1,
   "id": "__bohr_old_version_cellId_4__",
   "metadata": {
    "vscode": {
     "languageId": "shellscript"
    }
   },
   "outputs": [
    {
     "name": "stdout",
     "output_type": "stream",
     "text": [
      "Looking in indexes: https://mirrors.aliyun.com/pypi/simple\n",
      "Collecting git+https://gitlab.com/1041176461/ase-abacus.git\n",
      "  Cloning https://gitlab.com/1041176461/ase-abacus.git to /tmp/pip-req-build-cj2ppbwc\n",
      "  Running command git clone --filter=blob:none --quiet https://gitlab.com/1041176461/ase-abacus.git /tmp/pip-req-build-cj2ppbwc\n",
      "  Resolved https://gitlab.com/1041176461/ase-abacus.git to commit 65bdad3493fea002180cdc73664d688a2087a99b\n",
      "  Installing build dependencies ... \u001b[?25ldone\n",
      "\u001b[?25h  Getting requirements to build wheel ... \u001b[?25ldone\n",
      "\u001b[?25h  Preparing metadata (pyproject.toml) ... \u001b[?25ldone\n",
      "\u001b[?25hRequirement already satisfied: numpy>=1.19.5 in /home/outis/miniconda3/envs/dpmd_conda/lib/python3.12/site-packages (from ase==3.26.0b1) (2.1.2)\n",
      "Requirement already satisfied: scipy>=1.6.0 in /home/outis/miniconda3/envs/dpmd_conda/lib/python3.12/site-packages (from ase==3.26.0b1) (1.15.3)\n",
      "Requirement already satisfied: matplotlib>=3.3.4 in /home/outis/miniconda3/envs/dpmd_conda/lib/python3.12/site-packages (from ase==3.26.0b1) (3.10.3)\n",
      "Requirement already satisfied: contourpy>=1.0.1 in /home/outis/miniconda3/envs/dpmd_conda/lib/python3.12/site-packages (from matplotlib>=3.3.4->ase==3.26.0b1) (1.3.2)\n",
      "Requirement already satisfied: cycler>=0.10 in /home/outis/miniconda3/envs/dpmd_conda/lib/python3.12/site-packages (from matplotlib>=3.3.4->ase==3.26.0b1) (0.12.1)\n",
      "Requirement already satisfied: fonttools>=4.22.0 in /home/outis/miniconda3/envs/dpmd_conda/lib/python3.12/site-packages (from matplotlib>=3.3.4->ase==3.26.0b1) (4.58.0)\n",
      "Requirement already satisfied: kiwisolver>=1.3.1 in /home/outis/miniconda3/envs/dpmd_conda/lib/python3.12/site-packages (from matplotlib>=3.3.4->ase==3.26.0b1) (1.4.8)\n",
      "Requirement already satisfied: packaging>=20.0 in /home/outis/miniconda3/envs/dpmd_conda/lib/python3.12/site-packages (from matplotlib>=3.3.4->ase==3.26.0b1) (25.0)\n",
      "Requirement already satisfied: pillow>=8 in /home/outis/miniconda3/envs/dpmd_conda/lib/python3.12/site-packages (from matplotlib>=3.3.4->ase==3.26.0b1) (11.0.0)\n",
      "Requirement already satisfied: pyparsing>=2.3.1 in /home/outis/miniconda3/envs/dpmd_conda/lib/python3.12/site-packages (from matplotlib>=3.3.4->ase==3.26.0b1) (3.2.3)\n",
      "Requirement already satisfied: python-dateutil>=2.7 in /home/outis/miniconda3/envs/dpmd_conda/lib/python3.12/site-packages (from matplotlib>=3.3.4->ase==3.26.0b1) (2.9.0.post0)\n",
      "Requirement already satisfied: six>=1.5 in /home/outis/miniconda3/envs/dpmd_conda/lib/python3.12/site-packages (from python-dateutil>=2.7->matplotlib>=3.3.4->ase==3.26.0b1) (1.17.0)\n",
      "Building wheels for collected packages: ase\n",
      "  Building wheel for ase (pyproject.toml) ... \u001b[?25ldone\n",
      "\u001b[?25h  Created wheel for ase: filename=ase-3.26.0b1-py3-none-any.whl size=2983303 sha256=88691c220f4d99824884c7adb947e46e4ee9cb2142e2b80d0562575f78b33f56\n",
      "  Stored in directory: /tmp/pip-ephem-wheel-cache-mov0u93s/wheels/3b/fa/cc/3f2d423a967183f1eb2b41b1618b8f2bf310b31d46ce00184f\n",
      "Successfully built ase\n",
      "Installing collected packages: ase\n",
      "  Attempting uninstall: ase\n",
      "    Found existing installation: ase 3.25.0\n",
      "    Uninstalling ase-3.25.0:\n",
      "      Successfully uninstalled ase-3.25.0\n",
      "Successfully installed ase-3.26.0b1\n"
     ]
    }
   ],
   "source": [
    "# running without ! in shell environments\n",
    "# ! git clone https://gitlab.com/1041176461/ase-abacus.git\n",
    "# ! cd ase-abacus\n",
    "! pip install git+https://gitlab.com/1041176461/ase-abacus.git"
   ]
  },
  {
   "cell_type": "markdown",
   "id": "__bohr_old_version_cellId_5__",
   "metadata": {},
   "source": [
    "## 通过 ASE 可视化 STRU 文件\n",
    "\n",
    "ASE-ABACUS接口的第一个用处即为用于ABACUS计算的STRU文件的快速可视化。这一点可以通过ASE的visualier模块来快速实现。以下模块实现了一个简单的可视化函数，用于可视化STRU文件。\n"
   ]
  },
  {
   "cell_type": "code",
   "execution_count": null,
   "id": "__bohr_old_version_cellId_6__",
   "metadata": {},
   "outputs": [],
   "source": [
    "from ase.io import read\n",
    "from ase.visualize import view\n",
    "from pathlib import Path\n",
    "import sys\n",
    "\n",
    "def get_stru(inputfile=\"\"):\n",
    "    cs_atoms = None\n",
    "    if inputfile:\n",
    "        cs_stru = Path(inputfile)\n",
    "        cs_atoms = read(cs_stru, format=\"abacus\")\n",
    "    else:\n",
    "        cs_atoms = read(\"STRU\", format=\"abacus\")\n",
    "    return cs_atoms\n",
    "\n",
    "cs_atoms = get_stru()\n",
    "view(cs_atoms)"
   ]
  },
  {
   "cell_type": "markdown",
   "id": "ec3c49cb-3a0f-4ea9-8821-b7a6c0a10fef",
   "metadata": {},
   "source": [
    "上述可视化方法采用ASE默认的ASE-GUI进行可视化，但这个组件在Bohrium Notebook上是不可用的。\n",
    "\n",
    "我们采用ngl作为可视化器。在使用ngl之前需要先pip安装"
   ]
  },
  {
   "cell_type": "code",
   "execution_count": null,
   "id": "66ae0773-134c-447c-aa6a-351a3611f5fd",
   "metadata": {},
   "outputs": [],
   "source": [
    "%pip install nglview"
   ]
  },
  {
   "cell_type": "markdown",
   "id": "aedbecc1-1fdb-4dca-ba83-4af6b5d31ee7",
   "metadata": {},
   "source": [
    "以下是一个可视化函数的案例"
   ]
  },
  {
   "cell_type": "code",
   "execution_count": null,
   "id": "654ef2d5-2730-4fc8-8838-ab59b9f4accc",
   "metadata": {},
   "outputs": [],
   "source": [
    "from ase.io import read\n",
    "from ase.visualize import view\n",
    "from pathlib import Path\n",
    "import sys\n",
    "\n",
    "def get_stru(inputfile=\"\"):\n",
    "    cs_atoms = None\n",
    "    if inputfile:\n",
    "        cs_stru = Path(inputfile)\n",
    "        cs_atoms = read(cs_stru, format=\"abacus\")\n",
    "    else:\n",
    "        cs_atoms = read(\"STRU\", format=\"abacus\")\n",
    "    return cs_atoms\n",
    "\n",
    "cs_atoms = get_stru()\n",
    "view(cs_atoms， viewer='ngl')"
   ]
  },
  {
   "cell_type": "markdown",
   "id": "__bohr_old_version_cellId_7__",
   "metadata": {},
   "source": [
    "除了脚本之外，基于命令行有一个更简单的办法来可视化STRU文件。即通过ASE的GUI模块来实现。"
   ]
  },
  {
   "cell_type": "code",
   "execution_count": null,
   "id": "__bohr_old_version_cellId_8__",
   "metadata": {},
   "outputs": [],
   "source": [
    "! ase -T gui STRU"
   ]
  },
  {
   "cell_type": "markdown",
   "id": "__bohr_old_version_cellId_9__",
   "metadata": {},
   "source": [
    "## 通过 ASE 生成与转换 STRU 文件\n",
    "\n",
    "ASE-ABACUS接口的一个关键用处就是从转cif，POSCAR，xyz等格式的结构文件转化为ABACUS的STRU格式文件，或者是反向的转换。当然这个过程也可以通过vaspkit开发组目前正在开发的[ATOMKIT](http://vaspkit.cn/index.php/306.html)软件来实现，这是一个正在快速迭代中的跨平台建模与结构转换脚本，截止目前其最新版本为0.6.1。\n",
    "\n",
    "ABACUS开发组更推荐采用ASE-ABACUS接口来进行操作"
   ]
  },
  {
   "cell_type": "markdown",
   "id": "__bohr_old_version_cellId_10__",
   "metadata": {},
   "source": [
    "### 1 CIF 转 STRU\n",
    "从CIF文件中读取结构信息并生成用于ABACUS计算的输入文件往往是计算开展的第一步，操作方法如下：\n",
    "\n",
    "注意：这里的`pp`和`basis`变量只是将赝势和轨道基组文件指定到STRU文件内，并没有真正生成所需的赝势和轨道基组文件，ABACUS实际运行时会到INPUT里面以及环境变量里面去找对应的赝势和轨道基组文件。\n",
    "\n",
    "注意：赝势和轨道基组文件是从已经设置好的环境变量对应的位置复制过来的（简单想想就知道也不可能是ASE-ABACUS接口自己生成的），所以在生成赝势和轨道基组文件的时候需要指定之前所述的环境变量"
   ]
  },
  {
   "cell_type": "code",
   "execution_count": null,
   "id": "__bohr_old_version_cellId_11__",
   "metadata": {},
   "outputs": [],
   "source": [
    "from ase.io import read, write\n",
    "from pathlib import Path\n",
    "\n",
    "cs_dir = './'\n",
    "cs_vasp = Path(cs_dir, 'AMS_DATA-92.cif')\n",
    "cs_atoms = read(cs_vasp, format='cif')\n",
    "cs_stru = Path(cs_dir, 'STRU')\n",
    "pp = {'Si':'Si_ONCV_PBE-1.0.upf','O':'O_ONCV_PBE-1.0.upf'}\n",
    "basis = {'Si':'Si_gga_8au_100Ry_2s2p1d.orb','O':'O_gga_7au_100Ry_2s2p1d.orb'}\n",
    "write(cs_stru, cs_atoms, format='abacus', pp=pp, basis=basis)"
   ]
  },
  {
   "cell_type": "markdown",
   "id": "__bohr_old_version_cellId_12__",
   "metadata": {},
   "source": [
    "### 2 STRU 转 CIF\n",
    "计算完毕的STRU文件需要转换成CIF文件，然后才能被VESTA等建模软件读取。转换方法如下："
   ]
  },
  {
   "cell_type": "code",
   "execution_count": null,
   "id": "__bohr_old_version_cellId_13__",
   "metadata": {},
   "outputs": [],
   "source": [
    "from ase.io import read, write\n",
    "from pathlib import Path\n",
    "\n",
    "cs_dir = './'\n",
    "cs_stru = Path(cs_dir, 'STRU')\n",
    "cs_atoms= read( cs_stru, format='abacus')\n",
    "cs_vasp = Path(cs_dir, 'STRU.cif')\n",
    "write(cs_vasp, cs_atoms, format='cif')"
   ]
  },
  {
   "cell_type": "markdown",
   "id": "__bohr_old_version_cellId_14__",
   "metadata": {},
   "source": [
    "### 3 POSCAR 转 STRU\n",
    "VASP计算所得的POSCAR可以通过ASE-ABACUS接口快速地转换成ABACUS计算所需的STRU文件"
   ]
  },
  {
   "cell_type": "code",
   "execution_count": null,
   "id": "__bohr_old_version_cellId_15__",
   "metadata": {},
   "outputs": [],
   "source": [
    "from ase.io import read, write\n",
    "from pathlib import Path\n",
    "\n",
    "cs_dir = './'\n",
    "cs_vasp = Path(cs_dir, 'POSCAR')\n",
    "cs_atoms = read(cs_vasp, format='vasp')\n",
    "cs_stru = Path(cs_dir, 'STRU')\n",
    "pp = {'Al':'Al_ONCV_PBE-1.0.upf'}\n",
    "basis = {'Al':'Al_gga_8au_100Ry_2s2p1d.orb'}\n",
    "# 如果要设置磁矩，有两个办法\n",
    "# 1. 直接添加代码，对各原子设置磁矩\n",
    "# cs_atoms.set_initial_magnetic_moments([1.0,1.0,1.0,1.0])\n",
    "# 2. 设置每个原子每个方向的磁矩，此处需要使用二维数组、\n",
    "# cs_atoms.set_initial_magnetic_moments([[1.0,1.0,1.0],[1.0,1.0,2.0],[1.0,1.0,3.0],[1.0,1.0,4.0]])\n",
    "write(cs_stru, cs_atoms, format='abacus', pp=pp, basis=basis)"
   ]
  },
  {
   "cell_type": "markdown",
   "id": "__bohr_old_version_cellId_16__",
   "metadata": {},
   "source": [
    "### 4 STRU 转 POSCAR\n",
    "同样，逆过程也是可以进行的"
   ]
  },
  {
   "cell_type": "code",
   "execution_count": null,
   "id": "__bohr_old_version_cellId_17__",
   "metadata": {},
   "outputs": [],
   "source": [
    "from ase.io import read, write\n",
    "from pathlib import Path\n",
    "from ase.calculators.abacus import Abacus\n",
    "\n",
    "cs_dir = './'\n",
    "cs_stru = Path(cs_dir, 'STRU')\n",
    "cs_atoms= read(cs_stru, format='abacus')\n",
    "cs_vasp = Path(cs_dir, 'POSCAR')\n",
    "write(cs_vasp, cs_atoms, format='vasp')"
   ]
  },
  {
   "cell_type": "markdown",
   "id": "__bohr_old_version_cellId_18__",
   "metadata": {},
   "source": [
    "容易发现，CIF/POSCAR 与 STRU 格式的互换是需要在脚本里面指定很多细节变量的，包括结构类型，STRU文件的赝势、基组，以及设置磁矩等。如果是日常的格式转换的话，可以通过将这些变量全部抽离前置，或者是用一个workflow组织起各个小脚本来解决。\n",
    "\n",
    "实际上，这种重复造轮子的任务是没有太大必要的，[ATOMKIT](http://vaspkit.cn/index.php/306.html)软件可以更好地进行结构转换。\n",
    "\n",
    "但ASE有它独有的优势，比如我们可以通过读入POSCAR之后调用ABACUS进行计算，或者是，我们可以直接读入ABACUS的输出文件，来读取ABACUS计算的结果。"
   ]
  },
  {
   "cell_type": "markdown",
   "id": "__bohr_old_version_cellId_19__",
   "metadata": {},
   "source": [
    "### 5 STRU到其他结构格式的转换\n",
    "\n",
    "ASE支持的结构格式多种多样，具体可参照[ase.io-module](https://wiki.fysik.dtu.dk/ase/ase/io/io.html#module-ase.io)。工作流程与上面的例子类似，都是先用`ase.io.read`读入结构（或者多帧结构），再用`ase.io.write`输出目标结构即可。\n",
    "\n",
    "这些格式转换也大多可以通过[ATOMKIT](http://vaspkit.cn/index.php/306.html)完成"
   ]
  },
  {
   "cell_type": "markdown",
   "id": "__bohr_old_version_cellId_20__",
   "metadata": {},
   "source": [
    "## 通过ASE调用ABACUS进行计算\n",
    "\n",
    "生成了STRU文件之后，只需要KPT和INPUT文件，就可以应用ABACUS进行计算了，\n",
    "可以通过ASE-ABACUS接口，即`ase.calculators.abacus`模块来调用ABACUS进行计算，\n",
    "具体操作如下："
   ]
  },
  {
   "cell_type": "markdown",
   "id": "__bohr_old_version_cellId_21__",
   "metadata": {},
   "source": [
    "### 1. 设置环境变量\n",
    "\n",
    "ABACUS支持模守恒赝势，并支持两种基组：PW（平面波基组）和LCAO（数值原子轨道基组），赝势和轨道基组文件的存放方式可以通过环境变量设置，分别为`ABACUS_PP_PATH`和`ABACUS_ORBITAL_PATH`，设置方法如下：\n",
    "\n",
    "如果只做PW计算，可以不用设置`ABACUS_ORBITAL_PATH`"
   ]
  },
  {
   "cell_type": "code",
   "execution_count": null,
   "id": "__bohr_old_version_cellId_22__",
   "metadata": {},
   "outputs": [],
   "source": [
    "#PP=${HOME}/pseudopotentials\n",
    "#ORB=${HOME}/orbitals\n",
    "# in shell\n",
    "# PP=/home/james/example/PP\n",
    "# ORB=/home/james/example/ORB\n",
    "# export ABACUS_PP_PATH=${PP}\n",
    "# export ABACUS_ORBITAL_PATH=${ORB}\n",
    "# in python\n",
    "import os\n",
    "os.environ['ABACUS_PP_PATH'] = '/home/james/example/PP'\n",
    "os.environ['ABACUS_ORBITAL_PATH'] = '/home/james/example/ORB'\n",
    "print(os.environ.get('ABACUS_PP_PATH'))\n",
    "print(os.environ.get('ABACUS_ORBITAL_PATH'))"
   ]
  },
  {
   "cell_type": "markdown",
   "id": "1d0c510f-c831-443e-a684-552211b58e94",
   "metadata": {},
   "source": [
    "注：个人不建议使用环境变量设置方法（容易找不到，并且容易忘），建议像下面所示的脚本一样手动指定赝势和轨道存储位置。"
   ]
  },
  {
   "cell_type": "markdown",
   "id": "__bohr_old_version_cellId_23__",
   "metadata": {},
   "source": [
    "### 2. 加入ABACUS计算器\n",
    "\n",
    "ASE通过`ase.calculators`调用外部软件作为计算器进行计算，在python中引入ABACUS接口的方式为："
   ]
  },
  {
   "cell_type": "code",
   "execution_count": null,
   "id": "__bohr_old_version_cellId_24__",
   "metadata": {},
   "outputs": [],
   "source": [
    "from ase.calculators.abacus import Abacus"
   ]
  },
  {
   "cell_type": "markdown",
   "id": "__bohr_old_version_cellId_25__",
   "metadata": {},
   "source": [
    "### 3. 基于已有STRU文件开始计算"
   ]
  },
  {
   "cell_type": "markdown",
   "id": "__bohr_old_version_cellId_26__",
   "metadata": {},
   "source": [
    "以下是一个读取已有STRU文件，通过ABACUS进行SCF计算，\n",
    "并基于ASE的优化器进行结构优化计算的示例脚本"
   ]
  },
  {
   "cell_type": "code",
   "execution_count": null,
   "id": "__bohr_old_version_cellId_27__",
   "metadata": {},
   "outputs": [],
   "source": [
    "# read STRU file, generate INCAR and KPT file \n",
    "# run optimization jobs\n",
    "import os\n",
    "from ase.optimize import QuasiNewton, BFGS, LBFGS, FIRE, GPMin\n",
    "from ase.io import read\n",
    "from ase.calculators.abacus import Abacus, AbacusProfile\n",
    "\n",
    "# setting\n",
    "stru = read('STRU', format='abacus')\n",
    "optimizer = QuasiNewton\n",
    "mpi = 16\n",
    "omp = 1\n",
    "abacus = 'abacus'\n",
    "pseudo_dir = \"/home/james/example/PP\"\n",
    "basis_dir = \"/home/james/example/ORB\"\n",
    "pp = {\"Pt\": \"Pt_ONCV_PBE-1.0.upf\"}\n",
    "basis = {\"Pt\": \"Pt_gga_7au_100Ry_4s2p2d1f.orb\"}\n",
    "kpts = [3, 3, 1] # KPT setting (will be generate next)\n",
    "# INPUT setting\n",
    "parameters = {\n",
    "    'calculation': 'scf',\n",
    "    'basis_type': 'lcao',\n",
    "    'ks_solver': 'genelpa',\n",
    "    'vdw_method': 'd3_bj',\n",
    "    'nspin' : 2,\n",
    "    'xc': 'pbe',\n",
    "    'ecutwfc': 100,\n",
    "    'kpts': kpts,\n",
    "    'pp': pp,\n",
    "    'basis': basis,\n",
    "    'pseudo_dir': pseudo_dir,\n",
    "    'basis_dir': basis_dir,\n",
    "    'smearing_method': 'gau',\n",
    "    'smearing_sigma': 0.002,\n",
    "    'mixing_type': 'broyden',\n",
    "    'scf_thr': 1e-6,\n",
    "    'cal_force': 1,\n",
    "    'cal_stress': 1,\n",
    "    'out_stru': 1,\n",
    "    'out_chg': 0,\n",
    "}\n",
    "\n",
    "# running\n",
    "os.environ['OMP_NUM_THREADS'] = f'{omp}'\n",
    "profile = AbacusProfile(f'mpirun -np {mpi} {abacus}')\n",
    "stru.calc = Abacus(profile=profile, directory=\"OUT\",\n",
    "                    **parameters)\n",
    "\n",
    "qn = optimizer(stru, trajectory='opt.traj')\n",
    "qn.run(fmax=0.05)"
   ]
  },
  {
   "cell_type": "markdown",
   "id": "__bohr_old_version_cellId_28__",
   "metadata": {},
   "source": [
    "## 通过ASE读取ABACUS计算轨迹\n",
    "\n",
    "ASE也可以读取ABACUS的计算结果，即计算所得的running*.log文件，并将其转化为含有结构，能量，力和维里的文件格式，便于可视化与用于机器学习势函数训练。"
   ]
  },
  {
   "cell_type": "markdown",
   "id": "__bohr_old_version_cellId_29__",
   "metadata": {},
   "source": [
    "以下是一个读取ABACUS计算结果并将其转换为extxyz格式的例子。extxyz即extended xyz格式文件，是ASE最推荐的文件格式，它可以在存储结构的同时存储其能量、力和维里的计算结果，同时该格式文件和轨迹支持所有能可视化xyz格式的软件进行可视化操作，比如VMD和Ovito。"
   ]
  },
  {
   "cell_type": "code",
   "execution_count": null,
   "id": "__bohr_old_version_cellId_30__",
   "metadata": {},
   "outputs": [],
   "source": [
    "from ase.io import read, write\n",
    "from pathlib import Path\n",
    "from ase.calculators.abacus import Abacus\n",
    "\n",
    "cs_dir = './OUT.ABACUS/'\n",
    "cs_stru = Path(cs_dir, 'running_relax.log')\n",
    "cs_atoms= read(cs_stru, format='abacus-out')\n",
    "cs_vasp = Path(cs_dir, 'relax_traj.extxyz')\n",
    "write(cs_vasp, cs_atoms, format='extxyz')"
   ]
  },
  {
   "cell_type": "markdown",
   "id": "__bohr_old_version_cellId_31__",
   "metadata": {},
   "source": [
    "## ASE-ABACUS 做 NEB 计算"
   ]
  },
  {
   "cell_type": "markdown",
   "id": "__bohr_old_version_cellId_32__",
   "metadata": {},
   "source": [
    "ASE-ABACUS联动不仅可以完成计算过程的前处理、后处理和结构优化计算，还可以调用ASE里面丰富的各种结构演化模块进行其他任务的计算，比如分子动力学（MD），遗传算法（GA），过渡态（TS）搜索等。\n",
    "\n",
    "过渡态搜索中，最常用的一类方法是NEB方法，进行NEB计算的基本思路如下：\n",
    "1. 初始化NEB链的初末态，并优化\n",
    "2. 给出NEB链的中间态插值初猜\n",
    "3. 进行迭代的NEB链优化计算\n",
    "\n",
    "ASE-ABACUS进行NEB计算的思路也是类似的。\n",
    "\n",
    "具体内容参见下期notebook：https://bohrium.dp.tech/notebooks/39369325971\n"
   ]
  }
 ],
 "metadata": {
  "kernelspec": {
   "display_name": "dpmd_conda",
   "language": "python",
   "name": "python3"
  },
  "language_info": {
   "codemirror_mode": {
    "name": "ipython",
    "version": 3
   },
   "file_extension": ".py",
   "mimetype": "text/x-python",
   "name": "python",
   "nbconvert_exporter": "python",
   "pygments_lexer": "ipython3",
   "version": "3.12.9"
  },
  "orig_nbformat_minor": 2
 },
 "nbformat": 4,
 "nbformat_minor": 5
}
