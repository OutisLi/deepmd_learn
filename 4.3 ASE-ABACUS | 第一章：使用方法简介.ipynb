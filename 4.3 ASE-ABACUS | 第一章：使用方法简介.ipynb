{
 "cells": [
  {
   "cell_type": "markdown",
   "id": "__bohr_old_version_cellId_0__",
   "metadata": {},
   "source": [
    "# ASE-ABACUS | 第一章：使用方法简介\n"
   ]
  },
  {
   "cell_type": "markdown",
   "id": "__bohr_old_version_cellId_1__",
   "metadata": {},
   "source": [
    "<div style=\"color:black; background-color:#FFF3E9; border: 1px solid #FFE0C3; border-radius: 10px; margin-bottom:0rem\">\n",
    "    <p style=\"margin:1rem; padding-left: 1rem; line-height: 2.5;\">\n",
    "        ©️ <b><i>Copyright 2023 @ Authors</i></b><br/>\n",
    "        <i>作者：量子御坂\n",
    "            <b>\n",
    "            <a href=\"mailto:quantummisaka@mail.pku.edu.cn\">*** 📨 </a>\n",
    "            </b>\n",
    "        </i>\n",
    "        <br/>\n",
    "        <i>日期：2023-09-19</i><br/>\n",
    "        <i>最近更新：2024-09-20</i><br/>\n",
    "        <i>共享协议：</a>本作品采用<a rel=\"license\" href=\"http://creativecommons.org/licenses/by-nc-sa/4.0/\">知识共享署名-非商业性使用-相同方式共享 4.0 国际许可协议</a>进行许可。</i><br/>\n",
    "        <i>快速开始：点击上方的</i> <span style=\"background-color:rgb(85, 91, 228); color:white; padding: 3px; border-radius: 5px;box-shadow: 2px 2px 3px rgba(0, 0, 0, 0.3); font-size:0.75rem;\">开始连接</span> <i>按钮，选择 <b><u>bohrium-notebook:2023-05-31 </u>镜像</b> 和任意配置机型即可开始。</i><br/>\n",
    "    </p>\n",
    "</div>\n"
   ]
  },
  {
   "cell_type": "markdown",
   "id": "__bohr_old_version_cellId_2__",
   "metadata": {},
   "source": [
    "通过 ASE-ABACUS 接口，你可以做到\n",
    "\n",
    "1. 通过 ASE 可视化 STRU 文件\n",
    "2. 通过 ASE 生成与转换 STRU 文件，进行前处理\n",
    "3. 通过 ASE 调用 ABACUS 进行计算，包括 SCF，结构优化，过渡态计算，电子结构分析等\n",
    "4. 通过 ASE 读取 ABACUS 计算结果，进行后处理\n",
    "\n",
    "让我们开始吧！\n",
    "\n",
    "哦对了，开始之前你可能需要自己准备一个 STRU 文件，或者，也可以让 ASE 帮你生成哦\n"
   ]
  },
  {
   "cell_type": "markdown",
   "id": "__bohr_old_version_cellId_3__",
   "metadata": {},
   "source": [
    "## 安装 ASE-ABACUS 接口\n",
    "\n",
    "如下操作将在目前的 python 环境中安装 ASE 和 ASE-ABACUS 接口。\n"
   ]
  },
  {
   "cell_type": "code",
   "execution_count": null,
   "id": "__bohr_old_version_cellId_4__",
   "metadata": {
    "vscode": {
     "languageId": "shellscript"
    }
   },
   "outputs": [],
   "source": [
    "# running without ! in shell environments\n",
    "# ! git clone https://gitlab.com/1041176461/ase-abacus.git\n",
    "# ! cd ase-abacus\n",
    "! pip install git+https://gitlab.com/1041176461/ase-abacus.git\n",
    "! export DISPLAY=192.168.31.232:0.0"
   ]
  },
  {
   "cell_type": "markdown",
   "id": "__bohr_old_version_cellId_5__",
   "metadata": {},
   "source": [
    "## 通过 ASE 可视化 STRU 文件\n",
    "\n",
    "ASE-ABACUS 接口的第一个用处即为用于 ABACUS 计算的 STRU 文件的快速可视化。这一点可以通过 ASE 的 visualier 模块来快速实现。以下模块实现了一个简单的可视化函数，用于可视化 STRU 文件。\n"
   ]
  },
  {
   "cell_type": "code",
   "execution_count": null,
   "id": "__bohr_old_version_cellId_6__",
   "metadata": {},
   "outputs": [],
   "source": [
    "from ase.io import read\n",
    "from ase.visualize import view\n",
    "from pathlib import Path\n",
    "import sys\n",
    "\n",
    "def get_stru(inputfile=\"\"):\n",
    "    cs_atoms = None\n",
    "    if inputfile:\n",
    "        cs_stru = Path(inputfile)\n",
    "        cs_atoms = read(cs_stru, format=\"abacus\")\n",
    "    else:\n",
    "        cs_atoms = read(\"STRU\", format=\"abacus\")\n",
    "    return cs_atoms\n",
    "\n",
    "cs_atoms = get_stru(\"abacus_example/2_abacus-dpgen/init/3C/STRU\")\n",
    "view(cs_atoms)"
   ]
  },
  {
   "cell_type": "markdown",
   "id": "ec3c49cb-3a0f-4ea9-8821-b7a6c0a10fef",
   "metadata": {},
   "source": [
    "上述可视化方法采用 ASE 默认的 ASE-GUI 进行可视化，但这个组件在 Bohrium Notebook 上是不可用的。\n",
    "\n",
    "我们采用 ngl 作为可视化器。在使用 ngl 之前需要先 pip 安装\n"
   ]
  },
  {
   "cell_type": "code",
   "execution_count": null,
   "id": "66ae0773-134c-447c-aa6a-351a3611f5fd",
   "metadata": {},
   "outputs": [],
   "source": [
    "%pip install nglview"
   ]
  },
  {
   "cell_type": "markdown",
   "id": "aedbecc1-1fdb-4dca-ba83-4af6b5d31ee7",
   "metadata": {},
   "source": [
    "以下是一个可视化函数的案例\n"
   ]
  },
  {
   "cell_type": "code",
   "execution_count": null,
   "id": "654ef2d5-2730-4fc8-8838-ab59b9f4accc",
   "metadata": {},
   "outputs": [],
   "source": [
    "from ase.io import read\n",
    "from ase.visualize import view\n",
    "from pathlib import Path\n",
    "import sys\n",
    "\n",
    "def get_stru(inputfile=\"\"):\n",
    "    cs_atoms = None\n",
    "    if inputfile:\n",
    "        cs_stru = Path(inputfile)\n",
    "        cs_atoms = read(cs_stru, format=\"abacus\")\n",
    "    else:\n",
    "        cs_atoms = read(\"STRU\", format=\"abacus\")\n",
    "    return cs_atoms\n",
    "\n",
    "cs_atoms = get_stru(\"abacus_example/2_abacus-dpgen/init/3C/STRU\")\n",
    "view(cs_atoms, viewer='ngl')"
   ]
  },
  {
   "cell_type": "markdown",
   "id": "__bohr_old_version_cellId_7__",
   "metadata": {},
   "source": [
    "除了脚本之外，基于命令行有一个更简单的办法来可视化 STRU 文件。即通过 ASE 的 GUI 模块来实现。\n"
   ]
  },
  {
   "cell_type": "code",
   "execution_count": null,
   "id": "__bohr_old_version_cellId_8__",
   "metadata": {},
   "outputs": [],
   "source": [
    "! DISPLAY=192.168.31.232:0.0 ase -T gui abacus_example/2_abacus-dpgen/init/3C/STRU"
   ]
  },
  {
   "cell_type": "markdown",
   "id": "__bohr_old_version_cellId_9__",
   "metadata": {},
   "source": [
    "## 通过 ASE 生成与转换 STRU 文件\n",
    "\n",
    "ASE-ABACUS 接口的一个关键用处就是从转 cif，POSCAR，xyz 等格式的结构文件转化为 ABACUS 的 STRU 格式文件，或者是反向的转换。当然这个过程也可以通过 vaspkit 开发组目前正在开发的[ATOMKIT](http://vaspkit.cn/index.php/306.html)软件来实现，这是一个正在快速迭代中的跨平台建模与结构转换脚本，截止目前其最新版本为 0.6.1。\n",
    "\n",
    "ABACUS 开发组更推荐采用 ASE-ABACUS 接口来进行操作\n"
   ]
  },
  {
   "cell_type": "markdown",
   "id": "__bohr_old_version_cellId_10__",
   "metadata": {},
   "source": [
    "### 1 CIF 转 STRU\n",
    "\n",
    "从 CIF 文件中读取结构信息并生成用于 ABACUS 计算的输入文件往往是计算开展的第一步，操作方法如下：\n",
    "\n",
    "注意：这里的`pp`和`basis`变量只是将赝势和轨道基组文件指定到 STRU 文件内，并没有真正生成所需的赝势和轨道基组文件，ABACUS 实际运行时会到 INPUT 里面以及环境变量里面去找对应的赝势和轨道基组文件。\n",
    "\n",
    "注意：赝势和轨道基组文件是从已经设置好的环境变量对应的位置复制过来的（简单想想就知道也不可能是 ASE-ABACUS 接口自己生成的），所以在生成赝势和轨道基组文件的时候需要指定之前所述的环境变量\n"
   ]
  },
  {
   "cell_type": "code",
   "execution_count": null,
   "id": "__bohr_old_version_cellId_11__",
   "metadata": {},
   "outputs": [],
   "source": [
    "from ase.io import read, write\n",
    "from pathlib import Path\n",
    "from ase.visualize import view\n",
    "\n",
    "cs_dir = './4_ASE-Abacus'\n",
    "cs_vasp = Path(cs_dir, 'Ti2AlC_mp-12990_conventional_standard.cif')\n",
    "cs_atoms = read(cs_vasp, format='cif')\n",
    "view(cs_atoms, viewer='ngl')"
   ]
  },
  {
   "cell_type": "code",
   "execution_count": null,
   "id": "9bae26ad",
   "metadata": {},
   "outputs": [],
   "source": [
    "cs_stru = Path(cs_dir, 'STRU')\n",
    "pp = {'Ti':'Ti_ONCV_PBE-1.2.upf','Al':'Al.upf','C':'C.upf'}\n",
    "basis = {'Ti':'Ti_gga_7au_100Ry_4s2p2d1f.orb','Al':'Al_gga_8au_100Ry_2s2p1d.orb','C':'C_gga_8au_100Ry_2s2p1d.orb'}\n",
    "write(cs_stru, cs_atoms, format='abacus', pp=pp, basis=basis)"
   ]
  },
  {
   "cell_type": "markdown",
   "id": "__bohr_old_version_cellId_12__",
   "metadata": {},
   "source": [
    "### 2 STRU 转 CIF\n",
    "\n",
    "计算完毕的 STRU 文件需要转换成 CIF 文件，然后才能被 VESTA 等建模软件读取。转换方法如下：\n"
   ]
  },
  {
   "cell_type": "code",
   "execution_count": null,
   "id": "__bohr_old_version_cellId_13__",
   "metadata": {},
   "outputs": [],
   "source": [
    "from ase.io import read, write\n",
    "from pathlib import Path\n",
    "\n",
    "cs_dir = './4_ASE-Abacus'\n",
    "cs_stru = Path(cs_dir, 'STRU')\n",
    "cs_atoms= read(cs_stru, format='abacus')\n",
    "cs_vasp = Path(cs_dir, 'STRU.cif')\n",
    "write(cs_vasp, cs_atoms, format='cif')"
   ]
  },
  {
   "cell_type": "markdown",
   "id": "__bohr_old_version_cellId_14__",
   "metadata": {},
   "source": [
    "### 3 POSCAR 转 STRU\n",
    "\n",
    "VASP 计算所得的 POSCAR 可以通过 ASE-ABACUS 接口快速地转换成 ABACUS 计算所需的 STRU 文件\n"
   ]
  },
  {
   "cell_type": "code",
   "execution_count": null,
   "id": "__bohr_old_version_cellId_15__",
   "metadata": {},
   "outputs": [],
   "source": [
    "from ase.io import read, write\n",
    "from pathlib import Path\n",
    "\n",
    "cs_dir = './'\n",
    "cs_vasp = Path(cs_dir, 'POSCAR')\n",
    "cs_atoms = read(cs_vasp, format='vasp')\n",
    "cs_stru = Path(cs_dir, 'STRU')\n",
    "pp = {'Al':'Al_ONCV_PBE-1.0.upf'}\n",
    "basis = {'Al':'Al_gga_8au_100Ry_2s2p1d.orb'}\n",
    "# 如果要设置磁矩，有两个办法\n",
    "# 1. 直接添加代码，对各原子设置磁矩\n",
    "# cs_atoms.set_initial_magnetic_moments([1.0,1.0,1.0,1.0])\n",
    "# 2. 设置每个原子每个方向的磁矩，此处需要使用二维数组、\n",
    "# cs_atoms.set_initial_magnetic_moments([[1.0,1.0,1.0],[1.0,1.0,2.0],[1.0,1.0,3.0],[1.0,1.0,4.0]])\n",
    "write(cs_stru, cs_atoms, format='abacus', pp=pp, basis=basis)"
   ]
  },
  {
   "cell_type": "markdown",
   "id": "__bohr_old_version_cellId_16__",
   "metadata": {},
   "source": [
    "### 4 STRU 转 POSCAR\n",
    "\n",
    "同样，逆过程也是可以进行的\n"
   ]
  },
  {
   "cell_type": "code",
   "execution_count": null,
   "id": "__bohr_old_version_cellId_17__",
   "metadata": {},
   "outputs": [],
   "source": [
    "from ase.io import read, write\n",
    "from pathlib import Path\n",
    "from ase.calculators.abacus import Abacus\n",
    "\n",
    "cs_dir = './4_ASE-Abacus'\n",
    "cs_stru = Path(cs_dir, 'STRU')\n",
    "cs_atoms= read(cs_stru, format='abacus')\n",
    "cs_vasp = Path(cs_dir, 'POSCAR')\n",
    "write(cs_vasp, cs_atoms, format='vasp')"
   ]
  },
  {
   "cell_type": "markdown",
   "id": "__bohr_old_version_cellId_18__",
   "metadata": {},
   "source": [
    "容易发现，CIF/POSCAR 与 STRU 格式的互换是需要在脚本里面指定很多细节变量的，包括结构类型，STRU 文件的赝势、基组，以及设置磁矩等。如果是日常的格式转换的话，可以通过将这些变量全部抽离前置，或者是用一个 workflow 组织起各个小脚本来解决。\n",
    "\n",
    "实际上，这种重复造轮子的任务是没有太大必要的，[ATOMKIT](http://vaspkit.cn/index.php/306.html)软件可以更好地进行结构转换。\n",
    "\n",
    "但 ASE 有它独有的优势，比如我们可以通过读入 POSCAR 之后调用 ABACUS 进行计算，或者是，我们可以直接读入 ABACUS 的输出文件，来读取 ABACUS 计算的结果。\n"
   ]
  },
  {
   "cell_type": "markdown",
   "id": "__bohr_old_version_cellId_19__",
   "metadata": {},
   "source": [
    "### 5 STRU 到其他结构格式的转换\n",
    "\n",
    "ASE 支持的结构格式多种多样，具体可参照[ase.io-module](https://wiki.fysik.dtu.dk/ase/ase/io/io.html#module-ase.io)。工作流程与上面的例子类似，都是先用`ase.io.read`读入结构（或者多帧结构），再用`ase.io.write`输出目标结构即可。\n",
    "\n",
    "这些格式转换也大多可以通过[ATOMKIT](http://vaspkit.cn/index.php/306.html)完成\n"
   ]
  },
  {
   "cell_type": "markdown",
   "id": "__bohr_old_version_cellId_20__",
   "metadata": {},
   "source": [
    "## 通过 ASE 调用 ABACUS 进行计算\n",
    "\n",
    "生成了 STRU 文件之后，只需要 KPT 和 INPUT 文件，就可以应用 ABACUS 进行计算了，\n",
    "可以通过 ASE-ABACUS 接口，即`ase.calculators.abacus`模块来调用 ABACUS 进行计算，\n",
    "具体操作如下：\n"
   ]
  },
  {
   "cell_type": "markdown",
   "id": "__bohr_old_version_cellId_21__",
   "metadata": {},
   "source": [
    "### 1. 设置环境变量\n",
    "\n",
    "ABACUS 支持模守恒赝势，并支持两种基组：PW（平面波基组）和 LCAO（数值原子轨道基组），赝势和轨道基组文件的存放方式可以通过环境变量设置，分别为`ABACUS_PP_PATH`和`ABACUS_ORBITAL_PATH`，设置方法如下：\n",
    "\n",
    "如果只做 PW 计算，可以不用设置`ABACUS_ORBITAL_PATH`\n"
   ]
  },
  {
   "cell_type": "code",
   "execution_count": null,
   "id": "__bohr_old_version_cellId_22__",
   "metadata": {},
   "outputs": [],
   "source": [
    "#PP=${HOME}/pseudopotentials\n",
    "#ORB=${HOME}/orbitals\n",
    "# in shell\n",
    "# PP=/home/james/example/PP\n",
    "# ORB=/home/james/example/ORB\n",
    "# export ABACUS_PP_PATH=${PP}\n",
    "# export ABACUS_ORBITAL_PATH=${ORB}\n",
    "# in python\n",
    "import os\n",
    "os.environ['ABACUS_PP_PATH'] = '/home/james/example/PP'\n",
    "os.environ['ABACUS_ORBITAL_PATH'] = '/home/james/example/ORB'\n",
    "print(os.environ.get('ABACUS_PP_PATH'))\n",
    "print(os.environ.get('ABACUS_ORBITAL_PATH'))"
   ]
  },
  {
   "cell_type": "markdown",
   "id": "1d0c510f-c831-443e-a684-552211b58e94",
   "metadata": {},
   "source": [
    "注：个人不建议使用环境变量设置方法（容易找不到，并且容易忘），建议像下面所示的脚本一样手动指定赝势和轨道存储位置。\n"
   ]
  },
  {
   "cell_type": "markdown",
   "id": "__bohr_old_version_cellId_23__",
   "metadata": {},
   "source": [
    "### 2. 加入 ABACUS 计算器\n",
    "\n",
    "ASE 通过`ase.calculators`调用外部软件作为计算器进行计算，在 python 中引入 ABACUS 接口的方式为：\n"
   ]
  },
  {
   "cell_type": "code",
   "execution_count": null,
   "id": "__bohr_old_version_cellId_24__",
   "metadata": {},
   "outputs": [],
   "source": [
    "from ase.calculators.abacus import Abacus"
   ]
  },
  {
   "cell_type": "markdown",
   "id": "__bohr_old_version_cellId_25__",
   "metadata": {},
   "source": [
    "### 3. 基于已有 STRU 文件开始计算\n"
   ]
  },
  {
   "cell_type": "markdown",
   "id": "__bohr_old_version_cellId_26__",
   "metadata": {},
   "source": [
    "以下是一个读取已有 STRU 文件，通过 ABACUS 进行 SCF 计算，\n",
    "并基于 ASE 的优化器进行结构优化计算的示例脚本\n"
   ]
  },
  {
   "cell_type": "code",
   "execution_count": null,
   "id": "__bohr_old_version_cellId_27__",
   "metadata": {},
   "outputs": [],
   "source": [
    "# read STRU file, generate INCAR and KPT file\n",
    "# run optimization jobs\n",
    "import os\n",
    "from pathlib import Path\n",
    "from ase.optimize import QuasiNewton, BFGS, LBFGS, FIRE, GPMin\n",
    "from ase.io import read\n",
    "from ase.calculators.abacus import Abacus, AbacusProfile\n",
    "\n",
    "# setting\n",
    "work_dir = \"4_ASE-Abacus\"\n",
    "stru = read(Path(work_dir, \"STRU\"), format=\"abacus\")\n",
    "optimizer = QuasiNewton\n",
    "mpi = 24\n",
    "omp = 1\n",
    "abacus = \"abacus\"\n",
    "pseudo_dir = work_dir\n",
    "basis_dir = work_dir\n",
    "pp = {\"Ti\": \"Ti_ONCV_PBE-1.2.upf\", \"Al\": \"Al.upf\", \"C\": \"C.upf\"}\n",
    "basis = {\"Ti\": \"Ti_gga_7au_100Ry_4s2p2d1f.orb\", \"Al\": \"Al_gga_8au_100Ry_2s2p1d.orb\", \"C\": \"C_gga_8au_100Ry_2s2p1d.orb\"}\n",
    "\n",
    "# KPT setting (will be generate next)\n",
    "kpts = [3, 3, 1]\n",
    "# INPUT setting\n",
    "parameters = {\n",
    "    \"calculation\": \"scf\",\n",
    "    \"basis_type\": \"lcao\",\n",
    "    \"ks_solver\": \"genelpa\",\n",
    "    \"vdw_method\": \"d3_bj\",\n",
    "    \"nspin\": 2,\n",
    "    \"xc\": \"pbe\",\n",
    "    \"ecutwfc\": 100,\n",
    "    \"kpts\": kpts,\n",
    "    \"pp\": pp,\n",
    "    \"basis\": basis,\n",
    "    \"pseudo_dir\": pseudo_dir,\n",
    "    \"basis_dir\": basis_dir,\n",
    "    \"smearing_method\": \"gauss\",\n",
    "    \"smearing_sigma\": 0.002,\n",
    "    \"mixing_type\": \"broyden\",\n",
    "    \"scf_thr\": 1e-6,\n",
    "    \"cal_force\": 1,\n",
    "    \"cal_stress\": 1,\n",
    "    \"out_stru\": 1,\n",
    "    \"out_chg\": 0,\n",
    "}"
   ]
  },
  {
   "cell_type": "code",
   "execution_count": null,
   "id": "0a93dddc",
   "metadata": {},
   "outputs": [],
   "source": [
    "# running\n",
    "env_script = os.path.expanduser(\"~/Software/abacus-develop/toolchain/abacus_env.sh\")\n",
    "abacus_cmd = f\"mpirun --use-hwthread-cpus -np {mpi} {abacus}\"\n",
    "full_cmd = f\"zsh -c source {env_script} && {abacus_cmd}\"\n",
    "\n",
    "os.environ[\"OMP_NUM_THREADS\"] = f\"{omp}\"\n",
    "profile = AbacusProfile(command=abacus_cmd)\n",
    "stru.calc = Abacus(profile=profile, directory=\"OUT\", **parameters)\n",
    "\n",
    "qn = optimizer(stru, trajectory=\"opt.traj\")\n",
    "qn.run(fmax=0.05)"
   ]
  },
  {
   "cell_type": "code",
   "execution_count": null,
   "id": "6bab7821",
   "metadata": {},
   "outputs": [],
   "source": [
    "! source ~/Software/abacus-develop/toolchain/abacus_env.sh && OMP_NUM_THREADS=32 abacus"
   ]
  },
  {
   "cell_type": "markdown",
   "id": "__bohr_old_version_cellId_28__",
   "metadata": {},
   "source": [
    "## 通过 ASE 读取 ABACUS 计算轨迹\n",
    "\n",
    "ASE 也可以读取 ABACUS 的计算结果，即计算所得的 running\\*.log 文件，并将其转化为含有结构，能量，力和维里的文件格式，便于可视化与用于机器学习势函数训练。\n"
   ]
  },
  {
   "cell_type": "markdown",
   "id": "__bohr_old_version_cellId_29__",
   "metadata": {},
   "source": [
    "以下是一个读取 ABACUS 计算结果并将其转换为 extxyz 格式的例子。extxyz 即 extended xyz 格式文件，是 ASE 最推荐的文件格式，它可以在存储结构的同时存储其能量、力和维里的计算结果，同时该格式文件和轨迹支持所有能可视化 xyz 格式的软件进行可视化操作，比如 VMD 和 Ovito。\n"
   ]
  },
  {
   "cell_type": "code",
   "execution_count": 12,
   "id": "__bohr_old_version_cellId_30__",
   "metadata": {},
   "outputs": [
    {
     "ename": "IndexError",
     "evalue": "too many indices for array: array is 1-dimensional, but 2 were indexed",
     "output_type": "error",
     "traceback": [
      "\u001b[31m---------------------------------------------------------------------------\u001b[39m",
      "\u001b[31mIndexError\u001b[39m                                Traceback (most recent call last)",
      "\u001b[36mCell\u001b[39m\u001b[36m \u001b[39m\u001b[32mIn[12]\u001b[39m\u001b[32m, line 7\u001b[39m\n\u001b[32m      5\u001b[39m cs_dir = \u001b[33m'\u001b[39m\u001b[33m./4_ASE-Abacus/OUT.ABACUS/\u001b[39m\u001b[33m'\u001b[39m\n\u001b[32m      6\u001b[39m cs_stru = Path(cs_dir, \u001b[33m'\u001b[39m\u001b[33mrunning_relax.log\u001b[39m\u001b[33m'\u001b[39m)\n\u001b[32m----> \u001b[39m\u001b[32m7\u001b[39m cs_atoms= \u001b[43mread\u001b[49m\u001b[43m(\u001b[49m\u001b[43mcs_stru\u001b[49m\u001b[43m,\u001b[49m\u001b[43m \u001b[49m\u001b[38;5;28;43mformat\u001b[39;49m\u001b[43m=\u001b[49m\u001b[33;43m'\u001b[39;49m\u001b[33;43mabacus-out\u001b[39;49m\u001b[33;43m'\u001b[39;49m\u001b[43m)\u001b[49m\n\u001b[32m      8\u001b[39m cs_vasp = Path(cs_dir, \u001b[33m'\u001b[39m\u001b[33mrelax_traj.extxyz\u001b[39m\u001b[33m'\u001b[39m)\n\u001b[32m      9\u001b[39m write(cs_vasp, cs_atoms, \u001b[38;5;28mformat\u001b[39m=\u001b[33m'\u001b[39m\u001b[33mextxyz\u001b[39m\u001b[33m'\u001b[39m)\n",
      "\u001b[36mFile \u001b[39m\u001b[32m~/miniconda3/envs/dpmd_conda/lib/python3.12/site-packages/ase/io/formats.py:812\u001b[39m, in \u001b[36mread\u001b[39m\u001b[34m(filename, index, format, parallel, do_not_split_by_at_sign, **kwargs)\u001b[39m\n\u001b[32m    809\u001b[39m     \u001b[38;5;28;01mreturn\u001b[39;00m \u001b[38;5;28mlist\u001b[39m(_iread(filename, index, \u001b[38;5;28mformat\u001b[39m, io, parallel=parallel,\n\u001b[32m    810\u001b[39m                        **kwargs))\n\u001b[32m    811\u001b[39m \u001b[38;5;28;01melse\u001b[39;00m:\n\u001b[32m--> \u001b[39m\u001b[32m812\u001b[39m     \u001b[38;5;28;01mreturn\u001b[39;00m \u001b[38;5;28;43mnext\u001b[39;49m\u001b[43m(\u001b[49m\u001b[43m_iread\u001b[49m\u001b[43m(\u001b[49m\u001b[43mfilename\u001b[49m\u001b[43m,\u001b[49m\u001b[43m \u001b[49m\u001b[38;5;28;43mslice\u001b[39;49m\u001b[43m(\u001b[49m\u001b[43mindex\u001b[49m\u001b[43m,\u001b[49m\u001b[43m \u001b[49m\u001b[38;5;28;43;01mNone\u001b[39;49;00m\u001b[43m)\u001b[49m\u001b[43m,\u001b[49m\u001b[43m \u001b[49m\u001b[38;5;28;43mformat\u001b[39;49m\u001b[43m,\u001b[49m\u001b[43m \u001b[49m\u001b[43mio\u001b[49m\u001b[43m,\u001b[49m\n\u001b[32m    813\u001b[39m \u001b[43m                       \u001b[49m\u001b[43mparallel\u001b[49m\u001b[43m=\u001b[49m\u001b[43mparallel\u001b[49m\u001b[43m,\u001b[49m\u001b[43m \u001b[49m\u001b[43m*\u001b[49m\u001b[43m*\u001b[49m\u001b[43mkwargs\u001b[49m\u001b[43m)\u001b[49m\u001b[43m)\u001b[49m\n",
      "\u001b[36mFile \u001b[39m\u001b[32m~/miniconda3/envs/dpmd_conda/lib/python3.12/site-packages/ase/parallel.py:292\u001b[39m, in \u001b[36mparallel_generator.<locals>.new_generator\u001b[39m\u001b[34m(*args, **kwargs)\u001b[39m\n\u001b[32m    286\u001b[39m \u001b[38;5;129m@functools\u001b[39m.wraps(generator)\n\u001b[32m    287\u001b[39m \u001b[38;5;28;01mdef\u001b[39;00m\u001b[38;5;250m \u001b[39m\u001b[34mnew_generator\u001b[39m(*args, **kwargs):\n\u001b[32m    288\u001b[39m     \u001b[38;5;28;01mif\u001b[39;00m (world.size == \u001b[32m1\u001b[39m \u001b[38;5;129;01mor\u001b[39;00m\n\u001b[32m    289\u001b[39m         args \u001b[38;5;129;01mand\u001b[39;00m \u001b[38;5;28mgetattr\u001b[39m(args[\u001b[32m0\u001b[39m], \u001b[33m'\u001b[39m\u001b[33mserial\u001b[39m\u001b[33m'\u001b[39m, \u001b[38;5;28;01mFalse\u001b[39;00m) \u001b[38;5;129;01mor\u001b[39;00m\n\u001b[32m    290\u001b[39m             \u001b[38;5;129;01mnot\u001b[39;00m kwargs.pop(\u001b[33m'\u001b[39m\u001b[33mparallel\u001b[39m\u001b[33m'\u001b[39m, \u001b[38;5;28;01mTrue\u001b[39;00m)):\n\u001b[32m    291\u001b[39m         \u001b[38;5;66;03m# Disable:\u001b[39;00m\n\u001b[32m--> \u001b[39m\u001b[32m292\u001b[39m \u001b[43m        \u001b[49m\u001b[38;5;28;43;01mfor\u001b[39;49;00m\u001b[43m \u001b[49m\u001b[43mresult\u001b[49m\u001b[43m \u001b[49m\u001b[38;5;129;43;01min\u001b[39;49;00m\u001b[43m \u001b[49m\u001b[43mgenerator\u001b[49m\u001b[43m(\u001b[49m\u001b[43m*\u001b[49m\u001b[43margs\u001b[49m\u001b[43m,\u001b[49m\u001b[43m \u001b[49m\u001b[43m*\u001b[49m\u001b[43m*\u001b[49m\u001b[43mkwargs\u001b[49m\u001b[43m)\u001b[49m\u001b[43m:\u001b[49m\n\u001b[32m    293\u001b[39m \u001b[43m            \u001b[49m\u001b[38;5;28;43;01myield\u001b[39;49;00m\u001b[43m \u001b[49m\u001b[43mresult\u001b[49m\n\u001b[32m    294\u001b[39m         \u001b[38;5;28;01mreturn\u001b[39;00m\n",
      "\u001b[36mFile \u001b[39m\u001b[32m~/miniconda3/envs/dpmd_conda/lib/python3.12/site-packages/ase/io/formats.py:878\u001b[39m, in \u001b[36m_iread\u001b[39m\u001b[34m(filename, index, format, io, parallel, full_output, **kwargs)\u001b[39m\n\u001b[32m    876\u001b[39m \u001b[38;5;66;03m# Make sure fd is closed in case loop doesn't finish:\u001b[39;00m\n\u001b[32m    877\u001b[39m \u001b[38;5;28;01mtry\u001b[39;00m:\n\u001b[32m--> \u001b[39m\u001b[32m878\u001b[39m \u001b[43m    \u001b[49m\u001b[38;5;28;43;01mfor\u001b[39;49;00m\u001b[43m \u001b[49m\u001b[43mdct\u001b[49m\u001b[43m \u001b[49m\u001b[38;5;129;43;01min\u001b[39;49;00m\u001b[43m \u001b[49m\u001b[43mio\u001b[49m\u001b[43m.\u001b[49m\u001b[43mread\u001b[49m\u001b[43m(\u001b[49m\u001b[43mfd\u001b[49m\u001b[43m,\u001b[49m\u001b[43m \u001b[49m\u001b[43m*\u001b[49m\u001b[43margs\u001b[49m\u001b[43m,\u001b[49m\u001b[43m \u001b[49m\u001b[43m*\u001b[49m\u001b[43m*\u001b[49m\u001b[43mkwargs\u001b[49m\u001b[43m)\u001b[49m\u001b[43m:\u001b[49m\n\u001b[32m    879\u001b[39m \u001b[43m        \u001b[49m\u001b[38;5;28;43;01mif\u001b[39;49;00m\u001b[43m \u001b[49m\u001b[38;5;129;43;01mnot\u001b[39;49;00m\u001b[43m \u001b[49m\u001b[38;5;28;43misinstance\u001b[39;49m\u001b[43m(\u001b[49m\u001b[43mdct\u001b[49m\u001b[43m,\u001b[49m\u001b[43m \u001b[49m\u001b[38;5;28;43mdict\u001b[39;49m\u001b[43m)\u001b[49m\u001b[43m:\u001b[49m\n\u001b[32m    880\u001b[39m \u001b[43m            \u001b[49m\u001b[43mdct\u001b[49m\u001b[43m \u001b[49m\u001b[43m=\u001b[49m\u001b[43m \u001b[49m\u001b[43m{\u001b[49m\u001b[33;43m'\u001b[39;49m\u001b[33;43matoms\u001b[39;49m\u001b[33;43m'\u001b[39;49m\u001b[43m:\u001b[49m\u001b[43m \u001b[49m\u001b[43mdct\u001b[49m\u001b[43m}\u001b[49m\n",
      "\u001b[36mFile \u001b[39m\u001b[32m~/miniconda3/envs/dpmd_conda/lib/python3.12/site-packages/ase/io/formats.py:636\u001b[39m, in \u001b[36mwrap_read_function\u001b[39m\u001b[34m(read, filename, index, **kwargs)\u001b[39m\n\u001b[32m    634\u001b[39m     \u001b[38;5;28;01myield\u001b[39;00m read(filename, **kwargs)\n\u001b[32m    635\u001b[39m \u001b[38;5;28;01melse\u001b[39;00m:\n\u001b[32m--> \u001b[39m\u001b[32m636\u001b[39m     \u001b[38;5;28;01myield from\u001b[39;00m \u001b[43mread\u001b[49m\u001b[43m(\u001b[49m\u001b[43mfilename\u001b[49m\u001b[43m,\u001b[49m\u001b[43m \u001b[49m\u001b[43mindex\u001b[49m\u001b[43m,\u001b[49m\u001b[43m \u001b[49m\u001b[43m*\u001b[49m\u001b[43m*\u001b[49m\u001b[43mkwargs\u001b[49m\u001b[43m)\u001b[49m\n",
      "\u001b[36mFile \u001b[39m\u001b[32m~/miniconda3/envs/dpmd_conda/lib/python3.12/site-packages/ase/utils/__init__.py:599\u001b[39m, in \u001b[36miofunction.__call__.<locals>.iofunc\u001b[39m\u001b[34m(file, *args, **kwargs)\u001b[39m\n\u001b[32m    597\u001b[39m     \u001b[38;5;28;01melse\u001b[39;00m:\n\u001b[32m    598\u001b[39m         fd = file\n\u001b[32m--> \u001b[39m\u001b[32m599\u001b[39m     obj = \u001b[43mfunc\u001b[49m\u001b[43m(\u001b[49m\u001b[43mfd\u001b[49m\u001b[43m,\u001b[49m\u001b[43m \u001b[49m\u001b[43m*\u001b[49m\u001b[43margs\u001b[49m\u001b[43m,\u001b[49m\u001b[43m \u001b[49m\u001b[43m*\u001b[49m\u001b[43m*\u001b[49m\u001b[43mkwargs\u001b[49m\u001b[43m)\u001b[49m\n\u001b[32m    600\u001b[39m     \u001b[38;5;28;01mreturn\u001b[39;00m obj\n\u001b[32m    601\u001b[39m \u001b[38;5;28;01mfinally\u001b[39;00m:\n",
      "\u001b[36mFile \u001b[39m\u001b[32m~/miniconda3/envs/dpmd_conda/lib/python3.12/site-packages/ase/io/abacus.py:2010\u001b[39m, in \u001b[36mread_abacus_out\u001b[39m\u001b[34m(fd, index, non_convergence_ok)\u001b[39m\n\u001b[32m   2006\u001b[39m \u001b[38;5;129m@reader\u001b[39m\n\u001b[32m   2007\u001b[39m \u001b[38;5;28;01mdef\u001b[39;00m\u001b[38;5;250m \u001b[39m\u001b[34mread_abacus_out\u001b[39m(fd, index=-\u001b[32m1\u001b[39m, non_convergence_ok=\u001b[38;5;28;01mFalse\u001b[39;00m):\n\u001b[32m   2008\u001b[39m \u001b[38;5;250m    \u001b[39m\u001b[33;03m\"\"\"Import ABACUS output files with all data available, i.e.\u001b[39;00m\n\u001b[32m   2009\u001b[39m \u001b[33;03m    relaxations, MD information, force information ...\"\"\"\u001b[39;00m\n\u001b[32m-> \u001b[39m\u001b[32m2010\u001b[39m     chunks = \u001b[43m_get_abacus_chunks\u001b[49m\u001b[43m(\u001b[49m\u001b[43mfd\u001b[49m\u001b[43m,\u001b[49m\u001b[43m \u001b[49m\u001b[43mindex\u001b[49m\u001b[43m,\u001b[49m\u001b[43m \u001b[49m\u001b[43mnon_convergence_ok\u001b[49m\u001b[43m)\u001b[49m\n\u001b[32m   2012\u001b[39m     \u001b[38;5;28;01mreturn\u001b[39;00m [chunk.atoms \u001b[38;5;28;01mfor\u001b[39;00m chunk \u001b[38;5;129;01min\u001b[39;00m chunks]\n",
      "\u001b[36mFile \u001b[39m\u001b[32m~/miniconda3/envs/dpmd_conda/lib/python3.12/site-packages/ase/utils/__init__.py:599\u001b[39m, in \u001b[36miofunction.__call__.<locals>.iofunc\u001b[39m\u001b[34m(file, *args, **kwargs)\u001b[39m\n\u001b[32m    597\u001b[39m     \u001b[38;5;28;01melse\u001b[39;00m:\n\u001b[32m    598\u001b[39m         fd = file\n\u001b[32m--> \u001b[39m\u001b[32m599\u001b[39m     obj = \u001b[43mfunc\u001b[49m\u001b[43m(\u001b[49m\u001b[43mfd\u001b[49m\u001b[43m,\u001b[49m\u001b[43m \u001b[49m\u001b[43m*\u001b[49m\u001b[43margs\u001b[49m\u001b[43m,\u001b[49m\u001b[43m \u001b[49m\u001b[43m*\u001b[49m\u001b[43m*\u001b[49m\u001b[43mkwargs\u001b[49m\u001b[43m)\u001b[49m\n\u001b[32m    600\u001b[39m     \u001b[38;5;28;01mreturn\u001b[39;00m obj\n\u001b[32m    601\u001b[39m \u001b[38;5;28;01mfinally\u001b[39;00m:\n",
      "\u001b[36mFile \u001b[39m\u001b[32m~/miniconda3/envs/dpmd_conda/lib/python3.12/site-packages/ase/io/abacus.py:1995\u001b[39m, in \u001b[36m_get_abacus_chunks\u001b[39m\u001b[34m(fd, index, non_convergence_ok)\u001b[39m\n\u001b[32m   1991\u001b[39m calc_pattern = re.compile(\n\u001b[32m   1992\u001b[39m     \u001b[33mrf\u001b[39m\u001b[33m\"\u001b[39m\u001b[33m(([NON]*SELF-CONSISTENT|STEP OF MOLECULAR DYNAMICS|STEP OF [ION]*\u001b[39m\u001b[33m\\\u001b[39m\u001b[33ms*RELAXATION|RELAX CELL)[\u001b[39m\u001b[33m\\\u001b[39m\u001b[33ms\u001b[39m\u001b[33m\\\u001b[39m\u001b[33mS]+?(?=\u001b[39m\u001b[38;5;132;01m{\u001b[39;00mtime\u001b[38;5;132;01m}\u001b[39;00m\u001b[33m))\u001b[39m\u001b[33m\"\u001b[39m\n\u001b[32m   1993\u001b[39m )\n\u001b[32m   1994\u001b[39m calc_contents = calc_pattern.search(contents).group(\u001b[32m1\u001b[39m)\n\u001b[32m-> \u001b[39m\u001b[32m1995\u001b[39m final_chunk = \u001b[43mAbacusOutCalcChunk\u001b[49m\u001b[43m(\u001b[49m\u001b[43mcalc_contents\u001b[49m\u001b[43m,\u001b[49m\u001b[43m \u001b[49m\u001b[43mheader_chunk\u001b[49m\u001b[43m,\u001b[49m\u001b[43m \u001b[49m\u001b[43m-\u001b[49m\u001b[32;43m1\u001b[39;49m\u001b[43m)\u001b[49m\n\u001b[32m   1997\u001b[39m \u001b[38;5;28;01mif\u001b[39;00m \u001b[38;5;129;01mnot\u001b[39;00m non_convergence_ok \u001b[38;5;129;01mand\u001b[39;00m \u001b[38;5;129;01mnot\u001b[39;00m final_chunk.converged:\n\u001b[32m   1998\u001b[39m     \u001b[38;5;28;01mraise\u001b[39;00m \u001b[38;5;167;01mValueError\u001b[39;00m(\u001b[33m\"\u001b[39m\u001b[33mThe calculation did not complete successfully\u001b[39m\u001b[33m\"\u001b[39m)\n",
      "\u001b[36mFile \u001b[39m\u001b[32m~/miniconda3/envs/dpmd_conda/lib/python3.12/site-packages/ase/io/abacus.py:1271\u001b[39m, in \u001b[36mAbacusOutCalcChunk.__init__\u001b[39m\u001b[34m(self, contents, header, index)\u001b[39m\n\u001b[32m   1259\u001b[39m \u001b[38;5;250m\u001b[39m\u001b[33;03m\"\"\"Constructor\u001b[39;00m\n\u001b[32m   1260\u001b[39m \n\u001b[32m   1261\u001b[39m \u001b[33;03mParameters\u001b[39;00m\n\u001b[32m   (...)\u001b[39m\u001b[32m   1268\u001b[39m \u001b[33;03m    index of image. `index = 0` is the first calculated image rather initial image\u001b[39;00m\n\u001b[32m   1269\u001b[39m \u001b[33;03m\"\"\"\u001b[39;00m\n\u001b[32m   1270\u001b[39m \u001b[38;5;28msuper\u001b[39m().\u001b[34m__init__\u001b[39m(contents)\n\u001b[32m-> \u001b[39m\u001b[32m1271\u001b[39m \u001b[38;5;28mself\u001b[39m._header = \u001b[43mheader\u001b[49m\u001b[43m.\u001b[49m\u001b[43mheader_summary\u001b[49m\n\u001b[32m   1272\u001b[39m \u001b[38;5;28mself\u001b[39m.index = index\n",
      "\u001b[36mFile \u001b[39m\u001b[32m~/miniconda3/envs/dpmd_conda/lib/python3.12/functools.py:998\u001b[39m, in \u001b[36mcached_property.__get__\u001b[39m\u001b[34m(self, instance, owner)\u001b[39m\n\u001b[32m    996\u001b[39m val = cache.get(\u001b[38;5;28mself\u001b[39m.attrname, _NOT_FOUND)\n\u001b[32m    997\u001b[39m \u001b[38;5;28;01mif\u001b[39;00m val \u001b[38;5;129;01mis\u001b[39;00m _NOT_FOUND:\n\u001b[32m--> \u001b[39m\u001b[32m998\u001b[39m     val = \u001b[38;5;28;43mself\u001b[39;49m\u001b[43m.\u001b[49m\u001b[43mfunc\u001b[49m\u001b[43m(\u001b[49m\u001b[43minstance\u001b[49m\u001b[43m)\u001b[49m\n\u001b[32m    999\u001b[39m     \u001b[38;5;28;01mtry\u001b[39;00m:\n\u001b[32m   1000\u001b[39m         cache[\u001b[38;5;28mself\u001b[39m.attrname] = val\n",
      "\u001b[36mFile \u001b[39m\u001b[32m~/miniconda3/envs/dpmd_conda/lib/python3.12/site-packages/ase/io/abacus.py:1238\u001b[39m, in \u001b[36mAbacusOutHeaderChunk.header_summary\u001b[39m\u001b[34m(self)\u001b[39m\n\u001b[32m   1233\u001b[39m \u001b[38;5;129m@cached_property\u001b[39m\n\u001b[32m   1234\u001b[39m \u001b[38;5;28;01mdef\u001b[39;00m\u001b[38;5;250m \u001b[39m\u001b[34mheader_summary\u001b[39m(\u001b[38;5;28mself\u001b[39m):\n\u001b[32m   1235\u001b[39m \u001b[38;5;250m    \u001b[39m\u001b[33;03m\"\"\"Dictionary summarizing the information inside the header\"\"\"\u001b[39;00m\n\u001b[32m   1236\u001b[39m     \u001b[38;5;28;01mreturn\u001b[39;00m {\n\u001b[32m   1237\u001b[39m         \u001b[33m\"\u001b[39m\u001b[33mlattice_constant\u001b[39m\u001b[33m\"\u001b[39m: \u001b[38;5;28mself\u001b[39m.lattice_constant,\n\u001b[32m-> \u001b[39m\u001b[32m1238\u001b[39m         \u001b[33m\"\u001b[39m\u001b[33minitial_atoms\u001b[39m\u001b[33m\"\u001b[39m: \u001b[38;5;28;43mself\u001b[39;49m\u001b[43m.\u001b[49m\u001b[43minitial_atoms\u001b[49m,\n\u001b[32m   1239\u001b[39m         \u001b[33m\"\u001b[39m\u001b[33minitial_cell\u001b[39m\u001b[33m\"\u001b[39m: \u001b[38;5;28mself\u001b[39m.initial_cell,\n\u001b[32m   1240\u001b[39m         \u001b[33m\"\u001b[39m\u001b[33mis_nscf\u001b[39m\u001b[33m\"\u001b[39m: \u001b[38;5;28mself\u001b[39m.is_nscf,\n\u001b[32m   1241\u001b[39m         \u001b[33m\"\u001b[39m\u001b[33mis_relaxation\u001b[39m\u001b[33m\"\u001b[39m: \u001b[38;5;28mself\u001b[39m.is_relaxation,\n\u001b[32m   1242\u001b[39m         \u001b[33m\"\u001b[39m\u001b[33mis_cell_relaxation\u001b[39m\u001b[33m\"\u001b[39m: \u001b[38;5;28mself\u001b[39m.is_cell_relaxation,\n\u001b[32m   1243\u001b[39m         \u001b[33m\"\u001b[39m\u001b[33mis_md\u001b[39m\u001b[33m\"\u001b[39m: \u001b[38;5;28mself\u001b[39m.is_md,\n\u001b[32m   1244\u001b[39m         \u001b[33m\"\u001b[39m\u001b[33mn_atoms\u001b[39m\u001b[33m\"\u001b[39m: \u001b[38;5;28mself\u001b[39m.n_atoms,\n\u001b[32m   1245\u001b[39m         \u001b[33m\"\u001b[39m\u001b[33mn_bands\u001b[39m\u001b[33m\"\u001b[39m: \u001b[38;5;28mself\u001b[39m.n_bands,\n\u001b[32m   1246\u001b[39m         \u001b[33m\"\u001b[39m\u001b[33mn_occupied_bands\u001b[39m\u001b[33m\"\u001b[39m: \u001b[38;5;28mself\u001b[39m.n_occupied_bands,\n\u001b[32m   1247\u001b[39m         \u001b[33m\"\u001b[39m\u001b[33mn_spins\u001b[39m\u001b[33m\"\u001b[39m: \u001b[38;5;28mself\u001b[39m.n_spins,\n\u001b[32m   1248\u001b[39m         \u001b[33m\"\u001b[39m\u001b[33mn_k_points\u001b[39m\u001b[33m\"\u001b[39m: \u001b[38;5;28mself\u001b[39m.n_k_points,\n\u001b[32m   1249\u001b[39m         \u001b[33m\"\u001b[39m\u001b[33mk_points\u001b[39m\u001b[33m\"\u001b[39m: \u001b[38;5;28mself\u001b[39m.k_points,\n\u001b[32m   1250\u001b[39m         \u001b[33m\"\u001b[39m\u001b[33mk_point_weights\u001b[39m\u001b[33m\"\u001b[39m: \u001b[38;5;28mself\u001b[39m.k_point_weights,\n\u001b[32m   1251\u001b[39m         \u001b[33m\"\u001b[39m\u001b[33mout_dir\u001b[39m\u001b[33m\"\u001b[39m: \u001b[38;5;28mself\u001b[39m.out_dir,\n\u001b[32m   1252\u001b[39m     }\n",
      "\u001b[36mFile \u001b[39m\u001b[32m~/miniconda3/envs/dpmd_conda/lib/python3.12/functools.py:998\u001b[39m, in \u001b[36mcached_property.__get__\u001b[39m\u001b[34m(self, instance, owner)\u001b[39m\n\u001b[32m    996\u001b[39m val = cache.get(\u001b[38;5;28mself\u001b[39m.attrname, _NOT_FOUND)\n\u001b[32m    997\u001b[39m \u001b[38;5;28;01mif\u001b[39;00m val \u001b[38;5;129;01mis\u001b[39;00m _NOT_FOUND:\n\u001b[32m--> \u001b[39m\u001b[32m998\u001b[39m     val = \u001b[38;5;28;43mself\u001b[39;49m\u001b[43m.\u001b[49m\u001b[43mfunc\u001b[49m\u001b[43m(\u001b[49m\u001b[43minstance\u001b[49m\u001b[43m)\u001b[49m\n\u001b[32m    999\u001b[39m     \u001b[38;5;28;01mtry\u001b[39;00m:\n\u001b[32m   1000\u001b[39m         cache[\u001b[38;5;28mself\u001b[39m.attrname] = val\n",
      "\u001b[36mFile \u001b[39m\u001b[32m~/miniconda3/envs/dpmd_conda/lib/python3.12/site-packages/ase/io/abacus.py:1103\u001b[39m, in \u001b[36mAbacusOutHeaderChunk.initial_atoms\u001b[39m\u001b[34m(self)\u001b[39m\n\u001b[32m   1099\u001b[39m \u001b[38;5;129m@cached_property\u001b[39m\n\u001b[32m   1100\u001b[39m \u001b[38;5;28;01mdef\u001b[39;00m\u001b[38;5;250m \u001b[39m\u001b[34minitial_atoms\u001b[39m(\u001b[38;5;28mself\u001b[39m):\n\u001b[32m   1101\u001b[39m \u001b[38;5;250m    \u001b[39m\u001b[33;03m\"\"\"Create an atoms object for the initial structure from the\u001b[39;00m\n\u001b[32m   1102\u001b[39m \u001b[33;03m    header of the running_*.log file\"\"\"\u001b[39;00m\n\u001b[32m-> \u001b[39m\u001b[32m1103\u001b[39m     labels, positions, mag, vel = \u001b[38;5;28;43mself\u001b[39;49m\u001b[43m.\u001b[49m\u001b[43minitial_site\u001b[49m\n\u001b[32m   1104\u001b[39m     \u001b[38;5;28;01mif\u001b[39;00m \u001b[38;5;28mself\u001b[39m.coordinate_system == \u001b[33m\"\u001b[39m\u001b[33mCARTESIAN\u001b[39m\u001b[33m\"\u001b[39m:\n\u001b[32m   1105\u001b[39m         atoms = Atoms(\n\u001b[32m   1106\u001b[39m             symbols=labels,\n\u001b[32m   1107\u001b[39m             positions=positions,\n\u001b[32m   (...)\u001b[39m\u001b[32m   1110\u001b[39m             velocities=vel * UNIT_V,\n\u001b[32m   1111\u001b[39m         )\n",
      "\u001b[36mFile \u001b[39m\u001b[32m~/miniconda3/envs/dpmd_conda/lib/python3.12/functools.py:998\u001b[39m, in \u001b[36mcached_property.__get__\u001b[39m\u001b[34m(self, instance, owner)\u001b[39m\n\u001b[32m    996\u001b[39m val = cache.get(\u001b[38;5;28mself\u001b[39m.attrname, _NOT_FOUND)\n\u001b[32m    997\u001b[39m \u001b[38;5;28;01mif\u001b[39;00m val \u001b[38;5;129;01mis\u001b[39;00m _NOT_FOUND:\n\u001b[32m--> \u001b[39m\u001b[32m998\u001b[39m     val = \u001b[38;5;28;43mself\u001b[39;49m\u001b[43m.\u001b[49m\u001b[43mfunc\u001b[49m\u001b[43m(\u001b[49m\u001b[43minstance\u001b[49m\u001b[43m)\u001b[49m\n\u001b[32m    999\u001b[39m     \u001b[38;5;28;01mtry\u001b[39;00m:\n\u001b[32m   1000\u001b[39m         cache[\u001b[38;5;28mself\u001b[39m.attrname] = val\n",
      "\u001b[36mFile \u001b[39m\u001b[32m~/miniconda3/envs/dpmd_conda/lib/python3.12/site-packages/ase/io/abacus.py:1097\u001b[39m, in \u001b[36mAbacusOutHeaderChunk.initial_site\u001b[39m\u001b[34m(self)\u001b[39m\n\u001b[32m   1092\u001b[39m site_pattern = re.compile(\n\u001b[32m   1093\u001b[39m     \u001b[33mrf\u001b[39m\u001b[33m\"\u001b[39m\u001b[33mtau[cd]_([a-zA-Z]+)\u001b[39m\u001b[33m\\\u001b[39m\u001b[33md+\u001b[39m\u001b[33m\\\u001b[39m\u001b[33ms+(\u001b[39m\u001b[38;5;132;01m{\u001b[39;00m_re_float\u001b[38;5;132;01m}\u001b[39;00m\u001b[33m)\u001b[39m\u001b[33m\\\u001b[39m\u001b[33ms+(\u001b[39m\u001b[38;5;132;01m{\u001b[39;00m_re_float\u001b[38;5;132;01m}\u001b[39;00m\u001b[33m)\u001b[39m\u001b[33m\\\u001b[39m\u001b[33ms+(\u001b[39m\u001b[38;5;132;01m{\u001b[39;00m_re_float\u001b[38;5;132;01m}\u001b[39;00m\u001b[33m)\u001b[39m\u001b[33m\\\u001b[39m\u001b[33ms+(\u001b[39m\u001b[38;5;132;01m{\u001b[39;00m_re_float\u001b[38;5;132;01m}\u001b[39;00m\u001b[33m)\u001b[39m\u001b[33m\\\u001b[39m\u001b[33ms+(\u001b[39m\u001b[38;5;132;01m{\u001b[39;00m_re_float\u001b[38;5;132;01m}\u001b[39;00m\u001b[33m)\u001b[39m\u001b[33m\\\u001b[39m\u001b[33ms+(\u001b[39m\u001b[38;5;132;01m{\u001b[39;00m_re_float\u001b[38;5;132;01m}\u001b[39;00m\u001b[33m)\u001b[39m\u001b[33m\\\u001b[39m\u001b[33ms+(\u001b[39m\u001b[38;5;132;01m{\u001b[39;00m_re_float\u001b[38;5;132;01m}\u001b[39;00m\u001b[33m)|tau[cd]_([a-zA-Z]+)\u001b[39m\u001b[33m\\\u001b[39m\u001b[33md+\u001b[39m\u001b[33m\\\u001b[39m\u001b[33ms+(\u001b[39m\u001b[38;5;132;01m{\u001b[39;00m_re_float\u001b[38;5;132;01m}\u001b[39;00m\u001b[33m)\u001b[39m\u001b[33m\\\u001b[39m\u001b[33ms+(\u001b[39m\u001b[38;5;132;01m{\u001b[39;00m_re_float\u001b[38;5;132;01m}\u001b[39;00m\u001b[33m)\u001b[39m\u001b[33m\\\u001b[39m\u001b[33ms+(\u001b[39m\u001b[38;5;132;01m{\u001b[39;00m_re_float\u001b[38;5;132;01m}\u001b[39;00m\u001b[33m)\u001b[39m\u001b[33m\\\u001b[39m\u001b[33ms+(\u001b[39m\u001b[38;5;132;01m{\u001b[39;00m_re_float\u001b[38;5;132;01m}\u001b[39;00m\u001b[33m)\u001b[39m\u001b[33m\"\u001b[39m\n\u001b[32m   1094\u001b[39m )\n\u001b[32m   1095\u001b[39m unit_pattern = re.compile(\u001b[33mrf\u001b[39m\u001b[33m\"\u001b[39m\u001b[33mUNIT =\u001b[39m\u001b[33m\\\u001b[39m\u001b[33ms+(\u001b[39m\u001b[38;5;132;01m{\u001b[39;00m_re_float\u001b[38;5;132;01m}\u001b[39;00m\u001b[33m) Bohr\u001b[39m\u001b[33m\"\u001b[39m)\n\u001b[32m-> \u001b[39m\u001b[32m1097\u001b[39m \u001b[38;5;28;01mreturn\u001b[39;00m \u001b[43mparse_block\u001b[49m\u001b[43m(\u001b[49m\u001b[38;5;28;43mself\u001b[39;49m\u001b[43m.\u001b[49m\u001b[43m_site\u001b[49m\u001b[43m[\u001b[49m\u001b[32;43m0\u001b[39;49m\u001b[43m]\u001b[49m\u001b[43m)\u001b[49m\n",
      "\u001b[36mFile \u001b[39m\u001b[32m~/miniconda3/envs/dpmd_conda/lib/python3.12/site-packages/ase/io/abacus.py:1084\u001b[39m, in \u001b[36mAbacusOutHeaderChunk.initial_site.<locals>.parse_block\u001b[39m\u001b[34m(pos_block)\u001b[39m\n\u001b[32m   1082\u001b[39m site = \u001b[38;5;28mlist\u001b[39m(\u001b[38;5;28mmap\u001b[39m(\u001b[38;5;28mlist\u001b[39m, site_pattern.findall(data[\u001b[32m0\u001b[39m])))\n\u001b[32m   1083\u001b[39m \u001b[38;5;28mlist\u001b[39m(\u001b[38;5;28mmap\u001b[39m(_remove_empty, site))\n\u001b[32m-> \u001b[39m\u001b[32m1084\u001b[39m labels, pos, mag, vel = \u001b[43mstr_to_sites\u001b[49m\u001b[43m(\u001b[49m\u001b[43msite\u001b[49m\u001b[43m)\u001b[49m\n\u001b[32m   1085\u001b[39m \u001b[38;5;28;01mif\u001b[39;00m \u001b[38;5;28mself\u001b[39m.coordinate_system == \u001b[33m\"\u001b[39m\u001b[33mCARTESIAN\u001b[39m\u001b[33m\"\u001b[39m:\n\u001b[32m   1086\u001b[39m     unit = \u001b[38;5;28mfloat\u001b[39m(unit_pattern.search(\u001b[38;5;28mself\u001b[39m.contents).group(\u001b[32m1\u001b[39m)) * Bohr\n",
      "\u001b[36mFile \u001b[39m\u001b[32m~/miniconda3/envs/dpmd_conda/lib/python3.12/site-packages/ase/io/abacus.py:1069\u001b[39m, in \u001b[36mAbacusOutHeaderChunk.initial_site.<locals>.str_to_sites\u001b[39m\u001b[34m(val_in)\u001b[39m\n\u001b[32m   1067\u001b[39m \u001b[38;5;28;01mdef\u001b[39;00m\u001b[38;5;250m \u001b[39m\u001b[34mstr_to_sites\u001b[39m(val_in):\n\u001b[32m   1068\u001b[39m     val = np.array(val_in)\n\u001b[32m-> \u001b[39m\u001b[32m1069\u001b[39m     labels = \u001b[43mval\u001b[49m\u001b[43m[\u001b[49m\u001b[43m:\u001b[49m\u001b[43m,\u001b[49m\u001b[43m \u001b[49m\u001b[32;43m0\u001b[39;49m\u001b[43m]\u001b[49m\n\u001b[32m   1070\u001b[39m     pos = val[:, \u001b[32m1\u001b[39m:\u001b[32m4\u001b[39m].astype(\u001b[38;5;28mfloat\u001b[39m)\n\u001b[32m   1071\u001b[39m     \u001b[38;5;28;01mif\u001b[39;00m val.shape[\u001b[32m1\u001b[39m] == \u001b[32m5\u001b[39m:\n",
      "\u001b[31mIndexError\u001b[39m: too many indices for array: array is 1-dimensional, but 2 were indexed"
     ]
    }
   ],
   "source": [
    "from ase.io import read, write\n",
    "from pathlib import Path\n",
    "from ase.calculators.abacus import Abacus\n",
    "\n",
    "cs_dir = './4_ASE-Abacus/OUT.ABACUS/'\n",
    "cs_stru = Path(cs_dir, 'running_relax.log')\n",
    "cs_atoms= read(cs_stru, format='abacus-out')\n",
    "cs_vasp = Path(cs_dir, 'relax_traj.extxyz')\n",
    "write(cs_vasp, cs_atoms, format='extxyz')"
   ]
  },
  {
   "cell_type": "markdown",
   "id": "__bohr_old_version_cellId_31__",
   "metadata": {},
   "source": [
    "## ASE-ABACUS 做 NEB 计算\n"
   ]
  },
  {
   "cell_type": "markdown",
   "id": "__bohr_old_version_cellId_32__",
   "metadata": {},
   "source": [
    "ASE-ABACUS 联动不仅可以完成计算过程的前处理、后处理和结构优化计算，还可以调用 ASE 里面丰富的各种结构演化模块进行其他任务的计算，比如分子动力学（MD），遗传算法（GA），过渡态（TS）搜索等。\n",
    "\n",
    "过渡态搜索中，最常用的一类方法是 NEB 方法，进行 NEB 计算的基本思路如下：\n",
    "\n",
    "1. 初始化 NEB 链的初末态，并优化\n",
    "2. 给出 NEB 链的中间态插值初猜\n",
    "3. 进行迭代的 NEB 链优化计算\n",
    "\n",
    "ASE-ABACUS 进行 NEB 计算的思路也是类似的。\n",
    "\n",
    "具体内容参见下期 notebook：https://bohrium.dp.tech/notebooks/39369325971\n"
   ]
  }
 ],
 "metadata": {
  "kernelspec": {
   "display_name": "dpmd_conda",
   "language": "python",
   "name": "python3"
  },
  "language_info": {
   "codemirror_mode": {
    "name": "ipython",
    "version": 3
   },
   "file_extension": ".py",
   "mimetype": "text/x-python",
   "name": "python",
   "nbconvert_exporter": "python",
   "pygments_lexer": "ipython3",
   "version": "3.12.9"
  },
  "orig_nbformat_minor": 2
 },
 "nbformat": 4,
 "nbformat_minor": 5
}
